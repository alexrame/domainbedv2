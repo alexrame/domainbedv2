{
 "cells": [
  {
   "cell_type": "code",
   "execution_count": 64,
   "metadata": {},
   "outputs": [],
   "source": [
    "import os\n",
    "os.environ['CUDA_VISIBLE_DEVICES']=\"1\""
   ]
  },
  {
   "cell_type": "code",
   "execution_count": 65,
   "metadata": {},
   "outputs": [],
   "source": [
    "import torch\n",
    "from sklearn.datasets import make_moons"
   ]
  },
  {
   "cell_type": "code",
   "execution_count": 66,
   "metadata": {},
   "outputs": [],
   "source": [
    "def problem_moons(train=True):\n",
    "    num_samples = 10000 if train else 1000 * 100\n",
    "    num_dimensions = 50\n",
    "    x_, y_ = make_moons(n_samples=num_samples, noise=0.07)\n",
    "    x_[:, [0, 1]] = x_[:, [1, 0]]\n",
    "    x_[:, 0] *= -1\n",
    "    x_ *= 1.1\n",
    "    x_ = x_ - x_.mean(0, keepdims=True)\n",
    "    x_[:, 0] *= 1.2\n",
    "    x = torch.FloatTensor(x_)\n",
    "    y = torch.FloatTensor(y_).view(-1, 1)\n",
    "    is_maj = torch.zeros(num_samples)\n",
    "    is_maj = torch.logical_or(((2 * y - 1) * torch.sign(x[:, 0:1])) > 0, (torch.abs(x[:, 1:2]) > 1))\n",
    "    if not train:\n",
    "        i_min = torch.where(is_maj == 0)[0][:900]\n",
    "        i_maj = torch.where(is_maj == 1)[0][:100]\n",
    "        i_all = torch.cat((i_min, i_maj))[torch.randperm(1000)]\n",
    "        x, y, is_maj = x[i_all], y[i_all], is_maj[i_all]\n",
    "    noise = torch.randn(len(x), num_dimensions - 2)\n",
    "    x = torch.cat((x, noise), 1)\n",
    "    return x, y.view(-1).long(), is_maj.view(-1)\n",
    "\n",
    "\n",
    "def build_network(x_tr, y_tr):\n",
    "    return torch.nn.Sequential(\n",
    "        torch.nn.Linear(x_tr.size(1), 200), torch.nn.ReLU(), torch.nn.Linear(200, 200),\n",
    "        torch.nn.ReLU(), torch.nn.Linear(200, y_tr.size(1))\n",
    "    )\n",
    "\n",
    "\n",
    "def train_network(network, x_tr, y_tr, n_iterations=1000, lr=1e-1):\n",
    "    optimizer = torch.optim.SGD(network.parameters(), lr=lr)\n",
    "    loss = torch.nn.BCEWithLogitsLoss()\n",
    "    for iteration in range(n_iterations):\n",
    "        optimizer.zero_grad()\n",
    "        loss(network(x_tr), y_tr).backward()\n",
    "        optimizer.step()\n",
    "\n",
    "def accuracy(network, x, y):\n",
    "    return network(x).gt(0).eq(y).float().mean().item()\n",
    "\n",
    "def accuracy_ens(networks, x, y):\n",
    "    for i, network in enumerate(networks):\n",
    "        print(\"net\" + str(i), accuracy(network, x, y))\n",
    "        \n",
    "    list_preds = [network(x) for network in networks]\n",
    "    preds = torch.mean(torch.stack(list_preds, dim=0), 0)\n",
    "    print(\"ense\", preds.gt(0).eq(y).float().mean().item())"
   ]
  },
  {
   "cell_type": "code",
   "execution_count": 67,
   "metadata": {},
   "outputs": [],
   "source": [
    "problem = problem_moons\n",
    "x_tr, y_tr, m_tr = problem(train=True)\n",
    "y_tr = y_tr.view(-1, 1).float()\n",
    "x_te, y_te, m_te = problem(train=False)\n",
    "y_te = y_te.view(-1, 1).float()\n"
   ]
  },
  {
   "cell_type": "code",
   "execution_count": null,
   "metadata": {},
   "outputs": [],
   "source": [
    "# todo balancing"
   ]
  },
  {
   "cell_type": "code",
   "execution_count": null,
   "metadata": {},
   "outputs": [],
   "source": [
    "x, y = x_tr[27:27+1], y_tr[27:27+1]"
   ]
  },
  {
   "cell_type": "code",
   "execution_count": null,
   "metadata": {},
   "outputs": [],
   "source": [
    "torch.logical_or(((2 * y - 1) * torch.sign(x[:, 0:1])) > 0, (torch.abs(x[:, 1:2]) > 1))"
   ]
  },
  {
   "cell_type": "code",
   "execution_count": null,
   "metadata": {},
   "outputs": [],
   "source": [
    "(torch.abs(x[:, 1:2]) > 1)"
   ]
  },
  {
   "cell_type": "code",
   "execution_count": null,
   "metadata": {},
   "outputs": [],
   "source": [
    "print(x,y)"
   ]
  },
  {
   "cell_type": "code",
   "execution_count": null,
   "metadata": {},
   "outputs": [],
   "source": [
    "x_tr[25], y_tr[25]"
   ]
  },
  {
   "cell_type": "code",
   "execution_count": null,
   "metadata": {},
   "outputs": [],
   "source": [
    "torch.where(~m_tr)"
   ]
  },
  {
   "cell_type": "code",
   "execution_count": null,
   "metadata": {},
   "outputs": [],
   "source": []
  },
  {
   "cell_type": "code",
   "execution_count": null,
   "metadata": {},
   "outputs": [],
   "source": [
    "START_0=0\n",
    "END_0=800\n",
    "\n",
    "networks = []\n",
    "for num_network in range(20):\n",
    "    net = build_network(x_tr, y_tr)\n",
    "    train_network(net, x_tr[START_0:END_0], y_tr[START_0:END_0], lr=1e-1)\n",
    "    networks.append(net)"
   ]
  },
  {
   "cell_type": "code",
   "execution_count": null,
   "metadata": {},
   "outputs": [],
   "source": [
    "START_1=100\n",
    "END_1=900\n",
    "\n",
    "networks_1 = []\n",
    "for num_network in range(20):\n",
    "    net = build_network(x_tr, y_tr)\n",
    "    train_network(net, x_tr[START_1:END_1], y_tr[START_1:END_1], lr=1e-1)\n",
    "    networks_1.append(net)"
   ]
  },
  {
   "cell_type": "code",
   "execution_count": null,
   "metadata": {},
   "outputs": [],
   "source": [
    "networks_01 = networks[:10] + networks_1[:10]"
   ]
  },
  {
   "cell_type": "code",
   "execution_count": null,
   "metadata": {},
   "outputs": [],
   "source": [
    "print(\"train\")\n",
    "accuracy_ens(networks, x_tr[END_1:], y_tr[END_1:])\n",
    "print(\"\\ntest\")\n",
    "accuracy_ens(networks, x_te, y_te)"
   ]
  },
  {
   "cell_type": "code",
   "execution_count": null,
   "metadata": {},
   "outputs": [],
   "source": [
    "print(\"train\")\n",
    "accuracy_ens(networks_01, x_tr[END_1:], y_tr[END_1:])\n",
    "print(\"\\ntest\")\n",
    "accuracy_ens(networks_01, x_te, y_te)"
   ]
  },
  {
   "cell_type": "code",
   "execution_count": null,
   "metadata": {},
   "outputs": [],
   "source": [
    "print(\"train\")\n",
    "accuracy_ens(networks_1, x_tr[END_1:], y_tr[END_1:])\n",
    "print(\"\\ntest\")\n",
    "accuracy_ens(networks_1, x_te, y_te)"
   ]
  },
  {
   "cell_type": "code",
   "execution_count": null,
   "metadata": {},
   "outputs": [],
   "source": []
  }
 ],
 "metadata": {
  "kernelspec": {
   "display_name": "Python 3",
   "language": "python",
   "name": "python3"
  },
  "language_info": {
   "codemirror_mode": {
    "name": "ipython",
    "version": 3
   },
   "file_extension": ".py",
   "mimetype": "text/x-python",
   "name": "python",
   "nbconvert_exporter": "python",
   "pygments_lexer": "ipython3",
   "version": "3.7.10"
  },
  "orig_nbformat": 4,
  "vscode": {
   "interpreter": {
    "hash": "c2f007bb438f1f0ac6ac2cdf8fe0d10d13748d7e99ce09d161672c77ac01ae60"
   }
  }
 },
 "nbformat": 4,
 "nbformat_minor": 2
}
