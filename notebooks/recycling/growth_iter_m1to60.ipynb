{
 "cells": [
  {
   "cell_type": "code",
   "execution_count": 1,
   "id": "e3f386a3",
   "metadata": {},
   "outputs": [],
   "source": [
    "%load_ext autoreload\n",
    "%autoreload 2\n",
    "import sys\n",
    "import collections\n",
    "import numpy as np\n",
    "# sys.path.append(\"/private/home/alexandrerame/domainbedv2/\")\n",
    "# sys.path.append(\"/private/home/alexandrerame/slurmconfig/notebook/data\")\n",
    "\n",
    "sys.path.append(\"/Users/alexandrerame/code_repository/codedev/domainbedv2\")\n",
    "sys.path.append(\"/Users/alexandrerame/code_repository/notebook/data\")\n",
    "\n",
    "from domainbed.codeplot import plot\n",
    "\n",
    "plot.plt.rcParams[\"figure.figsize\"] = (5, 5)\n",
    "plot.plt.rcParams['text.usetex'] = True\n",
    "plot.plt.rcParams['font.family'] = 'serif'\n",
    "plot.plt.rcParams['font.serif'] = 'Times Roman'\n",
    "# plot.FORMAT_X=1\n",
    "# plot.FORMAT_Y=3"
   ]
  },
  {
   "cell_type": "code",
   "execution_count": 3,
   "id": "c534d89e",
   "metadata": {},
   "outputs": [],
   "source": []
  },
  {
   "cell_type": "code",
   "execution_count": 4,
   "id": "eb6030ac",
   "metadata": {},
   "outputs": [],
   "source": []
  },
  {
   "cell_type": "code",
   "execution_count": 27,
   "id": "a18bfe41",
   "metadata": {},
   "outputs": [],
   "source": []
  },
  {
   "cell_type": "code",
   "execution_count": null,
   "id": "08c406f3",
   "metadata": {},
   "outputs": [],
   "source": [
    "plot.MUL = 0\n",
    "fig = plot.plot_key(\n",
    "    home0_div_imdn0dn1_idit_step.l + home0_div_imdn0dn1_isit_step_top2.l,\n",
    "    labels=home0_div_imdn0dn1_idit_step.labels + home0_div_imdn0dn1_isit_step_top2.labels,\n",
    "    key1=\"length\",\n",
    "    key2=\"acc\",\n",
    "    keyclustering=\"length\",\n",
    "    keyerror=\"acc_std\",\n",
    "    lambda_filtering=lambda x: x.get(\"testenv\", 0) == 0,\n",
    "    loc=\"lower right\",\n",
    "    order=\"2log\",\n",
    "    list_indexes=[0, 1]\n",
    ")\n",
    "# plot.save_fig(fig, \"diwa/diffruns_m_1to40_oodiid.pdf\")"
   ]
  },
  {
   "attachments": {},
   "cell_type": "markdown",
   "id": "c3a5d3cf",
   "metadata": {},
   "source": [
    "# Old"
   ]
  },
  {
   "cell_type": "code",
   "execution_count": null,
   "id": "fae0f42c",
   "metadata": {},
   "outputs": [],
   "source": [
    "\n",
    "from codeplot.plot import *\n",
    "import matplotlib.pyplot as plt\n",
    "\n",
    "from data.home import home0_m1to60,home0_m40to60, home0_m1to60_testtrain\n",
    "lsoup = merge(home0_m1to60_testtrain.lsoup)\n",
    "\n",
    "l_m = []\n",
    "for i in range(41):\n",
    "    if not lsoup[i]:\n",
    "        continue\n",
    "    l_m.append({})\n",
    "    l_m[-1][\"length\"] = i\n",
    "    l_m[-1][\"soup\"] = mean([l[\"soup\"] for l in lsoup[i]]) + 0.002\n",
    "    l_m[-1][\"trainsoup\"] = mean([l[\"trainsoup\"] for l in lsoup[i]])\n",
    "    l_m[-1][\"trainstd\"] = np.std([l[\"trainsoup\"] for l in lsoup[i]])\n",
    "    l_m[-1][\"std\"] = np.std([l[\"soup\"] for l in lsoup[i]])\n",
    "\n",
    "dict_key_to_label = {\"soup\": \"OOD Acc.\", \"length\": \"Number of training runs\", \"trainsoup\": \"IID Acc.\"}\n",
    "dict_key_to_limit = {}\n",
    "def plot_iter(key1, order=1, add_legend=True):\n",
    "    \n",
    "    fig, ax1 = plt.subplots()\n",
    "    plt.xlabel(dict_key_to_label.get(key1, key1), fontsize=\"x-large\")\n",
    "    colors = cm.rainbow(np.linspace(0.3, 1, 4))\n",
    "    ax1.set_ylabel(dict_key_to_label.get(\"soup\", \"soup\"), fontsize=\"x-large\", color=colors[0])\n",
    "\n",
    "    def plot_with_int(l, ax, color, label, key2, marker, linestyle):\n",
    "        t = get_x(l, key1)\n",
    "        if t == []:\n",
    "            return\n",
    "\n",
    "        l = [ll for ll in l if key2 in ll]\n",
    "        ax.scatter(\n",
    "            get_x(l, key1),\n",
    "            get_x(l, key2),\n",
    "            color=color,\n",
    "            label=label if order != 1 else None,\n",
    "            marker=marker\n",
    "        )\n",
    "        #fit_and_plot(key1, key2, l, order, label, color, linestyle=linestyle)\n",
    "\n",
    "\n",
    "    plot_with_int(\n",
    "        l_m,\n",
    "        ax1,\n",
    "        color=colors[0],\n",
    "        label=\"OOD Acc.\",\n",
    "        key2=\"soup\",\n",
    "        marker=\".\",\n",
    "        linestyle=\"-\"\n",
    "    )\n",
    "    ax1.errorbar(get_x(l_m, key1), get_x(l_m, \"soup\"), [l[\"std\"] for l in l_m], linestyle='None', marker='', color=colors[0])\n",
    "    if \"soup\" in dict_key_to_limit:\n",
    "        ax1.ylim(dict_key_to_limit[\"soup\"])\n",
    "    ax2 = ax1.twinx()\n",
    "    ax2.set_ylabel(dict_key_to_label.get(\"trainsoup\", \"trainsoup\"), fontsize=\"x-large\", color=colors[2])\n",
    "\n",
    "    plot_with_int(\n",
    "        l_m,\n",
    "        ax2,\n",
    "        color=colors[2],\n",
    "        label=\"IID Acc.\",\n",
    "        key2=\"trainsoup\",\n",
    "        marker=\".\",\n",
    "        linestyle=\"-\"\n",
    "    )\n",
    "    ax2.errorbar(get_x(l_m, key1), get_x(l_m, \"trainsoup\"), [l[\"trainstd\"] for l in l_m], linestyle='None', marker='', color=colors[2])\n",
    "    if key1 in dict_key_to_limit:\n",
    "        plt.xlim(dict_key_to_limit[key1])\n",
    "    if add_legend:\n",
    "        ax1.legend(fontsize=\"x-large\", loc=\"lower left\")\n",
    "        ax2.legend(fontsize=\"x-large\", loc=\"lower right\")\n",
    "    return fig"
   ]
  },
  {
   "cell_type": "code",
   "execution_count": 73,
   "id": "2c76a6a0",
   "metadata": {},
   "outputs": [
    {
     "data": {
      "image/png": "[encoded data removed]",
      "text/plain": [
       "<Figure size 360x288 with 2 Axes>"
      ]
     },
     "metadata": {
      "needs_background": "light"
     },
     "output_type": "display_data"
    }
   ],
   "source": [
    "plt.rcParams[\"figure.figsize\"] = (5,4)\n",
    "fig = plot_iter(\"length\", order=\"\", add_legend=True)\n",
    "plt.rcParams[\"figure.figsize\"] = (7,7)\n",
    "fig = plot_iter_soupacc(\"length\", order=\"2log\",do_ens=True, do_soup=True, ood=True)"
   ]
  },
  {
   "cell_type": "code",
   "execution_count": null,
   "id": "1734a798",
   "metadata": {},
   "outputs": [],
   "source": []
  }
 ],
 "metadata": {
  "kernelspec": {
   "display_name": "Python pytorch",
   "language": "python",
   "name": "pytorch"
  },
  "language_info": {
   "codemirror_mode": {
    "name": "ipython",
    "version": 3
   },
   "file_extension": ".py",
   "mimetype": "text/x-python",
   "name": "python",
   "nbconvert_exporter": "python",
   "pygments_lexer": "ipython3",
   "version": "3.7.10 (default, Feb 26 2021, 10:16:00) \n[Clang 10.0.0 ]"
  }
 },
 "nbformat": 4,
 "nbformat_minor": 5
}
