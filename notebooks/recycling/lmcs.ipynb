{
 "cells": [
  {
   "cell_type": "code",
   "execution_count": 1,
   "metadata": {},
   "outputs": [],
   "source": [
    "%load_ext autoreload\n",
    "%autoreload 2\n",
    "import sys\n",
    "import collections\n",
    "import numpy as np\n",
    "sys.path.append(\"/private/home/alexandrerame/domainbedv2/\")\n",
    "sys.path.append(\"/private/home/alexandrerame/slurmconfig/notebook/data\")\n",
    "from domainbed.codeplot import plot\n",
    "\n",
    "plot.plt.rcParams[\"figure.figsize\"] = (5, 5)"
   ]
  },
  {
   "cell_type": "code",
   "execution_count": 2,
   "metadata": {},
   "outputs": [],
   "source": [
    "from continual.home0 import rank_continual, rank_continual_lp, rank_continual_warmup\n",
    "from continual.home2 import home2_rank_continual_warmup\n",
    "from continual.home3 import home3_rank_continual_warmup\n",
    "from continual.vlcs3 import vlcs3_rank_continual_warmup"
   ]
  },
  {
   "cell_type": "code",
   "execution_count": null,
   "metadata": {},
   "outputs": [],
   "source": []
  },
  {
   "cell_type": "code",
   "execution_count": null,
   "metadata": {},
   "outputs": [],
   "source": [
    "plot.plot_continual(vlcs3_rank_continual_warmup.l, vlcs3_rank_continual_warmup.labels, name=\"vlcs3\")"
   ]
  }
 ],
 "metadata": {
  "kernelspec": {
   "display_name": "Python 3.7.10 64-bit",
   "language": "python",
   "name": "python3"
  },
  "language_info": {
   "codemirror_mode": {
    "name": "ipython",
    "version": 3
   },
   "file_extension": ".py",
   "mimetype": "text/x-python",
   "name": "python",
   "nbconvert_exporter": "python",
   "pygments_lexer": "ipython3",
   "version": "3.7.10"
  },
  "orig_nbformat": 4,
  "vscode": {
   "interpreter": {
    "hash": "c2f007bb438f1f0ac6ac2cdf8fe0d10d13748d7e99ce09d161672c77ac01ae60"
   }
  }
 },
 "nbformat": 4,
 "nbformat_minor": 2
}
