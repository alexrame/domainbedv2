{
 "cells": [
  {
   "cell_type": "code",
   "execution_count": null,
   "metadata": {},
   "outputs": [],
   "source": [
    "%load_ext autoreload\n",
    "%autoreload 2\n",
    "import sys\n",
    "import collections\n",
    "import numpy as np\n",
    "sys.path.append(\"/private/home/alexandrerame/domainbedv2/\")\n",
    "sys.path.append(\"/private/home/alexandrerame/slurmconfig/notebook/data\")\n",
    "from domainbed.codeplot import plot\n",
    "\n",
    "plot.plt.rcParams[\"figure.figsize\"] = (5, 5)"
   ]
  },
  {
   "cell_type": "code",
   "execution_count": null,
   "metadata": {},
   "outputs": [],
   "source": [
    "from lmc.vlcs import vlcs0_rank_continual_warmup, vlcs1_rank_continual_warmup, vlcs2_rank_continual_warmup, vlcs3_rank_continual_warmup"
   ]
  },
  {
   "cell_type": "code",
   "execution_count": null,
   "metadata": {},
   "outputs": [],
   "source": [
    "from lmc.pacs import pacs_rank_lmc\n",
    "from lmc.came import came_rank_lmc\n",
    "from lmc.terra import terra_rank_lmc"
   ]
  },
  {
   "cell_type": "code",
   "execution_count": null,
   "metadata": {},
   "outputs": [],
   "source": [
    "l_terra = [terra_rank_lmc.l[key] for key in range(48)]\n",
    "for testenv in range(0, 4):\n",
    "    index = testenv * 12 \n",
    "    for idx in range(index, index + 12):\n",
    "        for ll in l_terra[idx]:\n",
    "            assert ll[\"testenv\"] == testenv\n",
    "    plot.plot_continual(\n",
    "        l_terra[index:index + 12],\n",
    "        labels=terra_rank_lmc.labels,\n",
    "        #label=\".dirs.testenv\",\n",
    "        name=\"terra\" + str(testenv),\n",
    "        do_iid=False,\n",
    "        do_save=True,\n",
    "        index_range=3,\n",
    "        order=5,\n",
    "        do_h=True\n",
    "    )\n"
   ]
  },
  {
   "cell_type": "code",
   "execution_count": null,
   "metadata": {},
   "outputs": [],
   "source": [
    "[key for key in range(48) if not len(came_rank_lmc.l[key])]"
   ]
  },
  {
   "cell_type": "code",
   "execution_count": null,
   "metadata": {},
   "outputs": [],
   "source": [
    "l_came = [came_rank_lmc.l[key] for key in range(48)]\n",
    "for testenv in range(0, 4):\n",
    "    index = testenv * 12 \n",
    "    for idx in range(index, index + 12):\n",
    "        for ll in l_came[idx]:\n",
    "            assert ll[\"testenv\"] == testenv\n",
    "    plot.plot_continual(\n",
    "        l_came[index:index + 12],\n",
    "        labels=came_rank_lmc.labels,\n",
    "        # label=\".dirs.testenv\",\n",
    "        name=\"came\" + str(testenv),\n",
    "        do_iid=False,\n",
    "        do_save=True,\n",
    "        index_range=3,\n",
    "        order=5,\n",
    "        do_h=True\n",
    "    )\n"
   ]
  },
  {
   "cell_type": "code",
   "execution_count": null,
   "metadata": {},
   "outputs": [],
   "source": [
    "l_pacs = [pacs_rank_lmc.l[key] for key in range(48)]\n",
    "for testenv in range(0, 4):\n",
    "    index = testenv * 12 \n",
    "    for idx in range(index, index + 12):\n",
    "        for ll in l_pacs[idx]:\n",
    "            assert ll[\"testenv\"] == testenv\n",
    "    plot.plot_continual(\n",
    "        l_pacs[index:index + 12],\n",
    "        labels=pacs_rank_lmc.labels,\n",
    "        # label=\".dirs.testenv\",\n",
    "        name=\"pacs\" + str(testenv),\n",
    "        do_iid=False,\n",
    "        do_save=True,\n",
    "        index_range=3,\n",
    "        do_h=True,\n",
    "        order=5\n",
    "    )\n"
   ]
  },
  {
   "cell_type": "code",
   "execution_count": null,
   "metadata": {},
   "outputs": [],
   "source": [
    "from lmc.home0 import rank_continual_warmup as home0_rank_continual_warmup\n",
    "from lmc.home1 import home1_rank_continual_warmup\n",
    "from lmc.home2 import home2_rank_continual_warmup\n",
    "from lmc.home3 import home3_rank_continual_warmup"
   ]
  },
  {
   "cell_type": "code",
   "execution_count": null,
   "metadata": {},
   "outputs": [],
   "source": [
    "plot.plot_continual(\n",
    "    home0_rank_continual_warmup.l,\n",
    "    home0_rank_continual_warmup.labels,\n",
    "    name=\"home0\",\n",
    "    do_iid=False,\n",
    "    do_save=True,\n",
    "    do_h=True,\n",
    "    order=4\n",
    ")\n",
    "\n",
    "\n",
    "plot.plot_continual(\n",
    "    home1_rank_continual_warmup.l,\n",
    "    home1_rank_continual_warmup.labels,\n",
    "    name=\"home1\",\n",
    "    do_iid=False,\n",
    "    do_save=True,\n",
    "    do_h=True,\n",
    "    order=4\n",
    ")\n",
    "\n",
    "\n",
    "plot.plot_continual(\n",
    "    home2_rank_continual_warmup.l,\n",
    "    home2_rank_continual_warmup.labels,\n",
    "    name=\"home2\",\n",
    "    do_iid=False,\n",
    "    do_save=True,\n",
    "    do_h=True,\n",
    "    order=4\n",
    ")\n",
    "\n",
    "plot.plot_continual(\n",
    "    home3_rank_continual_warmup.l,\n",
    "    home3_rank_continual_warmup.labels,\n",
    "    name=\"home3\",\n",
    "    do_iid=False,\n",
    "    do_save=True,\n",
    "    do_h=True,\n",
    "    order=4\n",
    ")\n"
   ]
  },
  {
   "cell_type": "code",
   "execution_count": null,
   "metadata": {},
   "outputs": [],
   "source": [
    "plot.plot_continual(\n",
    "    vlcs0_rank_continual_warmup.l,\n",
    "    vlcs0_rank_continual_warmup.labels,\n",
    "    name=\"vlcs0\",\n",
    "    do_iid=False,\n",
    "    do_save=True,\n",
    "    do_h=True,\n",
    "    order=5\n",
    ")\n",
    "\n",
    "\n",
    "plot.plot_continual(\n",
    "    vlcs1_rank_continual_warmup.l,\n",
    "    vlcs1_rank_continual_warmup.labels,\n",
    "    name=\"vlcs1\",\n",
    "    do_iid=False,\n",
    "    do_save=True,\n",
    "    do_h=True,\n",
    "    order=5\n",
    ")\n",
    "\n",
    "\n",
    "plot.plot_continual(\n",
    "    vlcs2_rank_continual_warmup.l,\n",
    "    vlcs2_rank_continual_warmup.labels,\n",
    "    name=\"vlcs2\",\n",
    "    do_iid=False,\n",
    "    do_save=True,\n",
    "    do_h=True,\n",
    "    order=5\n",
    ")\n",
    "\n",
    "plot.plot_continual(\n",
    "    vlcs3_rank_continual_warmup.l,\n",
    "    vlcs3_rank_continual_warmup.labels,\n",
    "    name=\"vlcs3\",\n",
    "    do_iid=False,\n",
    "    do_save=True,\n",
    "    do_h=True,\n",
    "    order=5\n",
    ")\n"
   ]
  },
  {
   "cell_type": "code",
   "execution_count": null,
   "metadata": {},
   "outputs": [],
   "source": []
  }
 ],
 "metadata": {
  "kernelspec": {
   "display_name": "Python 3.7.10 64-bit",
   "language": "python",
   "name": "python3"
  },
  "language_info": {
   "codemirror_mode": {
    "name": "ipython",
    "version": 3
   },
   "file_extension": ".py",
   "mimetype": "text/x-python",
   "name": "python",
   "nbconvert_exporter": "python",
   "pygments_lexer": "ipython3",
   "version": "3.7.10"
  },
  "orig_nbformat": 4,
  "vscode": {
   "interpreter": {
    "hash": "c2f007bb438f1f0ac6ac2cdf8fe0d10d13748d7e99ce09d161672c77ac01ae60"
   }
  }
 },
 "nbformat": 4,
 "nbformat_minor": 2
}
