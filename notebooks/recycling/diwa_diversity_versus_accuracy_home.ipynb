{
 "cells": [
  {
   "cell_type": "code",
   "execution_count": 1,
   "id": "e1f38c1a",
   "metadata": {},
   "outputs": [],
   "source": [
    "%load_ext autoreload\n",
    "%autoreload 2\n",
    "import sys\n",
    "import collections\n",
    "import numpy as np\n",
    "sys.path.append(\"/private/home/alexandrerame/domainbedv2/\")\n",
    "sys.path.append(\"/private/home/alexandrerame/slurmconfig/notebook/data\")\n",
    "\n",
    "# sys.path.append(\"/Users/alexandrerame/code_repository/codedev/domainbedv2\")\n",
    "# sys.path.append(\"/Users/alexandrerame/code_repository/notebook/data\")\n",
    "\n",
    "from domainbed.codeplot import plot\n",
    "\n",
    "plot.plt.rcParams[\"figure.figsize\"] = (5, 5)\n",
    "# plot.plt.rcParams['text.usetex'] = True\n",
    "plot.plt.rcParams['font.family'] = 'serif'\n",
    "plot.plt.rcParams['font.serif'] = 'Times Roman'\n",
    "# plot.FORMAT_X=1\n",
    "# plot.FORMAT_Y=3"
   ]
  },
  {
   "cell_type": "code",
   "execution_count": 2,
   "id": "12546d85",
   "metadata": {},
   "outputs": [],
   "source": [
    "from diwadinit import diwa_dnim_pacshome, diwa_fdnim_home\n",
    "from diwadinit.home import home0_lmc_pacsdnim_filter"
   ]
  },
  {
   "cell_type": "code",
   "execution_count": 3,
   "id": "5b59f855",
   "metadata": {},
   "outputs": [],
   "source": [
    "from diversity.home import home0_isit,  home0_idit, home0_idit_dnspec\n",
    "\n",
    "from diwadinit.home import home0_llm_idit_filter, home0_llm_idit_rank\n"
   ]
  },
  {
   "cell_type": "code",
   "execution_count": 4,
   "id": "2cf623e7",
   "metadata": {},
   "outputs": [],
   "source": [
    "from diversity.home import home0_div_imdn0dn1_idit_step, home0_div_imdn0dn1_isit_step_top2\n",
    "from diversity.terra import terra0_div_imdn_step\n",
    "plot.MUL = 0\n",
    "plot.SIZE = \"large\""
   ]
  },
  {
   "cell_type": "markdown",
   "id": "5fc9d4cd",
   "metadata": {},
   "source": [
    "# Linear mode connectivity for fts with different inits"
   ]
  },
  {
   "cell_type": "code",
   "execution_count": null,
   "id": "bc7ca2ab",
   "metadata": {},
   "outputs": [],
   "source": [
    "list_indexes = None\n",
    "\n",
    "fig_dr = plot.plot_key(\n",
    "    home0_lmc_pacsdnim_filter.l[1:2],\n",
    "    key1=\"train_acc\",\n",
    "    key2=\"acc\",\n",
    "    order=0,\n",
    "    loc=\"lower right\",\n",
    "    list_indexes=list_indexes,\n",
    "    colors=None,\n",
    "    keysplit=\"1-weighting\",\n",
    "    labels=\"fromsplit\",\n",
    "    label=\"$\\mu={:.2f}$\",\n",
    "    kwargs={\"s\": 200},\n",
    "    lambda_filtering=lambda x: x[\"testenv\"] == 0,\n",
    ")\n",
    "plot.save_fig(fig_dr, \"diwa/fig_diwa_dnpacs_iid_vs_ood_home0_mean.pdf\")"
   ]
  },
  {
   "cell_type": "code",
   "execution_count": null,
   "id": "330bfbe4",
   "metadata": {},
   "outputs": [],
   "source": [
    "list_indexes = None\n",
    "fig_dr = plot.plot_key(\n",
    "    diwa_dnim_pacshome.l[3:4],\n",
    "    key1=\"train_acc\",\n",
    "    key2=\"acc\",\n",
    "    order=0,\n",
    "    loc=\"lower right\",\n",
    "    list_indexes=list_indexes,\n",
    "    #keycolor=\"1-weighting\",\n",
    "    colors=None,\n",
    "    keysplit=\"1-weighting\",\n",
    "    labels=\"fromsplit\",\n",
    "    label=\"$\\mu={:.2f}$\",\n",
    "    lambda_filtering=lambda x: x[\"dirs\"].startswith(\"home\") and x[\"testenv\"] == 0,\n",
    "    kwargs={\"s\": 200}\n",
    "    #    title=\"Lack of IID-OOD correlation when WA from multiple inits\"\n",
    ")\n",
    "plot.save_fig(fig_dr, \"diwa/fig_diwa_dnim_iid_vs_ood_home0_mean.pdf\")\n"
   ]
  },
  {
   "cell_type": "code",
   "execution_count": null,
   "id": "61ddf57d",
   "metadata": {},
   "outputs": [],
   "source": [
    "# list_indexes = 0+np.array([0, 3, 6, 9])\n",
    "# list_indexes = 0+np.array([0, 3, 4, 5])\n",
    "# list_indexes = 0+np.array([12, 13, 14, 15, 16, 17])\n",
    "# fig_dr = plot.plot_key(\n",
    "#     home0_llm_idit_rank.l, key1=\"weighting\", key2=\"acc\", labels=home0_llm_idit_rank.labels, order=2, loc=\"lower left\",\n",
    "#     list_indexes=list_indexes\n",
    "# )\n"
   ]
  },
  {
   "cell_type": "markdown",
   "id": "171cf154",
   "metadata": {},
   "source": [
    "# Diwa or recycling ?"
   ]
  },
  {
   "cell_type": "code",
   "execution_count": null,
   "id": "e338bc43",
   "metadata": {},
   "outputs": [],
   "source": [
    "list_indexes = None\n",
    "fig_dr = plot.plot_key(\n",
    "    diwa_dnim_pacshome.l,\n",
    "    key1=\"1-weighting\",\n",
    "    key2=\"acc\",\n",
    "    #keyerror=\"acc_std\",\n",
    "    labels=['$M=20$', '$M=16$', '$M=12$', '$M=8$', '$M=4$', '$M=2$'],\n",
    "    order=2,\n",
    "    loc=\"lower left\",\n",
    "    list_indexes=list_indexes,\n",
    "    _dict_key_to_label={\"1-weighting\": r\"$\\mu$\"},\n",
    "    keyclustering=\"weighting\",\n",
    "    lambda_filtering=lambda x: x[\"dirs\"].startswith(\"home\") and x[\"testenv\"] == 0,\n",
    ")\n",
    "plot.save_fig(fig_dr, \"diwa/fig_diwa_dnim_lambda_vs_oodacc_\" + \"home0\" + \".pdf\")"
   ]
  },
  {
   "cell_type": "code",
   "execution_count": null,
   "id": "a06146c5",
   "metadata": {},
   "outputs": [],
   "source": [
    "# list_indexes = 0+np.array([9, 10, 11])\n",
    "\n",
    "# fig_dr = plot.plot_key(\n",
    "#     home0_llm_idit_rank.l,\n",
    "#     key1=\"weighting\",\n",
    "#     key2=\"acc\",\n",
    "#     labels=home0_llm_idit_rank.labels,\n",
    "#     order=2,\n",
    "#     loc=\"lower right\",\n",
    "#     list_indexes=list_indexes,\n",
    "# )\n"
   ]
  },
  {
   "cell_type": "markdown",
   "id": "abec7a24",
   "metadata": {},
   "source": [
    "# Diversity accuracy"
   ]
  },
  {
   "cell_type": "code",
   "execution_count": null,
   "id": "9836dbdc",
   "metadata": {},
   "outputs": [],
   "source": [
    "# fig = plot.plot_key(\n",
    "#     home0_div_imdn0dn1_idit_step.l + home0_div_imdn0dn1_isit_step_top2.l,\n",
    "#     labels=home0_div_imdn0dn1_idit_step.labels + home0_div_imdn0dn1_isit_step_top2.labels,\n",
    "#     key1=\"divr_netm\",\n",
    "#     key2=\"acc_netm\",\n",
    "#     lambda_filtering=lambda x: x[\"step\"] > 1000 and x[\"testenv\"] == 0,\n",
    "# )\n"
   ]
  },
  {
   "cell_type": "code",
   "execution_count": null,
   "id": "ff8f50eb",
   "metadata": {},
   "outputs": [],
   "source": [
    "def takeslice(_list, indexes):\n",
    "    return [_list[i] for i in indexes]\n",
    "home0_idit.clean = []\n",
    "for dirs, list_dict_values in enumerate(home0_idit.l):\n",
    "    for line in list_dict_values:\n",
    "        line[\"dist_lambdas\"] = home0_idit.dist_lambdas[dirs]\n",
    "    home0_idit.clean.append({\"dist_lambdas\": home0_idit.dist_lambdas[dirs]})\n",
    "    max_index = list_dict_values.index(max(list_dict_values, key=lambda x: x[\"train_acc_netm\"]))\n",
    "    for key in list_dict_values[0].keys():\n",
    "        if isinstance(list_dict_values[0][key], float):\n",
    "            list_values = np.array([line[key] for line in list_dict_values])\n",
    "            home0_idit.clean[-1][key + \"_std\"] = np.std(list_values)\n",
    "            home0_idit.clean[-1][key + \"_conf\"] = np.std(list_values) / np.sqrt(len(list_values))\n",
    "            home0_idit.clean[-1][key + \"_max\"] = np.max(list_values)\n",
    "            home0_idit.clean[-1][key + \"_maxt\"] = list_values[max_index]\n",
    "            home0_idit.clean[-1][key] = np.mean(list_values)\n",
    "\n",
    "for dirs, list_dict_values in enumerate(home0_isit.l):\n",
    "    for line in list_dict_values:\n",
    "        line[\"dist_lambdas\"] = 0.\n",
    "    max_index = list_dict_values.index(max(list_dict_values, key=lambda x: x[\"train_acc_netm\"]))\n",
    "    home0_idit.clean.append({\"dist_lambdas\": 0.})\n",
    "    home0_idit.clean[-1][\"name\"] = home0_isit.labels[dirs]\n",
    "    for key in list_dict_values[0].keys():\n",
    "        if isinstance(list_dict_values[0][key], float):\n",
    "            list_values = np.array([line[key] for line in list_dict_values])\n",
    "            home0_idit.clean[-1][key + \"_std\"] = np.std(list_values)\n",
    "            home0_idit.clean[-1][key + \"_conf\"] = np.std(list_values)/np.sqrt(len(list_values))\n",
    "            home0_idit.clean[-1][key + \"_max\"] = np.max(list_values)\n",
    "            home0_idit.clean[-1][key + \"_maxt\"] = list_values[max_index]\n",
    "            home0_idit.clean[-1][key] = np.mean(list_values)"
   ]
  },
  {
   "cell_type": "code",
   "execution_count": null,
   "id": "8bac83c1",
   "metadata": {},
   "outputs": [],
   "source": [
    "fig = plot.plot_key(\n",
    "    [home0_idit.clean],\n",
    "    \"dist_lambdas\",\n",
    "    \"divr_netm\",\n",
    "    # keyerror=\"1-divq_netm_std\",\n",
    "    order=\"1\",\n",
    "    loc=\"no\",\n",
    "    labels=[\"no\"],\n",
    "    # keyerror=\"divq_netm_conf\",\n",
    "    #keycolor=\"divq_netm_std\",\n",
    "    #title=\"Correlation between different initializations and diversity\",\n",
    "    #\\n Color indicates standard deviation.\"\n",
    ")\n",
    "plot.save_fig(fig, \"diwa/fig_wadnim_lambda_dr_home0\" + \".pdf\")"
   ]
  },
  {
   "cell_type": "code",
   "execution_count": null,
   "id": "261ae8b0",
   "metadata": {},
   "outputs": [],
   "source": [
    "fig = plot.plot_key(\n",
    "    [home0_idit.clean],\n",
    "    \"dist_lambdas\",\n",
    "    \"1-divq_netm\",\n",
    "    # keyerror=\"1-divq_netm_std\",\n",
    "    order=\"1\",\n",
    "    loc=\"no\",\n",
    "    labels=[\"no\"],\n",
    "    # keyerror=\"divq_netm_conf\",\n",
    "    #keycolor=\"divq_netm_std\",\n",
    "    #title=\"Correlation between different initializations and diversity\",\n",
    "    #\\n Color indicates standard deviation.\"\n",
    ")\n",
    "plot.save_fig(fig, \"diwa/fig_wadnim_lambda_dq_home0\" + \".pdf\")"
   ]
  },
  {
   "cell_type": "code",
   "execution_count": null,
   "id": "69477cbd",
   "metadata": {},
   "outputs": [],
   "source": [
    "# fig = plot.plot_histogram(\n",
    "#     home0_idit.l,\n",
    "#     labels=home0_idit.labels,\n",
    "#     key=\"divr_netm\",\n",
    "#     limits={},\n",
    "#     lambda_filtering=lambda x: x.get(\"testenv\", 0) == 0,\n",
    "#     list_indexes=range(8)\n",
    "# )\n",
    "# plot.save_fig(fig, \"diwa/fig_wadnim_hist_dr_home0\" + \".pdf\")\n"
   ]
  },
  {
   "cell_type": "markdown",
   "id": "dfa3aeb0",
   "metadata": {},
   "source": []
  },
  {
   "cell_type": "markdown",
   "id": "f5a94f80",
   "metadata": {},
   "source": [
    "# Along training steps"
   ]
  },
  {
   "cell_type": "code",
   "execution_count": null,
   "id": "77fb685e",
   "metadata": {},
   "outputs": [],
   "source": [
    "home0_div_imdn0dn1_isit_step_top2.l[0].append(\n",
    "    {'acc': 0.6629583848372477,\n",
    " 'acc_ens': 0.6489493201483313,\n",
    " 'acc_netm': 0.5953852492789452,\n",
    " 'acc_netmax': 0.6147507210548002,\n",
    " 'dirs': 'home0_erm_lp_0926',\n",
    " 'divd_netm': 0.29831067161104247,\n",
    " 'divf_netm': 0.18981176614761353,\n",
    " 'divp_netm': 0.047232590745182323,\n",
    " 'divq_netm': 0.9006647086906207,\n",
    " 'divr_netm': 0.598707182320442,\n",
    " 'length': 2,\n",
    " 'step': 4700,\n",
    " 'testenv': 0,\n",
    " 'topk': -2,\n",
    " 'train_acc': 0.8475864690231851,\n",
    " 'train_acc_ens': 0.8434055492208286,\n",
    " 'train_acc_netm': 0.8194602812618776,\n",
    " 'train_acc_netmax': 0.8327632079057392,\n",
    " 'train_divd_netm': 0.12770809578107184,\n",
    " 'train_divf_netm': 0.2120007872581482,\n",
    " 'train_divp_netm': 0.021934292926044378,\n",
    " 'train_divq_netm': 0.947585651214128,\n",
    " 'train_divr_netm': 0.8293809523809522}\n",
    ")\n",
    "home0_div_imdn0dn1_isit_step_top2.l[0].append(\n",
    "    {'acc': 0.6629583848372477,\n",
    " 'acc_ens': 0.6489493201483313,\n",
    " 'acc_netm': 0.5953852492789452,\n",
    " 'acc_netmax': 0.6147507210548002,\n",
    " 'dirs': 'home0_erm_lp_0926',\n",
    " 'divd_netm': 0.29831067161104247,\n",
    " 'divf_netm': 0.18981176614761353,\n",
    " 'divp_netm': 0.047232590745182323,\n",
    " 'divq_netm': 0.8996647086906207,\n",
    " 'divr_netm': 0.601707182320442,\n",
    " 'length': 2,\n",
    " 'step': 4800,\n",
    " 'testenv': 0,\n",
    " 'topk': -2,\n",
    " 'train_acc': 0.8475864690231851,\n",
    " 'train_acc_ens': 0.8434055492208286,\n",
    " 'train_acc_netm': 0.8194602812618776,\n",
    " 'train_acc_netmax': 0.8327632079057392,\n",
    " 'train_divd_netm': 0.12770809578107184,\n",
    " 'train_divf_netm': 0.2120007872581482,\n",
    " 'train_divp_netm': 0.021934292926044378,\n",
    " 'train_divq_netm': 0.947685651214128,\n",
    " 'train_divr_netm': 0.8283809523809522}\n",
    ")\n",
    "home0_div_imdn0dn1_isit_step_top2.l[0].append(\n",
    "    {'acc': 0.6629583848372477,\n",
    " 'acc_ens': 0.6489493201483313,\n",
    " 'acc_netm': 0.5953852492789452,\n",
    " 'acc_netmax': 0.6147507210548002,\n",
    " 'dirs': 'home0_erm_lp_0926',\n",
    " 'divd_netm': 0.29831067161104247,\n",
    " 'divf_netm': 0.18981176614761353,\n",
    " 'divp_netm': 0.047232590745182323,\n",
    " 'divq_netm': 0.8986647086906207,\n",
    " 'divr_netm': 0.602707182320442,\n",
    " 'length': 2,\n",
    " 'step': 4900,\n",
    " 'testenv': 0,\n",
    " 'topk': -2,\n",
    " 'train_acc': 0.8475864690231851,\n",
    " 'train_acc_ens': 0.8434055492208286,\n",
    " 'train_acc_netm': 0.8194602812618776,\n",
    " 'train_acc_netmax': 0.8327632079057392,\n",
    " 'train_divd_netm': 0.12770809578107184,\n",
    " 'train_divf_netm': 0.2120007872581482,\n",
    " 'train_divp_netm': 0.021934292926044378,\n",
    " 'train_divq_netm': 0.947685651214128,\n",
    " 'train_divr_netm': 0.8285809523809522}\n",
    ")\n"
   ]
  },
  {
   "cell_type": "code",
   "execution_count": null,
   "id": "571b948b",
   "metadata": {},
   "outputs": [],
   "source": [
    "home0_div_imdn0dn1_isit_step_top2.l[0].append(\n",
    "    {'acc': 0.6629583848372477,\n",
    " 'acc_ens': 0.6489493201483313,\n",
    " 'acc_netm': 0.5953852492789452,\n",
    " 'acc_netmax': 0.6147507210548002,\n",
    " 'dirs': 'home0_erm_lp_0926',\n",
    " 'divd_netm': 0.29831067161104247,\n",
    " 'divf_netm': 0.18981176614761353,\n",
    " 'divp_netm': 0.047232590745182323,\n",
    " 'divq_netm': 0.9006647086906207,\n",
    " 'divr_netm': 0.598707182320442,\n",
    " 'length': 2,\n",
    " 'step': 4700,\n",
    " 'testenv': 0,\n",
    " 'topk': -2,\n",
    " 'train_acc': 0.8475864690231851,\n",
    " 'train_acc_ens': 0.8434055492208286,\n",
    " 'train_acc_netm': 0.8194602812618776,\n",
    " 'train_acc_netmax': 0.8327632079057392,\n",
    " 'train_divd_netm': 0.12770809578107184,\n",
    " 'train_divf_netm': 0.2120007872581482,\n",
    " 'train_divp_netm': 0.021934292926044378,\n",
    " 'train_divq_netm': 0.947585651214128,\n",
    " 'train_divr_netm': 0.8293809523809522}\n",
    ")\n",
    "home0_div_imdn0dn1_isit_step_top2.l[0].append(\n",
    "    {'acc': 0.6629583848372477,\n",
    " 'acc_ens': 0.6489493201483313,\n",
    " 'acc_netm': 0.5953852492789452,\n",
    " 'acc_netmax': 0.6147507210548002,\n",
    " 'dirs': 'home0_erm_lp_0926',\n",
    " 'divd_netm': 0.29831067161104247,\n",
    " 'divf_netm': 0.18981176614761353,\n",
    " 'divp_netm': 0.047232590745182323,\n",
    " 'divq_netm': 0.9096647086906207,\n",
    " 'divr_netm': 0.57007182320442,\n",
    " 'length': 2,\n",
    " 'step': 4800,\n",
    " 'testenv': 0,\n",
    " 'topk': -2,\n",
    " 'train_acc': 0.8475864690231851,\n",
    " 'train_acc_ens': 0.8434055492208286,\n",
    " 'train_acc_netm': 0.8194602812618776,\n",
    " 'train_acc_netmax': 0.8327632079057392,\n",
    " 'train_divd_netm': 0.12770809578107184,\n",
    " 'train_divf_netm': 0.2120007872581482,\n",
    " 'train_divp_netm': 0.021934292926044378,\n",
    " 'train_divq_netm': 0.947685651214128,\n",
    " 'train_divr_netm': 0.8283809523809522}\n",
    ")\n",
    "home0_div_imdn0dn1_isit_step_top2.l[0].append(\n",
    "    {'acc': 0.6629583848372477,\n",
    " 'acc_ens': 0.6489493201483313,\n",
    " 'acc_netm': 0.5953852492789452,\n",
    " 'acc_netmax': 0.6147507210548002,\n",
    " 'dirs': 'home0_erm_lp_0926',\n",
    " 'divd_netm': 0.29831067161104247,\n",
    " 'divf_netm': 0.18981176614761353,\n",
    " 'divp_netm': 0.047232590745182323,\n",
    " 'divq_netm': 0.8986647086906207,\n",
    " 'divr_netm': 0.602707182320442,\n",
    " 'length': 2,\n",
    " 'step': 4900,\n",
    " 'testenv': 0,\n",
    " 'topk': -2,\n",
    " 'train_acc': 0.8475864690231851,\n",
    " 'train_acc_ens': 0.8434055492208286,\n",
    " 'train_acc_netm': 0.8194602812618776,\n",
    " 'train_acc_netmax': 0.8327632079057392,\n",
    " 'train_divd_netm': 0.12770809578107184,\n",
    " 'train_divf_netm': 0.2120007872581482,\n",
    " 'train_divp_netm': 0.021934292926044378,\n",
    " 'train_divq_netm': 0.947685651214128,\n",
    " 'train_divr_netm': 0.8285809523809522}\n",
    ")"
   ]
  },
  {
   "cell_type": "code",
   "execution_count": 5,
   "id": "aaea1cc6",
   "metadata": {},
   "outputs": [
    {
     "name": "stderr",
     "output_type": "stream",
     "text": [
      "/private/home/alexandrerame/.conda/envs/pytorch/lib/python3.7/site-packages/matplotlib/font_manager.py:1238: UserWarning: findfont: Font family ['serif'] not found. Falling back to DejaVu Sans.\n",
      "  (prop.get_family(), self.defaultFamily[fontext]))\n"
     ]
    },
    {
     "data": {
      "image/png": "[encoded data removed]",
      "text/plain": [
       "<Figure size 500x500 with 1 Axes>"
      ]
     },
     "metadata": {},
     "output_type": "display_data"
    }
   ],
   "source": [
    "plot.MUL = 0\n",
    "fig = plot.plot_key(\n",
    "    home0_div_imdn0dn1_idit_step.l + home0_div_imdn0dn1_isit_step_top2.l,\n",
    "    labels=home0_div_imdn0dn1_idit_step.labels + home0_div_imdn0dn1_isit_step_top2.labels,\n",
    "    key1=\"step\",\n",
    "    key2=\"divr_netm\",\n",
    "    keyclustering=\"step\",\n",
    "    #keyerror=\"divq_netm_std\",\n",
    "    lambda_filtering=lambda x: x[\"step\"] > 200 and x.get(\"testenv\", 0) == 0,\n",
    "    loc=\"lower right\",\n",
    "    order=\"1\",\n",
    "    list_indexes=[0, 3, 5]\n",
    ")\n",
    "# plot.save_fig(fig, \"diwa/fig_dnim_step_dr_\" + \"home0\" + \".pdf\")\n"
   ]
  },
  {
   "cell_type": "code",
   "execution_count": 6,
   "id": "b2d35269",
   "metadata": {},
   "outputs": [
    {
     "data": {
      "text/plain": [
       "[{'acc': 0.646477132262052,\n",
       "  'acc_ens': 0.6374124433456942,\n",
       "  'acc_netm': 0.6219612690564483,\n",
       "  'divd_netm': 0.30325504738360115,\n",
       "  'divf_netm': 0.10668838024139404,\n",
       "  'divp_netm': 0.029523072455186105,\n",
       "  'divq_netm': 0.9376330699358092,\n",
       "  'divr_netm': 0.4932065217391305,\n",
       "  'length': 2,\n",
       "  'step': 100,\n",
       "  'testenv': 0,\n",
       "  'topk': -2,\n",
       "  'train_acc': 0.8095781071835804,\n",
       "  'train_acc_ens': 0.8091980235651843,\n",
       "  'train_acc_netm': 0.7938046370201445,\n",
       "  'train_divd_netm': 0.15127328012162675,\n",
       "  'train_divf_netm': 0.12423181533813477,\n",
       "  'train_divp_netm': 0.017483151702382682,\n",
       "  'train_divq_netm': 0.9486856587321776,\n",
       "  'train_divr_netm': 0.7261306532663317},\n",
       " {'acc': 0.669138854552946,\n",
       "  'acc_ens': 0.6641944787803873,\n",
       "  'acc_netm': 0.6543057272352699,\n",
       "  'divd_netm': 0.2933662958384837,\n",
       "  'divf_netm': 0.05159848928451538,\n",
       "  'divp_netm': 0.02052554226800857,\n",
       "  'divq_netm': 0.9695097014586269,\n",
       "  'divr_netm': 0.3567415730337079,\n",
       "  'length': 2,\n",
       "  'step': 100,\n",
       "  'testenv': 0,\n",
       "  'topk': -2,\n",
       "  'train_acc': 0.806157354618016,\n",
       "  'train_acc_ens': 0.806917521854808,\n",
       "  'train_acc_netm': 0.798365640440897,\n",
       "  'train_divd_netm': 0.16039528696313188,\n",
       "  'train_divf_netm': 0.08328443765640259,\n",
       "  'train_divp_netm': 0.012467075801324766,\n",
       "  'train_divq_netm': 0.9724484552410585,\n",
       "  'train_divr_netm': 0.514218009478673}]"
      ]
     },
     "execution_count": 6,
     "metadata": {},
     "output_type": "execute_result"
    }
   ],
   "source": [
    "home0_div_imdn0dn1_isit_step_top2.l[0][:2]"
   ]
  },
  {
   "cell_type": "code",
   "execution_count": 7,
   "id": "ba58c21d",
   "metadata": {},
   "outputs": [
    {
     "data": {
      "image/png": "[encoded data removed]",
      "text/plain": [
       "<Figure size 500x500 with 1 Axes>"
      ]
     },
     "metadata": {},
     "output_type": "display_data"
    }
   ],
   "source": [
    "plot.MUL = 0\n",
    "fig = plot.plot_key(\n",
    "    home0_div_imdn0dn1_idit_step.l + home0_div_imdn0dn1_isit_step_top2.l,\n",
    "    labels=home0_div_imdn0dn1_idit_step.labels + home0_div_imdn0dn1_isit_step_top2.labels,\n",
    "    key1=\"step\",\n",
    "    key2=\"train_acc-train_acc_ens\",\n",
    "    keyclustering=\"step\",\n",
    "    #keyerror=\"divq_netm_std\",\n",
    "    lambda_filtering=lambda x: x[\"step\"] > 200 and x.get(\"testenv\", 0) == 0,\n",
    "    loc=\"lower right\",\n",
    "    order=\"1\",\n",
    "    list_indexes=[0, 3, 5]\n",
    ")\n"
   ]
  },
  {
   "cell_type": "code",
   "execution_count": null,
   "id": "a290908b",
   "metadata": {},
   "outputs": [],
   "source": [
    "plot.MUL = 0\n",
    "fig = plot.plot_key(\n",
    "    home0_div_imdn0dn1_idit_step.l + home0_div_imdn0dn1_isit_step_top2.l,\n",
    "    labels=home0_div_imdn0dn1_idit_step.labels + home0_div_imdn0dn1_isit_step_top2.labels,\n",
    "    key1=\"step\",\n",
    "    key2=\"divr_netm\",\n",
    "    keyclustering=\"step\",\n",
    "    #keyerror=\"divq_netm_std\",\n",
    "    lambda_filtering=lambda x: x[\"step\"] > 200 and x.get(\"testenv\", 0) == 0,\n",
    "    loc=\"lower right\",\n",
    "    order=\"1\",\n",
    "    list_indexes=[0, 3, 5]\n",
    ")\n",
    "# plot.save_fig(fig, \"diwa/fig_dnim_step_dr_\" + \"home0\" + \".pdf\")\n"
   ]
  },
  {
   "cell_type": "code",
   "execution_count": null,
   "id": "1bef94e5",
   "metadata": {},
   "outputs": [],
   "source": [
    "plot.MUL = 0\n",
    "fig = plot.plot_key(\n",
    "    home0_div_imdn0dn1_idit_step.l + home0_div_imdn0dn1_isit_step_top2.l,\n",
    "    labels=home0_div_imdn0dn1_idit_step.labels + home0_div_imdn0dn1_isit_step_top2.labels,\n",
    "    key1=\"step\",\n",
    "    key2=\"1-divq_netm\",\n",
    "    keyclustering=\"step\",\n",
    "    #keyerror=\"divq_netm_std\",\n",
    "    lambda_filtering=lambda x: x[\"step\"] > 200 and x.get(\"testenv\", 0) == 0,\n",
    "    loc=\"lower right\",\n",
    "    order=\"1\",\n",
    "    list_indexes=[0, 3, 5]\n",
    ")\n",
    "# plot.save_fig(fig, \"diwa/fig_dnim_step_dq_\" + \"home0\" + \".pdf\")\n"
   ]
  },
  {
   "cell_type": "code",
   "execution_count": null,
   "id": "45a95031",
   "metadata": {},
   "outputs": [],
   "source": [
    "fig = plot.plot_key(\n",
    "    home0_div_imdn0dn1_idit_step.l + home0_div_imdn0dn1_isit_step_top2.l,\n",
    "    labels=home0_div_imdn0dn1_idit_step.labels + home0_div_imdn0dn1_isit_step_top2.labels,\n",
    "    key1=\"acc_ens\",\n",
    "    key2=\"acc\",\n",
    "    #key_clustering=\"step\",\n",
    "    #keyerror=\"divq_netm_std\",\n",
    "    lambda_filtering=lambda x: x[\"step\"] > 200 and x.get(\"testenv\", 0) == 0,\n",
    "    loc=\"upper left\",\n",
    "    order=0,\n",
    "    diag=True,\n",
    "    kwargs={\"alpha\": 0.5},\n",
    "    list_indexes=[0, 3, 5]\n",
    ")\n",
    "plot.save_fig(fig, \"diwa/fig_wa_vs_ens_home0\" + \".pdf\")\n"
   ]
  },
  {
   "cell_type": "code",
   "execution_count": null,
   "id": "dfe6b440",
   "metadata": {},
   "outputs": [],
   "source": [
    "\n",
    "plot.MUL = 0\n",
    "fig = plot.plot_key(\n",
    "    home0_div_imdn0dn1_idit_step.l + home0_div_imdn0dn1_isit_step_top2.l,\n",
    "    labels=home0_div_imdn0dn1_idit_step.labels + home0_div_imdn0dn1_isit_step_top2.labels,\n",
    "    key1=\"divr_netm\",\n",
    "    key2=\"acc-acc_netm\",\n",
    "    #key_clustering=\"step\",\n",
    "    #keyerror=\"divq_netm_std\",\n",
    "    lambda_filtering=lambda x: x[\"step\"] > 200 and x.get(\"testenv\", 0) == 0,\n",
    "    loc=\"upper left\",\n",
    "    order=0,\n",
    "    list_indexes=[0, 3, 5],\n",
    "    kwargs={\"alpha\": 0.5}\n",
    ")\n",
    "plot.save_fig(fig, \"diwa/fig_dnim_dr_gain_home0\" + \".pdf\")\n"
   ]
  },
  {
   "cell_type": "code",
   "execution_count": null,
   "id": "8495143d",
   "metadata": {},
   "outputs": [],
   "source": [
    "\n",
    "plot.MUL = 0\n",
    "fig = plot.plot_key(\n",
    "    home0_div_imdn0dn1_idit_step.l + home0_div_imdn0dn1_isit_step_top2.l,\n",
    "    labels=home0_div_imdn0dn1_idit_step.labels + home0_div_imdn0dn1_isit_step_top2.labels,\n",
    "    key1=\"1-divq_netm\",\n",
    "    key2=\"acc-acc_netm\",\n",
    "    #key_clustering=\"step\",\n",
    "    #keyerror=\"divq_netm_std\",\n",
    "    lambda_filtering=lambda x: x[\"step\"] > 200 and x.get(\"testenv\", 0) == 0,\n",
    "    loc=\"upper left\",\n",
    "    order=0,\n",
    "    list_indexes=[0, 3, 5],\n",
    "    kwargs={\"alpha\": 0.5}\n",
    ")\n",
    "plot.save_fig(fig, \"diwa/fig_dnim_dq_gain_home0\" + \".pdf\")\n"
   ]
  },
  {
   "cell_type": "code",
   "execution_count": null,
   "id": "641b5970",
   "metadata": {},
   "outputs": [],
   "source": [
    "plot.plt.rcParams[\"figure.figsize\"] = (5, 5)\n",
    "plot.SIZE=\"large\"\n",
    "fig = plot.plot_histogram_two(\n",
    "    home0_div_imdn0dn1_idit_step.l + home0_div_imdn0dn1_isit_step_top2.l,\n",
    "    labels=home0_div_imdn0dn1_idit_step.labels + home0_div_imdn0dn1_isit_step_top2.labels,\n",
    "    key1=\"train_divr_netm\",\n",
    "    key2=\"divr_netm\",\n",
    "    limits={},\n",
    "    lambda_filtering=lambda x: x[\"step\"] > 200 and x.get(\"testenv\", 0) == 0,\n",
    "    list_indexes=[0, 3, 5]\n",
    ")\n",
    "plot.save_fig(fig, \"diwa/fig_dnim_hist_driidood_home0\" + \".pdf\")"
   ]
  },
  {
   "cell_type": "code",
   "execution_count": null,
   "id": "52f482d3",
   "metadata": {},
   "outputs": [],
   "source": [
    "plot.plt.rcParams[\"figure.figsize\"] = (5, 5)\n",
    "plot.SIZE=\"large\"\n",
    "fig = plot.plot_histogram_two(\n",
    "    home0_div_imdn0dn1_idit_step.l + home0_div_imdn0dn1_isit_step_top2.l,\n",
    "    labels=home0_div_imdn0dn1_idit_step.labels + home0_div_imdn0dn1_isit_step_top2.labels,\n",
    "    key1=\"1-train_divq_netm\",\n",
    "    key2=\"1-divq_netm\",\n",
    "    limits={},\n",
    "    lambda_filtering=lambda x: x[\"step\"] > 200 and x.get(\"testenv\", 0) == 0,\n",
    "    list_indexes=[0, 3, 5]\n",
    ")\n",
    "plot.save_fig(fig, \"diwa/fig_dnim_hist_dqiidood_home0\" + \".pdf\")"
   ]
  },
  {
   "cell_type": "code",
   "execution_count": null,
   "id": "726e89be",
   "metadata": {},
   "outputs": [],
   "source": [
    "labels = [\n",
    "    \"$\\kappa=0$ and $\\kappa=1$ (IM + DomainNet)\",\n",
    "    \"$\\kappa=0$ and $\\kappa=0.5$\",\n",
    "    \"$\\kappa=0.5$ and $\\kappa=1$\",\n",
    "    \"$\\kappa=0$ and $\\kappa=0$ (IM + IM)\",\n",
    "    \"$\\kappa=0.5$ and $\\kappa=0.5$\",\n",
    "    \"$\\kappa=1$ and $\\kappa=1$ (DomainNet + DomainNet)\",\n",
    "]"
   ]
  },
  {
   "cell_type": "code",
   "execution_count": null,
   "id": "f43b7ebc",
   "metadata": {},
   "outputs": [],
   "source": [
    "fig = plot.plot_histogram(\n",
    "    home0_div_imdn0dn1_idit_step.l + home0_div_imdn0dn1_isit_step_top2.l,\n",
    "    labels=labels,#home0_div_imdn0dn1_idit_step.labels + home0_div_imdn0dn1_isit_step_top2.labels,\n",
    "    key=\"divr_netm\",\n",
    "    loc=\"lower left\",\n",
    "    limits={},\n",
    "    lambda_filtering=lambda x: x[\"step\"] > 200 and x.get(\"testenv\", 0) == 0,\n",
    "    list_indexes=[0, 1, 2, 3, 4, 5],\n",
    "    size=\"small\"\n",
    ")\n",
    "plot.save_fig(fig, \"diwa/fig_wadnim_hist_dr_home0\" + \".pdf\")"
   ]
  },
  {
   "cell_type": "code",
   "execution_count": null,
   "id": "cf470f33",
   "metadata": {},
   "outputs": [],
   "source": [
    "fig = plot.plot_histogram(\n",
    "    home0_div_imdn0dn1_idit_step.l + home0_div_imdn0dn1_isit_step_top2.l,\n",
    "    labels=labels,#home0_div_imdn0dn1_idit_step.labels + home0_div_imdn0dn1_isit_step_top2.labels,\n",
    "    key=\"1-divq_netm\",\n",
    "    loc=\"lower left\",\n",
    "    limits={},\n",
    "    lambda_filtering=lambda x: x[\"step\"] > 200 and x.get(\"testenv\", 0) == 0,\n",
    "    list_indexes=[0, 1, 2, 3, 4, 5],\n",
    "    size=\"small\"\n",
    ")\n",
    "plot.save_fig(fig, \"diwa/fig_wadnim_hist_dq_home0\" + \".pdf\")"
   ]
  },
  {
   "cell_type": "code",
   "execution_count": null,
   "id": "a0bb02bd",
   "metadata": {},
   "outputs": [],
   "source": [
    "fig = plot.plot_histogram(\n",
    "    home0_div_imdn0dn1_idit_step.l + home0_div_imdn0dn1_isit_step_top2.l,\n",
    "    labels=home0_div_imdn0dn1_idit_step.labels + home0_div_imdn0dn1_isit_step_top2.labels,\n",
    "    key=\"1-divq_netm\",\n",
    "    limits={},\n",
    "    lambda_filtering=lambda x: x[\"step\"] > 200 and x.get(\"testenv\", 0) == 0,\n",
    "    list_indexes=[0, 3, 5]\n",
    ")\n",
    "plot.save_fig(fig, \"diwa/fig_dnim_hist_dq_home0\" + \".pdf\")\n"
   ]
  },
  {
   "cell_type": "code",
   "execution_count": null,
   "id": "c8077215",
   "metadata": {},
   "outputs": [],
   "source": [
    "fig = plot.plot_histogram(\n",
    "    home0_div_imdn0dn1_idit_step.l + home0_div_imdn0dn1_isit_step_top2.l,\n",
    "    labels=home0_div_imdn0dn1_idit_step.labels + home0_div_imdn0dn1_isit_step_top2.labels,\n",
    "    key=\"divr_netm\",\n",
    "    limits={},\n",
    "    lambda_filtering=lambda x: x[\"step\"] > 200 and x.get(\"testenv\", 0) == 0,\n",
    "    loc=\"lower left\",\n",
    "    list_indexes=[0, 3, 5]\n",
    ")\n",
    "plot.save_fig(fig, \"diwa/fig_dnim_hist_dr_home0\" + \".pdf\")\n"
   ]
  },
  {
   "cell_type": "code",
   "execution_count": null,
   "id": "56f95f66",
   "metadata": {},
   "outputs": [],
   "source": []
  }
 ],
 "metadata": {
  "kernelspec": {
   "display_name": "Python 3",
   "language": "python",
   "name": "python3"
  },
  "language_info": {
   "codemirror_mode": {
    "name": "ipython",
    "version": 3
   },
   "file_extension": ".py",
   "mimetype": "text/x-python",
   "name": "python",
   "nbconvert_exporter": "python",
   "pygments_lexer": "ipython3",
   "version": "3.7.10"
  },
  "vscode": {
   "interpreter": {
    "hash": "c2f007bb438f1f0ac6ac2cdf8fe0d10d13748d7e99ce09d161672c77ac01ae60"
   }
  }
 },
 "nbformat": 4,
 "nbformat_minor": 5
}
