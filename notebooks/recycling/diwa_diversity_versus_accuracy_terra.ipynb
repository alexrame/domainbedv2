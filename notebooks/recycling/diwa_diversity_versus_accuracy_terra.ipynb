{
 "cells": [
  {
   "cell_type": "code",
   "execution_count": 1,
   "id": "e1f38c1a",
   "metadata": {},
   "outputs": [],
   "source": [
    "%load_ext autoreload\n",
    "%autoreload 2\n",
    "import sys\n",
    "import collections\n",
    "import numpy as np\n",
    "# sys.path.append(\"/private/home/alexandrerame/domainbedv2/\")\n",
    "# sys.path.append(\"/private/home/alexandrerame/slurmconfig/notebook/data\")\n",
    "\n",
    "sys.path.append(\"/Users/alexandrerame/code_repository/codedev/domainbedv2\")\n",
    "sys.path.append(\"/Users/alexandrerame/code_repository/notebook/data\")\n",
    "\n",
    "from domainbed.codeplot import plot\n",
    "\n",
    "plot.plt.rcParams[\"figure.figsize\"] = (5, 5)\n",
    "plot.plt.rcParams['text.usetex'] = True\n",
    "plot.plt.rcParams['font.family'] = 'serif'\n",
    "plot.plt.rcParams['font.serif'] = 'Times Roman'\n",
    "# plot.FORMAT_X=1\n",
    "# plot.FORMAT_Y=3"
   ]
  },
  {
   "cell_type": "code",
   "execution_count": 2,
   "id": "20a0b8d2",
   "metadata": {},
   "outputs": [],
   "source": [
    "# from diversity.terra import terra0_div_imdn_step, terra0_div_imvlcs_step\n",
    "# from old_diversity.terra import terra0_div_imdn_step\n",
    "from diversity.terra import terra0_div_imdn_step_v2 as terra0_div_imdn_step\n",
    "# from diversity.pacs import pacs0_div_imdn_step\n",
    "from diversity.pacs import pacs0_div_imdn_step_v2 as pacs0_div_imdn_step\n",
    "# from diversity.vlcs import vlcs0_div_imdn_step\n",
    "from diversity.vlcs import vlcs0_div_imdn_step_v2 as vlcs0_div_imdn_step\n",
    "plot.MUL = 0\n",
    "plot.SIZE = \"large\""
   ]
  },
  {
   "cell_type": "markdown",
   "id": "6134de48",
   "metadata": {},
   "source": [
    "# Histogram"
   ]
  },
  {
   "cell_type": "code",
   "execution_count": 3,
   "id": "6d7db5d1",
   "metadata": {},
   "outputs": [],
   "source": [
    "labels = [\"IM + DomainNet\", \"IM + IM\", \"DomainNet + DomainNet\"]"
   ]
  },
  {
   "cell_type": "code",
   "execution_count": null,
   "id": "dabea6dd",
   "metadata": {},
   "outputs": [],
   "source": [
    "fig = plot.plot_histogram(\n",
    "    pacs0_div_imdn_step.l.values(),\n",
    "    labels=labels,\n",
    "    key=\"divr_netm\",\n",
    "    lambda_filtering=lambda x: x[\"step\"] != \"best\" and x[\"step\"] > 200 and x.get(\"testenv\", 0) == 0,\n",
    "    # list_indexes=[0,1, 2],\n",
    "    # limits = {\"divr_netm\": [0, 15]},\n",
    "    bins=50        \n",
    ")\n",
    "plot.save_fig(fig, \"diwa/fig_dnim_hist_dr_pacs0\" + \".pdf\")"
   ]
  },
  {
   "cell_type": "code",
   "execution_count": null,
   "id": "ce7c27a4",
   "metadata": {},
   "outputs": [],
   "source": [
    "fig = plot.plot_histogram(\n",
    "    pacs0_div_imdn_step.l.values(),\n",
    "    labels=labels,\n",
    "    key=\"1-divq_netm\",\n",
    "    lambda_filtering=lambda x: x[\"step\"] != \"best\" and x[\"step\"] > 200 and x.get(\"testenv\", 0) == 0,\n",
    "    # list_indexes=[0,1, 2],\n",
    "    # limits = {\"1-divq_netm\": [0, 15]},\n",
    "    bins=40\n",
    ")\n",
    "plot.save_fig(fig, \"diwa/fig_dnim_hist_dq_pacs0\" + \".pdf\")"
   ]
  },
  {
   "cell_type": "code",
   "execution_count": null,
   "id": "20f1bfe6",
   "metadata": {},
   "outputs": [],
   "source": [
    "fig = plot.plot_histogram(\n",
    "    vlcs0_div_imdn_step.l.values(),\n",
    "    labels=labels,\n",
    "    key=\"divr_netm\",\n",
    "    lambda_filtering=lambda x: x[\"step\"] != \"best\" and x[\"step\"] > 200 and x.get(\"testenv\", 0) == 0,\n",
    "    # list_indexes=[0,1, 2],\n",
    "    limits = {\"divr_netm\": [0, 15]},\n",
    "    bins=50        \n",
    ")\n",
    "plot.save_fig(fig, \"diwa/fig_dnim_hist_dr_vlcs0\" + \".pdf\")"
   ]
  },
  {
   "cell_type": "code",
   "execution_count": null,
   "id": "0442b89f",
   "metadata": {},
   "outputs": [],
   "source": [
    "fig = plot.plot_histogram(\n",
    "    vlcs0_div_imdn_step.l.values(),\n",
    "    labels=labels,\n",
    "    key=\"1-divq_netm\",\n",
    "    lambda_filtering=lambda x: x[\"step\"] != \"best\" and x[\"step\"] > 200 and x.get(\"testenv\", 0) == 0,\n",
    "    # list_indexes=[0,1, 2],\n",
    "    limits = {\"1-divq_netm\": [0, 0.3]},\n",
    "    bins=40\n",
    ")\n",
    "plot.save_fig(fig, \"diwa/fig_dnim_hist_dq_vlcs0\" + \".pdf\")\n"
   ]
  },
  {
   "cell_type": "code",
   "execution_count": 7,
   "id": "c1cd2492",
   "metadata": {},
   "outputs": [
    {
     "data": {
      "image/png": "[encoded data removed]",
      "text/plain": [
       "<Figure size 500x500 with 1 Axes>"
      ]
     },
     "metadata": {},
     "output_type": "display_data"
    }
   ],
   "source": [
    "fig = plot.plot_histogram(\n",
    "    terra0_div_imdn_step.l,\n",
    "    labels=labels,\n",
    "    key=\"1-divq_netm\",\n",
    "    limits={},\n",
    "    lambda_filtering=lambda x: x[\"step\"] != \"best\" and x[\"step\"] > 200 and x.get(\"testenv\", 0) == 0,\n",
    "    list_indexes=[0, 1, 2],\n",
    "    bins=50\n",
    ")\n",
    "# plot.save_fig(fig, \"diwa/fig_dnim_hist_dr_terra0\" + \".pdf\")"
   ]
  },
  {
   "attachments": {},
   "cell_type": "markdown",
   "id": "37831e81",
   "metadata": {},
   "source": [
    "# Histogram olds"
   ]
  },
  {
   "cell_type": "code",
   "execution_count": null,
   "id": "893da018",
   "metadata": {},
   "outputs": [],
   "source": [
    "labels = [\"IM + IM\", \"IM + DomainNet\", \"DomainNet + DomainNet\"]"
   ]
  },
  {
   "cell_type": "code",
   "execution_count": null,
   "id": "c21cfa50",
   "metadata": {},
   "outputs": [],
   "source": [
    "fig = plot.plot_histogram(\n",
    "    pacs0_div_imdn_step.l,\n",
    "    labels=labels,\n",
    "    key=\"divr_net\",\n",
    "    limits={},\n",
    "    lambda_filtering=lambda x: x[\"step\"] != \"best\" and x[\"step\"] > 200 and x.get(\"testenv\", 0) == 0,\n",
    "    list_indexes=[1, 0, 2],\n",
    ")\n",
    "plot.save_fig(fig, \"diwa/fig_dnim_hist_dr_pacs0\" + \".pdf\")\n"
   ]
  },
  {
   "cell_type": "code",
   "execution_count": null,
   "id": "b3c40d42",
   "metadata": {},
   "outputs": [],
   "source": [
    "fig = plot.plot_histogram(\n",
    "    pacs0_div_imdn_step.l,\n",
    "    labels=labels,\n",
    "    key=\"1-divq_net\",\n",
    "    limits={},\n",
    "    lambda_filtering=lambda x: x[\"step\"] != \"best\" and x[\"step\"] > 200 and x.get(\"testenv\", 0) == 0,\n",
    "    list_indexes=[1, 0, 2]\n",
    ")\n",
    "plot.save_fig(fig, \"diwa/fig_dnim_hist_dq_pacs0\" + \".pdf\",\n",
    "    folder=\"/Users/alexandrerame/code_repository/tex/model_recycling_icml/images/filesdevfair\")\n"
   ]
  },
  {
   "cell_type": "code",
   "execution_count": null,
   "id": "a7c4ed1c",
   "metadata": {},
   "outputs": [],
   "source": [
    "labels"
   ]
  },
  {
   "cell_type": "code",
   "execution_count": null,
   "id": "8e5609a3",
   "metadata": {},
   "outputs": [],
   "source": [
    "fig = plot.plot_histogram(\n",
    "    vlcs0_div_imdn_step.l,\n",
    "    labels=labels,\n",
    "    key=\"divr_net\",\n",
    "    lambda_filtering=lambda x: x[\"step\"] != \"best\" and x[\"step\"] > 200 and x.get(\"testenv\", 0) == 0,\n",
    "    list_indexes=[1, 0, 2],\n",
    "    limits = {\"divr_net\": [0, 15]},\n",
    "    bins=50        \n",
    ")\n",
    "# plot.save_fig(fig, \"diwa/fig_dnim_hist_dr_vlcs0\" + \".pdf\")\n"
   ]
  },
  {
   "cell_type": "code",
   "execution_count": null,
   "id": "e44cc9dc",
   "metadata": {},
   "outputs": [],
   "source": [
    "fig = plot.plot_histogram(\n",
    "    vlcs0_div_imdn_step.l,\n",
    "    labels=labels,\n",
    "    key=\"1-divq_net\",\n",
    "    lambda_filtering=lambda x: x[\"step\"] != \"best\" and x[\"step\"] > 200 and x.get(\"testenv\", 0) == 0,\n",
    "    list_indexes=[1, 0, 2],\n",
    "    limits = {\"1-divq_net\": [0, 0.3]},\n",
    "    bins=50    \n",
    ")\n",
    "plot.save_fig(fig, \"diwa/fig_dnim_hist_dq_vlcs0\" + \".pdf\")\n"
   ]
  },
  {
   "cell_type": "code",
   "execution_count": null,
   "id": "0487cb9d",
   "metadata": {},
   "outputs": [],
   "source": [
    "fig = plot.plot_histogram(\n",
    "    terra0_div_imdn_step.l,\n",
    "    labels=labels,\n",
    "    key=\"divr_net\",\n",
    "    limits={},\n",
    "    lambda_filtering=lambda x: x[\"step\"] != \"best\" and x[\"step\"] > 200 and x.get(\"testenv\", 0) == 0,\n",
    "    list_indexes=[1, 0, 2],\n",
    "    bins=15\n",
    ")\n",
    "plot.save_fig(fig, \"diwa/fig_dnim_hist_dr_terra0\" + \".pdf\")\n"
   ]
  },
  {
   "cell_type": "code",
   "execution_count": null,
   "id": "0a6195ca",
   "metadata": {},
   "outputs": [],
   "source": [
    "fig = plot.plot_histogram(\n",
    "    terra0_div_imdn_step.l,\n",
    "    labels=labels,\n",
    "    key=\"1-divq_net\",\n",
    "    limits={},\n",
    "    lambda_filtering=lambda x: x[\"step\"] != \"best\" and x[\"step\"] > 200 and x.get(\"testenv\", 0) == 0,\n",
    "    list_indexes=[1, 0, 2],\n",
    "    bins=15\n",
    ")\n",
    "plot.save_fig(fig, \"diwa/fig_dnim_hist_dq_terra0\" + \".pdf\",\n",
    "    folder=\"/Users/alexandrerame/code_repository/tex/model_recycling_icml/images/filesdevfair\")\n"
   ]
  },
  {
   "cell_type": "markdown",
   "id": "f5a94f80",
   "metadata": {},
   "source": [
    "# Along training steps"
   ]
  },
  {
   "cell_type": "code",
   "execution_count": null,
   "id": "dba40308",
   "metadata": {},
   "outputs": [],
   "source": [
    "terra0_div_imvlcs_step.labels = [\"IM + IM\", \"IM + VLCS\", \"VLCS + VLCS\"]\n",
    "terra0_div_imdn_step.labels = [\"IM + IM\", \"IM + DomainNet\", \"DomainNet + DomainNet\"]\n",
    "pacs0_div_imdn_step.labels = [\"IM + IM\", \"IM + DomainNet\", \"DomainNet + DomainNet\"]"
   ]
  },
  {
   "cell_type": "code",
   "execution_count": null,
   "id": "89bb8462",
   "metadata": {},
   "outputs": [],
   "source": [
    "l = {0:[]}\n",
    "#l[0].append({\"acc\": 0.6843840131850021, \"dirs\": \"home_erm20k_lp_0103_allsteps\", \"length\": 20, \"lengthf\": 20, \"step\": \"best\", \"testenv\": 0, \"topk\": \"0\", \"train_acc\": 0.871531736982136, \"trialseed\": 0, \"printres\": \"&&\"})\n",
    "l[0].append({\"acc\": 0.6699629171817059, \"dirs\": \"home_erm20k_lp_0103_allsteps\", \"length\": 20, \"lengthf\": 20, \"step\": 1000, \"testenv\": 0, \"topk\": \"0\", \"train_acc\": 0.8578487267198783, \"trialseed\": 0, \"printres\": \"&&\"})\n",
    "l[0].append({\"acc\": 0.6753193242686444, \"dirs\": \"home_erm20k_lp_0103_allsteps\", \"length\": 20, \"lengthf\": 20, \"step\": 2000, \"testenv\": 0, \"topk\": \"0\", \"train_acc\": 0.8593690611934626, \"trialseed\": 0, \"printres\": \"&&\"})\n",
    "l[0].append({\"acc\": 0.6814997939843428, \"dirs\": \"home_erm20k_lp_0103_allsteps\", \"length\": 20, \"lengthf\": 20, \"step\": 3000, \"testenv\": 0, \"topk\": \"0\", \"train_acc\": 0.8605093120486507, \"trialseed\": 0, \"printres\": \"&&\"})\n",
    "l[0].append({\"acc\": 0.6843840131850021, \"dirs\": \"home_erm20k_lp_0103_allsteps\", \"length\": 20, \"lengthf\": 20, \"step\": 4000, \"testenv\": 0, \"topk\": \"0\", \"train_acc\": 0.8643101482326112, \"trialseed\": 0, \"printres\": \"&&\"})\n",
    "l[0].append({\"acc\": 0.6835599505562423, \"dirs\": \"home_erm20k_lp_0103_allsteps\", \"length\": 20, \"lengthf\": 20, \"step\": 5000, \"testenv\": 0, \"topk\": \"0\", \"train_acc\": 0.8639300646142152, \"trialseed\": 0, \"printres\": \"&&\"})\n",
    "l[0].append({\"acc\": 0.6827358879274825, \"dirs\": \"home_erm20k_lp_0103_allsteps\", \"length\": 20, \"lengthf\": 20, \"step\": 6000, \"testenv\": 0, \"topk\": \"0\", \"train_acc\": 0.8639300646142152, \"trialseed\": 0, \"printres\": \"&&\"})\n",
    "l[0].append({\"acc\": 0.6847960444993819, \"dirs\": \"home_erm20k_lp_0103_allsteps\", \"length\": 20, \"lengthf\": 20, \"step\": 8000, \"testenv\": 0, \"topk\": \"0\", \"train_acc\": 0.8692512352717597, \"trialseed\": 0, \"printres\": \"&&\"})\n",
    "l[0].append({\"acc\": 0.6819118252987227, \"dirs\": \"home_erm20k_lp_0103_allsteps\", \"length\": 20, \"lengthf\": 20, \"step\": 9000, \"testenv\": 0, \"topk\": \"0\", \"train_acc\": 0.8658304827061953, \"trialseed\": 0, \"printres\": \"&&\"})\n",
    "l[0].append({\"acc\": 0.6815554182117841, \"dirs\": \"home_erm20k_lp_0103_allsteps\", \"length\": 20, \"lengthf\": 20, \"step\": 10000, \"testenv\": 0, \"topk\": \"0\", \"train_acc\": 0.8684910680349677, \"trialseed\": 0, \"printres\": \"&&\"})\n",
    "l[0].append({\"acc\": 0.6835599505562423, \"dirs\": \"home_erm20k_lp_0103_allsteps\", \"length\": 20, \"lengthf\": 20, \"step\": 11000, \"testenv\": 0, \"topk\": \"0\", \"train_acc\": 0.8673508171797796, \"trialseed\": 0, \"printres\": \"&&\"})\n",
    "l[0].append({\"acc\": 0.6864441697569015, \"dirs\": \"home_erm20k_lp_0103_allsteps\", \"length\": 20, \"lengthf\": 20, \"step\": 12000, \"testenv\": 0, \"topk\": \"0\", \"train_acc\": 0.8688711516533637, \"trialseed\": 0, \"printres\": \"&&\"})\n",
    "l[0].append({\"acc\": 0.6814997939843428, \"dirs\": \"home_erm20k_lp_0103_allsteps\", \"length\": 20, \"lengthf\": 20, \"step\": 13000, \"testenv\": 0, \"topk\": \"0\", \"train_acc\": 0.8654503990877993, \"trialseed\": 0, \"printres\": \"&&\"})\n",
    "l[0].append({\"acc\": 0.6823238566131026, \"dirs\": \"home_erm20k_lp_0103_allsteps\", \"length\": 20, \"lengthf\": 20, \"step\": 14000, \"testenv\": 0, \"topk\": \"0\", \"train_acc\": 0.8684910680349677, \"trialseed\": 0, \"printres\": \"&&\"})\n",
    "l[0].append({\"acc\": 0.6839719818706221, \"dirs\": \"home_erm20k_lp_0103_allsteps\", \"length\": 20, \"lengthf\": 20, \"step\": 15000, \"testenv\": 0, \"topk\": \"0\", \"train_acc\": 0.8673508171797796, \"trialseed\": 0, \"printres\": \"&&\"})\n",
    "l[0].append({\"acc\": 0.6794396374124434, \"dirs\": \"home_erm20k_lp_0103_allsteps\", \"length\": 20, \"lengthf\": 20, \"step\": 16000, \"testenv\": 0, \"topk\": \"0\", \"train_acc\": 0.8673508171797796, \"trialseed\": 0, \"printres\": \"&&\"})\n",
    "l[0].append({\"acc\": 0.6831479192418624, \"dirs\": \"home_erm20k_lp_0103_allsteps\", \"length\": 20, \"lengthf\": 20, \"step\": 17000, \"testenv\": 0, \"topk\": \"0\", \"train_acc\": 0.8681109844165716, \"trialseed\": 0, \"printres\": \"&&\"})\n",
    "l[0].append({\"acc\": 0.676967449526164, \"dirs\": \"home_erm20k_lp_0103_allsteps\", \"length\": 20, \"lengthf\": 20, \"step\": 18000, \"testenv\": 0, \"topk\": \"0\", \"train_acc\": 0.8665906499429875, \"trialseed\": 0, \"printres\": \"&&\"})\n",
    "l[0].append({\"acc\": 0.6699629171817059, \"dirs\": \"home_erm20k_lp_0103_allsteps\", \"length\": 20, \"lengthf\": 20, \"step\": 19000, \"testenv\": 0, \"topk\": \"0\", \"train_acc\": 0.8696313188901559, \"trialseed\": 0, \"printres\": \"&&\"})\n",
    "l[0].append({\"acc\": 0.6798516687268232, \"dirs\": \"home_erm20k_lp_0103_allsteps\", \"length\": 20, \"lengthf\": 20, \"step\": 20000, \"testenv\": 0, \"topk\": \"0\", \"train_acc\": 0.8681109844165716, \"trialseed\": 0, \"printres\": \"&&\"})\n",
    " \n",
    "l[1] = []\n",
    "# l[1].append({\"acc\": 0.6955088586732592, \"dirs\": \"home_erm20k_lp_0103_allsteps,home_erm20k_fdn_lp_0103_allsteps,home_erm20k_fpacs_lp_0103_allsteps,home_erm20k_fvlcs_lp_0103_allsteps,home_erm20k_fterra_lp_0103_allsteps\", \"length\": 20, \"lengthf\": 20, \"step\": \"best\", \"testenv\": 0, \"topk\": \"-4\", \"train_acc\": 0.8654503990877993, \"trialseed\": 0, \"printres\": \"&&\"})\n",
    "l[1].append({\"acc\": 0.6934487021013597, \"dirs\": \"home_erm20k_lp_0103_allsteps,home_erm20k_fdn_lp_0103_allsteps,home_erm20k_fpacs_lp_0103_allsteps,home_erm20k_fvlcs_lp_0103_allsteps,home_erm20k_fterra_lp_0103_allsteps\", \"length\": 20, \"lengthf\": 20, \"step\": 1000, \"testenv\": 0, \"topk\": \"-4\", \"train_acc\": 0.8494868871151653, \"trialseed\": 0, \"printres\": \"&&\"})\n",
    "l[1].append({\"acc\": 0.6946847960444994, \"dirs\": \"home_erm20k_lp_0103_allsteps,home_erm20k_fdn_lp_0103_allsteps,home_erm20k_fpacs_lp_0103_allsteps,home_erm20k_fvlcs_lp_0103_allsteps,home_erm20k_fterra_lp_0103_allsteps\", \"length\": 20, \"lengthf\": 20, \"step\": 2000, \"testenv\": 0, \"topk\": \"-4\", \"train_acc\": 0.863169897377423, \"trialseed\": 0, \"printres\": \"&&\"})\n",
    "l[1].append({\"acc\": 0.6975690152451587, \"dirs\": \"home_erm20k_lp_0103_allsteps,home_erm20k_fdn_lp_0103_allsteps,home_erm20k_fpacs_lp_0103_allsteps,home_erm20k_fvlcs_lp_0103_allsteps,home_erm20k_fterra_lp_0103_allsteps\", \"length\": 20, \"lengthf\": 20, \"step\": 3000, \"testenv\": 0, \"topk\": \"-4\", \"train_acc\": 0.8624097301406309, \"trialseed\": 0, \"printres\": \"&&\"})\n",
    "l[1].append({\"acc\": 0.6942727647301195, \"dirs\": \"home_erm20k_lp_0103_allsteps,home_erm20k_fdn_lp_0103_allsteps,home_erm20k_fpacs_lp_0103_allsteps,home_erm20k_fvlcs_lp_0103_allsteps,home_erm20k_fterra_lp_0103_allsteps\", \"length\": 20, \"lengthf\": 20, \"step\": 4000, \"testenv\": 0, \"topk\": \"-4\", \"train_acc\": 0.8643101482326112, \"trialseed\": 0, \"printres\": \"&&\"})\n",
    "l[1].append({\"acc\": 0.7016893283889576, \"dirs\": \"home_erm20k_lp_0103_allsteps,home_erm20k_fdn_lp_0103_allsteps,home_erm20k_fpacs_lp_0103_allsteps,home_erm20k_fvlcs_lp_0103_allsteps,home_erm20k_fterra_lp_0103_allsteps\", \"length\": 20, \"lengthf\": 20, \"step\": 5000, \"testenv\": 0, \"topk\": \"-4\", \"train_acc\": 0.8624097301406309, \"trialseed\": 0, \"printres\": \"&&\"})\n",
    "l[1].append({\"acc\": 0.6979810465595385, \"dirs\": \"home_erm20k_lp_0103_allsteps,home_erm20k_fdn_lp_0103_allsteps,home_erm20k_fpacs_lp_0103_allsteps,home_erm20k_fvlcs_lp_0103_allsteps,home_erm20k_fterra_lp_0103_allsteps\", \"length\": 20, \"lengthf\": 20, \"step\": 6000, \"testenv\": 0, \"topk\": \"-4\", \"train_acc\": 0.8681109844165716, \"trialseed\": 0, \"printres\": \"&&\"})\n",
    "l[1].append({\"acc\": 0.6955088586732592, \"dirs\": \"home_erm20k_lp_0103_allsteps,home_erm20k_fdn_lp_0103_allsteps,home_erm20k_fpacs_lp_0103_allsteps,home_erm20k_fvlcs_lp_0103_allsteps,home_erm20k_fterra_lp_0103_allsteps\", \"length\": 20, \"lengthf\": 20, \"step\": 8000, \"testenv\": 0, \"topk\": \"-4\", \"train_acc\": 0.871531736982136, \"trialseed\": 0, \"printres\": \"&&\"})\n",
    "l[1].append({\"acc\": 0.6971569839307787, \"dirs\": \"home_erm20k_lp_0103_allsteps,home_erm20k_fdn_lp_0103_allsteps,home_erm20k_fpacs_lp_0103_allsteps,home_erm20k_fvlcs_lp_0103_allsteps,home_erm20k_fterra_lp_0103_allsteps\", \"length\": 20, \"lengthf\": 20, \"step\": 9000, \"testenv\": 0, \"topk\": \"-4\", \"train_acc\": 0.8684910680349677, \"trialseed\": 0, \"printres\": \"&&\"})\n",
    "l[1].append({\"acc\": 0.6934487021013597, \"dirs\": \"home_erm20k_lp_0103_allsteps,home_erm20k_fdn_lp_0103_allsteps,home_erm20k_fpacs_lp_0103_allsteps,home_erm20k_fvlcs_lp_0103_allsteps,home_erm20k_fterra_lp_0103_allsteps\", \"length\": 20, \"lengthf\": 20, \"step\": 10000, \"testenv\": 0, \"topk\": \"-4\", \"train_acc\": 0.8662105663245914, \"trialseed\": 0, \"printres\": \"&&\"})\n",
    "l[1].append({\"acc\": 0.6913885455294603, \"dirs\": \"home_erm20k_lp_0103_allsteps,home_erm20k_fdn_lp_0103_allsteps,home_erm20k_fpacs_lp_0103_allsteps,home_erm20k_fvlcs_lp_0103_allsteps,home_erm20k_fterra_lp_0103_allsteps\", \"length\": 20, \"lengthf\": 20, \"step\": 11000, \"testenv\": 0, \"topk\": \"-4\", \"train_acc\": 0.871531736982136, \"trialseed\": 0, \"printres\": \"&&\"})\n",
    "l[1].append({\"acc\": 0.6955088586732592, \"dirs\": \"home_erm20k_lp_0103_allsteps,home_erm20k_fdn_lp_0103_allsteps,home_erm20k_fpacs_lp_0103_allsteps,home_erm20k_fvlcs_lp_0103_allsteps,home_erm20k_fterra_lp_0103_allsteps\", \"length\": 20, \"lengthf\": 20, \"step\": 12000, \"testenv\": 0, \"topk\": \"-4\", \"train_acc\": 0.8692512352717597, \"trialseed\": 0, \"printres\": \"&&\"})\n",
    "l[1].append({\"acc\": 0.6897404202719407, \"dirs\": \"home_erm20k_lp_0103_allsteps,home_erm20k_fdn_lp_0103_allsteps,home_erm20k_fpacs_lp_0103_allsteps,home_erm20k_fvlcs_lp_0103_allsteps,home_erm20k_fterra_lp_0103_allsteps\", \"length\": 20, \"lengthf\": 20, \"step\": 13000, \"testenv\": 0, \"topk\": \"-4\", \"train_acc\": 0.8662105663245914, \"trialseed\": 0, \"printres\": \"&&\"})\n",
    "l[1].append({\"acc\": 0.6897404202719407, \"dirs\": \"home_erm20k_lp_0103_allsteps,home_erm20k_fdn_lp_0103_allsteps,home_erm20k_fpacs_lp_0103_allsteps,home_erm20k_fvlcs_lp_0103_allsteps,home_erm20k_fterra_lp_0103_allsteps\", \"length\": 20, \"lengthf\": 20, \"step\": 14000, \"testenv\": 0, \"topk\": \"-4\", \"train_acc\": 0.8673508171797796, \"trialseed\": 0, \"printres\": \"&&\"})\n",
    "l[1].append({\"acc\": 0.6889163576431809, \"dirs\": \"home_erm20k_lp_0103_allsteps,home_erm20k_fdn_lp_0103_allsteps,home_erm20k_fpacs_lp_0103_allsteps,home_erm20k_fvlcs_lp_0103_allsteps,home_erm20k_fterra_lp_0103_allsteps\", \"length\": 20, \"lengthf\": 20, \"step\": 15000, \"testenv\": 0, \"topk\": \"-4\", \"train_acc\": 0.8700114025085519, \"trialseed\": 0, \"printres\": \"&&\"})\n",
    "l[1].append({\"acc\": 0.6843840131850021, \"dirs\": \"home_erm20k_lp_0103_allsteps,home_erm20k_fdn_lp_0103_allsteps,home_erm20k_fpacs_lp_0103_allsteps,home_erm20k_fvlcs_lp_0103_allsteps,home_erm20k_fterra_lp_0103_allsteps\", \"length\": 20, \"lengthf\": 20, \"step\": 16000, \"testenv\": 0, \"topk\": \"-4\", \"train_acc\": 0.8673508171797796, \"trialseed\": 0, \"printres\": \"&&\"})\n",
    "l[1].append({\"acc\": 0.6872682323856613, \"dirs\": \"home_erm20k_lp_0103_allsteps,home_erm20k_fdn_lp_0103_allsteps,home_erm20k_fpacs_lp_0103_allsteps,home_erm20k_fvlcs_lp_0103_allsteps,home_erm20k_fterra_lp_0103_allsteps\", \"length\": 20, \"lengthf\": 20, \"step\": 17000, \"testenv\": 0, \"topk\": \"-4\", \"train_acc\": 0.8673508171797796, \"trialseed\": 0, \"printres\": \"&&\"})\n",
    "l[1].append({\"acc\": 0.6901524515863205, \"dirs\": \"home_erm20k_lp_0103_allsteps,home_erm20k_fdn_lp_0103_allsteps,home_erm20k_fpacs_lp_0103_allsteps,home_erm20k_fvlcs_lp_0103_allsteps,home_erm20k_fterra_lp_0103_allsteps\", \"length\": 20, \"lengthf\": 20, \"step\": 18000, \"testenv\": 0, \"topk\": \"-4\", \"train_acc\": 0.8696313188901559, \"trialseed\": 0, \"printres\": \"&&\"})\n",
    "l[1].append({\"acc\": 0.6831479192418624, \"dirs\": \"home_erm20k_lp_0103_allsteps,home_erm20k_fdn_lp_0103_allsteps,home_erm20k_fpacs_lp_0103_allsteps,home_erm20k_fvlcs_lp_0103_allsteps,home_erm20k_fterra_lp_0103_allsteps\", \"length\": 20, \"lengthf\": 20, \"step\": 19000, \"testenv\": 0, \"topk\": \"-4\", \"train_acc\": 0.8677309007981756, \"trialseed\": 0, \"printres\": \"&&\"})\n",
    "l[1].append({\"acc\": 0.681087762669963, \"dirs\": \"home_erm20k_lp_0103_allsteps,home_erm20k_fdn_lp_0103_allsteps,home_erm20k_fpacs_lp_0103_allsteps,home_erm20k_fvlcs_lp_0103_allsteps,home_erm20k_fterra_lp_0103_allsteps\", \"length\": 20, \"lengthf\": 20, \"step\": 20000, \"testenv\": 0, \"topk\": \"-4\", \"train_acc\": 0.8669707335613835, \"trialseed\": 0, \"printres\": \"&&\"})"
   ]
  },
  {
   "cell_type": "code",
   "execution_count": null,
   "id": "faf03ad7",
   "metadata": {},
   "outputs": [],
   "source": [
    "plot.MUL = 0\n",
    "plot.dict_key_to_label[\"acc\"] = \"OOD test acc. on domain \" + \"Art\"\n",
    "fig = plot.plot_key(\n",
    "    l,\n",
    "    labels=[\"Model soups\", \"Model ratatouille\"],\n",
    "    key1=\"step\",\n",
    "    key2=\"acc\",\n",
    "    #keyerror=\"divq_net_std\",\n",
    "    loc=\"lower right\",\n",
    "    order=\"2\",\n",
    "    list_indexes=[1, 0]\n",
    "    # diag=69.8,\n",
    "    # _dict_key_to_limit={\"acc\": [0.669, 0.70]}\n",
    ")\n",
    "plot.save_fig(fig, \"diwa/fig_diwa_step_\" + \"home0\" + \".pdf\")\n"
   ]
  },
  {
   "cell_type": "markdown",
   "id": "f94c89d7",
   "metadata": {},
   "source": [
    "# Diversity"
   ]
  },
  {
   "cell_type": "code",
   "execution_count": null,
   "id": "aaea1cc6",
   "metadata": {},
   "outputs": [],
   "source": [
    "plot.MUL = 0\n",
    "fig = plot.plot_key(\n",
    "    pacs0_div_imdn_step.l,\n",
    "    labels=pacs0_div_imdn_step.labels,\n",
    "    key1=\"step\",\n",
    "    key2=\"1-divq_net\",\n",
    "    keyclustering=\"step\",\n",
    "    #keyerror=\"divq_net_std\",\n",
    "    lambda_filtering=lambda x: x[\"step\"] != \"best\" and x[\"step\"] > 200 and x.get(\"testenv\", 0) == 0,\n",
    "    loc=\"lower right\",\n",
    "    order=\"1\",\n",
    "    list_indexes=[0, 1, 2]\n",
    ")\n",
    "# # plot.save_fig(fig, \"diwa/fig_dnim_step_dr_\" + \"terra0\" + \".pdf\")\n"
   ]
  },
  {
   "cell_type": "code",
   "execution_count": null,
   "id": "1bef94e5",
   "metadata": {},
   "outputs": [],
   "source": [
    "\n",
    "fig = plot.plot_key(\n",
    "    terra0_div_imdn_step.l,\n",
    "    labels=terra0_div_imdn_step.labels,\n",
    "    key1=\"step\",\n",
    "    key2=\"1-divq_net\",\n",
    "    keyclustering=\"step\",\n",
    "    #keyerror=\"divq_net_std\",\n",
    "    lambda_filtering=lambda x: x[\"step\"] != \"best\" and x[\"step\"] > 200 and x.get(\"testenv\", 0) == 0,\n",
    "    loc=\"lower right\",\n",
    "    order=\"1\",\n",
    "    list_indexes=[0, 1, 2]\n",
    ")\n",
    "# # plot.save_fig(fig, \"diwa/fig_dnim_step_dq_\" + \"terra0\" + \".pdf\")\n"
   ]
  },
  {
   "cell_type": "code",
   "execution_count": null,
   "id": "45a95031",
   "metadata": {},
   "outputs": [],
   "source": [
    "fig = plot.plot_key(\n",
    "    terra0_div_imdn_step.l,\n",
    "    labels=terra0_div_imdn_step.labels,\n",
    "    key1=\"acc_ens\",\n",
    "    key2=\"acc_wa\",\n",
    "    #key_clustering=\"step\",\n",
    "    #keyerror=\"divq_net_std\",\n",
    "    lambda_filtering=lambda x: x[\"step\"] != \"best\" and x[\"step\"] > 200 and x.get(\"testenv\", 0) == 0,\n",
    "    loc=\"upper left\",\n",
    "    order=0,\n",
    "    diag=True,\n",
    "    kwargs={\"alpha\": 0.5},\n",
    "    list_indexes=[0, 1, 2]\n",
    ")\n",
    "# # plot.save_fig(fig, \"diwa/fig_wa_vs_ens_terra0\" + \".pdf\")\n"
   ]
  },
  {
   "cell_type": "code",
   "execution_count": null,
   "id": "dfe6b440",
   "metadata": {},
   "outputs": [],
   "source": [
    "\n",
    "fig = plot.plot_key(\n",
    "    terra0_div_imdn_step.l,\n",
    "    labels=terra0_div_imdn_step.labels,\n",
    "    key1=\"divr_net\",\n",
    "    key2=\"acc_wa-acc_net\",\n",
    "    #key_clustering=\"step\",\n",
    "    #keyerror=\"divq_net_std\",\n",
    "    lambda_filtering=lambda x: x[\"step\"] != \"best\" and x[\"step\"] > 200 and x.get(\"testenv\", 0) == 0,\n",
    "    loc=\"upper left\",\n",
    "    order=0,\n",
    "    kwargs={\"alpha\": 0.5},\n",
    "    list_indexes=[0, 1, 2]    \n",
    ")\n",
    "# # plot.save_fig(fig, \"diwa/fig_dnim_dr_gain_terra0\" + \".pdf\")\n"
   ]
  },
  {
   "cell_type": "code",
   "execution_count": null,
   "id": "8495143d",
   "metadata": {},
   "outputs": [],
   "source": [
    "\n",
    "fig = plot.plot_key(\n",
    "    terra0_div_imdn_step.l,\n",
    "    labels=terra0_div_imdn_step.labels,\n",
    "    key1=\"1-divq_net\",\n",
    "    key2=\"acc_wa-acc_net\",\n",
    "    #key_clustering=\"step\",\n",
    "    #keyerror=\"divq_net_std\",\n",
    "    lambda_filtering=lambda x: x[\"step\"] != \"best\" and x[\"step\"] > 200 and x.get(\"testenv\", 0) == 0,\n",
    "    loc=\"upper left\",\n",
    "    order=0,\n",
    "    kwargs={\"alpha\": 0.5},\n",
    "    list_indexes=[0, 1, 2]    \n",
    ")\n",
    "# # plot.save_fig(fig, \"diwa/fig_dnim_dq_gain_terra0\" + \".pdf\")\n"
   ]
  },
  {
   "cell_type": "code",
   "execution_count": null,
   "id": "641b5970",
   "metadata": {},
   "outputs": [],
   "source": [
    "plot.plt.rcParams[\"figure.figsize\"] = (5, 5)\n",
    "plot.SIZE=\"large\"\n",
    "fig = plot.plot_histogram_two(\n",
    "    terra0_div_imdn_step.l,\n",
    "    labels=terra0_div_imdn_step.labels,\n",
    "    key1=\"train_divr_net\",\n",
    "    key2=\"divr_net\",\n",
    "    limits={},\n",
    "    lambda_filtering=lambda x: x[\"step\"] != \"best\" and x[\"step\"] > 200 and x.get(\"testenv\", 0) == 0,\n",
    "    list_indexes=[0, 1, 2]\n",
    ")\n",
    "# plot.save_fig(fig, \"diwa/fig_dnim_hist_driidood_terra0\" + \".pdf\")"
   ]
  },
  {
   "cell_type": "code",
   "execution_count": null,
   "id": "52f482d3",
   "metadata": {},
   "outputs": [],
   "source": [
    "fig = plot.plot_histogram_two(\n",
    "    terra0_div_imdn_step.l,\n",
    "    labels=terra0_div_imdn_step.labels,\n",
    "    key1=\"1-train_divq_net\",\n",
    "    key2=\"1-divq_net\",\n",
    "    limits={},\n",
    "    lambda_filtering=lambda x: x[\"step\"] != \"best\" and x[\"step\"] > 200 and x.get(\"testenv\", 0) == 0,\n",
    "    list_indexes=[0, 1, 2]\n",
    ")\n",
    "# plot.save_fig(fig, \"diwa/fig_dnim_hist_dqiidood_terra0\" + \".pdf\")"
   ]
  },
  {
   "cell_type": "code",
   "execution_count": null,
   "id": "726e89be",
   "metadata": {},
   "outputs": [],
   "source": [
    "labels = [\n",
    "    \"$\\kappa=0$ and $\\kappa=1$ (IM + DomainNet)\",\n",
    "    \"$\\kappa=0$ and $\\kappa=0.5$\",\n",
    "    \"$\\kappa=0.5$ and $\\kappa=1$\",\n",
    "    \"$\\kappa=0$ and $\\kappa=0$ (IM + IM)\",\n",
    "    \"$\\kappa=0.5$ and $\\kappa=0.5$\",\n",
    "    \"$\\kappa=1$ and $\\kappa=1$ (DomainNet + DomainNet)\",\n",
    "]"
   ]
  },
  {
   "cell_type": "code",
   "execution_count": null,
   "id": "a0bb02bd",
   "metadata": {},
   "outputs": [],
   "source": [
    "fig = plot.plot_histogram(\n",
    "    terra0_div_imdn_step.l,\n",
    "    labels=terra0_div_imdn_step.labels,\n",
    "    key=\"1-divq_net\",\n",
    "    limits={},\n",
    "    lambda_filtering=lambda x: x[\"step\"] != \"best\" and x[\"step\"] > 200 and x.get(\"testenv\", 0) == 0,\n",
    "    list_indexes=[1, 0, 2]\n",
    ")\n",
    "# plot.save_fig(fig, \"diwa/fig_dnim_hist_dq_terra0\" + \".pdf\")\n"
   ]
  },
  {
   "cell_type": "code",
   "execution_count": null,
   "id": "c8077215",
   "metadata": {},
   "outputs": [],
   "source": [
    "fig = plot.plot_histogram(\n",
    "    terra0_div_imdn_step.l,\n",
    "    labels=terra0_div_imdn_step.labels,\n",
    "    key=\"divr_net\",\n",
    "    limits={},\n",
    "    lambda_filtering=lambda x: x[\"step\"] != \"best\" and x[\"step\"] > 200 and x.get(\"testenv\", 0) == 0,\n",
    "    loc=\"lower left\",\n",
    "    list_indexes=[0, 1, 2]\n",
    ")\n",
    "# plot.save_fig(fig, \"diwa/fig_dnim_hist_dr_terra0\" + \".pdf\")\n"
   ]
  },
  {
   "cell_type": "code",
   "execution_count": null,
   "id": "56f95f66",
   "metadata": {},
   "outputs": [],
   "source": []
  }
 ],
 "metadata": {
  "kernelspec": {
   "display_name": "pytorch",
   "language": "python",
   "name": "python3"
  },
  "language_info": {
   "codemirror_mode": {
    "name": "ipython",
    "version": 3
   },
   "file_extension": ".py",
   "mimetype": "text/x-python",
   "name": "python",
   "nbconvert_exporter": "python",
   "pygments_lexer": "ipython3",
   "version": "3.7.10"
  },
  "vscode": {
   "interpreter": {
    "hash": "2456fd059d1db2d16326f1517749cd709a2b58ff57991f191467609bc73c6e5b"
   }
  }
 },
 "nbformat": 4,
 "nbformat_minor": 5
}
