{
 "cells": [
  {
   "cell_type": "code",
   "execution_count": 1,
   "metadata": {},
   "outputs": [],
   "source": [
    "import random"
   ]
  },
  {
   "cell_type": "code",
   "execution_count": null,
   "metadata": {},
   "outputs": [],
   "source": []
  },
  {
   "cell_type": "code",
   "execution_count": 11,
   "metadata": {},
   "outputs": [
    {
     "data": {
      "text/plain": [
       "[3, 2, 6, 5]"
      ]
     },
     "execution_count": 11,
     "metadata": {},
     "output_type": "execute_result"
    }
   ],
   "source": [
    "random.seed(0.1)\n",
    "random.sample(range(10), 4)"
   ]
  },
  {
   "cell_type": "code",
   "execution_count": 15,
   "metadata": {},
   "outputs": [],
   "source": [
    "s = \"{'corrupt_prop': 0.1, 'resnet_dropout': 0., 'data_augmentation': 0}\""
   ]
  },
  {
   "cell_type": "code",
   "execution_count": 16,
   "metadata": {},
   "outputs": [],
   "source": [
    "import json"
   ]
  },
  {
   "cell_type": "code",
   "execution_count": 1,
   "metadata": {},
   "outputs": [],
   "source": [
    "layer = 1"
   ]
  },
  {
   "cell_type": "code",
   "execution_count": 2,
   "metadata": {},
   "outputs": [],
   "source": [
    "named_parameters = [\n",
    "    'network.conv1.weight', 'network.bn1.weight', 'network.bn1.bias',\n",
    "    'network.layer1.0.conv1.weight', 'network.layer1.0.bn1.weight', 'network.layer1.0.bn1.bias',\n",
    "    'network.layer1.0.conv2.weight', 'network.layer1.0.bn2.weight', 'network.layer1.0.bn2.bias',\n",
    "    'network.layer1.0.conv3.weight', 'network.layer1.0.bn3.weight', 'network.layer1.0.bn3.bias',\n",
    "    'network.layer1.0.downsample.0.weight', 'network.layer1.0.downsample.1.weight',\n",
    "    'network.layer1.0.downsample.1.bias', 'network.layer1.1.conv1.weight',\n",
    "    'network.layer1.1.bn1.weight', 'network.layer1.1.bn1.bias', 'network.layer1.1.conv2.weight',\n",
    "    'network.layer1.1.bn2.weight', 'network.layer1.1.bn2.bias', 'network.layer1.1.conv3.weight',\n",
    "    'network.layer1.1.bn3.weight', 'network.layer1.1.bn3.bias', 'network.layer1.2.conv1.weight',\n",
    "    'network.layer1.2.bn1.weight', 'network.layer1.2.bn1.bias', 'network.layer1.2.conv2.weight',\n",
    "    'network.layer1.2.bn2.weight', 'network.layer1.2.bn2.bias', 'network.layer1.2.conv3.weight',\n",
    "    'network.layer1.2.bn3.weight', 'network.layer1.2.bn3.bias', 'network.layer2.0.conv1.weight',\n",
    "    'network.layer2.0.bn1.weight', 'network.layer2.0.bn1.bias', 'network.layer2.0.conv2.weight',\n",
    "    'network.layer2.0.bn2.weight', 'network.layer2.0.bn2.bias', 'network.layer2.0.conv3.weight',\n",
    "    'network.layer2.0.bn3.weight', 'network.layer2.0.bn3.bias',\n",
    "    'network.layer2.0.downsample.0.weight', 'network.layer2.0.downsample.1.weight',\n",
    "    'network.layer2.0.downsample.1.bias', 'network.layer2.1.conv1.weight',\n",
    "    'network.layer2.1.bn1.weight', 'network.layer2.1.bn1.bias', 'network.layer2.1.conv2.weight',\n",
    "    'network.layer2.1.bn2.weight', 'network.layer2.1.bn2.bias', 'network.layer2.1.conv3.weight',\n",
    "    'network.layer2.1.bn3.weight', 'network.layer2.1.bn3.bias', 'network.layer2.2.conv1.weight',\n",
    "    'network.layer2.2.bn1.weight', 'network.layer2.2.bn1.bias', 'network.layer2.2.conv2.weight',\n",
    "    'network.layer2.2.bn2.weight', 'network.layer2.2.bn2.bias', 'network.layer2.2.conv3.weight',\n",
    "    'network.layer2.2.bn3.weight', 'network.layer2.2.bn3.bias', 'network.layer2.3.conv1.weight',\n",
    "    'network.layer2.3.bn1.weight', 'network.layer2.3.bn1.bias', 'network.layer2.3.conv2.weight',\n",
    "    'network.layer2.3.bn2.weight', 'network.layer2.3.bn2.bias', 'network.layer2.3.conv3.weight',\n",
    "    'network.layer2.3.bn3.weight', 'network.layer2.3.bn3.bias', 'network.layer3.0.conv1.weight',\n",
    "    'network.layer3.0.bn1.weight', 'network.layer3.0.bn1.bias', 'network.layer3.0.conv2.weight',\n",
    "    'network.layer3.0.bn2.weight', 'network.layer3.0.bn2.bias', 'network.layer3.0.conv3.weight',\n",
    "    'network.layer3.0.bn3.weight', 'network.layer3.0.bn3.bias',\n",
    "    'network.layer3.0.downsample.0.weight', 'network.layer3.0.downsample.1.weight',\n",
    "    'network.layer3.0.downsample.1.bias', 'network.layer3.1.conv1.weight',\n",
    "    'network.layer3.1.bn1.weight', 'network.layer3.1.bn1.bias', 'network.layer3.1.conv2.weight',\n",
    "    'network.layer3.1.bn2.weight', 'network.layer3.1.bn2.bias', 'network.layer3.1.conv3.weight',\n",
    "    'network.layer3.1.bn3.weight', 'network.layer3.1.bn3.bias', 'network.layer3.2.conv1.weight',\n",
    "    'network.layer3.2.bn1.weight', 'network.layer3.2.bn1.bias', 'network.layer3.2.conv2.weight',\n",
    "    'network.layer3.2.bn2.weight', 'network.layer3.2.bn2.bias', 'network.layer3.2.conv3.weight',\n",
    "    'network.layer3.2.bn3.weight', 'network.layer3.2.bn3.bias', 'network.layer3.3.conv1.weight',\n",
    "    'network.layer3.3.bn1.weight', 'network.layer3.3.bn1.bias', 'network.layer3.3.conv2.weight',\n",
    "    'network.layer3.3.bn2.weight', 'network.layer3.3.bn2.bias', 'network.layer3.3.conv3.weight',\n",
    "    'network.layer3.3.bn3.weight', 'network.layer3.3.bn3.bias', 'network.layer3.4.conv1.weight',\n",
    "    'network.layer3.4.bn1.weight', 'network.layer3.4.bn1.bias', 'network.layer3.4.conv2.weight',\n",
    "    'network.layer3.4.bn2.weight', 'network.layer3.4.bn2.bias', 'network.layer3.4.conv3.weight',\n",
    "    'network.layer3.4.bn3.weight', 'network.layer3.4.bn3.bias', 'network.layer3.5.conv1.weight',\n",
    "    'network.layer3.5.bn1.weight', 'network.layer3.5.bn1.bias', 'network.layer3.5.conv2.weight',\n",
    "    'network.layer3.5.bn2.weight', 'network.layer3.5.bn2.bias', 'network.layer3.5.conv3.weight',\n",
    "    'network.layer3.5.bn3.weight', 'network.layer3.5.bn3.bias', 'network.layer4.0.conv1.weight',\n",
    "    'network.layer4.0.bn1.weight', 'network.layer4.0.bn1.bias', 'network.layer4.0.conv2.weight',\n",
    "    'network.layer4.0.bn2.weight', 'network.layer4.0.bn2.bias', 'network.layer4.0.conv3.weight',\n",
    "    'network.layer4.0.bn3.weight', 'network.layer4.0.bn3.bias',\n",
    "    'network.layer4.0.downsample.0.weight', 'network.layer4.0.downsample.1.weight',\n",
    "    'network.layer4.0.downsample.1.bias', 'network.layer4.1.conv1.weight',\n",
    "    'network.layer4.1.bn1.weight', 'network.layer4.1.bn1.bias', 'network.layer4.1.conv2.weight',\n",
    "    'network.layer4.1.bn2.weight', 'network.layer4.1.bn2.bias', 'network.layer4.1.conv3.weight',\n",
    "    'network.layer4.1.bn3.weight', 'network.layer4.1.bn3.bias', 'network.layer4.2.conv1.weight',\n",
    "    'network.layer4.2.bn1.weight', 'network.layer4.2.bn1.bias', 'network.layer4.2.conv2.weight',\n",
    "    'network.layer4.2.bn2.weight', 'network.layer4.2.bn2.bias', 'network.layer4.2.conv3.weight',\n",
    "    'network.layer4.2.bn3.weight', 'network.layer4.2.bn3.bias'\n",
    "]\n"
   ]
  },
  {
   "cell_type": "code",
   "execution_count": 8,
   "metadata": {},
   "outputs": [],
   "source": [
    "    training_parameters = [\n",
    "        n for n in named_parameters\n",
    "        if not(n.startswith(\"network.layer\") and int(n.split(\".\")[1][-1]) >= 2)\n",
    "    ]"
   ]
  },
  {
   "cell_type": "code",
   "execution_count": 9,
   "metadata": {},
   "outputs": [
    {
     "data": {
      "text/plain": [
       "['network.conv1.weight',\n",
       " 'network.bn1.weight',\n",
       " 'network.bn1.bias',\n",
       " 'network.layer1.0.conv1.weight',\n",
       " 'network.layer1.0.bn1.weight',\n",
       " 'network.layer1.0.bn1.bias',\n",
       " 'network.layer1.0.conv2.weight',\n",
       " 'network.layer1.0.bn2.weight',\n",
       " 'network.layer1.0.bn2.bias',\n",
       " 'network.layer1.0.conv3.weight',\n",
       " 'network.layer1.0.bn3.weight',\n",
       " 'network.layer1.0.bn3.bias',\n",
       " 'network.layer1.0.downsample.0.weight',\n",
       " 'network.layer1.0.downsample.1.weight',\n",
       " 'network.layer1.0.downsample.1.bias',\n",
       " 'network.layer1.1.conv1.weight',\n",
       " 'network.layer1.1.bn1.weight',\n",
       " 'network.layer1.1.bn1.bias',\n",
       " 'network.layer1.1.conv2.weight',\n",
       " 'network.layer1.1.bn2.weight',\n",
       " 'network.layer1.1.bn2.bias',\n",
       " 'network.layer1.1.conv3.weight',\n",
       " 'network.layer1.1.bn3.weight',\n",
       " 'network.layer1.1.bn3.bias',\n",
       " 'network.layer1.2.conv1.weight',\n",
       " 'network.layer1.2.bn1.weight',\n",
       " 'network.layer1.2.bn1.bias',\n",
       " 'network.layer1.2.conv2.weight',\n",
       " 'network.layer1.2.bn2.weight',\n",
       " 'network.layer1.2.bn2.bias',\n",
       " 'network.layer1.2.conv3.weight',\n",
       " 'network.layer1.2.bn3.weight',\n",
       " 'network.layer1.2.bn3.bias']"
      ]
     },
     "execution_count": 9,
     "metadata": {},
     "output_type": "execute_result"
    }
   ],
   "source": [
    "training_parameters"
   ]
  },
  {
   "cell_type": "code",
   "execution_count": 21,
   "metadata": {},
   "outputs": [
    {
     "ename": "JSONDecodeError",
     "evalue": "Expecting ',' delimiter: line 1 column 42 (char 41)",
     "output_type": "error",
     "traceback": [
      "\u001b[0;31m---------------------------------------------------------------------------\u001b[0m",
      "\u001b[0;31mJSONDecodeError\u001b[0m                           Traceback (most recent call last)",
      "\u001b[0;32m/tmp/ipykernel_2529030/1296567853.py\u001b[0m in \u001b[0;36m<module>\u001b[0;34m\u001b[0m\n\u001b[1;32m      1\u001b[0m \u001b[0ms\u001b[0m \u001b[0;34m=\u001b[0m \u001b[0;34m'{\"corrupt_prop\": 0.1, \"resnet_dropout\": 0.}'\u001b[0m\u001b[0;34m\u001b[0m\u001b[0;34m\u001b[0m\u001b[0m\n\u001b[0;32m----> 2\u001b[0;31m \u001b[0mjson\u001b[0m\u001b[0;34m.\u001b[0m\u001b[0mloads\u001b[0m\u001b[0;34m(\u001b[0m\u001b[0ms\u001b[0m\u001b[0;34m)\u001b[0m\u001b[0;34m\u001b[0m\u001b[0;34m\u001b[0m\u001b[0m\n\u001b[0m",
      "\u001b[0;32m~/.conda/envs/pytorch/lib/python3.7/json/__init__.py\u001b[0m in \u001b[0;36mloads\u001b[0;34m(s, encoding, cls, object_hook, parse_float, parse_int, parse_constant, object_pairs_hook, **kw)\u001b[0m\n\u001b[1;32m    346\u001b[0m             \u001b[0mparse_int\u001b[0m \u001b[0;32mis\u001b[0m \u001b[0;32mNone\u001b[0m \u001b[0;32mand\u001b[0m \u001b[0mparse_float\u001b[0m \u001b[0;32mis\u001b[0m \u001b[0;32mNone\u001b[0m \u001b[0;32mand\u001b[0m\u001b[0;34m\u001b[0m\u001b[0;34m\u001b[0m\u001b[0m\n\u001b[1;32m    347\u001b[0m             parse_constant is None and object_pairs_hook is None and not kw):\n\u001b[0;32m--> 348\u001b[0;31m         \u001b[0;32mreturn\u001b[0m \u001b[0m_default_decoder\u001b[0m\u001b[0;34m.\u001b[0m\u001b[0mdecode\u001b[0m\u001b[0;34m(\u001b[0m\u001b[0ms\u001b[0m\u001b[0;34m)\u001b[0m\u001b[0;34m\u001b[0m\u001b[0;34m\u001b[0m\u001b[0m\n\u001b[0m\u001b[1;32m    349\u001b[0m     \u001b[0;32mif\u001b[0m \u001b[0mcls\u001b[0m \u001b[0;32mis\u001b[0m \u001b[0;32mNone\u001b[0m\u001b[0;34m:\u001b[0m\u001b[0;34m\u001b[0m\u001b[0;34m\u001b[0m\u001b[0m\n\u001b[1;32m    350\u001b[0m         \u001b[0mcls\u001b[0m \u001b[0;34m=\u001b[0m \u001b[0mJSONDecoder\u001b[0m\u001b[0;34m\u001b[0m\u001b[0;34m\u001b[0m\u001b[0m\n",
      "\u001b[0;32m~/.conda/envs/pytorch/lib/python3.7/json/decoder.py\u001b[0m in \u001b[0;36mdecode\u001b[0;34m(self, s, _w)\u001b[0m\n\u001b[1;32m    335\u001b[0m \u001b[0;34m\u001b[0m\u001b[0m\n\u001b[1;32m    336\u001b[0m         \"\"\"\n\u001b[0;32m--> 337\u001b[0;31m         \u001b[0mobj\u001b[0m\u001b[0;34m,\u001b[0m \u001b[0mend\u001b[0m \u001b[0;34m=\u001b[0m \u001b[0mself\u001b[0m\u001b[0;34m.\u001b[0m\u001b[0mraw_decode\u001b[0m\u001b[0;34m(\u001b[0m\u001b[0ms\u001b[0m\u001b[0;34m,\u001b[0m \u001b[0midx\u001b[0m\u001b[0;34m=\u001b[0m\u001b[0m_w\u001b[0m\u001b[0;34m(\u001b[0m\u001b[0ms\u001b[0m\u001b[0;34m,\u001b[0m \u001b[0;36m0\u001b[0m\u001b[0;34m)\u001b[0m\u001b[0;34m.\u001b[0m\u001b[0mend\u001b[0m\u001b[0;34m(\u001b[0m\u001b[0;34m)\u001b[0m\u001b[0;34m)\u001b[0m\u001b[0;34m\u001b[0m\u001b[0;34m\u001b[0m\u001b[0m\n\u001b[0m\u001b[1;32m    338\u001b[0m         \u001b[0mend\u001b[0m \u001b[0;34m=\u001b[0m \u001b[0m_w\u001b[0m\u001b[0;34m(\u001b[0m\u001b[0ms\u001b[0m\u001b[0;34m,\u001b[0m \u001b[0mend\u001b[0m\u001b[0;34m)\u001b[0m\u001b[0;34m.\u001b[0m\u001b[0mend\u001b[0m\u001b[0;34m(\u001b[0m\u001b[0;34m)\u001b[0m\u001b[0;34m\u001b[0m\u001b[0;34m\u001b[0m\u001b[0m\n\u001b[1;32m    339\u001b[0m         \u001b[0;32mif\u001b[0m \u001b[0mend\u001b[0m \u001b[0;34m!=\u001b[0m \u001b[0mlen\u001b[0m\u001b[0;34m(\u001b[0m\u001b[0ms\u001b[0m\u001b[0;34m)\u001b[0m\u001b[0;34m:\u001b[0m\u001b[0;34m\u001b[0m\u001b[0;34m\u001b[0m\u001b[0m\n",
      "\u001b[0;32m~/.conda/envs/pytorch/lib/python3.7/json/decoder.py\u001b[0m in \u001b[0;36mraw_decode\u001b[0;34m(self, s, idx)\u001b[0m\n\u001b[1;32m    351\u001b[0m         \"\"\"\n\u001b[1;32m    352\u001b[0m         \u001b[0;32mtry\u001b[0m\u001b[0;34m:\u001b[0m\u001b[0;34m\u001b[0m\u001b[0;34m\u001b[0m\u001b[0m\n\u001b[0;32m--> 353\u001b[0;31m             \u001b[0mobj\u001b[0m\u001b[0;34m,\u001b[0m \u001b[0mend\u001b[0m \u001b[0;34m=\u001b[0m \u001b[0mself\u001b[0m\u001b[0;34m.\u001b[0m\u001b[0mscan_once\u001b[0m\u001b[0;34m(\u001b[0m\u001b[0ms\u001b[0m\u001b[0;34m,\u001b[0m \u001b[0midx\u001b[0m\u001b[0;34m)\u001b[0m\u001b[0;34m\u001b[0m\u001b[0;34m\u001b[0m\u001b[0m\n\u001b[0m\u001b[1;32m    354\u001b[0m         \u001b[0;32mexcept\u001b[0m \u001b[0mStopIteration\u001b[0m \u001b[0;32mas\u001b[0m \u001b[0merr\u001b[0m\u001b[0;34m:\u001b[0m\u001b[0;34m\u001b[0m\u001b[0;34m\u001b[0m\u001b[0m\n\u001b[1;32m    355\u001b[0m             \u001b[0;32mraise\u001b[0m \u001b[0mJSONDecodeError\u001b[0m\u001b[0;34m(\u001b[0m\u001b[0;34m\"Expecting value\"\u001b[0m\u001b[0;34m,\u001b[0m \u001b[0ms\u001b[0m\u001b[0;34m,\u001b[0m \u001b[0merr\u001b[0m\u001b[0;34m.\u001b[0m\u001b[0mvalue\u001b[0m\u001b[0;34m)\u001b[0m \u001b[0;32mfrom\u001b[0m \u001b[0;32mNone\u001b[0m\u001b[0;34m\u001b[0m\u001b[0;34m\u001b[0m\u001b[0m\n",
      "\u001b[0;31mJSONDecodeError\u001b[0m: Expecting ',' delimiter: line 1 column 42 (char 41)"
     ]
    }
   ],
   "source": [
    "s = '{\"corrupt_prop\": 0.1, \"resnet_dropout\": 0.}'\n",
    "json.loads(s)"
   ]
  },
  {
   "cell_type": "code",
   "execution_count": null,
   "metadata": {},
   "outputs": [],
   "source": []
  }
 ],
 "metadata": {
  "kernelspec": {
   "display_name": "Python 3",
   "language": "python",
   "name": "python3"
  },
  "language_info": {
   "codemirror_mode": {
    "name": "ipython",
    "version": 3
   },
   "file_extension": ".py",
   "mimetype": "text/x-python",
   "name": "python",
   "nbconvert_exporter": "python",
   "pygments_lexer": "ipython3",
   "version": "3.7.10"
  },
  "orig_nbformat": 4,
  "vscode": {
   "interpreter": {
    "hash": "c2f007bb438f1f0ac6ac2cdf8fe0d10d13748d7e99ce09d161672c77ac01ae60"
   }
  }
 },
 "nbformat": 4,
 "nbformat_minor": 2
}
