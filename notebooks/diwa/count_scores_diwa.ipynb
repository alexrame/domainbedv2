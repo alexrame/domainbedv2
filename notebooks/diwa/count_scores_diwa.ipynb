{
 "cells": [
  {
   "cell_type": "code",
   "execution_count": 20,
   "id": "a3d07973",
   "metadata": {},
   "outputs": [],
   "source": [
    "import numpy as np\n",
    "def clean(l, skip=0, std=0):\n",
    "    dwa = [float(x.split(\"/\")[0].split(\"$\\pm$\")[std].split(\"&\")[0].replace(\"\\\\underline{\", \"\").replace(\"\\\\textbf{\", \"\").replace(\"}\", \"\")) for x in l.split(\"&\")[skip:]]\n",
    "    return dwa\n",
    "  \n",
    "def mc(l):\n",
    "    return mean(clean(l))\n",
    "\n",
    "def mcs(l):\n",
    "    return str(mean(clean(l))) + \" $\\\\pm$ \" + str(mean(clean(l, std=1)))\n",
    "\n",
    "def av(l, skip=1, add_m=False, factor=1, prec=1, add_std=True, str_join=\" & \"):\n",
    "    l = l.replace(\"\\\\\", \"\").strip()\n",
    "    clean_l = [clean(ll.strip(), skip=skip) for ll in l.split(\"\\n\")]\n",
    "    if add_m:\n",
    "        for i in range(len(clean_l)):\n",
    "            clean_l[i].append(mean(clean_l[i]))\n",
    "        #print(clean_l)\n",
    "    clean_l = [[factor * ll for ll in l] for l in clean_l]\n",
    "    row = [mean(ll) for ll in zip(*clean_l)]\n",
    "    def format_val(x, e):\n",
    "        if np.issubdtype(type(x), np.floating):\n",
    "            if prec == 2:\n",
    "                x = \"{:.2f}\".format(x)\n",
    "            else:\n",
    "                x = \"{:.1f}\".format(x)\n",
    "        if np.issubdtype(type(e), np.floating):\n",
    "            e = \"{:.1f}\".format(e)\n",
    "        if add_std:\n",
    "            return str(x) + \" $\\\\pm$ \" + str(e)\n",
    "        else:\n",
    "            return str(x)\n",
    "    err = [np.std(list(ll) / np.sqrt(len(ll))) for ll in zip(*clean_l)]\n",
    "    #print(str_join.join([format_val(r, e) for r, e in zip(row, err)]), \"\\\\\\\\\")\n",
    "    return str_join.join([format_val(r, e) for r, e in zip(row, err)])\n",
    "    "
   ]
  },
  {
   "cell_type": "code",
   "execution_count": 21,
   "id": "4b37b280",
   "metadata": {},
   "outputs": [],
   "source": [
    "l=\"\"\"D_LP                  & 0.5770934402024889 &    0.49373459326212 &      0.6045340050377834 &    0.3950365459799422\n",
    "D_LPLW                & 0.5751951065176123 &    0.4760682004930156 &    0.5994962216624685 &    0.4263131055583886\n",
    "DMA_LPLW              & 0.5819447373971736 &    0.4870583401807724 &    0.620654911838791 &     0.4475607683154853\n",
    "D_LP LPLW 40          & 0.582999367222105 &     0.4927074774034511 &    0.6022670025188916 &    0.40013598504164544\n",
    "D_LP LPLW top10       & 0.5758278844 &          0.4976376335 &          0.6012594458 &          0.4190039096\"\"\""
   ]
  },
  {
   "cell_type": "code",
   "execution_count": 23,
   "id": "62e60374",
   "metadata": {},
   "outputs": [],
   "source": [
    "l=\"\"\"D_LP                 & 0.680675731355583       & 0.5883161512027492 &       0.8001802207704438 &    0.8212072526968097\n",
    "D_LPLW               & 0.6967449526163988      & 0.6444444444444445 &       0.808740707366524 &     0.82419095708056\n",
    "DMA_LPLW             & 0.695920889987639       & 0.6442153493699886 &       0.8091912592926335 &    0.8276336929079642 \n",
    "D_LP LPLW 40         & 0.6971569839307787      & 0.6217640320733104 &       0.8105429150709619 &    0.8315354601790222\n",
    "D_LP LPLW 10         & 0.7008652657601978      & 0.618327605956472 &        0.8080648794773597 &    0.8296993344044067\n",
    "D_LP LPLW LPWL 7     & 0.6996291718170581      & 0.629553264604811 &        0.8118945708492904 &    0.8287812715170989\"\"\""
   ]
  },
  {
   "cell_type": "code",
   "execution_count": 27,
   "id": "f3ce3822",
   "metadata": {},
   "outputs": [],
   "source": [
    "l=\"\"\"D_LP                  & 0.9908127208480565 &    0.620105421686747 &     0.7282145033516149 &    0.7923578199052133\n",
    "D_LPLW                & 0.9886925795053003 &    0.6223644578313253 &    0.7230347349177331 &    0.784952606635071\n",
    "DMA_LPLW              & 0.9872791519434629 &    0.6110692771084337 &    0.7276051188299817 &    0.7991706161137441    \n",
    "D_LP LPLW 40          & 0.9901060070671378 &    0.6174698795180723 &    0.7309567336989641 &    0.7899881516587678\n",
    "D_LP LPLW top10       & 0.9893992932862191 &    0.6140813253012049 &    0.7263863497867155 &    0.7932464454976303\"\"\""
   ]
  },
  {
   "cell_type": "code",
   "execution_count": 31,
   "id": "0f2e8507",
   "metadata": {},
   "outputs": [],
   "source": [
    "l=\"\"\"D                   & 0.6979810465595385 &0.6238258877434135 & 0.8123451227753998 &  0.8352077117282534\"\"\""
   ]
  },
  {
   "cell_type": "code",
   "execution_count": 32,
   "id": "68e872ee",
   "metadata": {},
   "outputs": [
    {
     "name": "stdout",
     "output_type": "stream",
     "text": [
      "69.8 & 62.4 & 81.2 & 83.5 & 74.2\n"
     ]
    }
   ],
   "source": [
    "for m in l.split(\"\\n\"):\n",
    "    print(av(m, add_m=True, factor=100, add_std=False, ))"
   ]
  },
  {
   "cell_type": "code",
   "execution_count": 5,
   "id": "4fa43c5d",
   "metadata": {},
   "outputs": [
    {
     "name": "stdout",
     "output_type": "stream",
     "text": [
      "[[0.5770934402024889, 0.49373459326212, 0.6045340050377834, 0.3950365459799422, 0.5175996461205836], [0.5751951065176123, 0.4760682004930156, 0.5994962216624685, 0.4263131055583886, 0.5192681585578712], [0.5819447373971736, 0.4870583401807724, 0.620654911838791, 0.4475607683154853, 0.5343046894330555], [0.582999367222105, 0.4927074774034511, 0.6022670025188916, 0.40013598504164544, 0.5195274580465233], [0.5758278844, 0.4976376335, 0.6012594458, 0.4190039096, 0.523432218325]]\n",
      "57.9 & 48.9 & 60.6 & 41.8 & 52.3 \\\\\n"
     ]
    }
   ],
   "source": []
  },
  {
   "cell_type": "code",
   "execution_count": null,
   "id": "cebf5927",
   "metadata": {},
   "outputs": [],
   "source": [
    "mc(\"\")"
   ]
  },
  {
   "cell_type": "code",
   "execution_count": 6,
   "id": "d938ab01",
   "metadata": {},
   "outputs": [
    {
     "data": {
      "text/plain": [
       "53.975"
      ]
     },
     "execution_count": 6,
     "metadata": {},
     "output_type": "execute_result"
    }
   ],
   "source": [
    "mc(\"63.4           & 49.3                    & 59.7                    & 43.5                           \")"
   ]
  },
  {
   "cell_type": "code",
   "execution_count": 7,
   "id": "37decad7",
   "metadata": {},
   "outputs": [
    {
     "data": {
      "text/plain": [
       "90.425"
      ]
     },
     "execution_count": 7,
     "metadata": {},
     "output_type": "execute_result"
    }
   ],
   "source": [
    "mc(\"91.7 & 84.8 & 99.1 & 86.1\")"
   ]
  },
  {
   "cell_type": "code",
   "execution_count": 8,
   "id": "b124c893",
   "metadata": {},
   "outputs": [
    {
     "name": "stdout",
     "output_type": "stream",
     "text": [
      "58.7 & 42.4 & 55.9 & 42.0 & 49.75\n",
      "57.7 & 49.4 & 60.5 & 39.5 & 51.775\n",
      "48.8 & 36.7 & 51.5 & 38.9 & 43.975\n",
      "47.8 & 37.7 & 52.5 & 37.9 & 43.975\n",
      "57.6 & 42.6 & 57.0 & 42.0 & 49.8\n",
      "57.7 & 49.4 & 60.5 & 39.2 & 51.7\n"
     ]
    }
   ],
   "source": [
    "for l in [\"58.7 & 42.4 & 55.9 & 42.0\", \"57.7 & 49.4 & 60.5 & 39.5\", \"48.8 & 36.7 & 51.5 & 38.9\", \"47.8 & 37.7 & 52.5 & 37.9\", \"57.6 & 42.6 & 57.0 & 42.0\", \"57.7 & 49.4 & 60.5 & 39.2\"]:\n",
    "    print(l, \"&\", mc(l))"
   ]
  },
  {
   "cell_type": "code",
   "execution_count": 13,
   "id": "ccfc5715",
   "metadata": {},
   "outputs": [],
   "source": [
    "l=\"\"\"0.8020618557 & 0.9953656025 & 0.7320410490 & 0.8144329897 & 0.9943357364 & 0.7134169517 & 0.7711340206 & 0.9948506694 & 0.5822881034\n",
    "0.8206185567 & 0.9958805355 & 0.7506651463 & 0.8185567010 & 0.9953656025 & 0.7020144432 & 0.7855670103 & 0.9938208033 & 0.5910300266\n",
    "0.8206185567 & 0.9938208033 & 0.7464842265 & 0.8226804124 & 0.9943357364 & 0.7335613835 & 0.7773195876 & 0.9948506694 & 0.5963511973\"\"\""
   ]
  },
  {
   "cell_type": "code",
   "execution_count": 14,
   "id": "7c0ffca5",
   "metadata": {},
   "outputs": [
    {
     "name": "stdout",
     "output_type": "stream",
     "text": [
      "81.4/99.5/74.3/81.9/99.5/71.6/77.8/99.5/59.0 \\\\\n"
     ]
    }
   ],
   "source": [
    "av(l, skip=0, add_m=False, factor=100, add_std=False, str_join=\"/\")"
   ]
  },
  {
   "cell_type": "code",
   "execution_count": 15,
   "id": "3eba3d54",
   "metadata": {},
   "outputs": [
    {
     "data": {
      "text/plain": [
       "91.85"
      ]
     },
     "execution_count": 15,
     "metadata": {},
     "output_type": "execute_result"
    }
   ],
   "source": [
    "mc(\"91.4           & 89.8           & 98.8           & 87.4\")"
   ]
  },
  {
   "cell_type": "code",
   "execution_count": 19,
   "id": "4171cc33",
   "metadata": {},
   "outputs": [
    {
     "data": {
      "text/plain": [
       "89.65"
      ]
     },
     "execution_count": 19,
     "metadata": {},
     "output_type": "execute_result"
    }
   ],
   "source": [
    "mc(\"91.3           & 83.7           & 99.1           & 84.5\")"
   ]
  },
  {
   "cell_type": "code",
   "execution_count": 18,
   "id": "8fb8a2bb",
   "metadata": {},
   "outputs": [
    {
     "data": {
      "text/plain": [
       "90.125"
      ]
     },
     "execution_count": 18,
     "metadata": {},
     "output_type": "execute_result"
    }
   ],
   "source": [
    "mc(\"91.2           & 84.0           & 99.1           & 86.2\")"
   ]
  },
  {
   "cell_type": "code",
   "execution_count": 17,
   "id": "f555d1db",
   "metadata": {},
   "outputs": [
    {
     "data": {
      "text/plain": [
       "88.575"
      ]
     },
     "execution_count": 17,
     "metadata": {},
     "output_type": "execute_result"
    }
   ],
   "source": [
    "mc(\"90.4           & 82.7           & 98.7           & 82.5\")"
   ]
  },
  {
   "cell_type": "code",
   "execution_count": 16,
   "id": "c11d11ce",
   "metadata": {},
   "outputs": [
    {
     "data": {
      "text/plain": [
       "92.6"
      ]
     },
     "execution_count": 16,
     "metadata": {},
     "output_type": "execute_result"
    }
   ],
   "source": [
    "mc(\"93.5           & 90.2           & 98.5           & 88.2\")"
   ]
  },
  {
   "cell_type": "code",
   "execution_count": 13,
   "id": "50f7aff3",
   "metadata": {},
   "outputs": [
    {
     "data": {
      "text/plain": [
       "75.35"
      ]
     },
     "execution_count": 13,
     "metadata": {},
     "output_type": "execute_result"
    }
   ],
   "source": [
    "mc(\"69.4             & 68.6             & 81.3                       & 82.1\")"
   ]
  },
  {
   "cell_type": "code",
   "execution_count": 12,
   "id": "ae74642d",
   "metadata": {},
   "outputs": [
    {
     "data": {
      "text/plain": [
       "73.75"
      ]
     },
     "execution_count": 12,
     "metadata": {},
     "output_type": "execute_result"
    }
   ],
   "source": [
    "mc(\"67.9             & 66.6             & 79.2                       & 81.3\")"
   ]
  },
  {
   "cell_type": "code",
   "execution_count": 6,
   "id": "18bf863b",
   "metadata": {},
   "outputs": [
    {
     "data": {
      "text/plain": [
       "74.65"
      ]
     },
     "execution_count": 6,
     "metadata": {},
     "output_type": "execute_result"
    }
   ],
   "source": [
    "mean([70.5, 67.4, 79.5, 81.2])"
   ]
  },
  {
   "cell_type": "code",
   "execution_count": 10,
   "id": "17126c8e",
   "metadata": {},
   "outputs": [
    {
     "data": {
      "text/plain": [
       "69.875"
      ]
     },
     "execution_count": 10,
     "metadata": {},
     "output_type": "execute_result"
    }
   ],
   "source": [
    "mc(\"64.5             & 55.3             & 79.5             & 80.2\")"
   ]
  },
  {
   "cell_type": "code",
   "execution_count": 9,
   "id": "a31ffde7",
   "metadata": {},
   "outputs": [
    {
     "data": {
      "text/plain": [
       "74.65"
      ]
     },
     "execution_count": 9,
     "metadata": {},
     "output_type": "execute_result"
    }
   ],
   "source": [
    "mc(l)"
   ]
  },
  {
   "cell_type": "code",
   "execution_count": 7,
   "id": "4be27e11",
   "metadata": {},
   "outputs": [
    {
     "data": {
      "text/plain": [
       "75.60000000000001"
      ]
     },
     "execution_count": 7,
     "metadata": {},
     "output_type": "execute_result"
    }
   ],
   "source": [
    "mc(l)"
   ]
  },
  {
   "cell_type": "code",
   "execution_count": 8,
   "id": "85e8f23e",
   "metadata": {},
   "outputs": [],
   "source": [
    "l=\"\"\"70.5           & 67.4           & 79.5           & 81.2\"\"\""
   ]
  },
  {
   "cell_type": "code",
   "execution_count": null,
   "id": "78315378",
   "metadata": {},
   "outputs": [],
   "source": []
  },
  {
   "cell_type": "code",
   "execution_count": null,
   "id": "c29d42b5",
   "metadata": {},
   "outputs": [],
   "source": [
    "l=\"\"\"            t0 & 0.67151 & 0.23 & 0.55415 & 0.16466 & 0.68257 & 0.559 \\\\\n",
    "            t1 & 0.66552 & 0.23 & 0.55416 & 0.16584 & 0.68200 & 0.559 \\\\\n",
    "            t2 & 0.66498 & 0.23 & 0.55173 & 0.15763 & 0.68221 & 0.559 \\\\\"\"\""
   ]
  },
  {
   "cell_type": "code",
   "execution_count": null,
   "id": "1d049a6f",
   "metadata": {},
   "outputs": [],
   "source": [
    "l=\"\"\"            % t0 & 0.67151 & 0.23195 & 0.55415 & 0.16466 & 0.68257 & 0.56144 \\\\\n",
    "            % t1 & 0.66552 & 0.23664 & 0.55416 & 0.16584 & 0.68200 & 0.56144 \\\\\n",
    "            % t2 & 0.66498 & 0.23017 & 0.55173 & 0.15763 & 0.68221 & 0.56144 \\\\\"\"\""
   ]
  },
  {
   "cell_type": "code",
   "execution_count": null,
   "id": "b685ca7a",
   "metadata": {},
   "outputs": [],
   "source": [
    "l=\"\"\"            % t0 & 0.67151 & 0.23195 & 0.55415 & 0.16466 & 0.68257 & 0.56144 \\\\\n",
    "            % t1 & 0.66552 & 0.23664 & 0.55416 & 0.16584 & 0.68200 & 0.56332 \\\\\n",
    "            % t2 & 0.66498 & 0.23017 & 0.55173 & 0.15763 & 0.68221 & 0.56031 \\\\\"\"\""
   ]
  },
  {
   "cell_type": "code",
   "execution_count": null,
   "id": "44c5edc6",
   "metadata": {},
   "outputs": [],
   "source": [
    "mc(\"88.0 $\\pm$ 0.3 & 78.5 $\\pm$ 0.1             & 71.5 $\\pm$ 0.2             & \\\\underline{51.6} $\\pm$ 0.9 & \\\\textbf{47.7}\")"
   ]
  },
  {
   "cell_type": "code",
   "execution_count": 11,
   "id": "7e6572c5",
   "metadata": {},
   "outputs": [
    {
     "data": {
      "text/plain": [
       "72.25"
      ]
     },
     "execution_count": 11,
     "metadata": {},
     "output_type": "execute_result"
    }
   ],
   "source": [
    "mc(\"68.1             & 58.8             & 80.0             & 82.1\")"
   ]
  },
  {
   "cell_type": "code",
   "execution_count": null,
   "id": "35c0197c",
   "metadata": {},
   "outputs": [],
   "source": [
    "av(l, add_m=True, factor=100, skip=1, prec=1)"
   ]
  },
  {
   "cell_type": "code",
   "execution_count": null,
   "id": "644a57b8",
   "metadata": {},
   "outputs": [],
   "source": [
    "l=\"\"\"98.6 & 62.6 & 72.5 & 78.3\n",
    "99.1 & 62.6 & 73.1 & 77.4\n",
    "98.7 & 63.3 & 73.9 & 77.3\"\"\""
   ]
  },
  {
   "cell_type": "code",
   "execution_count": null,
   "id": "0c47a9e9",
   "metadata": {},
   "outputs": [],
   "source": [
    "{e0_acc_soup: 90.7, gpu: 0, length: 20}\n",
    "{e0_acc_soup: 89.8, gpu: 0, length: 20}\n",
    "{e0_acc_soup: 90.5, gpu: 0, length: 20}"
   ]
  },
  {
   "cell_type": "code",
   "execution_count": null,
   "id": "66a0571d",
   "metadata": {},
   "outputs": [],
   "source": [
    "{e1_acc_soup: 23.3, gpu: 0, length: 60}\n",
    "{e1_acc_soup: , gpu: 0, length: 20}\n",
    "{e1_acc_soup: , gpu: 0, length: 20}\n",
    "{e1_acc_soup: , gpu: 0, length: 20}"
   ]
  },
  {
   "cell_type": "code",
   "execution_count": null,
   "id": "33aa848e",
   "metadata": {},
   "outputs": [],
   "source": [
    "average(\"90.7 \\n 89.8 \\n 90.5 \", skip=0)"
   ]
  },
  {
   "cell_type": "code",
   "execution_count": null,
   "id": "6b1905e8",
   "metadata": {},
   "outputs": [],
   "source": [
    "mcs(\"23.1 $\\pm$ 0.4 & 23.5 $\\pm$ 0.2 & 22.5 $\\pm$ 1.9\")"
   ]
  },
  {
   "cell_type": "code",
   "execution_count": null,
   "id": "0dc17b53",
   "metadata": {},
   "outputs": [],
   "source": [
    "mc(\"66.2           & 23.3           & 55.4           & 16.5           & 68.7           & 55.9            & 47.7\")"
   ]
  },
  {
   "cell_type": "code",
   "execution_count": null,
   "id": "5ff40c12",
   "metadata": {},
   "outputs": [],
   "source": [
    "mc(\"98.4 $\\pm$ 0.1 & 64.3 $\\pm$ 0.3 & 75.1 $\\pm$ 0.6 & 78.9 $\\pm$ 0.3\")"
   ]
  },
  {
   "cell_type": "code",
   "execution_count": null,
   "id": "394162bb",
   "metadata": {},
   "outputs": [],
   "source": [
    "mc(\"98.2 $\\pm$ 0.1 & 63.6 $\\pm$ 0.1 & 75.3 $\\pm$ 0.3 & 78.9 $\\pm$ 0.4\")"
   ]
  },
  {
   "cell_type": "code",
   "execution_count": null,
   "id": "b1ec0775",
   "metadata": {},
   "outputs": [],
   "source": [
    "mc(\"69.2/60        & 59.0/60        & 80.6/60        & 82.2/60\")"
   ]
  },
  {
   "cell_type": "code",
   "execution_count": null,
   "id": "20d5c7b7",
   "metadata": {},
   "outputs": [],
   "source": [
    "mc(\"57.2/60        & 50.2/56        & 60.1/56        & 39.9/56\")"
   ]
  },
  {
   "cell_type": "code",
   "execution_count": null,
   "id": "c623572d",
   "metadata": {},
   "outputs": [],
   "source": [
    "average(\"68.8 \\n 68.5 \\n 68.0\", skip=0)"
   ]
  },
  {
   "cell_type": "code",
   "execution_count": null,
   "id": "244bfe69",
   "metadata": {},
   "outputs": [],
   "source": [
    "l=\"\"\"            % DWA Unift0       & 98.6           & 63.3           & 75.9           & 79.7           & 79.4         \\\\\n",
    "            % DWA Unift1          & 98.3           & 63.5           & 75.1           & 78.1           & 78.8           \\\\\"\"\""
   ]
  },
  {
   "cell_type": "code",
   "execution_count": null,
   "id": "bc173033",
   "metadata": {},
   "outputs": [],
   "source": [
    "l=\"\"\"            % DWA Greedy0             & 98.2           & 64.2           & 75.3           & 79.6           & 79.3           \\\\\n",
    "            % DWA Greedy1             & 98.4           & 63.630         & 75.868         & 78.614         & 79.128         \\\\\"\"\""
   ]
  },
  {
   "cell_type": "code",
   "execution_count": null,
   "id": "ba5d4fcb",
   "metadata": {},
   "outputs": [],
   "source": [
    "average(l)"
   ]
  },
  {
   "cell_type": "code",
   "execution_count": null,
   "id": "36fe8634",
   "metadata": {},
   "outputs": [],
   "source": [
    "mc(\"98.2 $\\pm$ 0.1 & 63.5 $\\pm$ 0.1 & 75.2 $\\pm$ 0.3 & 78.8 $\\pm$ 0.4\")"
   ]
  },
  {
   "cell_type": "code",
   "execution_count": null,
   "id": "29406c88",
   "metadata": {},
   "outputs": [],
   "source": [
    "mc(\"98.3 $\\pm$ 0.1 & 64.2 $\\pm$ 0.3 & 74.9 $\\pm$ 0.6 & 78.9 $\\pm$ 0.3\")"
   ]
  },
  {
   "cell_type": "code",
   "execution_count": null,
   "id": "0eac375c",
   "metadata": {},
   "outputs": [],
   "source": [
    "average(\"73.188 \\n 73.788 \\n 73.890\", skip=0)"
   ]
  },
  {
   "cell_type": "code",
   "execution_count": null,
   "id": "d25651b5",
   "metadata": {},
   "outputs": [],
   "source": [
    "average(\"71.261 \\n 72.804 \\n 71.802\", skip=0)"
   ]
  },
  {
   "cell_type": "code",
   "execution_count": null,
   "id": "10fe6d5b",
   "metadata": {},
   "outputs": [],
   "source": [
    "import random"
   ]
  },
  {
   "cell_type": "code",
   "execution_count": null,
   "id": "9afdd3e6",
   "metadata": {},
   "outputs": [],
   "source": [
    "sorted_checkpoints_per_cluster = {'CORAL': ['/gpfswork/rech/edr/utr15kn/dataplace/experiments/domainbed/coral201shhps0408terra/750725d75c446db67c20ef5d073b5f72/best', '/gpfswork/rech/edr/utr15kn/dataplace/experiments/domainbed/coral201shhps0408terra/4bce93a29e78aa609de5332c01dfd12e/best', '/gpfswork/rech/edr/utr15kn/dataplace/experiments/domainbed/coral201shhps0408terra/0e7c77922c0868bb51e5cc5ef3d3d4e3/best', '/gpfswork/rech/edr/utr15kn/dataplace/experiments/domainbed/coral201shhps0408terra/396ff60b578c05f061172eeee45aafac/best', '/gpfswork/rech/edr/utr15kn/dataplace/experiments/domainbed/coral201shhps0408terra/43a58785202371fb45aa6252e12c8ed2/best', '/gpfswork/rech/edr/utr15kn/dataplace/experiments/domainbed/coral201shhps0408terra/ffdf4f04e835344edf506afa0d3ac4b7/best', '/gpfswork/rech/edr/utr15kn/dataplace/experiments/domainbed/coral201shhps0408terra/b1add9224d29916c3b3bbe6e439a11f5/best', '/gpfswork/rech/edr/utr15kn/dataplace/experiments/domainbed/coral201shhps0408terra/07bae16a198786060790f40adbba2c4b/best', '/gpfswork/rech/edr/utr15kn/dataplace/experiments/domainbed/coral201shhps0408terra/42c330de3117cc501697d8ccebaea613/best', '/gpfswork/rech/edr/utr15kn/dataplace/experiments/domainbed/coral201shhps0408terra/e3b54bd2d6032c220dd3372819e83998/best'], 'Mixup': ['/gpfswork/rech/edr/utr15kn/dataplace/experiments/domainbed/mixup201shhps0408terra/9904522b786e62627d41d5bdfdefa408/best', '/gpfswork/rech/edr/utr15kn/dataplace/experiments/domainbed/mixup201shhps0408terra/6c5e12e7136bb7c78d86c28d2680f0bd/best', '/gpfswork/rech/edr/utr15kn/dataplace/experiments/domainbed/mixup201shhps0408terra/31ee58ded1f675c827a38b79fd5c78a7/best', '/gpfswork/rech/edr/utr15kn/dataplace/experiments/domainbed/mixup201shhps0408terra/eb4107d0468c0eb6200bd28fc7c74376/best', '/gpfswork/rech/edr/utr15kn/dataplace/experiments/domainbed/mixup201shhps0408terra/e2f5160b373aad59263c7d77c2697469/best', '/gpfswork/rech/edr/utr15kn/dataplace/experiments/domainbed/mixup201shhps0408terra/ab674a7987bb238450d5e31797b4b886/best', '/gpfswork/rech/edr/utr15kn/dataplace/experiments/domainbed/mixup201shhps0408terra/783477254b50f00cbef6578ac6bc83dd/best', '/gpfswork/rech/edr/utr15kn/dataplace/experiments/domainbed/mixup201shhps0408terra/4b1e77131c54208865b198addc9659b1/best', '/gpfswork/rech/edr/utr15kn/dataplace/experiments/domainbed/mixup201shhps0408terra/58b2496ddefb13e50b9ae8066f218702/best', '/gpfswork/rech/edr/utr15kn/dataplace/experiments/domainbed/mixup201shhps0408terra/29dc2d11fddeb00eb13a350caca7529c/best'], 'ERM': ['/gpfswork/rech/edr/utr15kn/dataplace/experiments/domainbed/erm201shhps0408terra/1a36419e5d34fa606555b51d85738f66/best', '/gpfswork/rech/edr/utr15kn/dataplace/experiments/domainbed/erm201shhps0408terra/d756ad6647fafde4f92eaa1af3011d73/best', '/gpfswork/rech/edr/utr15kn/dataplace/experiments/domainbed/erm201shhps0408terra/124d7dabf87eefee1c2848c4adbafca8/best', '/gpfswork/rech/edr/utr15kn/dataplace/experiments/domainbed/erm201shhps0408terra/61ebc1fa1334ee7d14959de466e9bdf2/best', '/gpfswork/rech/edr/utr15kn/dataplace/experiments/domainbed/erm201shhps0408terra/8d9a7a4725136a285a19c173c5527fe0/best', '/gpfswork/rech/edr/utr15kn/dataplace/experiments/domainbed/erm201shhps0408terra/d2e4fcec059732d2de0773251af27585/best', '/gpfswork/rech/edr/utr15kn/dataplace/experiments/domainbed/erm201shhps0408terra/7f0278622d5bdcbe8af516397e9bd66d/best', '/gpfswork/rech/edr/utr15kn/dataplace/experiments/domainbed/erm201shhps0408terra/b2934f82c4939fcff6ff8fae37ce7907/best', '/gpfswork/rech/edr/utr15kn/dataplace/experiments/domainbed/erm201shhps0408terra/57dabe61116112feb7929a1b8c299c5c/best', '/gpfswork/rech/edr/utr15kn/dataplace/experiments/domainbed/erm201shhps0408terra/068cab05fb59e27da791ba90beb4ca3f/best']}"
   ]
  },
  {
   "cell_type": "code",
   "execution_count": null,
   "id": "5f132897",
   "metadata": {},
   "outputs": [],
   "source": [
    "sorted_checkpoints_per_cluster == {'CORAL': ['/gpfswork/rech/edr/utr15kn/dataplace/experiments/domainbed/coral201shhps0408terra/750725d75c446db67c20ef5d073b5f72/best', '/gpfswork/rech/edr/utr15kn/dataplace/experiments/domainbed/coral201shhps0408terra/4bce93a29e78aa609de5332c01dfd12e/best', '/gpfswork/rech/edr/utr15kn/dataplace/experiments/domainbed/coral201shhps0408terra/0e7c77922c0868bb51e5cc5ef3d3d4e3/best', '/gpfswork/rech/edr/utr15kn/dataplace/experiments/domainbed/coral201shhps0408terra/396ff60b578c05f061172eeee45aafac/best', '/gpfswork/rech/edr/utr15kn/dataplace/experiments/domainbed/coral201shhps0408terra/43a58785202371fb45aa6252e12c8ed2/best', '/gpfswork/rech/edr/utr15kn/dataplace/experiments/domainbed/coral201shhps0408terra/ffdf4f04e835344edf506afa0d3ac4b7/best', '/gpfswork/rech/edr/utr15kn/dataplace/experiments/domainbed/coral201shhps0408terra/b1add9224d29916c3b3bbe6e439a11f5/best', '/gpfswork/rech/edr/utr15kn/dataplace/experiments/domainbed/coral201shhps0408terra/07bae16a198786060790f40adbba2c4b/best', '/gpfswork/rech/edr/utr15kn/dataplace/experiments/domainbed/coral201shhps0408terra/42c330de3117cc501697d8ccebaea613/best', '/gpfswork/rech/edr/utr15kn/dataplace/experiments/domainbed/coral201shhps0408terra/e3b54bd2d6032c220dd3372819e83998/best'], 'Mixup': ['/gpfswork/rech/edr/utr15kn/dataplace/experiments/domainbed/mixup201shhps0408terra/9904522b786e62627d41d5bdfdefa408/best', '/gpfswork/rech/edr/utr15kn/dataplace/experiments/domainbed/mixup201shhps0408terra/6c5e12e7136bb7c78d86c28d2680f0bd/best', '/gpfswork/rech/edr/utr15kn/dataplace/experiments/domainbed/mixup201shhps0408terra/31ee58ded1f675c827a38b79fd5c78a7/best', '/gpfswork/rech/edr/utr15kn/dataplace/experiments/domainbed/mixup201shhps0408terra/eb4107d0468c0eb6200bd28fc7c74376/best', '/gpfswork/rech/edr/utr15kn/dataplace/experiments/domainbed/mixup201shhps0408terra/e2f5160b373aad59263c7d77c2697469/best', '/gpfswork/rech/edr/utr15kn/dataplace/experiments/domainbed/mixup201shhps0408terra/ab674a7987bb238450d5e31797b4b886/best', '/gpfswork/rech/edr/utr15kn/dataplace/experiments/domainbed/mixup201shhps0408terra/783477254b50f00cbef6578ac6bc83dd/best', '/gpfswork/rech/edr/utr15kn/dataplace/experiments/domainbed/mixup201shhps0408terra/4b1e77131c54208865b198addc9659b1/best', '/gpfswork/rech/edr/utr15kn/dataplace/experiments/domainbed/mixup201shhps0408terra/58b2496ddefb13e50b9ae8066f218702/best', '/gpfswork/rech/edr/utr15kn/dataplace/experiments/domainbed/mixup201shhps0408terra/29dc2d11fddeb00eb13a350caca7529c/best'], 'ERM': ['/gpfswork/rech/edr/utr15kn/dataplace/experiments/domainbed/erm201shhps0408terra/1a36419e5d34fa606555b51d85738f66/best', '/gpfswork/rech/edr/utr15kn/dataplace/experiments/domainbed/erm201shhps0408terra/d756ad6647fafde4f92eaa1af3011d73/best', '/gpfswork/rech/edr/utr15kn/dataplace/experiments/domainbed/erm201shhps0408terra/124d7dabf87eefee1c2848c4adbafca8/best', '/gpfswork/rech/edr/utr15kn/dataplace/experiments/domainbed/erm201shhps0408terra/61ebc1fa1334ee7d14959de466e9bdf2/best', '/gpfswork/rech/edr/utr15kn/dataplace/experiments/domainbed/erm201shhps0408terra/8d9a7a4725136a285a19c173c5527fe0/best', '/gpfswork/rech/edr/utr15kn/dataplace/experiments/domainbed/erm201shhps0408terra/d2e4fcec059732d2de0773251af27585/best', '/gpfswork/rech/edr/utr15kn/dataplace/experiments/domainbed/erm201shhps0408terra/7f0278622d5bdcbe8af516397e9bd66d/best', '/gpfswork/rech/edr/utr15kn/dataplace/experiments/domainbed/erm201shhps0408terra/b2934f82c4939fcff6ff8fae37ce7907/best', '/gpfswork/rech/edr/utr15kn/dataplace/experiments/domainbed/erm201shhps0408terra/57dabe61116112feb7929a1b8c299c5c/best', '/gpfswork/rech/edr/utr15kn/dataplace/experiments/domainbed/erm201shhps0408terra/068cab05fb59e27da791ba90beb4ca3f/best']}"
   ]
  },
  {
   "cell_type": "code",
   "execution_count": null,
   "id": "6de698f6",
   "metadata": {},
   "outputs": [],
   "source": [
    "dict_checkpoints_to_score = {'/gpfswork/rech/edr/utr15kn/dataplace/experiments/domainbed/coral201shhps0408terra/396ff60b578c05f061172eeee45aafac/best': 0.8967594903190869, '/gpfswork/rech/edr/utr15kn/dataplace/experiments/domainbed/coral201shhps0408terra/07bae16a198786060790f40adbba2c4b/best': 0.8945330750485635, '/gpfswork/rech/edr/utr15kn/dataplace/experiments/domainbed/coral201shhps0408terra/42c330de3117cc501697d8ccebaea613/best': 0.8944118021924634, '/gpfswork/rech/edr/utr15kn/dataplace/experiments/domainbed/coral201shhps0408terra/43a58785202371fb45aa6252e12c8ed2/best': 0.8965165562679606, '/gpfswork/rech/edr/utr15kn/dataplace/experiments/domainbed/coral201shhps0408terra/ffdf4f04e835344edf506afa0d3ac4b7/best': 0.8961613790658501, '/gpfswork/rech/edr/utr15kn/dataplace/experiments/domainbed/coral201shhps0408terra/0e7c77922c0868bb51e5cc5ef3d3d4e3/best': 0.897198399114251, '/gpfswork/rech/edr/utr15kn/dataplace/experiments/domainbed/coral201shhps0408terra/b1add9224d29916c3b3bbe6e439a11f5/best': 0.8953345185833399, '/gpfswork/rech/edr/utr15kn/dataplace/experiments/domainbed/coral201shhps0408terra/e3b54bd2d6032c220dd3372819e83998/best': 0.8919394814729681, '/gpfswork/rech/edr/utr15kn/dataplace/experiments/domainbed/coral201shhps0408terra/4bce93a29e78aa609de5332c01dfd12e/best': 0.899139952930946, '/gpfswork/rech/edr/utr15kn/dataplace/experiments/domainbed/coral201shhps0408terra/750725d75c446db67c20ef5d073b5f72/best': 0.902722961483124, '/gpfswork/rech/edr/utr15kn/dataplace/experiments/domainbed/mixup201shhps0408terra/29dc2d11fddeb00eb13a350caca7529c/best': 0.8674841071249363, '/gpfswork/rech/edr/utr15kn/dataplace/experiments/domainbed/mixup201shhps0408terra/31ee58ded1f675c827a38b79fd5c78a7/best': 0.8795741342002343, '/gpfswork/rech/edr/utr15kn/dataplace/experiments/domainbed/mixup201shhps0408terra/e2f5160b373aad59263c7d77c2697469/best': 0.8769195197080487, '/gpfswork/rech/edr/utr15kn/dataplace/experiments/domainbed/mixup201shhps0408terra/783477254b50f00cbef6578ac6bc83dd/best': 0.8755769880358959, '/gpfswork/rech/edr/utr15kn/dataplace/experiments/domainbed/mixup201shhps0408terra/58b2496ddefb13e50b9ae8066f218702/best': 0.8696524728767153, '/gpfswork/rech/edr/utr15kn/dataplace/experiments/domainbed/mixup201shhps0408terra/4b1e77131c54208865b198addc9659b1/best': 0.8740516323379016, '/gpfswork/rech/edr/utr15kn/dataplace/experiments/domainbed/mixup201shhps0408terra/eb4107d0468c0eb6200bd28fc7c74376/best': 0.8779387377720212, '/gpfswork/rech/edr/utr15kn/dataplace/experiments/domainbed/mixup201shhps0408terra/9904522b786e62627d41d5bdfdefa408/best': 0.8850255513372048, '/gpfswork/rech/edr/utr15kn/dataplace/experiments/domainbed/mixup201shhps0408terra/ab674a7987bb238450d5e31797b4b886/best': 0.8766807066700029, '/gpfswork/rech/edr/utr15kn/dataplace/experiments/domainbed/mixup201shhps0408terra/6c5e12e7136bb7c78d86c28d2680f0bd/best': 0.8818992535646192, '/gpfswork/rech/edr/utr15kn/dataplace/experiments/domainbed/erm201shhps0408terra/7f0278622d5bdcbe8af516397e9bd66d/best': 0.8892822839218629, '/gpfswork/rech/edr/utr15kn/dataplace/experiments/domainbed/erm201shhps0408terra/d756ad6647fafde4f92eaa1af3011d73/best': 0.8962396981163638, '/gpfswork/rech/edr/utr15kn/dataplace/experiments/domainbed/erm201shhps0408terra/61ebc1fa1334ee7d14959de466e9bdf2/best': 0.8922990448147345, '/gpfswork/rech/edr/utr15kn/dataplace/experiments/domainbed/erm201shhps0408terra/068cab05fb59e27da791ba90beb4ca3f/best': 0.8808925404541131, '/gpfswork/rech/edr/utr15kn/dataplace/experiments/domainbed/erm201shhps0408terra/1a36419e5d34fa606555b51d85738f66/best': 0.897862059337959, '/gpfswork/rech/edr/utr15kn/dataplace/experiments/domainbed/erm201shhps0408terra/8d9a7a4725136a285a19c173c5527fe0/best': 0.8917794913359408, '/gpfswork/rech/edr/utr15kn/dataplace/experiments/domainbed/erm201shhps0408terra/124d7dabf87eefee1c2848c4adbafca8/best': 0.8949656604098819, '/gpfswork/rech/edr/utr15kn/dataplace/experiments/domainbed/erm201shhps0408terra/b2934f82c4939fcff6ff8fae37ce7907/best': 0.8889184576527908, '/gpfswork/rech/edr/utr15kn/dataplace/experiments/domainbed/erm201shhps0408terra/d2e4fcec059732d2de0773251af27585/best': 0.8913036870424603, '/gpfswork/rech/edr/utr15kn/dataplace/experiments/domainbed/erm201shhps0408terra/57dabe61116112feb7929a1b8c299c5c/best': 0.8841900417877326}"
   ]
  },
  {
   "cell_type": "code",
   "execution_count": null,
   "id": "b670f89e",
   "metadata": {},
   "outputs": [],
   "source": [
    "l = \"67.8           & 58.8           & 78.5           & 81.0\""
   ]
  },
  {
   "cell_type": "code",
   "execution_count": null,
   "id": "107adb49",
   "metadata": {},
   "outputs": [],
   "source": [
    "l=\"69.3           & 72.3           & 10.3\""
   ]
  },
  {
   "cell_type": "code",
   "execution_count": null,
   "id": "480843a6",
   "metadata": {},
   "outputs": [],
   "source": [
    "mc(l)"
   ]
  },
  {
   "cell_type": "code",
   "execution_count": null,
   "id": "dd73d467",
   "metadata": {},
   "outputs": [],
   "source": [
    "mc(\"70.2 & 73.5 & 10.3\")"
   ]
  },
  {
   "cell_type": "code",
   "execution_count": null,
   "id": "dd072d28",
   "metadata": {},
   "outputs": [],
   "source": [
    "mc(\" 70.0 &72.6 &10.9\")"
   ]
  },
  {
   "cell_type": "code",
   "execution_count": null,
   "id": "be9bb1f1",
   "metadata": {},
   "outputs": [],
   "source": [
    "mc(\"67.2 &71.8 &10.7\")"
   ]
  },
  {
   "cell_type": "code",
   "execution_count": null,
   "id": "9ca04c83",
   "metadata": {},
   "outputs": [],
   "source": [
    "l=\"\"\"t& 70.2 & 73.5 & 10.3 & 51.3\n",
    "t& 70.0 &72.6 &10.9 & 51.2 \n",
    "t& 67.2 &71.8 &10.7 & 49.9\"\"\""
   ]
  },
  {
   "cell_type": "code",
   "execution_count": null,
   "id": "ff85025a",
   "metadata": {},
   "outputs": [],
   "source": []
  },
  {
   "cell_type": "code",
   "execution_count": null,
   "id": "b50d0a64",
   "metadata": {},
   "outputs": [],
   "source": [
    "mc(\"0.71261 & 0.72804 & 0.71802\")"
   ]
  },
  {
   "cell_type": "code",
   "execution_count": null,
   "id": "6109414c",
   "metadata": {},
   "outputs": [],
   "source": [
    "average(l)"
   ]
  },
  {
   "cell_type": "code",
   "execution_count": null,
   "id": "b6ca1851",
   "metadata": {},
   "outputs": [],
   "source": [
    "l=\"60.7 & 48.1 & 59.1 & 37.7\""
   ]
  },
  {
   "cell_type": "code",
   "execution_count": null,
   "id": "8128f706",
   "metadata": {},
   "outputs": [],
   "source": [
    "dict_checkpoints_to_score[\"/gpfswork/rech/edr/utr15kn/dataplace/experiments/domainbed/erm201shhps0408terra/1a36419e5d34fa606555b51d85738f66/best\"]"
   ]
  },
  {
   "cell_type": "code",
   "execution_count": null,
   "id": "0f1c733d",
   "metadata": {},
   "outputs": [],
   "source": [
    "\"acc\" in \"train_acc\""
   ]
  },
  {
   "cell_type": "code",
   "execution_count": null,
   "id": "747b3bc6",
   "metadata": {},
   "outputs": [],
   "source": [
    "max(dict_checkpoints_to_score_gg.values())"
   ]
  },
  {
   "cell_type": "code",
   "execution_count": null,
   "id": "f7a7fd57",
   "metadata": {},
   "outputs": [],
   "source": [
    "dict_checkpoints_to_score[\"/gpfswork/rech/edr/utr15kn/dataplace/experiments/domainbed/coral201shhps0408terra/750725d75c446db67c20ef5d073b5f72/best\"]"
   ]
  },
  {
   "cell_type": "code",
   "execution_count": null,
   "id": "21d29db3",
   "metadata": {},
   "outputs": [],
   "source": [
    "dict_checkpoints_to_score_gg = {'/gpfswork/rech/edr/utr15kn/dataplace/experiments/domainbed/coral201shhps0408terra/396ff60b578c05f061172eeee45aafac/best': 0.8967594903190869, '/gpfswork/rech/edr/utr15kn/dataplace/experiments/domainbed/coral201shhps0408terra/07bae16a198786060790f40adbba2c4b/best': 0.8945330750485635, '/gpfswork/rech/edr/utr15kn/dataplace/experiments/domainbed/coral201shhps0408terra/42c330de3117cc501697d8ccebaea613/best': 0.8944118021924634, '/gpfswork/rech/edr/utr15kn/dataplace/experiments/domainbed/coral201shhps0408terra/43a58785202371fb45aa6252e12c8ed2/best': 0.8965165562679606, '/gpfswork/rech/edr/utr15kn/dataplace/experiments/domainbed/coral201shhps0408terra/ffdf4f04e835344edf506afa0d3ac4b7/best': 0.8961613790658501, '/gpfswork/rech/edr/utr15kn/dataplace/experiments/domainbed/coral201shhps0408terra/0e7c77922c0868bb51e5cc5ef3d3d4e3/best': 0.897198399114251, '/gpfswork/rech/edr/utr15kn/dataplace/experiments/domainbed/coral201shhps0408terra/b1add9224d29916c3b3bbe6e439a11f5/best': 0.8953345185833399, '/gpfswork/rech/edr/utr15kn/dataplace/experiments/domainbed/coral201shhps0408terra/e3b54bd2d6032c220dd3372819e83998/best': 0.8919394814729681, '/gpfswork/rech/edr/utr15kn/dataplace/experiments/domainbed/coral201shhps0408terra/4bce93a29e78aa609de5332c01dfd12e/best': 0.899139952930946, '/gpfswork/rech/edr/utr15kn/dataplace/experiments/domainbed/coral201shhps0408terra/750725d75c446db67c20ef5d073b5f72/best': 0.902722961483124, '/gpfswork/rech/edr/utr15kn/dataplace/experiments/domainbed/mixup201shhps0408terra/29dc2d11fddeb00eb13a350caca7529c/best': 0.8674841071249363, '/gpfswork/rech/edr/utr15kn/dataplace/experiments/domainbed/mixup201shhps0408terra/31ee58ded1f675c827a38b79fd5c78a7/best': 0.8795741342002343, '/gpfswork/rech/edr/utr15kn/dataplace/experiments/domainbed/mixup201shhps0408terra/e2f5160b373aad59263c7d77c2697469/best': 0.8769195197080487, '/gpfswork/rech/edr/utr15kn/dataplace/experiments/domainbed/mixup201shhps0408terra/783477254b50f00cbef6578ac6bc83dd/best': 0.8755769880358959, '/gpfswork/rech/edr/utr15kn/dataplace/experiments/domainbed/mixup201shhps0408terra/58b2496ddefb13e50b9ae8066f218702/best': 0.8696524728767153, '/gpfswork/rech/edr/utr15kn/dataplace/experiments/domainbed/mixup201shhps0408terra/4b1e77131c54208865b198addc9659b1/best': 0.8740516323379016, '/gpfswork/rech/edr/utr15kn/dataplace/experiments/domainbed/mixup201shhps0408terra/eb4107d0468c0eb6200bd28fc7c74376/best': 0.8779387377720212, '/gpfswork/rech/edr/utr15kn/dataplace/experiments/domainbed/mixup201shhps0408terra/9904522b786e62627d41d5bdfdefa408/best': 0.8850255513372048, '/gpfswork/rech/edr/utr15kn/dataplace/experiments/domainbed/mixup201shhps0408terra/ab674a7987bb238450d5e31797b4b886/best': 0.8766807066700029, '/gpfswork/rech/edr/utr15kn/dataplace/experiments/domainbed/mixup201shhps0408terra/6c5e12e7136bb7c78d86c28d2680f0bd/best': 0.8818992535646192, '/gpfswork/rech/edr/utr15kn/dataplace/experiments/domainbed/erm201shhps0408terra/7f0278622d5bdcbe8af516397e9bd66d/best': 0.8892822839218629, '/gpfswork/rech/edr/utr15kn/dataplace/experiments/domainbed/erm201shhps0408terra/d756ad6647fafde4f92eaa1af3011d73/best': 0.8962396981163638, '/gpfswork/rech/edr/utr15kn/dataplace/experiments/domainbed/erm201shhps0408terra/61ebc1fa1334ee7d14959de466e9bdf2/best': 0.8922990448147345, '/gpfswork/rech/edr/utr15kn/dataplace/experiments/domainbed/erm201shhps0408terra/068cab05fb59e27da791ba90beb4ca3f/best': 0.8808925404541131, '/gpfswork/rech/edr/utr15kn/dataplace/experiments/domainbed/erm201shhps0408terra/1a36419e5d34fa606555b51d85738f66/best': 0.897862059337959, '/gpfswork/rech/edr/utr15kn/dataplace/experiments/domainbed/erm201shhps0408terra/8d9a7a4725136a285a19c173c5527fe0/best': 0.8917794913359408, '/gpfswork/rech/edr/utr15kn/dataplace/experiments/domainbed/erm201shhps0408terra/124d7dabf87eefee1c2848c4adbafca8/best': 0.8949656604098819, '/gpfswork/rech/edr/utr15kn/dataplace/experiments/domainbed/erm201shhps0408terra/b2934f82c4939fcff6ff8fae37ce7907/best': 0.8889184576527908, '/gpfswork/rech/edr/utr15kn/dataplace/experiments/domainbed/erm201shhps0408terra/d2e4fcec059732d2de0773251af27585/best': 0.8913036870424603, '/gpfswork/rech/edr/utr15kn/dataplace/experiments/domainbed/erm201shhps0408terra/57dabe61116112feb7929a1b8c299c5c/best': 0.8841900417877326}"
   ]
  },
  {
   "cell_type": "code",
   "execution_count": null,
   "id": "4b53b83c",
   "metadata": {},
   "outputs": [],
   "source": [
    "sorted_checkpoints_per_cluster.keys()"
   ]
  },
  {
   "cell_type": "code",
   "execution_count": null,
   "id": "f1c11db2",
   "metadata": {},
   "outputs": [],
   "source": [
    "random.random()"
   ]
  },
  {
   "cell_type": "code",
   "execution_count": null,
   "id": "8f69b29d",
   "metadata": {},
   "outputs": [],
   "source": [
    "t = torch.ones(1)"
   ]
  },
  {
   "cell_type": "code",
   "execution_count": null,
   "id": "1a10fde9",
   "metadata": {},
   "outputs": [],
   "source": [
    "l=\"70.5 & 72.9 & 11.8\""
   ]
  },
  {
   "cell_type": "code",
   "execution_count": null,
   "id": "d7054fc9",
   "metadata": {},
   "outputs": [],
   "source": [
    "l = \"57.1/52.9      & 46.7/43.8      & 59.1/59.3      & 37.0/39.2\""
   ]
  },
  {
   "cell_type": "code",
   "execution_count": null,
   "id": "506b5366",
   "metadata": {},
   "outputs": [],
   "source": [
    "l=\"58.2            & 44.4          & 58.4            & 42.4\""
   ]
  },
  {
   "cell_type": "code",
   "execution_count": null,
   "id": "58fe8860",
   "metadata": {},
   "outputs": [],
   "source": [
    "torch.mean(torch.stack([t, t])).view(-1)"
   ]
  },
  {
   "cell_type": "code",
   "execution_count": null,
   "id": "30cbce53",
   "metadata": {},
   "outputs": [],
   "source": [
    "import itertools"
   ]
  },
  {
   "cell_type": "code",
   "execution_count": null,
   "id": "6b59ef74",
   "metadata": {},
   "outputs": [],
   "source": [
    "l=\"98.6           & 64.6           & 76.2           & 79.3 \""
   ]
  },
  {
   "cell_type": "code",
   "execution_count": null,
   "id": "7534075e",
   "metadata": {},
   "outputs": [],
   "source": [
    "l=\"58.0            & 43.8          & 58.1            & 42.9\""
   ]
  },
  {
   "cell_type": "code",
   "execution_count": null,
   "id": "51a09620",
   "metadata": {},
   "outputs": [],
   "source": [
    "l=\"98.5 & 62.8 & 76.1 & 79.8\""
   ]
  },
  {
   "cell_type": "code",
   "execution_count": null,
   "id": "16e62177",
   "metadata": {},
   "outputs": [],
   "source": [
    "l = [f\"net{i}_net{j}\" for i, j in itertools.combinations(range(10), 2)]\n",
    "print(\" \".join(l))"
   ]
  },
  {
   "cell_type": "code",
   "execution_count": null,
   "id": "b880bf8c",
   "metadata": {},
   "outputs": [],
   "source": [
    "l = \"89.7/90.9      & 85.2/83.9      & 97.6/98.1      & 83.8/84.2\""
   ]
  },
  {
   "cell_type": "code",
   "execution_count": null,
   "id": "bae790ea",
   "metadata": {},
   "outputs": [],
   "source": [
    "float(\"1e-6\") == 0.00001"
   ]
  },
  {
   "cell_type": "code",
   "execution_count": null,
   "id": "ab79947f",
   "metadata": {},
   "outputs": [],
   "source": [
    "l=\"67.6           & 56.6           & 78.2           & 79.8\""
   ]
  },
  {
   "cell_type": "code",
   "execution_count": null,
   "id": "e5553a99",
   "metadata": {},
   "outputs": [],
   "source": [
    "l = \"90.6/90.5      & 82.2/80.2      & 98.7/98.6      & 83.7/82.0\""
   ]
  },
  {
   "cell_type": "code",
   "execution_count": null,
   "id": "f073bf53",
   "metadata": {},
   "outputs": [],
   "source": [
    "l='67.7/67.5      & 58.2/57.0      & 79.4/78.7      & 80.3/80.7'"
   ]
  },
  {
   "cell_type": "code",
   "execution_count": null,
   "id": "2588278d",
   "metadata": {},
   "outputs": [],
   "source": [
    "l = \"68.4/68.3           & 59.1/58.5           & 79.3/79.2           & 80.5/80.9\""
   ]
  },
  {
   "cell_type": "code",
   "execution_count": null,
   "id": "674910eb",
   "metadata": {},
   "outputs": [],
   "source": [
    "l = \"98.7/98.7      & 62.8/62.9      & 73.2/74.6      & 77.6/79.0\""
   ]
  },
  {
   "cell_type": "code",
   "execution_count": null,
   "id": "8c5f79f9",
   "metadata": {},
   "outputs": [],
   "source": [
    "l = \"67.9/67.3      & 58.3/57.0      & 79.4/78.7      & 80.1/80.5\""
   ]
  },
  {
   "cell_type": "code",
   "execution_count": null,
   "id": "9e234c36",
   "metadata": {},
   "outputs": [],
   "source": [
    "l = \"98.4/98.5            & 64.4/64.0              & 75.9/75.6      &  79.6/80.0\""
   ]
  },
  {
   "cell_type": "code",
   "execution_count": null,
   "id": "fb7a2a54",
   "metadata": {},
   "outputs": [],
   "source": [
    "l=\"98.4/98.5            & 64.4/64.0              & 76.1/75.9      &  79.6/80.0\""
   ]
  },
  {
   "cell_type": "code",
   "execution_count": null,
   "id": "92868c1e",
   "metadata": {},
   "outputs": [],
   "source": [
    "l='98.2 & 64.8 & 74.5 & 80.5'"
   ]
  },
  {
   "cell_type": "code",
   "execution_count": null,
   "id": "c3e06227",
   "metadata": {},
   "outputs": [],
   "source": [
    "l=\"67.7           & 58.2           & 79.0           & 81.1\""
   ]
  },
  {
   "cell_type": "code",
   "execution_count": null,
   "id": "a81d4660",
   "metadata": {},
   "outputs": [],
   "source": [
    "l=\"66.8 & 56.4 & 78.3 & 79.7\""
   ]
  },
  {
   "cell_type": "code",
   "execution_count": null,
   "id": "0924d362",
   "metadata": {},
   "outputs": [],
   "source": [
    "l=\"67.9           & 58.2           & 79.0           & 80.7\""
   ]
  },
  {
   "cell_type": "code",
   "execution_count": null,
   "id": "14c379d7",
   "metadata": {},
   "outputs": [],
   "source": [
    "l=\"58.8           & 48.6          & 59.1            & 41.8\""
   ]
  },
  {
   "cell_type": "code",
   "execution_count": null,
   "id": "51c0acf2",
   "metadata": {},
   "outputs": [],
   "source": [
    "l=\"98.3 & 62.8 & 75.3 & 80.5\""
   ]
  },
  {
   "cell_type": "code",
   "execution_count": null,
   "id": "b767d3a7",
   "metadata": {},
   "outputs": [],
   "source": [
    "l=\"67.2           & 58.1           & 79.1           & 80.6\""
   ]
  },
  {
   "cell_type": "code",
   "execution_count": null,
   "id": "d4b40b43",
   "metadata": {},
   "outputs": [],
   "source": [
    "l=\"68.0           & 57.6            & 78.7           & 81.0\""
   ]
  },
  {
   "cell_type": "code",
   "execution_count": null,
   "id": "19d264db",
   "metadata": {},
   "outputs": [],
   "source": [
    "l=\"66.9           & 56.6           & 78.2           & 79.8\""
   ]
  },
  {
   "cell_type": "code",
   "execution_count": null,
   "id": "65b37e4c",
   "metadata": {},
   "outputs": [],
   "source": [
    "l=\"89.8     & 81.9     & 98.3     & 81.0\""
   ]
  },
  {
   "cell_type": "code",
   "execution_count": null,
   "id": "8946e989",
   "metadata": {},
   "outputs": [],
   "source": [
    "l=\"71.2 & 72.9  & 10.0\""
   ]
  },
  {
   "cell_type": "code",
   "execution_count": null,
   "id": "8f0df4f0",
   "metadata": {},
   "outputs": [],
   "source": [
    "l=\"67.8 & 58.1 & 78.8 & 80.6\""
   ]
  },
  {
   "cell_type": "code",
   "execution_count": null,
   "id": "cefc176f",
   "metadata": {},
   "outputs": [],
   "source": [
    "l=\"58.8 & 48.5 & 59.1 & 39.3\""
   ]
  },
  {
   "cell_type": "code",
   "execution_count": null,
   "id": "bc235ef4",
   "metadata": {},
   "outputs": [],
   "source": [
    "l=\"59.2           & 47.3           & 60.5           & 39.7\""
   ]
  },
  {
   "cell_type": "code",
   "execution_count": null,
   "id": "83b3bb9a",
   "metadata": {},
   "outputs": [],
   "source": [
    "l=\"47.8           & 47.2           & 58.6           & 38.0 \""
   ]
  },
  {
   "cell_type": "code",
   "execution_count": null,
   "id": "a9b4999f",
   "metadata": {},
   "outputs": [],
   "source": [
    "l=\"55.1           & 47.5           & 59.3           & 36.8                           \""
   ]
  },
  {
   "cell_type": "code",
   "execution_count": null,
   "id": "1e189adf",
   "metadata": {},
   "outputs": [],
   "source": [
    "l=\"52.7 & 46.3 & 59.0 & 37.7\""
   ]
  },
  {
   "cell_type": "code",
   "execution_count": null,
   "id": "c721c8bb",
   "metadata": {},
   "outputs": [],
   "source": [
    "l=\"\"\"            % DWA Uniformt0      & 55.1           & 45.8           & 59.7           & 39.1           & 49.9           \\\\\n",
    "            % DWA Uniformt1      & 53.7           & 45.7           & 59.1           & 36.4           & 48.8           \\\\\n",
    "            % DWA Uniformt2      & 47.8           & 47.2           & 58.9           & 38.0           & 47.9           \\\\\"\"\""
   ]
  },
  {
   "cell_type": "code",
   "execution_count": null,
   "id": "e0382d17",
   "metadata": {},
   "outputs": [],
   "source": [
    "l=\"98.3           & 63.5           & 75.1           & 78.1\""
   ]
  },
  {
   "cell_type": "code",
   "execution_count": null,
   "id": "5fb5bfb8",
   "metadata": {},
   "outputs": [],
   "source": [
    "l=\"67.9           & 57.9           & 78.4           & 80.2\""
   ]
  },
  {
   "cell_type": "code",
   "execution_count": null,
   "id": "87d869df",
   "metadata": {},
   "outputs": [],
   "source": [
    "mc(l)"
   ]
  },
  {
   "cell_type": "code",
   "execution_count": null,
   "id": "db5a19fc",
   "metadata": {},
   "outputs": [],
   "source": [
    "l=\"\"\"            DWA Uniform (ERM + Coral) t0                & 68.2           & 58.6           & 78.6           & 80.8           & 71.5           \\\\\n",
    "            DWA Uniform (ERM + Coral) t1                & 67.9           & 57.9           & 78.4           & 80.2           & 71.1\n",
    "            DWA Uniform (ERM + Coral) t2                & 67.4           & 57.3           & 78.2           & 80.2           & 70.8           \\\\\"\"\""
   ]
  },
  {
   "cell_type": "code",
   "execution_count": null,
   "id": "3eda29c2",
   "metadata": {},
   "outputs": [],
   "source": [
    "mc(\"68.7 & 59.3 & 79.7 & 80.1\")"
   ]
  },
  {
   "cell_type": "code",
   "execution_count": null,
   "id": "3b165c00",
   "metadata": {},
   "outputs": [],
   "source": [
    "l=\"\"\"            % & 68.0 & 58.5 & 79.7 & 80.7 & 71.7\n",
    "            % & 68.7 & 59.3 & 79.7 & 80.1 & 72.0\n",
    "            % & 67.4 & 57.9 & 78.8 & 80.6 & 71.2\"\"\""
   ]
  },
  {
   "cell_type": "code",
   "execution_count": null,
   "id": "8a3b9f1a",
   "metadata": {},
   "outputs": [],
   "source": [
    "mc(\"67.4 & 57.9 & 78.8 & 80.6 \")"
   ]
  },
  {
   "cell_type": "code",
   "execution_count": null,
   "id": "fd2ba7a6",
   "metadata": {},
   "outputs": [],
   "source": [
    "mc(\"68.4 & 59.1 & 79.1 & 80.9\")"
   ]
  },
  {
   "cell_type": "code",
   "execution_count": null,
   "id": "557096d7",
   "metadata": {},
   "outputs": [],
   "source": [
    "mc(\"69.1 & 58.6 & 79.3 & 80.5 \")"
   ]
  },
  {
   "cell_type": "code",
   "execution_count": null,
   "id": "0f11174a",
   "metadata": {},
   "outputs": [],
   "source": [
    "l=\"\"\"68.4 & 59.1 & 79.1 & 80.9 & 71.9 \n",
    "69.1 & 58.6 & 79.3 & 80.5 & 71.9\n",
    "67.4 & 57.3 & 78.9 & 80.7 & 71.1\"\"\""
   ]
  },
  {
   "cell_type": "code",
   "execution_count": null,
   "id": "47c1884a",
   "metadata": {},
   "outputs": [],
   "source": [
    "l=\"\"\"            % t0 & 68.4 & 59.1 & 79.1 & 80.9 & 71.9\n",
    "            % t0 & 69.1 & 58.6 & 79.3 & 80.5 & 71.9\n",
    "            % t0 & 67.4 & 57.3 & 78.9 & 80.7 & 71.1\"\"\""
   ]
  },
  {
   "cell_type": "code",
   "execution_count": null,
   "id": "ab960c61",
   "metadata": {},
   "outputs": [],
   "source": [
    "mc(\"68.7           & 58.2           & 80.1           & 81.0\")"
   ]
  },
  {
   "cell_type": "code",
   "execution_count": null,
   "id": "fedeb546",
   "metadata": {},
   "outputs": [],
   "source": [
    "l=\"\"\"            t1 & 68.7 & 58.7 & 78.2 & 80.6 & 71.6\n",
    "            t1 & 68.2 & 57.9 & 78.4 & 80.2 & 71.2\n",
    "            t1 & 67.3 & 56.4 & 78.5 & 80.2 & 70.6\"\"\""
   ]
  },
  {
   "cell_type": "code",
   "execution_count": null,
   "id": "be353ed8",
   "metadata": {},
   "outputs": [],
   "source": [
    "l=\"\"\"            t1 & 69.1 & 58.7 & 79.0 & 81.1\n",
    "            t1 & 68.6 & 58.7 & 78.5 & 80.3\n",
    "            t1 & 67.4 & 56.2 & 78.8 & 80.4\"\"\""
   ]
  },
  {
   "cell_type": "code",
   "execution_count": null,
   "id": "7757e1f1",
   "metadata": {},
   "outputs": [],
   "source": [
    "l=\"\"\"       DWA Greedy0             & 98.2           & 64.2           & 75.3           & 79.6           & 79.3           \\\\\n",
    "            DWA Greedy1             & 98.4           & 63.630         & 75.868         & 78.614         & 79.128         \\\\\n",
    "            DWA Greedy2             & 98.021         & 64.834         & 73.583         & 78.584         & 78.8           \\\\\"\"\""
   ]
  },
  {
   "cell_type": "code",
   "execution_count": null,
   "id": "fa417c55",
   "metadata": {},
   "outputs": [],
   "source": [
    "average(l)"
   ]
  },
  {
   "cell_type": "code",
   "execution_count": null,
   "id": "6f7bc33d",
   "metadata": {},
   "outputs": [],
   "source": [
    "mc(\"66.8           & 57.8           & 79.4           & 80.6\")"
   ]
  },
  {
   "cell_type": "code",
   "execution_count": null,
   "id": "97165c2f",
   "metadata": {},
   "outputs": [],
   "source": [
    "mc(\"69.2           & 59.1           & 79.9           & 80.2\")"
   ]
  },
  {
   "cell_type": "code",
   "execution_count": null,
   "id": "c1f9519a",
   "metadata": {},
   "outputs": [],
   "source": [
    "mc(\"98.4           & 63.3           & 76.1           & 79.7\")"
   ]
  },
  {
   "cell_type": "code",
   "execution_count": null,
   "id": "853f9572",
   "metadata": {},
   "outputs": [],
   "source": [
    "average(l)"
   ]
  },
  {
   "cell_type": "code",
   "execution_count": null,
   "id": "78bcc04c",
   "metadata": {},
   "outputs": [],
   "source": [
    "l=\"\"\"            % DWA Uniformt0       & 98.6           & 63.3           & 75.9           & 79.7           & 79.4         \\\\\n",
    "            DWA Unift1          & 98.3           & 63.5           & 75.1           & 78.1       & 78.8                   \\\\\n",
    "            DWA Unift2          & 98.0           & 63.7           & 74.6           & 78.7       & 78.8                  \\\\\"\"\""
   ]
  },
  {
   "cell_type": "code",
   "execution_count": null,
   "id": "59fb604f",
   "metadata": {},
   "outputs": [],
   "source": []
  },
  {
   "cell_type": "code",
   "execution_count": null,
   "id": "7048d991",
   "metadata": {},
   "outputs": [],
   "source": [
    "mc(l)"
   ]
  },
  {
   "cell_type": "code",
   "execution_count": null,
   "id": "e02b51f8",
   "metadata": {},
   "outputs": [],
   "source": [
    "average(l)"
   ]
  },
  {
   "cell_type": "code",
   "execution_count": null,
   "id": "7779c9c2",
   "metadata": {},
   "outputs": [],
   "source": [
    "l=\"\"\"            DWA Uniformt0      & 55.1           & 45.8           & 59.7           & 39.1           & 49.9           \\\\\n",
    "            DWA Uniformt1      & 53.7           & 45.7           & 59.5           & 36.3           & 48.8           \\\\\n",
    "            DWA Uniformt2      & 47.8           & 47.2           & 58.6           & 38.0           & 47.9           \\\\\"\"\""
   ]
  },
  {
   "cell_type": "code",
   "execution_count": null,
   "id": "6b5b5930",
   "metadata": {},
   "outputs": [],
   "source": [
    "l=\"69.7 & 72.5 & 10.9\""
   ]
  },
  {
   "cell_type": "code",
   "execution_count": null,
   "id": "18bbcc0f",
   "metadata": {},
   "outputs": [],
   "source": [
    "l=\"89.9           & 82.9           & 97.9           & 83.4\""
   ]
  },
  {
   "cell_type": "code",
   "execution_count": null,
   "id": "60dc7f12",
   "metadata": {},
   "outputs": [],
   "source": [
    "mc(\"69.1           & 58.9           & 79.0           & 80.5\")"
   ]
  },
  {
   "cell_type": "code",
   "execution_count": null,
   "id": "8176b069",
   "metadata": {},
   "outputs": [],
   "source": [
    "mc(\"69.3           & 58.6           & 79.1           & 80.9\")"
   ]
  },
  {
   "cell_type": "code",
   "execution_count": null,
   "id": "9483a4d3",
   "metadata": {},
   "outputs": [],
   "source": [
    "\n",
    "mean(clean(\"52.5           & 47.0           & 59.4           & 36.4\"))"
   ]
  },
  {
   "cell_type": "code",
   "execution_count": null,
   "id": "4eec03b3",
   "metadata": {},
   "outputs": [],
   "source": [
    "mc(\"53.807         & 46.600         & 58.312         & 38.892\")"
   ]
  },
  {
   "cell_type": "code",
   "execution_count": null,
   "id": "40bfe8c4",
   "metadata": {},
   "outputs": [],
   "source": [
    "l=\"\"\"            DWA Greedy0            & 59.2           & 47.3           & 60.5           & 39.7           & 51.7         \\\\\n",
    "            DWA Greedy1            & 53.807         & 48.634         & 59.572         & 39.640         & 50.4         \\\\\n",
    "            DWA Greedy2            & 53.807         & 46.600         & 58.312         & 38.892         & 49.4         \\\\\"\"\""
   ]
  },
  {
   "cell_type": "code",
   "execution_count": null,
   "id": "5efc12dd",
   "metadata": {},
   "outputs": [],
   "source": [
    "mc(\"57.0 & 48.1 & 58.5 & 38.4\")"
   ]
  },
  {
   "cell_type": "code",
   "execution_count": null,
   "id": "c6b6d187",
   "metadata": {},
   "outputs": [],
   "source": [
    "average(l)"
   ]
  },
  {
   "cell_type": "code",
   "execution_count": null,
   "id": "426d064f",
   "metadata": {},
   "outputs": [],
   "source": [
    "mc(\"53.807         & 48.634         & 59.572         & 39.640   \")"
   ]
  },
  {
   "cell_type": "code",
   "execution_count": null,
   "id": "b963c3fa",
   "metadata": {},
   "outputs": [],
   "source": [
    "mean(clean(\"54.5           & 46.6           & 59.2           & 37.2\"))"
   ]
  },
  {
   "cell_type": "code",
   "execution_count": null,
   "id": "2d0a1cf3",
   "metadata": {},
   "outputs": [],
   "source": [
    "mean(clean(\"50.7           & 47.6           & 58.8           & 37.2\"))"
   ]
  },
  {
   "cell_type": "code",
   "execution_count": null,
   "id": "a12b760d",
   "metadata": {},
   "outputs": [],
   "source": [
    "mean(clean(\"53.7           & 45.7           & 59.5           & 36.3\"))"
   ]
  },
  {
   "cell_type": "code",
   "execution_count": null,
   "id": "11516af8",
   "metadata": {},
   "outputs": [],
   "source": []
  },
  {
   "cell_type": "code",
   "execution_count": null,
   "id": "3178f167",
   "metadata": {},
   "outputs": [],
   "source": [
    "l=\"\"\"            DWA 75 t0               & 91.6           & 84.1           & 98.1           & 83.4           & 89.3           \\\\\n",
    "            DWA 75 t1               & 89.9           & 82.9           & 97.9           & 83.4           & 88.5           \\\\\n",
    "            DWA 75 t2               & 89.5           & 80.9           & 98.4           & 82.0           & 87.7           \\\\\"\"\""
   ]
  },
  {
   "cell_type": "code",
   "execution_count": null,
   "id": "bb8eccbf",
   "metadata": {},
   "outputs": [],
   "source": [
    "l=\"\"\"            % DWA Uniform t0       & 91.6           & 84.6           & 98.1           & 84.2           & 89.7         \\\\\n",
    "            % DWA Uniform t1       & 89.5           & 83.2           & 97.9           & 83.3           & 88.5         \\\\\n",
    "            % DWA Uniform t2       & 89.3           & 82.0           & 98.5           & 82.7           & 88.1         \\\\\"\"\""
   ]
  },
  {
   "cell_type": "code",
   "execution_count": null,
   "id": "ab9c8c13",
   "metadata": {},
   "outputs": [],
   "source": [
    "average(l)"
   ]
  },
  {
   "cell_type": "code",
   "execution_count": null,
   "id": "aa918c4b",
   "metadata": {},
   "outputs": [],
   "source": [
    "l=\"\"\"            DWA 75t0                                    & 67.2           & 57.8           & 79.0           & 79.9           & 71.0           \\\\\n",
    "            DWA 75t1                                    & 67.4           & 57.9           & 79.5           & 79.6           & 71.1           \\\\\n",
    "            DWA 75t2                                    & 66.9           & 56.8           & 78.5           & 80.2           & 70.6           \\\\\"\"\""
   ]
  },
  {
   "cell_type": "code",
   "execution_count": null,
   "id": "0d99c351",
   "metadata": {},
   "outputs": [],
   "source": [
    "mc(\"66.9 & 56.8 & 78.5 & 80.2 \")"
   ]
  },
  {
   "cell_type": "code",
   "execution_count": null,
   "id": "73dc2e83",
   "metadata": {},
   "outputs": [],
   "source": [
    "mc(\"67.4           & 57.9           & 79.5           & 79.6\")"
   ]
  },
  {
   "cell_type": "code",
   "execution_count": null,
   "id": "9d3a84fb",
   "metadata": {},
   "outputs": [],
   "source": [
    "mc(\"87.7&89.3& 88.5\")"
   ]
  },
  {
   "cell_type": "code",
   "execution_count": null,
   "id": "ec843071",
   "metadata": {},
   "outputs": [],
   "source": [
    "mc(\"89.5           & 80.9           & 98.4           & 82.0\")"
   ]
  },
  {
   "cell_type": "code",
   "execution_count": null,
   "id": "e79f94de",
   "metadata": {},
   "outputs": [],
   "source": [
    "mean(clean(\"67.7           & 58.8           & 79.4           & 80.5\"))"
   ]
  },
  {
   "cell_type": "code",
   "execution_count": null,
   "id": "c0e4e6f2",
   "metadata": {},
   "outputs": [],
   "source": [
    "l=\"68.1           & 58.2           & 79.6           & 80.3\""
   ]
  },
  {
   "cell_type": "code",
   "execution_count": null,
   "id": "e108215c",
   "metadata": {},
   "outputs": [],
   "source": [
    "mean(clean(\"68.4 & 58.9 & 80.4 & 81.1\"))"
   ]
  },
  {
   "cell_type": "code",
   "execution_count": null,
   "id": "44590534",
   "metadata": {},
   "outputs": [],
   "source": [
    "l=\"68.6 & 59.0 & 80.2 & 81.2\""
   ]
  },
  {
   "cell_type": "code",
   "execution_count": null,
   "id": "34942907",
   "metadata": {},
   "outputs": [],
   "source": [
    "l=\"90.3 & 83.1 & 98.3 & 83.5\""
   ]
  },
  {
   "cell_type": "code",
   "execution_count": null,
   "id": "a15b2eeb",
   "metadata": {},
   "outputs": [],
   "source": [
    "l=\"68.7 & 58.9 & 80.0 & 80.9\""
   ]
  },
  {
   "cell_type": "code",
   "execution_count": null,
   "id": "11916894",
   "metadata": {},
   "outputs": [],
   "source": [
    "l=\"68.9 & 58.6 & 79.0 & 80.8\""
   ]
  },
  {
   "cell_type": "code",
   "execution_count": null,
   "id": "02042788",
   "metadata": {},
   "outputs": [],
   "source": [
    "l=\"68.5 & 58.5 & 78.2 & 80.2\""
   ]
  },
  {
   "cell_type": "code",
   "execution_count": null,
   "id": "371d60da",
   "metadata": {},
   "outputs": [],
   "source": [
    "l=\"68.7 & 58.3 & 79.3 & 80.6\""
   ]
  },
  {
   "cell_type": "code",
   "execution_count": null,
   "id": "c9d124f2",
   "metadata": {},
   "outputs": [],
   "source": [
    "l=\"69.0 & 59.0 & 79.6 & 81.0\""
   ]
  },
  {
   "cell_type": "code",
   "execution_count": null,
   "id": "6551c00a",
   "metadata": {},
   "outputs": [],
   "source": [
    "l=\"69.0 & 59.0 & 79.6 & 80.9\""
   ]
  },
  {
   "cell_type": "code",
   "execution_count": null,
   "id": "bed7db7c",
   "metadata": {},
   "outputs": [],
   "source": [
    "l=\"68.8 & 58.4 & 79.4 & 80.9\""
   ]
  },
  {
   "cell_type": "code",
   "execution_count": null,
   "id": "d1fad413",
   "metadata": {},
   "outputs": [],
   "source": [
    "l =\"\"\"            91.6           & 84.6           & 98.1           & 84.2           & 89.7   \n",
    "            89.5           & 83.2           & 97.9           & 83.3           & 88.5         \n",
    "            89.3           & 82.0           & 98.5           & 82.7           & 88.1\"\"\""
   ]
  },
  {
   "cell_type": "code",
   "execution_count": null,
   "id": "6b5b8d07",
   "metadata": {},
   "outputs": [],
   "source": []
  },
  {
   "cell_type": "code",
   "execution_count": null,
   "id": "d1837ae7",
   "metadata": {},
   "outputs": [],
   "source": []
  },
  {
   "cell_type": "code",
   "execution_count": null,
   "id": "a29ba009",
   "metadata": {},
   "outputs": [],
   "source": [
    "l=\"66.873 & 57.434 & 78.531 & 80.193\""
   ]
  },
  {
   "cell_type": "code",
   "execution_count": null,
   "id": "532ae7e3",
   "metadata": {},
   "outputs": [],
   "source": [
    "l=\"67.656 & 58.213 & 79.185 & 79.573 \""
   ]
  },
  {
   "cell_type": "code",
   "execution_count": null,
   "id": "994ac0e8",
   "metadata": {},
   "outputs": [],
   "source": [
    "l=\" 89.6           & 81.3           & 97.4           & 81.5\""
   ]
  },
  {
   "cell_type": "code",
   "execution_count": null,
   "id": "379314a6",
   "metadata": {},
   "outputs": [],
   "source": [
    "mean(clean(l))"
   ]
  },
  {
   "cell_type": "code",
   "execution_count": null,
   "id": "e56173a0",
   "metadata": {},
   "outputs": [],
   "source": [
    "l=\"66.5           & 56.7           & 78.0           & 80.5\""
   ]
  },
  {
   "cell_type": "code",
   "execution_count": null,
   "id": "f949283b",
   "metadata": {},
   "outputs": [],
   "source": [
    "l=\"66.7           & 57.8           & 79.2           & 79.4\""
   ]
  },
  {
   "cell_type": "code",
   "execution_count": null,
   "id": "876ef50b",
   "metadata": {},
   "outputs": [],
   "source": [
    "l=\"89.6           & 79.3           & 97.4           & 81.5\""
   ]
  },
  {
   "cell_type": "code",
   "execution_count": null,
   "id": "a9adfe9c",
   "metadata": {},
   "outputs": [],
   "source": [
    "l=\"\"\"            DWA Greedyt0                 & 66.9           & 56.6           & 78.2           & 79.8           & 70.4         \\\\\n",
    "            DWA Greedyt1                 & 66.7           & 57.8           & 79.2           & 79.4           & 70.8         \\\\\n",
    "            DWA Greedyt2                 & 66.5           & 56.7           & 78.0           & 80.5           & 70.4         \\\\\"\"\""
   ]
  },
  {
   "cell_type": "code",
   "execution_count": null,
   "id": "49324c87",
   "metadata": {},
   "outputs": [],
   "source": [
    "l=\"\"\"\n",
    "            DWA Growt0           & 91.6           & 83.7           & 98.2           & 81.6           & 88.8         \\\\\n",
    "            DWA Growt1           & 89.6           & 81.6           & 97.4           & 83.5           & 88.8         \\\\\n",
    "            DWA Growt2           & 89.6           & 79.3           & 97.4           & 81.5           & 88.8         \\\\\n",
    "\"\"\""
   ]
  },
  {
   "cell_type": "code",
   "execution_count": null,
   "id": "9814c288",
   "metadata": {},
   "outputs": [],
   "source": [
    "l=\"\"\"\n",
    "            DWA Growt0           & 91.6           & 83.7           & 98.2           & 81.6           & 88.8         \\\\\n",
    "            DWA Growt1           & 89.6           & 81.6           & 97.4           & 83.5           & 88.0         \\\\\n",
    "            DWA Growt2           & 89.6           & 81.3           & 97.4           & 81.5           & 87.5         \\\\\n",
    "\"\"\""
   ]
  },
  {
   "cell_type": "code",
   "execution_count": null,
   "id": "8db40929",
   "metadata": {},
   "outputs": [],
   "source": [
    "l=\"\"\"\n",
    "            67.5           & 58.0           & 79.2           & 79.9           & 71.1         \\\\\n",
    "            67.656 & 58.213 & 79.185 & 79.573 & 71.2 \\\\\n",
    "            66.873 & 57.434 & 78.531 & 80.193 & 70.8  \\\\\n",
    "\"\"\""
   ]
  },
  {
   "cell_type": "code",
   "execution_count": null,
   "id": "ab195cc4",
   "metadata": {},
   "outputs": [],
   "source": [
    "l=\"\"\"\n",
    "            DWA Greedy         & 90.8           & 83.1           & 97.8           & 81.0           & 88.2         \\\\\n",
    "            DWA Greedy1           & 89.6           & 81.6           & 97.4           & 83.5           & 88.0         \\\\\n",
    "            DWA Greedy2           & 89.6           & 81.3           & 97.4           & 81.5           & 87.5         \\\\\n",
    "\"\"\""
   ]
  },
  {
   "cell_type": "code",
   "execution_count": null,
   "id": "1228f51f",
   "metadata": {},
   "outputs": [],
   "source": [
    "average(l)"
   ]
  },
  {
   "cell_type": "code",
   "execution_count": null,
   "id": "9bab9264",
   "metadata": {},
   "outputs": [],
   "source": [
    "l=\"89.3           & 82.0           & 98.5           & 82.7\""
   ]
  },
  {
   "cell_type": "code",
   "execution_count": null,
   "id": "39349652",
   "metadata": {},
   "outputs": [],
   "source": [
    "l=\"89.5           & 83.2           & 97.9           & 83.3\""
   ]
  },
  {
   "cell_type": "code",
   "execution_count": null,
   "id": "dcf9a08c",
   "metadata": {},
   "outputs": [],
   "source": [
    "l=\"90.5 & 83.7 & 98.2 & 83.8\""
   ]
  },
  {
   "cell_type": "code",
   "execution_count": null,
   "id": "9a9af440",
   "metadata": {},
   "outputs": [],
   "source": [
    "l=\"67.7 & 58.8 & 79.4 & 80.5\""
   ]
  },
  {
   "cell_type": "code",
   "execution_count": null,
   "id": "046dcdce",
   "metadata": {},
   "outputs": [],
   "source": [
    "l=\"90.8           & 83.1           & 97.9           & 80.8\""
   ]
  },
  {
   "cell_type": "code",
   "execution_count": null,
   "id": "08546ea0",
   "metadata": {},
   "outputs": [],
   "source": [
    "l=\"86.2 $\\pm$ 0.3 & 78.8 $\\pm$ 0.6 & 68.7 $\\pm$ 0.3      & 47.6 $\\pm$ 1.0    & 41.5 $\\pm$ 0.1\""
   ]
  },
  {
   "cell_type": "code",
   "execution_count": null,
   "id": "43b1a1f1",
   "metadata": {},
   "outputs": [],
   "source": [
    "l=\"98.2           & 64.2           & 75.3           & 79.6\""
   ]
  },
  {
   "cell_type": "code",
   "execution_count": null,
   "id": "c07e7ae7",
   "metadata": {},
   "outputs": [],
   "source": [
    "l=\"90.8           & 83.0           & 97.8           & 81.0\""
   ]
  },
  {
   "cell_type": "code",
   "execution_count": null,
   "id": "1bd0c76a",
   "metadata": {},
   "outputs": [],
   "source": [
    "l=\"98.3 & 64.3 & 76.4 & 79.3\""
   ]
  },
  {
   "cell_type": "code",
   "execution_count": null,
   "id": "abd45b85",
   "metadata": {},
   "outputs": [],
   "source": [
    "l=\"90.7 & 83.7 & 98.5 & 82.1\""
   ]
  },
  {
   "cell_type": "code",
   "execution_count": null,
   "id": "7d5ab90d",
   "metadata": {},
   "outputs": [],
   "source": [
    "l=\"98.3 & 62.8 & 75.3 & 80.5\""
   ]
  },
  {
   "cell_type": "code",
   "execution_count": null,
   "id": "a2e912d5",
   "metadata": {},
   "outputs": [],
   "source": [
    "l=\"98.9           & 65.7           & 76.4           & 79.9    \""
   ]
  },
  {
   "cell_type": "code",
   "execution_count": null,
   "id": "f7495f3f",
   "metadata": {},
   "outputs": [],
   "source": [
    "l= \"57.5           & 48.0           & 60.2           & 40.7     \""
   ]
  },
  {
   "cell_type": "code",
   "execution_count": null,
   "id": "7d00385a",
   "metadata": {},
   "outputs": [],
   "source": [
    "l=\"98.2/98.4            & 64.2/63.8              & 75.9/75.6      &  79.0/79.9\""
   ]
  },
  {
   "cell_type": "code",
   "execution_count": null,
   "id": "8dfa58c8",
   "metadata": {},
   "outputs": [],
   "source": [
    "l=\"90.2/90.3      & 82.0/80.3      & 98.4/98.7      & 84.2/81.8\""
   ]
  },
  {
   "cell_type": "code",
   "execution_count": null,
   "id": "3931d3d8",
   "metadata": {},
   "outputs": [],
   "source": [
    "l=\"90.5           & 80.7           & 98.3           & 79.4\""
   ]
  },
  {
   "cell_type": "code",
   "execution_count": null,
   "id": "b3a11540",
   "metadata": {},
   "outputs": [],
   "source": [
    "l=\"67.1           & 57.0           & 79.8           & 80.9 \""
   ]
  },
  {
   "cell_type": "code",
   "execution_count": null,
   "id": "98bdcacd",
   "metadata": {},
   "outputs": [],
   "source": [
    "l=\"66.8 & 57.4 & 79.2 & 81.0\""
   ]
  },
  {
   "cell_type": "code",
   "execution_count": null,
   "id": "cfc941a6",
   "metadata": {},
   "outputs": [],
   "source": [
    "l=\"98.5           & 64.6           & 72.9           & 76.9\""
   ]
  },
  {
   "cell_type": "code",
   "execution_count": null,
   "id": "1c78cc25",
   "metadata": {},
   "outputs": [],
   "source": [
    "l=\"98.7 & 63.4 & 74.1 & 78.0\""
   ]
  },
  {
   "cell_type": "code",
   "execution_count": null,
   "id": "a205ed58",
   "metadata": {},
   "outputs": [],
   "source": [
    "l=\"98.8/98.8      & 62.8/63.3      & 74.0/74.9      & 77.6/78.9   \""
   ]
  },
  {
   "cell_type": "code",
   "execution_count": null,
   "id": "02f3b31a",
   "metadata": {},
   "outputs": [],
   "source": [
    "l=\"89.6           & 80.3           & 98.5           & 81.5\""
   ]
  },
  {
   "cell_type": "code",
   "execution_count": null,
   "id": "206768ad",
   "metadata": {},
   "outputs": [],
   "source": [
    "l = \"89.8           & 81.4           & 97.9           & 82.9\""
   ]
  },
  {
   "cell_type": "code",
   "execution_count": null,
   "id": "ff927a92",
   "metadata": {},
   "outputs": [],
   "source": []
  }
 ],
 "metadata": {
  "kernelspec": {
   "display_name": "Python pytorch",
   "language": "python",
   "name": "pytorch"
  },
  "language_info": {
   "codemirror_mode": {
    "name": "ipython",
    "version": 3
   },
   "file_extension": ".py",
   "mimetype": "text/x-python",
   "name": "python",
   "nbconvert_exporter": "python",
   "pygments_lexer": "ipython3",
   "version": "3.7.10"
  }
 },
 "nbformat": 4,
 "nbformat_minor": 5
}
