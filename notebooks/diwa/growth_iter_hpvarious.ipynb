{
 "cells": [
  {
   "cell_type": "code",
   "execution_count": 1,
   "id": "e3f386a3",
   "metadata": {},
   "outputs": [],
   "source": [
    "%load_ext autoreload\n",
    "%autoreload 2"
   ]
  },
  {
   "cell_type": "code",
   "execution_count": null,
   "id": "bb12e7af",
   "metadata": {},
   "outputs": [],
   "source": [
    "from data.terra import iter_hpvarious_env0\n",
    "l_eoa = [x for x in iter_hpvarious_env0.l if x[\"dir\"] == \"erm203shhpeoa0326terra\"]\n",
    "l_se = [x for x in iter_hpvarious_env0.l if x[\"dir\"] == \"erm203shhpse0326terra\"]\n",
    "l_s = [x for x in iter_hpvarious_env0.l if x[\"dir\"] == \"erm203shhps0326terra\"]\n",
    "l_large = [x for x in iter_hpvarious_env0.l if x[\"dir\"] == \"erm203sh0325terra\"]"
   ]
  },
  {
   "cell_type": "code",
   "execution_count": 2,
   "id": "cdb1f1a2",
   "metadata": {},
   "outputs": [],
   "source": [
    "from data.home import iter_hpse_env0\n",
    "l_se = [x for x in iter_hpse_env0.l if x[\"dir\"] == \"ermshhpse0327\"]\n",
    "l_s = [x for x in iter_hpse_env0.l if x[\"dir\"] == \"ermshhps0327\"]\n",
    "from data.home import liter_hpeoa, liter_hpl\n",
    "l_eoa = liter_hpeoa.leoa\n",
    "l_large = liter_hpl.lsoup"
   ]
  },
  {
   "cell_type": "code",
   "execution_count": null,
   "id": "1005e9b5",
   "metadata": {},
   "outputs": [],
   "source": [
    "from data.vlcs import iter_hpvarious_env0\n",
    "l_se = [x for x in iter_hpvarious_env0.l if x[\"dir\"] == \"erm203shhpse326vlcs\"]\n",
    "l_s = [x for x in iter_hpvarious_env0.l if x[\"dir\"] == \"erm203shhps326vlcs\"]\n",
    "l_large = [x for x in iter_hpvarious_env0.l if x[\"dir\"] == \"erm203sh0325vlcs\"]\n",
    "from data.vlcs import iter_hpeoa_env01\n",
    "l_eoa = iter_hpeoa_env01.leoa[0]"
   ]
  },
  {
   "cell_type": "code",
   "execution_count": null,
   "id": "cecda29f",
   "metadata": {},
   "outputs": [],
   "source": [
    "from data.pacs import iter_hpvarious_env0\n",
    "l_eoa = [x for x in iter_hpvarious_env0.l if x[\"dir\"] == \"ermhpeoa\"]\n",
    "l_se = [x for x in iter_hpvarious_env0.l if x[\"dir\"] == \"erm203shhpse0326pacs\"]\n",
    "l_s = [x for x in iter_hpvarious_env0.l if x[\"dir\"] == \"erm203shhps0326pacs\"]\n",
    "l_large = [x for x in iter_hpvarious_env0.l if x[\"dir\"] == \"ermhpl\"]"
   ]
  },
  {
   "cell_type": "code",
   "execution_count": 3,
   "id": "52a07aa7",
   "metadata": {},
   "outputs": [],
   "source": [
    "list_l = [l_eoa, l_se, l_s, l_large]"
   ]
  },
  {
   "cell_type": "code",
   "execution_count": 4,
   "id": "5e4c347f",
   "metadata": {},
   "outputs": [],
   "source": [
    "import matplotlib.pyplot as plt\n",
    "def x(l, key):\n",
    "    return [i[key] for i in l]# if i[\"thess\"]<2200]"
   ]
  },
  {
   "cell_type": "code",
   "execution_count": 5,
   "id": "5f567c96",
   "metadata": {},
   "outputs": [],
   "source": [
    "from codeplot.plot import dict_key_to_label, get_x, dict_key_to_limit, plot_iter, plot_soup_soupswa\n"
   ]
  },
  {
   "cell_type": "code",
   "execution_count": 6,
   "id": "c534d89e",
   "metadata": {},
   "outputs": [],
   "source": [
    "from codeplot.plot import *"
   ]
  },
  {
   "cell_type": "code",
   "execution_count": 7,
   "id": "257b6bc8",
   "metadata": {},
   "outputs": [],
   "source": []
  },
  {
   "cell_type": "code",
   "execution_count": 8,
   "id": "b83e7d76",
   "metadata": {},
   "outputs": [],
   "source": [
    "import matplotlib.pyplot as plt\n",
    "plt.rcParams[\"figure.figsize\"] = (4,4)"
   ]
  },
  {
   "cell_type": "code",
   "execution_count": null,
   "id": "40087d56",
   "metadata": {},
   "outputs": [],
   "source": [
    "dict_key_to_limit = {\"soup\":[0.65, 0.70], \"soupswa\":[0.65, 0.70]}"
   ]
  },
  {
   "cell_type": "code",
   "execution_count": null,
   "id": "a95f6236",
   "metadata": {},
   "outputs": [],
   "source": []
  },
  {
   "cell_type": "code",
   "execution_count": 9,
   "id": "d07afbf9",
   "metadata": {},
   "outputs": [],
   "source": [
    "labels = [\"EoA\", \"SE\", \"SWAD\", \"Large\"]"
   ]
  },
  {
   "cell_type": "code",
   "execution_count": 12,
   "id": "ef9e81d1",
   "metadata": {},
   "outputs": [
    {
     "data": {
      "image/png": "[encoded data removed]",
      "text/plain": [
       "<Figure size 288x288 with 1 Axes>"
      ]
     },
     "metadata": {
      "needs_background": "light"
     },
     "output_type": "display_data"
    }
   ],
   "source": [
    "plot_iter_dir(\"length\", \"soupswa\", list_l, labels, order=\"0\", dict_key_to_limit=dict_key_to_limit)"
   ]
  },
  {
   "cell_type": "code",
   "execution_count": null,
   "id": "4b2bbc7c",
   "metadata": {},
   "outputs": [],
   "source": [
    "plot_iter_dir(\"length\", \"soupswa\", list_l, labels, order=\"\",dict_key_to_limit=dict_key_to_limit)"
   ]
  },
  {
   "cell_type": "code",
   "execution_count": null,
   "id": "1e5eb5b2",
   "metadata": {},
   "outputs": [],
   "source": [
    "plot_iter_dir(\"length\", \"soup\", list_l, labels, order=\"\",dict_key_to_limit=dict_key_to_limit)"
   ]
  },
  {
   "cell_type": "code",
   "execution_count": null,
   "id": "ae129f58",
   "metadata": {},
   "outputs": [],
   "source": [
    "plot_iter(\"length\", \"soup\", order=\"2log\")"
   ]
  },
  {
   "cell_type": "code",
   "execution_count": null,
   "id": "1f1681a1",
   "metadata": {},
   "outputs": [],
   "source": [
    "def plot_soup_soupswa(key1, keys2, order=1):\n",
    "    plt.xlabel(dict_key_to_label.get(key1, key1))\n",
    "    plt.ylabel(dict_key_to_label[\"soup\"])\n",
    "\n",
    "    def plot_with_int(l, color, label, key2):\n",
    "        t = x(l, key1)\n",
    "        if t == []:\n",
    "            return\n",
    "        plt.scatter(x(l, key1), get_x(l, key2), color=color, label=label if order != 1 else None)\n",
    "        fit_and_plot(key1, key2, l, order, label, color)\n",
    "\n",
    "\n",
    "    colors = [\"blue\", \"yellow\"]\n",
    "    labels = [\n",
    "        \"SOUP: $\\\\{\\\\theta_m\\\\}_1^M$ last checkpoints from different runs\",\n",
    "        \"SOUPSWA: $\\\\{\\\\theta_m\\\\}_1^M$ SWA from different runs\"\n",
    "    ]\n",
    "    #plot_with_int(l0, color=\"grey\", key2=\"soup\", label=\"swa\")\n",
    "    for  i, key2 in enumerate(keys2):\n",
    "        plot_with_int(l2, key2=key2, color=colors[i], label=labels[i])\n",
    "\n",
    "    plt.legend()"
   ]
  },
  {
   "cell_type": "code",
   "execution_count": null,
   "id": "883e4bd0",
   "metadata": {},
   "outputs": [],
   "source": [
    "plot_soup_soupswa(\"length\", keys2=[\"soup\", \"soupswa\"], order=2)"
   ]
  },
  {
   "cell_type": "code",
   "execution_count": null,
   "id": "b335950b",
   "metadata": {},
   "outputs": [],
   "source": [
    "plot_soup_soupswa(\"length\", keys2=[\"soup\", \"soupswa\"], order=2)"
   ]
  },
  {
   "cell_type": "code",
   "execution_count": null,
   "id": "8ddd92b7",
   "metadata": {},
   "outputs": [],
   "source": [
    "plot_soup_soupswa(\"length\", keys2=[\"hess\", \"thess\"], order=\"2log\")"
   ]
  },
  {
   "cell_type": "code",
   "execution_count": null,
   "id": "ebf0f3ab",
   "metadata": {},
   "outputs": [],
   "source": [
    "plot_key_swa(\"length\", keys2=[\"soup\", \"soupswa\"], order=\"2log\")"
   ]
  },
  {
   "cell_type": "code",
   "execution_count": null,
   "id": "7d5956bb",
   "metadata": {},
   "outputs": [],
   "source": []
  },
  {
   "cell_type": "code",
   "execution_count": null,
   "id": "ee786f80",
   "metadata": {},
   "outputs": [],
   "source": [
    "plot_key(\"length\", \"thess\", order=\"2log\")"
   ]
  },
  {
   "cell_type": "code",
   "execution_count": null,
   "id": "3bfccd9e",
   "metadata": {},
   "outputs": [],
   "source": [
    "plot_key(\"thess\", \"soup\")"
   ]
  },
  {
   "cell_type": "code",
   "execution_count": null,
   "id": "82aef47d",
   "metadata": {},
   "outputs": [],
   "source": [
    "plot_key(\"length\", \"hess\", order=\"2log\")"
   ]
  },
  {
   "cell_type": "code",
   "execution_count": null,
   "id": "6b5c7683",
   "metadata": {},
   "outputs": [],
   "source": []
  }
 ],
 "metadata": {
  "kernelspec": {
   "display_name": "Python pytorch",
   "language": "python",
   "name": "pytorch"
  },
  "language_info": {
   "codemirror_mode": {
    "name": "ipython",
    "version": 3
   },
   "file_extension": ".py",
   "mimetype": "text/x-python",
   "name": "python",
   "nbconvert_exporter": "python",
   "pygments_lexer": "ipython3",
   "version": "3.6.7"
  }
 },
 "nbformat": 4,
 "nbformat_minor": 5
}
