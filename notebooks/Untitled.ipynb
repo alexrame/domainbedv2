{
 "cells": [
  {
   "cell_type": "code",
   "execution_count": 1,
   "id": "ba1e063c",
   "metadata": {},
   "outputs": [],
   "source": [
    "c = [0.8, 0.2]\n",
    "r = [0.7, 0.3]\n",
    "b = [0.6, 0.4]"
   ]
  },
  {
   "cell_type": "code",
   "execution_count": 3,
   "id": "54ef3013",
   "metadata": {},
   "outputs": [
    {
     "name": "stdout",
     "output_type": "stream",
     "text": [
      "000 0.33599999999999997\n",
      "001 0.22399999999999998\n",
      "010 0.144\n",
      "011 0.096\n",
      "100 0.08399999999999999\n",
      "101 0.055999999999999994\n",
      "110 0.036\n",
      "111 0.024\n"
     ]
    }
   ],
   "source": [
    "for i in range(2):\n",
    "    for j in range(2):\n",
    "        for k in range(2):\n",
    "            print(f\"{i}{j}{k}\", c[i]*r[j]*b[k])"
   ]
  },
  {
   "cell_type": "code",
   "execution_count": null,
   "id": "7621dc91",
   "metadata": {},
   "outputs": [],
   "source": []
  }
 ],
 "metadata": {
  "kernelspec": {
   "display_name": "Python pytorch",
   "language": "python",
   "name": "pytorch"
  },
  "language_info": {
   "codemirror_mode": {
    "name": "ipython",
    "version": 3
   },
   "file_extension": ".py",
   "mimetype": "text/x-python",
   "name": "python",
   "nbconvert_exporter": "python",
   "pygments_lexer": "ipython3",
   "version": "3.6.7"
  }
 },
 "nbformat": 4,
 "nbformat_minor": 5
}
