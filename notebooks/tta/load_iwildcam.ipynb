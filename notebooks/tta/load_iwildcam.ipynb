{
 "cells": [
  {
   "cell_type": "code",
   "execution_count": 1,
   "id": "2b675785",
   "metadata": {},
   "outputs": [
    {
     "name": "stderr",
     "output_type": "stream",
     "text": [
      "WARNING:root:The WILDS package is out of date. Your version is 1.1.0, while the latest version is 2.0.0.\n"
     ]
    }
   ],
   "source": [
    "from wilds.datasets.iwildcam_dataset import IWildCamDataset"
   ]
  },
  {
   "cell_type": "code",
   "execution_count": 2,
   "id": "7f9987e6",
   "metadata": {},
   "outputs": [],
   "source": [
    "root = \"/data/rame/data/domainbed/\""
   ]
  },
  {
   "cell_type": "code",
   "execution_count": 3,
   "id": "c2c12046",
   "metadata": {},
   "outputs": [],
   "source": [
    "wilds_dataset = IWildCamDataset(root_dir=root)"
   ]
  },
  {
   "cell_type": "code",
   "execution_count": 4,
   "id": "ead8ed19",
   "metadata": {},
   "outputs": [],
   "source": [
    "def metadata_values(wilds_dataset, metadata_name):\n",
    "    metadata_index = wilds_dataset.metadata_fields.index(metadata_name)\n",
    "    metadata_vals = wilds_dataset.metadata_array[:, metadata_index]\n",
    "    return sorted(list(set(metadata_vals.view(-1).tolist())))"
   ]
  },
  {
   "cell_type": "code",
   "execution_count": 5,
   "id": "ee7bf9b5",
   "metadata": {},
   "outputs": [],
   "source": [
    "metadata_values = metadata_values(wilds_dataset, \"location\")"
   ]
  },
  {
   "cell_type": "code",
   "execution_count": 7,
   "id": "8753e230",
   "metadata": {},
   "outputs": [],
   "source": [
    "value_range = 36"
   ]
  },
  {
   "cell_type": "code",
   "execution_count": 8,
   "id": "5ca6c7bd",
   "metadata": {},
   "outputs": [],
   "source": [
    "metadata_ranges = [\n",
    "    metadata_values[i: i + value_range]\n",
    "    for i in range(0, len(metadata_values), value_range)]"
   ]
  },
  {
   "cell_type": "code",
   "execution_count": 11,
   "id": "6cc6a982",
   "metadata": {},
   "outputs": [],
   "source": [
    "import torch"
   ]
  },
  {
   "cell_type": "code",
   "execution_count": 16,
   "id": "39dfcf34",
   "metadata": {},
   "outputs": [
    {
     "name": "stdout",
     "output_type": "stream",
     "text": [
      "0 22659\n",
      "36 17567\n",
      "72 17743\n",
      "108 19865\n",
      "144 17880\n",
      "180 27262\n",
      "216 19272\n",
      "252 23728\n",
      "288 37053\n"
     ]
    }
   ],
   "source": [
    "metadata_index = wilds_dataset.metadata_fields.index(\"location\")\n",
    "for metadata_range in metadata_ranges:\n",
    "    list_subset_indices = [\n",
    "        torch.where(wilds_dataset.metadata_array[:, metadata_index] == metadata_value)[0]\n",
    "        for metadata_value in metadata_range]\n",
    "    subset_indices = torch.cat(list_subset_indices)\n",
    "    print(metadata_range[0], len(subset_indices))"
   ]
  },
  {
   "cell_type": "code",
   "execution_count": null,
   "id": "545be48f",
   "metadata": {},
   "outputs": [],
   "source": [
    "for metadata_value in values:\n",
    "    subset_indices = torch.where(wilds_dataset.metadata_array[:, metadata_index] == metadata_value)[0]\n",
    "    print(metadata_value, len(subset_indices))"
   ]
  },
  {
   "cell_type": "code",
   "execution_count": null,
   "id": "7f22c5a9",
   "metadata": {},
   "outputs": [],
   "source": [
    "torch.where(wilds_dataset.metadata_array[:, metadata_index] == metadata_value)[0]"
   ]
  },
  {
   "cell_type": "code",
   "execution_count": null,
   "id": "bef84cc4",
   "metadata": {},
   "outputs": [],
   "source": []
  },
  {
   "cell_type": "code",
   "execution_count": null,
   "id": "126017b7",
   "metadata": {},
   "outputs": [],
   "source": [
    "subset_indices"
   ]
  },
  {
   "cell_type": "code",
   "execution_count": null,
   "id": "7df30118",
   "metadata": {},
   "outputs": [],
   "source": []
  }
 ],
 "metadata": {
  "kernelspec": {
   "display_name": "Python DomainBed",
   "language": "python",
   "name": "bias"
  },
  "language_info": {
   "codemirror_mode": {
    "name": "ipython",
    "version": 3
   },
   "file_extension": ".py",
   "mimetype": "text/x-python",
   "name": "python",
   "nbconvert_exporter": "python",
   "pygments_lexer": "ipython3",
   "version": "3.7.10"
  }
 },
 "nbformat": 4,
 "nbformat_minor": 5
}
