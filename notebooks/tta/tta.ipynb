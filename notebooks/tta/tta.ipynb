{
 "cells": [
  {
   "cell_type": "code",
   "execution_count": 1,
   "metadata": {},
   "outputs": [],
   "source": [
    "%load_ext autoreload\n",
    "%autoreload 2"
   ]
  },
  {
   "cell_type": "code",
   "execution_count": 2,
   "metadata": {},
   "outputs": [],
   "source": [
    "import os, json, sys"
   ]
  },
  {
   "cell_type": "code",
   "execution_count": 3,
   "metadata": {},
   "outputs": [],
   "source": [
    "os.environ[\"INCLUDEVAL_UPTO\"] = \"4\""
   ]
  },
  {
   "cell_type": "code",
   "execution_count": 4,
   "metadata": {},
   "outputs": [],
   "source": [
    "os.environ[\"WHICHMODEL\"] =\"stepbest\"\n",
    "os.environ[\"CUDA_VISIBLE_DEVICES\"]=\"0\" "
   ]
  },
  {
   "cell_type": "code",
   "execution_count": null,
   "metadata": {},
   "outputs": [],
   "source": [
    "class FakeArgsHome0old():\n",
    "    seed = 0\n",
    "    dataset = \"OfficeHome\"\n",
    "    test_env = 0\n",
    "    train_envs = []\n",
    "    output_dir = [\"/data/rame/experiments/domainbed/home0_ma_lp_0824\"]\n",
    "    trial_seed = 0\n",
    "    data_dir = \"/data/rame/data/domainbed\"\n",
    "    checkpoints= [\n",
    "        {\n",
    "            \"name\": \"/data/rame/data/domainbed/inits/model_home0_ermll_saveall_si_0822.pkl\", \"weight\": 0, \"type\": \"featurizer\",\n",
    "        },\n",
    "        {\"name\": \"/data/rame/data/domainbed/inits/dn1_erm02345_lp_r0_0921.pkl\", \"weight\": 0, \"type\": \"featurizeronly\"\n",
    "},\n",
    "        {\"name\": \"/data/rame/fb/iwild_ermf_lp_r0_t0_0926.pkl\", \"weight\": 0, \"type\": \"featurizeronly\"}\n",
    "    ]\n",
    "    weighting = \"norm\"\n",
    "    weight_selection = \"train\"\n",
    "    topk = 1\n",
    "    what = [\"addfeats\"]\n",
    "    hparams = json.loads('{\"do_feats\": 1.0}')"
   ]
  },
  {
   "cell_type": "code",
   "execution_count": null,
   "metadata": {},
   "outputs": [],
   "source": [
    "class FakeArgsHome0():\n",
    "    seed = 0\n",
    "    dataset = \"OfficeHome\"\n",
    "    test_env = 0\n",
    "    train_envs = []\n",
    "    output_dir = [\"/data/rame/fb/home0_ermf_lp_0926\"]\n",
    "    trial_seed = 0\n",
    "    data_dir = \"/data/rame/data/domainbed\"\n",
    "    checkpoints= [\n",
    "        {\n",
    "            \"name\": \"/data/rame/fb/home0_lp_0926.pkl\", \"weight\": 0, \"type\": \"featurizer\",\n",
    "        },\n",
    "        {\"name\": \"/data/rame/fb/dn_ermf_lp_r0_t0_0926.pkl\", \"weight\": 0, \"type\": \"featurizeronly\"\n",
    "        },\n",
    "        {\"name\": \"/data/rame/fb/iwild_ermf_lp_r0_t0_0926.pkl\", \"weight\": 0, \"type\": \"featurizeronly\"}\n",
    "    ]\n",
    "    weighting = \"norm\"\n",
    "    weight_selection = \"train\"\n",
    "    topk = 1\n",
    "    what = [\"addfeats\"]\n",
    "    hparams = json.loads('{\"do_feats\": 1.0}')"
   ]
  },
  {
   "cell_type": "code",
   "execution_count": 5,
   "metadata": {},
   "outputs": [],
   "source": [
    "class FakeArgsTerra1():\n",
    "    seed = 0\n",
    "    dataset = \"TerraIncognita\"\n",
    "    test_env = 1\n",
    "    train_envs = []\n",
    "    output_dir = [\"/data/rame/fb/terra1_ermf_lp_0926\"]\n",
    "    trial_seed = 0\n",
    "    data_dir = \"/data/rame/data/domainbed\"\n",
    "    checkpoints= [\n",
    "        {\n",
    "            \"name\": \"/data/rame/fb/terra1_lp_0926.pkl\", \"weight\": 0, \"type\": \"featurizer\",\n",
    "        },\n",
    "        {\"name\": \"/data/rame/fb/dn_ermf_lp_r0_t0_0926.pkl\", \"weight\": 0, \"type\": \"featurizeronly\"\n",
    "        },\n",
    "        {\"name\": \"/data/rame/fb/iwild_ermf_lp_r0_t0_0926.pkl\", \"weight\": 0, \"type\": \"featurizeronly\"}\n",
    "    ]\n",
    "    weighting = \"norm\"\n",
    "    weight_selection = \"train\"\n",
    "    topk = 1\n",
    "    what = [\"addfeats\"]\n",
    "    hparams = json.loads('{\"do_feats\": 1.0}')"
   ]
  },
  {
   "cell_type": "code",
   "execution_count": 6,
   "metadata": {},
   "outputs": [],
   "source": [
    "inf_args = FakeArgsTerra1()"
   ]
  },
  {
   "cell_type": "code",
   "execution_count": 7,
   "metadata": {},
   "outputs": [],
   "source": [
    "sys.path.append(\"/home/rame/domainbedv2\")"
   ]
  },
  {
   "cell_type": "code",
   "execution_count": 8,
   "metadata": {},
   "outputs": [
    {
     "name": "stderr",
     "output_type": "stream",
     "text": [
      "/home/rame/anaconda3/envs/pytorch/lib/python3.7/site-packages/tqdm/auto.py:22: TqdmWarning: IProgress not found. Please update jupyter and ipywidgets. See https://ipywidgets.readthedocs.io/en/stable/user_install.html\n",
      "  from .autonotebook import tqdm as notebook_tqdm\n"
     ]
    }
   ],
   "source": [
    "from domainbed.scripts import diwa"
   ]
  },
  {
   "cell_type": "code",
   "execution_count": 9,
   "metadata": {},
   "outputs": [],
   "source": [
    "import argparse\n",
    "import os\n",
    "import json\n",
    "import random\n",
    "import numpy as np\n",
    "import torch\n",
    "import torch.utils.data\n",
    "from domainbed import datasets, algorithms_inference\n",
    "from domainbed.lib import misc\n",
    "from domainbed.lib.fast_data_loader import FastDataLoader, InfiniteDataLoader\n",
    "from domainbed.lib import misc"
   ]
  },
  {
   "cell_type": "code",
   "execution_count": 10,
   "metadata": {},
   "outputs": [],
   "source": [
    "device = \"cuda\"\n",
    "random.seed(inf_args.seed)\n",
    "np.random.seed(inf_args.seed)\n",
    "torch.manual_seed(inf_args.seed)\n",
    "torch.backends.cudnn.deterministic = True\n",
    "torch.backends.cudnn.benchmark = False"
   ]
  },
  {
   "cell_type": "code",
   "execution_count": null,
   "metadata": {},
   "outputs": [],
   "source": []
  },
  {
   "cell_type": "code",
   "execution_count": 11,
   "metadata": {},
   "outputs": [],
   "source": [
    "dataset_class = vars(datasets)[inf_args.dataset]\n",
    "dataset = dataset_class(\n",
    "    inf_args.data_dir, [inf_args.test_env],\n",
    "    hparams={\"data_augmentation\": os.environ.get(\"DATAAUG\", \"0\") == \"1\"}\n",
    "\n",
    ")"
   ]
  },
  {
   "cell_type": "code",
   "execution_count": 12,
   "metadata": {},
   "outputs": [],
   "source": [
    "list_dict_checkpoint_to_score_i = []\n",
    "for output_dir in inf_args.output_dir:\n",
    "    list_dict_checkpoint_to_score_i.append(\n",
    "        diwa.get_dict_checkpoint_to_score(output_dir, inf_args, train_envs=inf_args.train_envs, device=device)\n",
    "    )"
   ]
  },
  {
   "cell_type": "code",
   "execution_count": 13,
   "metadata": {},
   "outputs": [
    {
     "name": "stdout",
     "output_type": "stream",
     "text": [
      "Found:  /data/rame/fb/terra1_ermf_lp_0926/956e1dc49b49e71b9c22b2247dab508a/model_best.pkl  with score:  0.9051616113503188\n"
     ]
    }
   ],
   "source": [
    "dict_checkpoint_to_score, sorted_checkpoints = diwa.merge_checkpoints(\n",
    "    inf_args, list_dict_checkpoint_to_score_i\n",
    ")\n",
    "dict_data_splits = diwa.create_data_splits(inf_args, dataset)"
   ]
  },
  {
   "cell_type": "code",
   "execution_count": 14,
   "metadata": {},
   "outputs": [],
   "source": [
    "selected_checkpoints = [\n",
    "        {\n",
    "            \"name\": checkpoint,\n",
    "            \"weight\": diwa.weighting_checkpoint(\n",
    "                checkpoint, inf_args.weighting, dict_checkpoint_to_score,\n",
    "                len(sorted_checkpoints)),\n",
    "            \"type\": \"network\"\n",
    "        } for checkpoint in sorted_checkpoints\n",
    "    ]"
   ]
  },
  {
   "cell_type": "code",
   "execution_count": 15,
   "metadata": {},
   "outputs": [],
   "source": [
    "wa_algorithm = algorithms_inference.TrainableDiWA(\n",
    "    dataset.input_shape,\n",
    "    dataset.num_classes,\n",
    "    len(dataset) - 1,\n",
    "    hparams=inf_args.hparams\n",
    ")"
   ]
  },
  {
   "cell_type": "code",
   "execution_count": 16,
   "metadata": {},
   "outputs": [],
   "source": [
    "\n",
    "dict_data_loaders = {\n",
    "    name: FastDataLoader(dataset=split, batch_size=64, num_workers=0, use_random=False)\n",
    "    for name, split in dict_data_splits.items()\n",
    "}"
   ]
  },
  {
   "cell_type": "code",
   "execution_count": 17,
   "metadata": {},
   "outputs": [
    {
     "name": "stderr",
     "output_type": "stream",
     "text": [
      "/home/rame/anaconda3/envs/pytorch/lib/python3.7/site-packages/torchvision/models/_utils.py:209: UserWarning: The parameter 'pretrained' is deprecated since 0.13 and will be removed in 0.15, please use 'weights' instead.\n",
      "  f\"The parameter '{pretrained_param}' is deprecated since 0.13 and will be removed in 0.15, \"\n",
      "/home/rame/anaconda3/envs/pytorch/lib/python3.7/site-packages/torchvision/models/_utils.py:223: UserWarning: Arguments other than a weight enum or `None` for 'weights' are deprecated since 0.13 and will be removed in 0.15. The current behavior is equivalent to passing `weights=ResNet50_Weights.IMAGENET1K_V1`. You can also use `weights=ResNet50_Weights.DEFAULT` to get the most up-to-date weights.\n",
      "  warnings.warn(msg)\n"
     ]
    },
    {
     "name": "stdout",
     "output_type": "stream",
     "text": [
      "Load algorithm /data/rame/fb/terra1_ermf_lp_0926/956e1dc49b49e71b9c22b2247dab508a/model_best.pkl 1.0 network\n"
     ]
    }
   ],
   "source": [
    "diwa.load_and_update_networks(\n",
    "    wa_algorithm, selected_checkpoints, dataset, action=[\"addfeats\", \"feats\", \"cla\"], device=device\n",
    ")"
   ]
  },
  {
   "cell_type": "code",
   "execution_count": 18,
   "metadata": {},
   "outputs": [
    {
     "name": "stdout",
     "output_type": "stream",
     "text": [
      "Load network /data/rame/fb/terra1_lp_0926.pkl 0 featurizer\n",
      "Load featurizer /data/rame/fb/dn_ermf_lp_r0_t0_0926.pkl 0 featurizeronly\n",
      "Load featurizer /data/rame/fb/iwild_ermf_lp_r0_t0_0926.pkl 0 featurizeronly\n"
     ]
    }
   ],
   "source": [
    "\n",
    "diwa.load_and_update_networks(\n",
    "    wa_algorithm, inf_args.checkpoints, dataset, action=[\"addfeats\"], device=device\n",
    ")"
   ]
  },
  {
   "cell_type": "code",
   "execution_count": 19,
   "metadata": {},
   "outputs": [],
   "source": [
    "wa_algorithm.to(device)\n",
    "wa_algorithm.eval()"
   ]
  },
  {
   "cell_type": "code",
   "execution_count": 20,
   "metadata": {},
   "outputs": [],
   "source": [
    "wa_algorithm.num_aux = len(wa_algorithm.featurizers)\n",
    "wa_algorithm._init_lambdas()"
   ]
  },
  {
   "cell_type": "code",
   "execution_count": 21,
   "metadata": {},
   "outputs": [
    {
     "data": {
      "text/plain": [
       "tensor([1., 0., 0., 0.], requires_grad=True)"
      ]
     },
     "execution_count": 21,
     "metadata": {},
     "output_type": "execute_result"
    }
   ],
   "source": [
    "wa_algorithm.lambdas"
   ]
  },
  {
   "cell_type": "code",
   "execution_count": 22,
   "metadata": {},
   "outputs": [
    {
     "name": "stdout",
     "output_type": "stream",
     "text": [
      "Skip at testout\n",
      "Skip at test\n",
      "Prediction at env_0_out\n",
      "Prediction at env_1_out\n",
      "Prediction at env_2_out\n",
      "Prediction at env_3_out\n"
     ]
    }
   ],
   "source": [
    "dict_results = {}\n",
    "\n",
    "for name in dict_data_loaders.keys():\n",
    "    loader = dict_data_loaders[name]\n",
    "    do_feats = inf_args.hparams.get(\"do_feats\") and name.startswith(\"env_\") and name.endswith(\"_out\")\n",
    "    if not do_feats:\n",
    "        print(f\"Skip at {name}\")\n",
    "        continue\n",
    "    else:\n",
    "        print(f\"Prediction at {name}\")\n",
    "    wa_algorithm.eval()\n",
    "    dict_stats, aux_dict_stats = wa_algorithm.get_dict_prediction_stats(\n",
    "        loader, device, what=[\"mean_feats\", \"cov_feats\"],\n",
    "        predict_kwargs={\"lambdas\": torch.tensor([1, 0., 0., 0.], device=device)}\n",
    "    )\n",
    "    dict_results[name] = dict_stats[\"11\"][\"acc\"]\n",
    "\n",
    "    if do_feats:\n",
    "        domain = name.split(\"_\")[1]\n",
    "        wa_algorithm.domain_to_mean_feats[domain] = aux_dict_stats[\"mean_feats\"]\n",
    "        wa_algorithm.domain_to_cov_feats[domain] = aux_dict_stats[\"cov_feats\"]"
   ]
  },
  {
   "cell_type": "code",
   "execution_count": 23,
   "metadata": {},
   "outputs": [],
   "source": [
    "wa_algorithm.domain_to_mean_feats[\"all\"] = torch.mean(\n",
    "    torch.stack(\n",
    "        [value for key, value in wa_algorithm.domain_to_mean_feats.items() if key != str(int(inf_args.test_env))\n",
    "        ], dim=0), dim=0)"
   ]
  },
  {
   "cell_type": "code",
   "execution_count": 24,
   "metadata": {},
   "outputs": [
    {
     "data": {
      "text/plain": [
       "{'0': tensor([[1.0624, 1.3943, 0.2397,  ..., 0.4864, 0.5954, 0.7954]],\n",
       "        device='cuda:0'),\n",
       " '1': tensor([[0.5595, 1.1214, 0.1158,  ..., 0.4182, 0.5763, 0.7053]],\n",
       "        device='cuda:0'),\n",
       " '2': tensor([[0.7239, 0.6075, 0.1205,  ..., 0.3757, 0.5710, 0.5329]],\n",
       "        device='cuda:0'),\n",
       " '3': tensor([[0.6928, 0.6535, 0.1144,  ..., 0.3924, 0.4473, 0.5592]],\n",
       "        device='cuda:0'),\n",
       " 'all': tensor([[0.8264, 0.8851, 0.1582,  ..., 0.4182, 0.5379, 0.6292]],\n",
       "        device='cuda:0')}"
      ]
     },
     "execution_count": 24,
     "metadata": {},
     "output_type": "execute_result"
    }
   ],
   "source": [
    "wa_algorithm.domain_to_mean_feats"
   ]
  },
  {
   "cell_type": "code",
   "execution_count": 31,
   "metadata": {},
   "outputs": [],
   "source": [
    "ds = {}\n",
    "aux = {}\n",
    "\n",
    "domain = str(int(inf_args.test_env))\n",
    "loader = dict_data_loaders[\"env_\"+ domain + \"_out\"]\n",
    "\n",
    "for lam in [0.0, 0.1, 0.2, 0.5, 1.0, 1.5, 2, 5, 10, 20]:\n",
    "    wa_algorithm.eval()\n",
    "    loader.restart()\n",
    "    lambdas = [1., 0., lam, 0.]\n",
    "    key_lambdas = \"_\".join([str(lam) for lam in lambdas])\n",
    "\n",
    "    ds[key_lambdas], aux[key_lambdas] = wa_algorithm.get_dict_prediction_stats(\n",
    "        loader, device, what=[\"mean_feats\", \"cov_feats\", \"l2_feats\", \"l2var_feats\"],\n",
    "        predict_kwargs={\"domain\": domain,\n",
    "                        \"lambdas\": torch.tensor(lambdas, device=device)}\n",
    "    )"
   ]
  },
  {
   "cell_type": "code",
   "execution_count": 35,
   "metadata": {},
   "outputs": [],
   "source": [
    "for lam in [0.0, 0.05, 0.1, 0.2, 0.5, 1.0, 1.5, 2, 5, 10, 20]:\n",
    "    wa_algorithm.eval()\n",
    "    loader.restart()\n",
    "    lambdas = [1., 0, 0., lam]\n",
    "    key_lambdas = \"_\".join([str(lam) for lam in lambdas])\n",
    "\n",
    "    ds[key_lambdas], aux[key_lambdas] = wa_algorithm.get_dict_prediction_stats(\n",
    "        loader, device, what=[\"mean_feats\", \"cov_feats\", \"l2_feats\", \"l2var_feats\"],\n",
    "        predict_kwargs={\"domain\": domain,\n",
    "                        \"lambdas\": torch.tensor(lambdas, device=device)}\n",
    "    )"
   ]
  },
  {
   "cell_type": "code",
   "execution_count": null,
   "metadata": {},
   "outputs": [],
   "source": [
    "for lam in [0.0, 0.1, 0.2, 0.5, 1.0, 1.5, 2, 5, 10, 20]:\n",
    "    wa_algorithm.eval()\n",
    "    loader.restart()\n",
    "    lambdas = [1., lam, 0., 0.]\n",
    "    key_lambdas = \"_\".join([str(lam) for lam in lambdas])\n",
    "\n",
    "    ds[key_lambdas], aux[key_lambdas] = wa_algorithm.get_dict_prediction_stats(\n",
    "        loader, device, what=[\"mean_feats\", \"cov_feats\", \"l2_feats\", \"l2var_feats\"],\n",
    "        predict_kwargs={\"domain\": domain,\n",
    "                        \"lambdas\": torch.tensor(lambdas, device=device)}\n",
    "    )"
   ]
  },
  {
   "cell_type": "code",
   "execution_count": 36,
   "metadata": {},
   "outputs": [],
   "source": [
    "dict_results = {}\n",
    "# misc.print_row([\"key_lambdas\", \"acc\", \"dis_means\", \"dis_vars\", \"l2_to_2\", \"l2var_to_2\", \"ent\", \"bdi\"], 20)\n",
    "for key_lambdas in ds:\n",
    "    acc = ds[key_lambdas][\"11\"][\"acc\"]\n",
    "    dis_means = (aux[key_lambdas][\"mean_feats\"] - wa_algorithm.domain_to_mean_feats[\"all\"]).pow(2).mean().detach().cpu().numpy()\n",
    "    l2_to_all = aux[key_lambdas][\"l2_all\"].detach().cpu().numpy()\n",
    "    l2var_to_all = aux[key_lambdas][\"l2var_all\"].detach().cpu().numpy()\n",
    "    dict_entropy = misc.get_dict_entropy(ds[key_lambdas], device)\n",
    "    #misc.print_row([key_lambdas, acc, dis_means, dis_vars, l2_to_2, l2var_to_2, dict_entropy[\"ent_11\"], dict_entropy[\"bdi_11\"]], 20)\n",
    "    dict_results[key_lambdas] = {\n",
    "        \"lambdas\": [float(l) for l in key_lambdas.split(\"_\")],\n",
    "        \"l2+ent\": l2var_to_all + dict_entropy[\"ent_11\"],\n",
    "        \"key_lambdas\": key_lambdas, \"acc\": acc, \"dis_means\": dis_means, \"l2_to_all\": l2_to_all, \"l2var_to_all\": l2var_to_all, \"ent\": dict_entropy[\"ent_11\"], \"bdi\": dict_entropy[\"bdi_11\"]\n",
    "         }"
   ]
  },
  {
   "cell_type": "code",
   "execution_count": 45,
   "metadata": {},
   "outputs": [],
   "source": [
    "import numpy as np\n",
    "import matplotlib.pyplot as plt\n",
    "from matplotlib import cm\n",
    "\n",
    "plt.rcParams[\"figure.figsize\"] = (8, 5)\n",
    "\n",
    "\n",
    "def plot_slopes_c(x, ys1, ys2, labels):\n",
    "    fig, ax1 = plt.subplots()\n",
    "    plt.xlabel(\"Lambda\", fontsize=\"x-large\")\n",
    "\n",
    "\n",
    "    #plot.fit_and_plot_with_value(m, erm[key], order=\"2\", label=None, color=colors[0], ax=None)\n",
    "    colors = cm.rainbow(np.linspace(0.2, 1, len(ys1) + len(ys2)))\n",
    "    for i in range(len(ys1)):\n",
    "        ax1.scatter(x, ys1[i], label=labels[i], color=colors[i], marker=\".\")\n",
    "        #fit_and_plot_with_value(x, ys1[i], 2, labels[i], colors[i], ax1, linestyle=\"-\")\n",
    "        \n",
    "    ax1.legend(fontsize=\"x-large\", loc=\"lower left\")\n",
    "\n",
    "    ax2 = ax1.twinx()\n",
    "    for i in range(len(ys2)):\n",
    "        j = i + len(ys1)\n",
    "        ax2.scatter(x, ys2[i], label=labels[j], color=colors[j], marker=\"x\")\n",
    "        #fit_and_plot_with_value(x, ys2[i], \"2\", labels[j], colors[j], ax2, linestyle=\"--\")\n",
    "\n",
    "    ax2.legend(fontsize=\"x-large\", loc=\"lower right\")\n",
    "    return fig\n",
    "\n",
    "def plot_slopes(key, check):\n",
    "    list_results = dict_results.values()\n",
    "    x = [r[\"lambdas\"][key] for r in list_results if check(r)]\n",
    "    labels = [\"acc\", \"ent\", \"l2_to_all\", \"l2var_to_all\"]\n",
    "    labels = [\"acc\", \"ent\", \"l2_to_all\"]#, \"l2+ent\", \"dis_means\"]\n",
    "    ys = [\n",
    "        [r[label] for r in list_results if check(r)]\n",
    "        for label in labels]\n",
    "\n",
    "    fig = plot_slopes_c(x, ys[:1], ys[1:], labels)"
   ]
  },
  {
   "cell_type": "code",
   "execution_count": 38,
   "metadata": {},
   "outputs": [
    {
     "data": {
      "image/png": "[encoded data removed]",
      "text/plain": [
       "<Figure size 800x500 with 2 Axes>"
      ]
     },
     "metadata": {},
     "output_type": "display_data"
    }
   ],
   "source": [
    "def check(r):\n",
    "    return r[\"lambdas\"][2] == 0 and r[\"lambdas\"][3] == 0\n",
    "plot_slopes(1, check)"
   ]
  },
  {
   "cell_type": "code",
   "execution_count": 39,
   "metadata": {},
   "outputs": [
    {
     "data": {
      "image/png": "[encoded data removed]",
      "text/plain": [
       "<Figure size 800x500 with 2 Axes>"
      ]
     },
     "metadata": {},
     "output_type": "display_data"
    }
   ],
   "source": [
    "def check(r):\n",
    "    return r[\"lambdas\"][1] == 0 and r[\"lambdas\"][3] == 0\n",
    "plot_slopes(2, check)"
   ]
  },
  {
   "cell_type": "code",
   "execution_count": 46,
   "metadata": {},
   "outputs": [
    {
     "data": {
      "image/png": "[encoded data removed]",
      "text/plain": [
       "<Figure size 800x500 with 2 Axes>"
      ]
     },
     "metadata": {},
     "output_type": "display_data"
    }
   ],
   "source": [
    "def check(r):\n",
    "    return r[\"lambdas\"][1] == 0 and r[\"lambdas\"][2] == 0\n",
    "plot_slopes(3, check)"
   ]
  },
  {
   "cell_type": "code",
   "execution_count": null,
   "metadata": {},
   "outputs": [],
   "source": [
    "dict_entropy"
   ]
  },
  {
   "cell_type": "code",
   "execution_count": null,
   "metadata": {},
   "outputs": [],
   "source": [
    "\n",
    "torch.mean(torch.diag(aux[\"1_0_0.0\"][\"cov_feats\"]))"
   ]
  },
  {
   "cell_type": "code",
   "execution_count": null,
   "metadata": {},
   "outputs": [],
   "source": []
  }
 ],
 "metadata": {
  "kernelspec": {
   "display_name": "Python pytorch",
   "language": "python",
   "name": "pytorch"
  },
  "language_info": {
   "codemirror_mode": {
    "name": "ipython",
    "version": 3
   },
   "file_extension": ".py",
   "mimetype": "text/x-python",
   "name": "python",
   "nbconvert_exporter": "python",
   "pygments_lexer": "ipython3",
   "version": "3.7.10"
  }
 },
 "nbformat": 4,
 "nbformat_minor": 5
}
