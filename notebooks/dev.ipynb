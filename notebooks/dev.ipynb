{
 "cells": [
  {
   "cell_type": "code",
   "execution_count": 2,
   "id": "8132235a",
   "metadata": {},
   "outputs": [
    {
     "name": "stdout",
     "output_type": "stream",
     "text": [
      "The autoreload extension is already loaded. To reload it, use:\n",
      "  %reload_ext autoreload\n"
     ]
    }
   ],
   "source": [
    "%load_ext autoreload\n",
    "%autoreload 2\n",
    "import sys\n",
    "import collections\n",
    "import numpy as np\n",
    "import re\n",
    "import os\n",
    "# sys.path.append(\"/private/home/alexandrerame/domainbedv2/\")\n",
    "# sys.path.append(\"/private/home/alexandrerame/slurmconfig/notebook/data\")\n",
    "\n",
    "sys.path.append(\"/home/rame/domainbedv2/\")\n",
    "from domainbed.codeplot import plot\n",
    "plot.plt.style.use('default')\n",
    "sys.path.append(\"/data/rame/logs_experiments_notebook/\")"
   ]
  },
  {
   "cell_type": "code",
   "execution_count": 7,
   "id": "0b8cc4b3",
   "metadata": {},
   "outputs": [
    {
     "data": {
      "text/plain": [
       "7"
      ]
     },
     "execution_count": 7,
     "metadata": {},
     "output_type": "execute_result"
    }
   ],
   "source": [
    "len(x)"
   ]
  },
  {
   "cell_type": "code",
   "execution_count": 11,
   "id": "209a843a",
   "metadata": {},
   "outputs": [
    {
     "data": {
      "text/plain": [
       "7"
      ]
     },
     "execution_count": 11,
     "metadata": {},
     "output_type": "execute_result"
    }
   ],
   "source": [
    "len(y)"
   ]
  },
  {
   "cell_type": "code",
   "execution_count": 25,
   "id": "cd038be5",
   "metadata": {},
   "outputs": [],
   "source": [
    "plt.style.use('default')"
   ]
  },
  {
   "cell_type": "code",
   "execution_count": 29,
   "id": "5f26a604",
   "metadata": {},
   "outputs": [
    {
     "data": {
      "image/png": "[encoded data removed]",
      "text/plain": [
       "<Figure size 640x480 with 1 Axes>"
      ]
     },
     "metadata": {},
     "output_type": "display_data"
    }
   ],
   "source": [
    "import numpy as np\n",
    "import matplotlib.pyplot as plt\n",
    "from scipy.interpolate import UnivariateSpline\n",
    "\n",
    "\n",
    "def plot_smooth_curve(ax, val1, val2, s=5, label=None, color=None, linestyle='-'):\n",
    "    # Sort the data points by their x-values (val1)\n",
    "    sorted_indices = np.argsort(val1)\n",
    "    sorted_val1 = val1[sorted_indices]\n",
    "    sorted_val2 = val2[sorted_indices]\n",
    "\n",
    "    # Fit a smoothing spline\n",
    "    spline = UnivariateSpline(sorted_val1, sorted_val2, s=s)\n",
    "\n",
    "    # Generate the smoothed curve\n",
    "    x_smooth = np.linspace(sorted_val1.min(), sorted_val1.max(), 100)\n",
    "    y_smooth = spline(x_smooth)\n",
    "\n",
    "    # Graph:\n",
    "    ax.plot(\n",
    "        x_smooth,\n",
    "        y_smooth,\n",
    "        label=label,\n",
    "        color=color,\n",
    "        linestyle=linestyle,\n",
    "    )\n",
    "\n",
    "\n",
    "# Your data\n",
    "val1 = np.array([1, 1, 2, 2, 3, 3, 4, 4, 5, 5])\n",
    "val2 = np.array([2, 10, 3, 9, 4, 8, 5, 7, 6, 6])\n",
    "\n",
    "fig, ax = plt.subplots()\n",
    "plot_smooth_curve(ax, val1, val2, s=5, color=\"red\", label='Smoothing spline')\n",
    "\n",
    "# ax.scatter(val1, val2, color='red', label='Original points')\n",
    "# ax.set_xlabel('x-axis')\n",
    "# ax.set_ylabel('y-axis')\n",
    "# ax.legend()\n",
    "# plt.show()"
   ]
  },
  {
   "cell_type": "code",
   "execution_count": 15,
   "id": "71b0ec29",
   "metadata": {},
   "outputs": [
    {
     "data": {
      "text/plain": [
       "array([[ 2.69815275e+00, -4.05403334e+02, -1.62974827e+03, ...,\n",
       "        -3.84001266e+06, -3.91959637e+06, -3.99999631e+06],\n",
       "       [-1.62974827e+03, -4.05363700e+02,  2.77742113e+00, ...,\n",
       "        -3.68329395e+06, -3.76124518e+06, -3.84001263e+06],\n",
       "       [-6.52716850e+03, -3.67029787e+03, -1.62967069e+03, ...,\n",
       "        -3.52984023e+06, -3.60615897e+06, -3.68329393e+06],\n",
       "       ...,\n",
       "       [-6.52719716e+03, -3.67032648e+03, -1.62969924e+03, ...,\n",
       "        -3.52984019e+06, -3.60615894e+06, -3.68329391e+06],\n",
       "       [-1.62977699e+03, -4.05392390e+02,  2.74876738e+00, ...,\n",
       "        -3.68329392e+06, -3.76124515e+06, -3.84001261e+06],\n",
       "       [ 2.66942747e+00, -4.05432059e+02, -1.62977699e+03, ...,\n",
       "        -3.84001263e+06, -3.91959634e+06, -3.99999629e+06]])"
      ]
     },
     "execution_count": 15,
     "metadata": {},
     "output_type": "execute_result"
    }
   ],
   "source": [
    "Z"
   ]
  },
  {
   "cell_type": "code",
   "execution_count": 3,
   "id": "ef775094",
   "metadata": {},
   "outputs": [],
   "source": [
    "import re"
   ]
  },
  {
   "cell_type": "code",
   "execution_count": 5,
   "id": "b0d73026",
   "metadata": {},
   "outputs": [
    {
     "data": {
      "text/plain": [
       "['maison', 'a', 'b']"
      ]
     },
     "execution_count": 5,
     "metadata": {},
     "output_type": "execute_result"
    }
   ],
   "source": [
    "re.split( \"-|_\", \"maison-a_b\")"
   ]
  },
  {
   "cell_type": "code",
   "execution_count": 1,
   "id": "397ebd0f",
   "metadata": {},
   "outputs": [],
   "source": [
    "list_folder = [\n",
    "    '/data/rame/experiments/nlp/llama-7b-hf-ppo-imdb-reward-model-eld-g0-03-30-1680173234/epoch1/',\n",
    "    '/data/rame/experiments/nlp/llama-7b-hf-ppo-imdb-reward-model-eld-g0-03-30-1680173234/epoch101/',\n",
    "    '/data/rame/experiments/nlp/llama-7b-hf-ppo-imdb-reward-model-eld-g0-03-30-1680173234/epoch11/',\n",
    "    '/data/rame/experiments/nlp/llama-7b-hf-ppo-imdb-reward-model-eld-g0-03-30-1680173234/epoch111/',\n",
    "    '/data/rame/experiments/nlp/llama-7b-hf-ppo-imdb-reward-model-eld-g0-03-30-1680173234/epoch121/',\n",
    "    '/data/rame/experiments/nlp/llama-7b-hf-ppo-imdb-reward-model-eld-g0-03-30-1680173234/epoch131/',\n",
    "    '/data/rame/experiments/nlp/llama-7b-hf-ppo-imdb-reward-model-eld-g0-03-30-1680173234/epoch141/',\n",
    "    '/data/rame/experiments/nlp/llama-7b-hf-ppo-imdb-reward-model-eld-g0-03-30-1680173234/epoch151/',\n",
    "    '/data/rame/experiments/nlp/llama-7b-hf-ppo-imdb-reward-model-eld-g0-03-30-1680173234/epoch161/',\n",
    "    '/data/rame/experiments/nlp/llama-7b-hf-ppo-imdb-reward-model-eld-g0-03-30-1680173234/epoch171/',\n",
    "    '/data/rame/experiments/nlp/llama-7b-hf-ppo-imdb-reward-model-eld-g0-03-30-1680173234/epoch181/',\n",
    "    '/data/rame/experiments/nlp/llama-7b-hf-ppo-imdb-reward-model-eld-g0-03-30-1680173234/epoch191/',\n",
    "    '/data/rame/experiments/nlp/llama-7b-hf-ppo-imdb-reward-model-eld-g0-03-30-1680173234/epoch21/',\n",
    "    '/data/rame/experiments/nlp/llama-7b-hf-ppo-imdb-reward-model-eld-g0-03-30-1680173234/epoch31/',\n",
    "    '/data/rame/experiments/nlp/llama-7b-hf-ppo-imdb-reward-model-eld-g0-03-30-1680173234/epoch41/',\n",
    "    '/data/rame/experiments/nlp/llama-7b-hf-ppo-imdb-reward-model-eld-g0-03-30-1680173234/epoch51/',\n",
    "    '/data/rame/experiments/nlp/llama-7b-hf-ppo-imdb-reward-model-eld-g0-03-30-1680173234/epoch61/',\n",
    "    '/data/rame/experiments/nlp/llama-7b-hf-ppo-imdb-reward-model-eld-g0-03-30-1680173234/epoch71/',\n",
    "    '/data/rame/experiments/nlp/llama-7b-hf-ppo-imdb-reward-model-eld-g0-03-30-1680173234/epoch81/',\n",
    "    '/data/rame/experiments/nlp/llama-7b-hf-ppo-imdb-reward-model-eld-g0-03-30-1680173234/epoch91/'\n",
    "]\n"
   ]
  },
  {
   "cell_type": "code",
   "execution_count": 3,
   "id": "121c24ea",
   "metadata": {},
   "outputs": [],
   "source": [
    "import os"
   ]
  },
  {
   "cell_type": "code",
   "execution_count": 6,
   "id": "fd3d4625",
   "metadata": {},
   "outputs": [],
   "source": [
    "dict_peft_names = {os.path.split(path)[-1]: path for path in list_folder}"
   ]
  },
  {
   "cell_type": "code",
   "execution_count": 7,
   "id": "f4e6483e",
   "metadata": {},
   "outputs": [
    {
     "data": {
      "text/plain": [
       "{'': '/data/rame/experiments/nlp/llama-7b-hf-ppo-imdb-reward-model-eld-g0-03-30-1680173234/epoch91/'}"
      ]
     },
     "execution_count": 7,
     "metadata": {},
     "output_type": "execute_result"
    }
   ],
   "source": [
    "dict_peft_names"
   ]
  },
  {
   "cell_type": "code",
   "execution_count": 22,
   "id": "9652b142",
   "metadata": {},
   "outputs": [],
   "source": [
    "folder=\"/data/rame/experiments/nlp/llama-7b-hf-ppo-review-rmdvb-rmeld-g0101-04-02-1680463112/epoch*\""
   ]
  },
  {
   "cell_type": "code",
   "execution_count": 23,
   "id": "76fdf9a2",
   "metadata": {},
   "outputs": [
    {
     "data": {
      "text/plain": [
       "{1: '/data/rame/experiments/nlp/llama-7b-hf-ppo-review-rmdvb-rmeld-g0101-04-02-1680463112/epoch1',\n",
       " 11: '/data/rame/experiments/nlp/llama-7b-hf-ppo-review-rmdvb-rmeld-g0101-04-02-1680463112/epoch11',\n",
       " 21: '/data/rame/experiments/nlp/llama-7b-hf-ppo-review-rmdvb-rmeld-g0101-04-02-1680463112/epoch21',\n",
       " 31: '/data/rame/experiments/nlp/llama-7b-hf-ppo-review-rmdvb-rmeld-g0101-04-02-1680463112/epoch31',\n",
       " 41: '/data/rame/experiments/nlp/llama-7b-hf-ppo-review-rmdvb-rmeld-g0101-04-02-1680463112/epoch41',\n",
       " 51: '/data/rame/experiments/nlp/llama-7b-hf-ppo-review-rmdvb-rmeld-g0101-04-02-1680463112/epoch51',\n",
       " 61: '/data/rame/experiments/nlp/llama-7b-hf-ppo-review-rmdvb-rmeld-g0101-04-02-1680463112/epoch61',\n",
       " 71: '/data/rame/experiments/nlp/llama-7b-hf-ppo-review-rmdvb-rmeld-g0101-04-02-1680463112/epoch71',\n",
       " 81: '/data/rame/experiments/nlp/llama-7b-hf-ppo-review-rmdvb-rmeld-g0101-04-02-1680463112/epoch81'}"
      ]
     },
     "execution_count": 23,
     "metadata": {},
     "output_type": "execute_result"
    }
   ],
   "source": [
    "get_dict_peft_names(folder)"
   ]
  },
  {
   "cell_type": "code",
   "execution_count": 19,
   "id": "9c011caf",
   "metadata": {},
   "outputs": [],
   "source": []
  },
  {
   "cell_type": "code",
   "execution_count": 20,
   "id": "8afbfa66",
   "metadata": {},
   "outputs": [
    {
     "data": {
      "text/plain": [
       "{1: '/data/rame/experiments/nlp/llama-7b-hf-ppo-review-rmdvb-rmeld-g0101-04-02-1680463112/epoch1',\n",
       " 11: '/data/rame/experiments/nlp/llama-7b-hf-ppo-review-rmdvb-rmeld-g0101-04-02-1680463112/epoch11',\n",
       " 21: '/data/rame/experiments/nlp/llama-7b-hf-ppo-review-rmdvb-rmeld-g0101-04-02-1680463112/epoch21',\n",
       " 31: '/data/rame/experiments/nlp/llama-7b-hf-ppo-review-rmdvb-rmeld-g0101-04-02-1680463112/epoch31',\n",
       " 41: '/data/rame/experiments/nlp/llama-7b-hf-ppo-review-rmdvb-rmeld-g0101-04-02-1680463112/epoch41',\n",
       " 51: '/data/rame/experiments/nlp/llama-7b-hf-ppo-review-rmdvb-rmeld-g0101-04-02-1680463112/epoch51',\n",
       " 61: '/data/rame/experiments/nlp/llama-7b-hf-ppo-review-rmdvb-rmeld-g0101-04-02-1680463112/epoch61',\n",
       " 71: '/data/rame/experiments/nlp/llama-7b-hf-ppo-review-rmdvb-rmeld-g0101-04-02-1680463112/epoch71',\n",
       " 81: '/data/rame/experiments/nlp/llama-7b-hf-ppo-review-rmdvb-rmeld-g0101-04-02-1680463112/epoch81'}"
      ]
     },
     "execution_count": 20,
     "metadata": {},
     "output_type": "execute_result"
    }
   ],
   "source": [
    "dict_folder"
   ]
  },
  {
   "cell_type": "code",
   "execution_count": null,
   "id": "b6b857d2",
   "metadata": {},
   "outputs": [],
   "source": []
  },
  {
   "cell_type": "code",
   "execution_count": null,
   "id": "e852df9e",
   "metadata": {},
   "outputs": [],
   "source": []
  },
  {
   "cell_type": "code",
   "execution_count": 8,
   "id": "fe9acc3c",
   "metadata": {},
   "outputs": [],
   "source": [
    "folder = os.path.split(folder)[0]"
   ]
  },
  {
   "cell_type": "code",
   "execution_count": 9,
   "id": "b35f39bb",
   "metadata": {},
   "outputs": [
    {
     "ename": "AttributeError",
     "evalue": "module 'posixpath' has no attribute 'listdir'",
     "output_type": "error",
     "traceback": [
      "\u001b[0;31m---------------------------------------------------------------------------\u001b[0m",
      "\u001b[0;31mAttributeError\u001b[0m                            Traceback (most recent call last)",
      "Cell \u001b[0;32mIn[9], line 1\u001b[0m\n\u001b[0;32m----> 1\u001b[0m os\u001b[39m.\u001b[39;49mpath\u001b[39m.\u001b[39;49mlistdir(folder)\n",
      "\u001b[0;31mAttributeError\u001b[0m: module 'posixpath' has no attribute 'listdir'"
     ]
    }
   ],
   "source": [
    "os.path.listdir(folder)"
   ]
  },
  {
   "cell_type": "code",
   "execution_count": 1,
   "id": "2712203e",
   "metadata": {},
   "outputs": [],
   "source": [
    "import os"
   ]
  },
  {
   "cell_type": "code",
   "execution_count": 2,
   "id": "acfd3ae3",
   "metadata": {},
   "outputs": [
    {
     "data": {
      "text/plain": [
       "'/rame'"
      ]
     },
     "execution_count": 2,
     "metadata": {},
     "output_type": "execute_result"
    }
   ],
   "source": [
    "os.path.join(\"/data/rame\", \"/rame\")"
   ]
  },
  {
   "cell_type": "code",
   "execution_count": 2,
   "id": "931ea70e",
   "metadata": {},
   "outputs": [],
   "source": [
    "from domainbed.lib import misc"
   ]
  },
  {
   "cell_type": "code",
   "execution_count": 3,
   "id": "5170fd5f",
   "metadata": {},
   "outputs": [],
   "source": [
    "folder = \"/private/home/alexandrerame/dataplace/experiments/domainbed/home/home0_erm_lp_0926/a89379171e7dfc7f655455eaf0a60cb7\"\n"
   ]
  },
  {
   "cell_type": "code",
   "execution_count": 4,
   "id": "0e501ead",
   "metadata": {},
   "outputs": [],
   "source": [
    "results_jsonl = misc.load_results_jsonl(folder)"
   ]
  },
  {
   "cell_type": "code",
   "execution_count": 6,
   "id": "02e14ece",
   "metadata": {},
   "outputs": [],
   "source": [
    "train_args = results_jsonl[\"args\"]"
   ]
  },
  {
   "cell_type": "code",
   "execution_count": 8,
   "id": "17841f3c",
   "metadata": {},
   "outputs": [
    {
     "name": "stdout",
     "output_type": "stream",
     "text": [
      "OfficeHome\n",
      "[0]\n",
      "[0]\n",
      "[0]\n",
      "0\n",
      "0\n"
     ]
    }
   ],
   "source": [
    "print(train_args[\"dataset\"])\n",
    "print(train_args[\"test_envs\"])\n",
    "print(train_args[\"test_envs\"])\n",
    "print(train_args[\"test_envs\"])\n",
    "print(train_args[\"trial_seed\"])\n",
    "print(train_args[\"trial_seed\"])"
   ]
  },
  {
   "cell_type": "code",
   "execution_count": 10,
   "id": "0374b5f2",
   "metadata": {},
   "outputs": [
    {
     "data": {
      "text/plain": [
       "0.2687487482023494"
      ]
     },
     "execution_count": 10,
     "metadata": {},
     "output_type": "execute_result"
    }
   ],
   "source": [
    "np.random.random()"
   ]
  },
  {
   "cell_type": "code",
   "execution_count": 8,
   "id": "14be69ae",
   "metadata": {},
   "outputs": [
    {
     "data": {
      "image/png": "[encoded data removed]",
      "text/plain": [
       "<Figure size 432x288 with 1 Axes>"
      ]
     },
     "metadata": {
      "needs_background": "light"
     },
     "output_type": "display_data"
    }
   ],
   "source": [
    "ermtrain = [\n",
    "    63.9, 54.8, 78.7, 80.4,# 69.4,\n",
    "    86.8, 80.6, 97.4, 78.7,# 85.9,\n",
    "    59.9, 46.9, 54.6, 40.1,# 50.4,\n",
    "    98.1, 64.4, 72.5, 77.7,# 78.1\n",
    "]\n",
    "\n",
    "mean = [\n",
    "    0.6876802637, 0.5873997709, 0.8017571525, 0.8228138627,\n",
    "    0.9067382812, 0.8374573379, 0.9838323353, 0.8325273607,\n",
    "    0.5990297406, 0.5051355793, 0.6057934509, 0.3974162842,\n",
    "    0.9858657244, 0.6257530120, 0.7251675807, 0.7825829384\n",
    "]\n",
    "prod = [\n",
    "    0.6847960445, 0.5885452463, 0.8033340843, 0.8235024099, 0.9082031250, 0.8383105802,\n",
    "    0.9838323353, 0.8332909137, 0.5967095549, 0.5008216927, 0.6052896725, 0.3940166582,\n",
    "    0.9858657244, 0.6280120482, 0.7251675807, 0.7843601896\n",
    "]\n",
    "# max = [0.6765554182, 0.5867124857, 0.7990538410, 0.8154693597, 0.9145507812, 0.8110068259, 0.9802395210, 0.8427080682, 0.6357308585, 0.5256778965, 0.6100755668, 0.4174740779, 0.9830388693, 0.6336596386, 0.7361365021, 0.7766587678]\n",
    "# min = [0.6782035435, 0.5830469645, 0.8013066006, 0.8251090200, 0.8964843750, 0.8451365188, 0.9796407186, 0.8274370069, 0.5912254799, 0.4541906327, 0.5921914358, 0.3617202108, 0.9844522968, 0.6257530120, 0.7245581962, 0.7982819905]\n",
    "# rand = [0.6876802637, 0.5869415808, 0.7995043929, 0.8191416112, 0.8999023438, 0.8310580205, 0.9760479042, 0.8322728430, 0.5616958448, 0.5076006574, 0.6062972292, 0.3800781914, 0.9893992933, 0.6344126506, 0.7248628885, 0.7956161137] -->\n",
    "max = [\n",
    "    0.6633704162, 0.5851088202, 0.7848614553, 0.8065182465, 0.9145507812, 0.7969283276,\n",
    "    0.9742514970, 0.8409264444, 0.6228643746, 0.5271158587, 0.5866498741, 0.3975862655,\n",
    "    0.9795053004, 0.6340361446, 0.7315661182, 0.7582938389\n",
    "]\n",
    "min = [\n",
    "    0.6435929131, 0.5644902635, 0.7871142149, 0.8154693597, 0.8720703125, 0.8494027304,\n",
    "    0.9688622754, 0.8093662510, 0.5435562118, 0.3393590797, 0.5153652393, 0.2627910930,\n",
    "    0.9696113074, 0.6291415663, 0.7239488117, 0.7876184834\n",
    "]\n",
    "rand = [\n",
    "    0.6724351051, 0.5780068729, 0.7916197342, 0.8124856553,\n",
    "    0.8886718750, 0.8225255973, 0.9730538922, 0.8282005599,\n",
    "    0.4937776840, 0.5062654067, 0.6027707809, 0.3646098929,\n",
    "    0.9837455830, 0.6472138554, 0.7242535040, 0.8024289100\n",
    "]\n",
    "\n",
    "ermtrain = [0.01 * v for i, v in enumerate(ermtrain)]\n",
    "\n",
    "import numpy as np\n",
    "import matplotlib.pyplot as plt\n",
    "from matplotlib import cm\n",
    "from codeplot import plot\n",
    "\n",
    "\n",
    "def plot_slopes_c():\n",
    "    fig = plt.figure()\n",
    "    m = range(16)\n",
    "    l_m = [mean, prod, min, max, rand]\n",
    "    l_m = [[l_m[i][j] - ermtrain[j] for j in range(16)] for i in range(len(l_m))]\n",
    "    labels = [\"mean\", \"prod\", \"min\", \"max\", \"rand\"]\n",
    "    colors = cm.rainbow(np.linspace(0.2, 1, len(l_m)))\n",
    "\n",
    "    orders = sorted(list(range(16)), key=lambda x: ermtrain[x])\n",
    "    orders = range(16)\n",
    "    for i in range(len(l_m)):\n",
    "        values = [l_m[i][j] for j in orders]\n",
    "        s = 500 if i == 0 else 100\n",
    "        plt.scatter(m, values, label=labels[i], color=colors[i], marker=\"x\" if i % 2 else \".\", s=s)\n",
    "\n",
    "        #plot.fit_and_plot_with_value(m, erm[key], order=\"2\", label=None, color=colors[0], ax=None)\n",
    "    \n",
    "    plt.axhline(y=0)\n",
    "    plt.xlabel(\"Datasets\", fontsize=\"x-large\")\n",
    "    plt.ylabel(\"OOD gain over ERM\", fontsize=\"x-large\")\n",
    "    plt.legend(fontsize=\"x-large\")\n",
    "    return fig\n",
    "\n",
    "\n",
    "plot.plt.rcParams[\"figure.figsize\"] = (6, 4)\n",
    "fig_testood = plot_slopes_c()\n"
   ]
  },
  {
   "cell_type": "code",
   "execution_count": null,
   "id": "27f155fc",
   "metadata": {},
   "outputs": [],
   "source": [
    "fig_valiid"
   ]
  },
  {
   "cell_type": "code",
   "execution_count": null,
   "id": "d26c79b5",
   "metadata": {},
   "outputs": [],
   "source": [
    "plot.save_fig(\n",
    "    fig_valiid,<\n",
    "    \"pacs0_frac_valiid.png\",\n",
    "    folder=\"/Users/alexandrerame/Documents/deeplearning/writing/fb/from_fb_to_perso\"\n",
    ")"
   ]
  },
  {
   "cell_type": "code",
   "execution_count": null,
   "id": "9380ece4",
   "metadata": {},
   "outputs": [],
   "source": [
    "plot.save_fig(fig_trainiid, \"pacs0_frac_trainiid.png\", folder=\"/Users/alexandrerame/Documents/deeplearning/writing/fb/from_fb_to_perso\")\n",
    "plot.save_fig(\n",
    "    fig_valiid,\n",
    "    \"pacs0_frac_valiid.png\",\n",
    "    folder=\"/Users/alexandrerame/Documents/deeplearning/writing/fb/from_fb_to_perso\"\n",
    ")\n",
    "plot.save_fig(\n",
    "    fig_testood,\n",
    "    \"pacs0_frac_testood.png\",\n",
    "    folder=\"/Users/alexandrerame/Documents/deeplearning/writing/fb/from_fb_to_perso\"\n",
    ")"
   ]
  },
  {
   "cell_type": "code",
   "execution_count": null,
   "id": "3377f02f",
   "metadata": {},
   "outputs": [],
   "source": [
    "plot.save_fig(fig_iid, \"pacs0_frac_iid.png\", folder=\"/Users/alexandrerame/Documents/deeplearning/writing/fb/from_fb_to_perso\")\n",
    "plot.save_fig(fig_ood, \"pacs0_frac_ood.png\", folder=\"/Users/alexandrerame/Documents/deeplearning/writing/fb/from_fb_to_perso\")"
   ]
  },
  {
   "cell_type": "code",
   "execution_count": null,
   "id": "1288d6f2",
   "metadata": {},
   "outputs": [],
   "source": [
    "import random"
   ]
  },
  {
   "cell_type": "code",
   "execution_count": null,
   "id": "8a42e132",
   "metadata": {},
   "outputs": [],
   "source": [
    "r = random.uniform(0, 1)"
   ]
  },
  {
   "cell_type": "code",
   "execution_count": null,
   "id": "863f948f",
   "metadata": {},
   "outputs": [],
   "source": [
    "print(r)\n",
    "print(r/(1-r))"
   ]
  },
  {
   "cell_type": "code",
   "execution_count": null,
   "id": "4610f46e",
   "metadata": {},
   "outputs": [],
   "source": [
    "1.6726553441835916/2.6726553441835916"
   ]
  },
  {
   "cell_type": "code",
   "execution_count": null,
   "id": "47482b25",
   "metadata": {},
   "outputs": [],
   "source": [
    "import torch\n",
    "import os"
   ]
  },
  {
   "cell_type": "code",
   "execution_count": null,
   "id": "2c211937",
   "metadata": {},
   "outputs": [],
   "source": [
    "data_dir = \"/Users/alexandrerame/Dataplace/data/PACS\""
   ]
  },
  {
   "cell_type": "code",
   "execution_count": null,
   "id": "7e0278b7",
   "metadata": {},
   "outputs": [],
   "source": [
    "import os"
   ]
  },
  {
   "cell_type": "code",
   "execution_count": null,
   "id": "7c8c1a8a",
   "metadata": {},
   "outputs": [],
   "source": [
    "def find_classes_hierarchy(data_dir):\n",
    "    \"\"\"\n",
    "    Finds the class folders in a dataset.\n",
    "    Args:\n",
    "        dir (string): Root directory path.\n",
    "    Returns:\n",
    "        tuple: (classes, class_to_idx) where classes are relative to (dir), and class_to_idx is a dictionary.\n",
    "    Ensures:\n",
    "        No class is a subdirectory of another.\n",
    "    \"\"\"\n",
    "    classes = list(set([\n",
    "        dd.name for d in os.scandir(data_dir) if d.is_dir()\n",
    "        for dd in os.scandir(os.path.join(data_dir, d.name)) if dd.is_dir()\n",
    "    ]))\n",
    "    classes.sort()\n",
    "    class_to_idx = {cls_name: i for i, cls_name in enumerate(classes)}\n",
    "    return classes, class_to_idx"
   ]
  },
  {
   "cell_type": "code",
   "execution_count": null,
   "id": "bd51af99",
   "metadata": {},
   "outputs": [],
   "source": [
    "classes, class_to_idx = find_classes_hierarchy(data_dir)"
   ]
  },
  {
   "cell_type": "code",
   "execution_count": null,
   "id": "632a36ba",
   "metadata": {},
   "outputs": [],
   "source": [
    "environments = [f.name for f in os.scandir(data_dir) if f.is_dir()]"
   ]
  },
  {
   "cell_type": "code",
   "execution_count": null,
   "id": "139f5244",
   "metadata": {},
   "outputs": [],
   "source": [
    "environments"
   ]
  },
  {
   "cell_type": "code",
   "execution_count": null,
   "id": "1bb2858a",
   "metadata": {},
   "outputs": [],
   "source": [
    "datasets = []\n",
    "for i, environment in enumerate(environments):\n",
    "\n",
    "    env_transform = None\n",
    "\n",
    "    path = os.path.join(data_dir, environment)\n",
    "    env_dataset = ImageFolderHierarchy(\n",
    "        path, transform=env_transform, classes=classes, class_to_idx=class_to_idx)\n",
    "\n",
    "    datasets.append(env_dataset)"
   ]
  },
  {
   "cell_type": "code",
   "execution_count": null,
   "id": "ff9a52f2",
   "metadata": {},
   "outputs": [],
   "source": [
    "datasets[1].classes"
   ]
  },
  {
   "cell_type": "code",
   "execution_count": null,
   "id": "4c135c70",
   "metadata": {},
   "outputs": [],
   "source": [
    "os.environ[\"PYTHONPATH\"]"
   ]
  },
  {
   "cell_type": "code",
   "execution_count": null,
   "id": "5225512d",
   "metadata": {},
   "outputs": [],
   "source": [
    "from domainbed.lib.custom_dataset_loader import find_classes_hierarchy, ImageFolderHierarchy"
   ]
  },
  {
   "cell_type": "code",
   "execution_count": null,
   "id": "5f78fd2e",
   "metadata": {},
   "outputs": [],
   "source": [
    "path = os.path.join(data_dir, \"art_painting\")"
   ]
  },
  {
   "cell_type": "code",
   "execution_count": null,
   "id": "ccb9d1f7",
   "metadata": {},
   "outputs": [],
   "source": [
    "from torchvision.datasets import ImageFolder"
   ]
  },
  {
   "cell_type": "code",
   "execution_count": null,
   "id": "a15837f1",
   "metadata": {},
   "outputs": [],
   "source": [
    "dataset = ImageFolder(path)"
   ]
  },
  {
   "cell_type": "code",
   "execution_count": null,
   "id": "46313eb3",
   "metadata": {},
   "outputs": [],
   "source": []
  },
  {
   "cell_type": "code",
   "execution_count": null,
   "id": "8d4b0466",
   "metadata": {},
   "outputs": [],
   "source": [
    "classes"
   ]
  },
  {
   "cell_type": "code",
   "execution_count": null,
   "id": "accc6b5f",
   "metadata": {},
   "outputs": [],
   "source": [
    "list(os.scandir(path))"
   ]
  },
  {
   "cell_type": "code",
   "execution_count": null,
   "id": "894d37ee",
   "metadata": {},
   "outputs": [],
   "source": [
    "dataset.class_to_idx"
   ]
  },
  {
   "cell_type": "code",
   "execution_count": 1,
   "id": "d245267c",
   "metadata": {},
   "outputs": [],
   "source": [
    "import torch.nn as nn"
   ]
  },
  {
   "cell_type": "code",
   "execution_count": 2,
   "id": "9dc64fbe",
   "metadata": {},
   "outputs": [],
   "source": [
    "classifier1 = torch.nn.Linear(2, 3)\n",
    "classifier1bis = torch.nn.Linear(2, 3)\n",
    "classifier2 = torch.nn.Linear(3, 4)"
   ]
  },
  {
   "cell_type": "code",
   "execution_count": null,
   "id": "62208a1a",
   "metadata": {},
   "outputs": [],
   "source": [
    "param_n.data"
   ]
  },
  {
   "cell_type": "code",
   "execution_count": 10,
   "id": "b885e515",
   "metadata": {},
   "outputs": [],
   "source": [
    "import random"
   ]
  },
  {
   "cell_type": "code",
   "execution_count": 12,
   "id": "306d70ec",
   "metadata": {},
   "outputs": [
    {
     "data": {
      "text/plain": [
       "0.6999135043522567"
      ]
     },
     "execution_count": 12,
     "metadata": {},
     "output_type": "execute_result"
    }
   ],
   "source": []
  },
  {
   "cell_type": "code",
   "execution_count": 4,
   "id": "387c171f",
   "metadata": {},
   "outputs": [
    {
     "name": "stdout",
     "output_type": "stream",
     "text": [
      "Parameter containing:\n",
      "tensor([[-0.6102,  0.6082],\n",
      "        [-0.4215,  0.4400],\n",
      "        [-0.5940,  0.0511]], requires_grad=True)\n",
      "Parameter containing:\n",
      "tensor([[-0.2255,  0.3352],\n",
      "        [ 0.5325, -0.1249],\n",
      "        [ 0.1039, -0.1723]], requires_grad=True)\n"
     ]
    }
   ],
   "source": [
    "param_n = list(classifier1.parameters())[0]\n",
    "print(param_n)\n",
    "param_m = list(classifier1bis.parameters())[0]\n",
    "print(param_m)"
   ]
  },
  {
   "cell_type": "code",
   "execution_count": 8,
   "id": "44b03837",
   "metadata": {},
   "outputs": [],
   "source": [
    "new_data = torch.min(torch.abs(param_n.data), torch.abs(param_m.data))"
   ]
  },
  {
   "cell_type": "code",
   "execution_count": 9,
   "id": "eb7bdaae",
   "metadata": {},
   "outputs": [
    {
     "data": {
      "text/plain": [
       "tensor([[0.2255, 0.3352],\n",
       "        [0.4215, 0.1249],\n",
       "        [0.1039, 0.0511]])"
      ]
     },
     "execution_count": 9,
     "metadata": {},
     "output_type": "execute_result"
    }
   ],
   "source": [
    "new_data"
   ]
  },
  {
   "cell_type": "code",
   "execution_count": null,
   "id": "7d1aa4dc",
   "metadata": {},
   "outputs": [],
   "source": [
    "weight = 1/3\n",
    "global_count = 2/3"
   ]
  },
  {
   "cell_type": "code",
   "execution_count": null,
   "id": "b71f1af3",
   "metadata": {},
   "outputs": [],
   "source": [
    "mask = (torch.sign(param_n.data) == torch.sign(param_m.data))\n",
    "product = torch.pow(torch.abs(param_n.data), weight) * torch.pow(torch.abs(param_m.data), global_count)\n",
    "param_m.data = mask * torch.sign(param_m.data) * torch.pow(product, 1 / (weight + global_count))"
   ]
  },
  {
   "cell_type": "code",
   "execution_count": null,
   "id": "d83ab622",
   "metadata": {},
   "outputs": [],
   "source": [
    "mask = (torch.sign(param_n.data) == torch.sign(param_m.data))\n",
    "product = torch.pow(torch.abs(param_n.data), weight) * torch.pow(torch.abs(param_m.data), global_count)\n",
    "param_m.data = mask * torch.sign(param_m.data) * torch.pow(product, 1 / (weight + global_count))"
   ]
  },
  {
   "cell_type": "code",
   "execution_count": null,
   "id": "6166f92c",
   "metadata": {},
   "outputs": [],
   "source": [
    "mask = (torch.sign(param_n.data) == torch.sign(param_m.data))\n",
    "product = torch.pow(torch.abs(param_n.data), weight) * torch.pow(torch.abs(param_m.data), global_count)\n",
    "param_m.data = mask * torch.sign(param_m.data) * torch.pow(product, 1 / (weight + global_count))"
   ]
  },
  {
   "cell_type": "code",
   "execution_count": null,
   "id": "69b179e1",
   "metadata": {},
   "outputs": [],
   "source": [
    "param_m.data"
   ]
  },
  {
   "cell_type": "code",
   "execution_count": null,
   "id": "5679265f",
   "metadata": {},
   "outputs": [],
   "source": [
    "final"
   ]
  },
  {
   "cell_type": "code",
   "execution_count": null,
   "id": "8f83d172",
   "metadata": {},
   "outputs": [],
   "source": [
    "torch.pow(torch.abs(param_n.data), 1/2)"
   ]
  },
  {
   "cell_type": "code",
   "execution_count": null,
   "id": "ce4d81c5",
   "metadata": {},
   "outputs": [],
   "source": [
    "list(classifier1bis.parameters())"
   ]
  },
  {
   "cell_type": "code",
   "execution_count": null,
   "id": "6e82127f",
   "metadata": {},
   "outputs": [],
   "source": [
    "network = nn.Sequential(classifier1, classifier2)"
   ]
  },
  {
   "cell_type": "code",
   "execution_count": null,
   "id": "137478ca",
   "metadata": {},
   "outputs": [],
   "source": [
    "network2 = nn.Sequential(classifier1bis, classifier2)"
   ]
  },
  {
   "cell_type": "code",
   "execution_count": null,
   "id": "bc3f3d3d",
   "metadata": {},
   "outputs": [],
   "source": [
    "save_dict = network2.state_dict()"
   ]
  },
  {
   "cell_type": "code",
   "execution_count": null,
   "id": "a0c7142a",
   "metadata": {},
   "outputs": [],
   "source": [
    "save_dict"
   ]
  },
  {
   "cell_type": "code",
   "execution_count": null,
   "id": "9d476d78",
   "metadata": {},
   "outputs": [],
   "source": [
    "network.load_state_dict(save_dict)"
   ]
  },
  {
   "cell_type": "code",
   "execution_count": null,
   "id": "cfa51c1c",
   "metadata": {},
   "outputs": [],
   "source": [
    "list(classifier1.parameters())"
   ]
  },
  {
   "cell_type": "code",
   "execution_count": null,
   "id": "e0197d12",
   "metadata": {},
   "outputs": [],
   "source": [
    "list(classifier1bis.parameters())"
   ]
  },
  {
   "cell_type": "code",
   "execution_count": null,
   "id": "c4ceb5ee",
   "metadata": {},
   "outputs": [],
   "source": [
    "list(network.parameters())"
   ]
  },
  {
   "cell_type": "code",
   "execution_count": null,
   "id": "98e8f068",
   "metadata": {},
   "outputs": [],
   "source": [
    "def get_ent(logits):\n",
    "    probs = torch.softmax(logits, dim=1)\n",
    "    ent = torch.sum(-probs * torch.log(probs), dim=1)\n",
    "    return ent\n",
    "\n",
    "list_logits = [torch.tensor([[0., 1], [2, 2]]), torch.tensor([[0., 2], [2, 2]])]\n",
    "list_ent = [get_ent(logits) for logits in list_logits]\n",
    "list_conf = [get_conf(logits) for logits in list_logits]"
   ]
  },
  {
   "cell_type": "code",
   "execution_count": null,
   "id": "bf0d0203",
   "metadata": {},
   "outputs": [],
   "source": [
    "print(list_logits, list_ent, list_conf)\n",
    "print(\"\\n\")\n",
    "print(list_conf[0] * list_logits[0])"
   ]
  },
  {
   "cell_type": "code",
   "execution_count": null,
   "id": "1c77ba2c",
   "metadata": {},
   "outputs": [],
   "source": []
  },
  {
   "cell_type": "code",
   "execution_count": null,
   "id": "6c3bf0e2",
   "metadata": {},
   "outputs": [],
   "source": [
    "list_ent"
   ]
  },
  {
   "cell_type": "code",
   "execution_count": null,
   "id": "f09b4e55",
   "metadata": {},
   "outputs": [],
   "source": [
    "list_logits"
   ]
  },
  {
   "cell_type": "code",
   "execution_count": null,
   "id": "5590da94",
   "metadata": {},
   "outputs": [],
   "source": [
    "list_ent"
   ]
  },
  {
   "cell_type": "code",
   "execution_count": null,
   "id": "1e9f90a1",
   "metadata": {},
   "outputs": [],
   "source": []
  },
  {
   "cell_type": "code",
   "execution_count": null,
   "id": "4b2c47e0",
   "metadata": {},
   "outputs": [],
   "source": [
    "-0.2689*math.log(0.2689)-0.7311*math.log(0.7311)"
   ]
  },
  {
   "cell_type": "code",
   "execution_count": null,
   "id": "0778e452",
   "metadata": {},
   "outputs": [],
   "source": []
  }
 ],
 "metadata": {
  "kernelspec": {
   "display_name": "nlp",
   "language": "python",
   "name": "python3"
  },
  "language_info": {
   "codemirror_mode": {
    "name": "ipython",
    "version": 3
   },
   "file_extension": ".py",
   "mimetype": "text/x-python",
   "name": "python",
   "nbconvert_exporter": "python",
   "pygments_lexer": "ipython3",
   "version": "3.8.16"
  }
 },
 "nbformat": 4,
 "nbformat_minor": 5
}
