{
 "cells": [
  {
   "cell_type": "code",
   "execution_count": 1,
   "id": "e3f386a3",
   "metadata": {},
   "outputs": [],
   "source": [
    "%load_ext autoreload\n",
    "%autoreload 2"
   ]
  },
  {
   "cell_type": "code",
   "execution_count": 2,
   "id": "4e20640b",
   "metadata": {},
   "outputs": [],
   "source": [
    "def clean(l):\n",
    "    return sorted([i for i in l if i[\"length\"] < 61], key=lambda x: x[\"length\"])\n",
    "            "
   ]
  },
  {
   "cell_type": "code",
   "execution_count": 3,
   "id": "bace2bfc",
   "metadata": {},
   "outputs": [],
   "source": [
    "\n",
    "from data.home import home0_iterswa_hpd_0414, home_iter_hps_env0_ermmixupcoral\n",
    "\n",
    "from data64.home import home0_itersoup_emvc_hps_0415\n",
    "from data64.home import home0_iterswa_erm_hps_0415, home0_itersoup_erm_hps_fulls_0420\n",
    "\n",
    "#l_swa = clean(home0_iterswa_hpd_0414.lswa)\n",
    "l_swa = clean(home0_iterswa_erm_hps_0415.lswa)\n",
    "#l_emvc = clean(home_iter_hps_env0_ermmixupcoral.lermmixupcoral)\n",
    "#l_emvc = clean(home0_itersoup_emvc_hps_0415.lermmixupcoral)\n",
    "\n",
    "l_erm = clean(home_iter_hps_env0_ermmixupcoral.lerm)\n",
    "l_erm_fulls = clean(home0_itersoup_erm_hps_fulls_0420.lerm)"
   ]
  },
  {
   "cell_type": "code",
   "execution_count": 4,
   "id": "2e725fe4",
   "metadata": {},
   "outputs": [],
   "source": [
    "from data64.home import home0_itersoup_erm_hps_0418\n",
    "from data64.home import home0_iterswa_erm_hps_0415\n",
    "\n",
    "#l_erm = clean(home0_itersoup_erm_hps_0418.lerm)\n",
    "#l_swa = clean(home0_iterswa_erm_hps_0415.lswa)"
   ]
  },
  {
   "cell_type": "code",
   "execution_count": null,
   "id": "6965b02c",
   "metadata": {},
   "outputs": [],
   "source": []
  },
  {
   "cell_type": "code",
   "execution_count": null,
   "id": "b44ff134",
   "metadata": {},
   "outputs": [],
   "source": []
  },
  {
   "cell_type": "code",
   "execution_count": 5,
   "id": "c534d89e",
   "metadata": {},
   "outputs": [],
   "source": [
    "from codeplot.plot import *"
   ]
  },
  {
   "cell_type": "code",
   "execution_count": 24,
   "id": "6f5ca6cc",
   "metadata": {},
   "outputs": [],
   "source": [
    "def plot_iter_soupacc(key1, order=1, do_ens=False, do_soup=True, ood=False, do_diff=False, add_legend=True):\n",
    "    if ood:\n",
    "        if do_diff:\n",
    "            dict_key_to_limit = {\"soup\": [0.625, 0.685]}\n",
    "        else:\n",
    "            dict_key_to_limit = {\"soup\": [0.63, 0.665]}\n",
    "    else:\n",
    "        dict_key_to_limit = {\"soup\": [0.834, 0.87]}\n",
    "\n",
    "    fig = plt.figure()\n",
    "    if do_ens:\n",
    "        if ood:\n",
    "            _dict_key_to_label = dict_key_to_label_net_ood\n",
    "        else:\n",
    "            _dict_key_to_label = dict_key_to_label_net_iid\n",
    "    else:\n",
    "        _dict_key_to_label = dict_key_to_label_net_ood\n",
    "    plt.xlabel(_dict_key_to_label.get(key1, key1), fontsize=\"x-large\")\n",
    "    plt.ylabel(_dict_key_to_label.get(\"soup\", \"soup\"), fontsize=\"x-large\")\n",
    "\n",
    "    colors = cm.rainbow(np.linspace(0.3, 1, 4))\n",
    "\n",
    "    def plot_with_int(l, color, label, key2, marker, linestyle):\n",
    "        t = get_x(l, key1)\n",
    "        if t == []:\n",
    "            return\n",
    "\n",
    "        l = [ll for ll in l if key2 in ll]\n",
    "        plt.scatter(\n",
    "            get_x(l, key1),\n",
    "            get_x(l, key2),\n",
    "            color=color,\n",
    "            label=label if order != 1 else None,\n",
    "            marker=marker\n",
    "        )\n",
    "        fit_and_plot(key1, key2, l, order, label, color, linestyle=linestyle)\n",
    "    _l_erm = l_erm_fulls if True and ood else l_erm\n",
    "    #_l_erm = clean(home0_itersoup_erm_hps_0418.lerm)\n",
    "    if do_soup and do_diff:\n",
    "\n",
    "        plot_with_int(\n",
    "            _l_erm,\n",
    "            color=colors[0],\n",
    "            label=\"WA\",\n",
    "            key2=\"soup\" if ood else \"train_soup\",\n",
    "            marker=\".\",\n",
    "            linestyle=\"-\"\n",
    "        )\n",
    "    if do_ens and do_diff:\n",
    "        plot_with_int(\n",
    "            _l_erm,\n",
    "            color=colors[1],\n",
    "            label=\"Ens\",\n",
    "            key2=\"net\" if ood else \"train_net\",\n",
    "            marker=\"x\",\n",
    "            linestyle=\"--\"\n",
    "        )\n",
    "\n",
    "    if do_soup:\n",
    "        plot_with_int(\n",
    "            l_swa,\n",
    "            color=colors[2],\n",
    "            label=\"WA\",\n",
    "            key2=\"soup\" if ood else \"train_soup\",\n",
    "            marker=\".\",\n",
    "            linestyle=\"-\"\n",
    "        )\n",
    "    if do_ens:\n",
    "        plot_with_int(\n",
    "            l_swa,\n",
    "            color=colors[3],\n",
    "            label=\"Ens\",\n",
    "            key2=\"net\" if ood else \"train_net\",\n",
    "            marker=\"x\",\n",
    "            linestyle=\"--\"\n",
    "        )\n",
    "    #plot_with_int(liter_hpl.lswa, color=colors[0], label=\"Ens: $\\\\{\\\\theta_m\\\\}_1^M$ from a single ERM run\", key2=\"net\")\n",
    "\n",
    "    if key1 in dict_key_to_limit:\n",
    "        plt.xlim(dict_key_to_limit[key1])\n",
    "    if \"soup\" in dict_key_to_limit:\n",
    "        plt.ylim(dict_key_to_limit[\"soup\"])\n",
    "    if add_legend:\n",
    "        plt.legend(fontsize=\"x-large\")\n",
    "    return fig"
   ]
  },
  {
   "cell_type": "code",
   "execution_count": 20,
   "id": "d4de943e",
   "metadata": {},
   "outputs": [],
   "source": [
    "def plot_iter_soupacc(key1, order=1, do_ens=False, do_soup=True, ood=False, do_diff=False, add_legend=True):\n",
    "    if ood:\n",
    "        if do_diff:\n",
    "            dict_key_to_limit = {\"soup\": [0.625, 0.685]}\n",
    "        else:\n",
    "            dict_key_to_limit = {\"soup\": [0.63, 0.665]}\n",
    "    else:\n",
    "        dict_key_to_limit = {\"soup\": [0.834, 0.87]}\n",
    "\n",
    "    fig = plt.figure()\n",
    "    if do_ens:\n",
    "        if ood:\n",
    "            _dict_key_to_label = dict_key_to_label_net_ood\n",
    "        else:\n",
    "            _dict_key_to_label = dict_key_to_label_net_iid\n",
    "    else:\n",
    "        _dict_key_to_label = dict_key_to_label_net_ood\n",
    "    plt.xlabel(_dict_key_to_label.get(key1, key1), fontsize=\"x-large\")\n",
    "    plt.ylabel(_dict_key_to_label.get(\"soup\", \"soup\"), fontsize=\"x-large\")\n",
    "\n",
    "    colors = cm.rainbow(np.linspace(0.3, 1, 4))\n",
    "\n",
    "    def plot_with_int(l, color, label, key2, marker, linestyle):\n",
    "        t = get_x(l, key1)\n",
    "        if t == []:\n",
    "            return\n",
    "\n",
    "        l = [ll for ll in l if key2 in ll]\n",
    "        plt.scatter(\n",
    "            get_x(l, key1),\n",
    "            get_x(l, key2),\n",
    "            color=color,\n",
    "            label=label if order != 1 else None,\n",
    "            marker=marker\n",
    "        )\n",
    "        fit_and_plot(key1, key2, l, order, label, color, linestyle=linestyle)\n",
    "    _l_erm = l_erm_fulls if True and ood else l_erm\n",
    "    #_l_erm = clean(home0_itersoup_erm_hps_0418.lerm)\n",
    "    if do_soup and do_diff:\n",
    "\n",
    "        plot_with_int(\n",
    "            _l_erm,\n",
    "            color=colors[0],\n",
    "            label=\"Weights from different runs\",\n",
    "            key2=\"soup\" if ood else \"train_soup\",\n",
    "            marker=\".\",\n",
    "            linestyle=\"-\"\n",
    "        )\n",
    "    if do_ens and do_diff:\n",
    "        plot_with_int(\n",
    "            _l_erm,\n",
    "            color=colors[1],\n",
    "            label=\"Ens: $\\\\{\\\\theta_m\\\\}_1^M$ from different runs\",\n",
    "            key2=\"net\" if ood else \"train_net\",\n",
    "            marker=\"x\",\n",
    "            linestyle=\"--\"\n",
    "        )\n",
    "\n",
    "    if do_soup:\n",
    "        plot_with_int(\n",
    "            l_swa,\n",
    "            color=colors[2],\n",
    "            label=\"Weights from one single run\" if do_diff else None,\n",
    "            key2=\"soup\" if ood else \"train_soup\",\n",
    "            marker=\".\",\n",
    "            linestyle=\"-\"\n",
    "        )\n",
    "    if do_ens:\n",
    "        plot_with_int(\n",
    "            l_swa,\n",
    "            color=colors[3],\n",
    "            label=\"Ens: $\\\\{\\\\theta_m\\\\}_1^M$ from one single run\",\n",
    "            key2=\"net\" if ood else \"train_net\",\n",
    "            marker=\"x\",\n",
    "            linestyle=\"--\"\n",
    "        )\n",
    "    #plot_with_int(liter_hpl.lswa, color=colors[0], label=\"Ens: $\\\\{\\\\theta_m\\\\}_1^M$ from a single ERM run\", key2=\"net\")\n",
    "\n",
    "    if key1 in dict_key_to_limit:\n",
    "        plt.xlim(dict_key_to_limit[key1])\n",
    "    if \"soup\" in dict_key_to_limit:\n",
    "        plt.ylim(dict_key_to_limit[\"soup\"])\n",
    "    if add_legend:\n",
    "        plt.legend(fontsize=\"x-large\")\n",
    "    return fig"
   ]
  },
  {
   "cell_type": "code",
   "execution_count": 13,
   "id": "eb82ce35",
   "metadata": {},
   "outputs": [
    {
     "ename": "NameError",
     "evalue": "name 'dict_key_to_label_ood' is not defined",
     "output_type": "error",
     "traceback": [
      "\u001b[0;31m---------------------------------------------------------------------------\u001b[0m",
      "\u001b[0;31mNameError\u001b[0m                                 Traceback (most recent call last)",
      "\u001b[0;32m<ipython-input-13-e073cb069673>\u001b[0m in \u001b[0;36m<module>\u001b[0;34m\u001b[0m\n\u001b[0;32m----> 1\u001b[0;31m \u001b[0mdict_key_to_label_ood\u001b[0m\u001b[0;34m[\u001b[0m\u001b[0;34m\"length\"\u001b[0m\u001b[0;34m]\u001b[0m\u001b[0;34m\u001b[0m\u001b[0;34m\u001b[0m\u001b[0m\n\u001b[0m",
      "\u001b[0;31mNameError\u001b[0m: name 'dict_key_to_label_ood' is not defined"
     ]
    }
   ],
   "source": [
    "dict_key_to_label_ood[\"length\"]"
   ]
  },
  {
   "cell_type": "code",
   "execution_count": 8,
   "id": "f46288ab",
   "metadata": {},
   "outputs": [
    {
     "ename": "NameError",
     "evalue": "name 'dict_key_to_label_net_ood' is not defined",
     "output_type": "error",
     "traceback": [
      "\u001b[0;31m---------------------------------------------------------------------------\u001b[0m",
      "\u001b[0;31mNameError\u001b[0m                                 Traceback (most recent call last)",
      "\u001b[0;32m<ipython-input-8-152b5f8465e1>\u001b[0m in \u001b[0;36m<module>\u001b[0;34m\u001b[0m\n\u001b[0;32m----> 1\u001b[0;31m \u001b[0mdict_key_to_label_net_ood\u001b[0m\u001b[0;34m\u001b[0m\u001b[0;34m\u001b[0m\u001b[0m\n\u001b[0m",
      "\u001b[0;31mNameError\u001b[0m: name 'dict_key_to_label_net_ood' is not defined"
     ]
    }
   ],
   "source": [
    "dict_key_to_label_net_ood"
   ]
  },
  {
   "cell_type": "code",
   "execution_count": 14,
   "id": "c3a5d3cf",
   "metadata": {},
   "outputs": [],
   "source": [
    "dict_key_to_label_net_ood = {\"soup\": \"OOD Accuracy\", \"length\": \"M (number of models)\"}\n",
    "dict_key_to_label_net_iid = {\"soup\": \"IID Accuracy\", \"length\": dict_key_to_label[\"length\"]}"
   ]
  },
  {
   "cell_type": "code",
   "execution_count": 15,
   "id": "b83e7d76",
   "metadata": {},
   "outputs": [],
   "source": [
    "import matplotlib.pyplot as plt\n"
   ]
  },
  {
   "cell_type": "code",
   "execution_count": 28,
   "id": "2c76a6a0",
   "metadata": {},
   "outputs": [
    {
     "data": {
      "image/png": "[encoded data removed]",
      "text/plain": [
       "<Figure size 360x216 with 1 Axes>"
      ]
     },
     "metadata": {
      "needs_background": "light"
     },
     "output_type": "display_data"
    }
   ],
   "source": [
    "plt.rcParams[\"figure.figsize\"] = (5,3)\n",
    "\n",
    "l_swa = l_swa[:31]\n",
    "fig = plot_iter_soupacc(\"length\", order=\"\",do_ens=True, do_soup=False, ood=True, do_diff=False)\n",
    "save_fig(fig, \"sameruns_m_net_ood.png\")"
   ]
  },
  {
   "cell_type": "code",
   "execution_count": null,
   "id": "c83609fc",
   "metadata": {},
   "outputs": [],
   "source": [
    "plt.rcParams[\"figure.figsize\"] = (7,6)\n",
    "\n",
    "fig = plot_iter_soupacc(\"length\", order=\"2log\",do_ens=True, do_soup=True, ood=False, )\n",
    "#save_fig(fig, \"samediffruns_m_soup_net_iid.png\")"
   ]
  },
  {
   "cell_type": "code",
   "execution_count": null,
   "id": "5444b117",
   "metadata": {},
   "outputs": [],
   "source": [
    "plt.rcParams[\"figure.figsize\"] = (5,5)\n",
    "fig = plot_iter_soupacc(\"length\", order=\"2log\",do_ens=False, do_soup=True, ood=True)\n",
    "save_fig(fig, \"home0_samediffruns_m_soup_ood.png\")"
   ]
  },
  {
   "cell_type": "code",
   "execution_count": null,
   "id": "c5604476",
   "metadata": {},
   "outputs": [],
   "source": [
    "plt.rcParams[\"figure.figsize\"] = (7,7)\n",
    "fig = plot_iter_soupacc(\"length\", order=\"2log\",do_ens=True, do_soup=True, ood=True)"
   ]
  },
  {
   "cell_type": "code",
   "execution_count": null,
   "id": "2fa84fae",
   "metadata": {},
   "outputs": [],
   "source": []
  },
  {
   "cell_type": "code",
   "execution_count": null,
   "id": "1734a798",
   "metadata": {},
   "outputs": [],
   "source": []
  },
  {
   "cell_type": "code",
   "execution_count": null,
   "id": "ef9e81d1",
   "metadata": {},
   "outputs": [],
   "source": [
    "plt.rcParams[\"figure.figsize\"] = (7,6)\n",
    "fig = plot_iter_soupacc(\"length\", order=\"2log\",do_ens=True, do_soup=True, ood=True)"
   ]
  },
  {
   "cell_type": "code",
   "execution_count": null,
   "id": "3687a9d9",
   "metadata": {},
   "outputs": [],
   "source": [
    "fig = plot_iter_soupacc(\"length\", order=\"2log\",dict_key_to_limit=dict_key_to_limit)"
   ]
  },
  {
   "cell_type": "code",
   "execution_count": null,
   "id": "a5bee6fd",
   "metadata": {},
   "outputs": [],
   "source": []
  },
  {
   "cell_type": "code",
   "execution_count": null,
   "id": "6358e406",
   "metadata": {},
   "outputs": [],
   "source": []
  },
  {
   "cell_type": "code",
   "execution_count": null,
   "id": "1e5eb5b2",
   "metadata": {},
   "outputs": [],
   "source": [
    "plot_iter(\"length\", \"soupswa\", order=\"\",)"
   ]
  },
  {
   "cell_type": "code",
   "execution_count": null,
   "id": "ae129f58",
   "metadata": {},
   "outputs": [],
   "source": [
    "plot_iter(\"length\", \"soup\", order=\"2log\")"
   ]
  },
  {
   "cell_type": "code",
   "execution_count": null,
   "id": "1f1681a1",
   "metadata": {},
   "outputs": [],
   "source": [
    "def plot_soup_soupswa(key1, keys2, order=1):\n",
    "    plt.xlabel(dict_key_to_label.get(key1, key1))\n",
    "    plt.ylabel(dict_key_to_label[\"soup\"])\n",
    "\n",
    "    def plot_with_int(l, color, label, key2):\n",
    "        t = x(l, key1)\n",
    "        if t == []:\n",
    "            return\n",
    "        plt.scatter(x(l, key1), get_x(l, key2), color=color, label=label if order != 1 else None)\n",
    "        fit_and_plot(key1, key2, l, order, label, color)\n",
    "\n",
    "\n",
    "    colors = [\"blue\", \"yellow\"]\n",
    "    labels = [\n",
    "        \"SOUP: $\\\\{\\\\theta_m\\\\}_1^M$ last checkpoints from different runs\",\n",
    "        \"SOUPSWA: $\\\\{\\\\theta_m\\\\}_1^M$ SWA from different runs\"\n",
    "    ]\n",
    "    #plot_with_int(l0, color=\"grey\", key2=\"soup\", label=\"swa\")\n",
    "    for  i, key2 in enumerate(keys2):\n",
    "        plot_with_int(l2, key2=key2, color=colors[i], label=labels[i])\n",
    "\n",
    "    plt.legend()\n",
    "plot_soup_soupswa(\"length\", keys2=[\"soup\", \"soupswa\"], order=2)"
   ]
  },
  {
   "cell_type": "code",
   "execution_count": null,
   "id": "883e4bd0",
   "metadata": {},
   "outputs": [],
   "source": []
  },
  {
   "cell_type": "code",
   "execution_count": null,
   "id": "b335950b",
   "metadata": {},
   "outputs": [],
   "source": [
    "plot_soup_soupswa(\"length\", keys2=[\"soup\", \"soupswa\"], order=2)"
   ]
  },
  {
   "cell_type": "code",
   "execution_count": null,
   "id": "8ddd92b7",
   "metadata": {},
   "outputs": [],
   "source": [
    "plot_soup_soupswa(\"length\", keys2=[\"hess\", \"thess\"], order=\"2log\")"
   ]
  },
  {
   "cell_type": "code",
   "execution_count": null,
   "id": "ebf0f3ab",
   "metadata": {},
   "outputs": [],
   "source": [
    "plot_key_swa(\"length\", keys2=[\"soup\", \"soupswa\"], order=\"2log\")"
   ]
  },
  {
   "cell_type": "code",
   "execution_count": null,
   "id": "7d5956bb",
   "metadata": {},
   "outputs": [],
   "source": []
  },
  {
   "cell_type": "code",
   "execution_count": null,
   "id": "ee786f80",
   "metadata": {},
   "outputs": [],
   "source": [
    "plot_key(\"length\", \"thess\", order=\"2log\")"
   ]
  },
  {
   "cell_type": "code",
   "execution_count": null,
   "id": "3bfccd9e",
   "metadata": {},
   "outputs": [],
   "source": [
    "plot_key(\"thess\", \"soup\")"
   ]
  },
  {
   "cell_type": "code",
   "execution_count": null,
   "id": "82aef47d",
   "metadata": {},
   "outputs": [],
   "source": [
    "plot_key(\"length\", \"hess\", order=\"2log\")"
   ]
  },
  {
   "cell_type": "code",
   "execution_count": null,
   "id": "6b5c7683",
   "metadata": {},
   "outputs": [],
   "source": []
  }
 ],
 "metadata": {
  "kernelspec": {
   "display_name": "Python pytorch",
   "language": "python",
   "name": "pytorch"
  },
  "language_info": {
   "codemirror_mode": {
    "name": "ipython",
    "version": 3
   },
   "file_extension": ".py",
   "mimetype": "text/x-python",
   "name": "python",
   "nbconvert_exporter": "python",
   "pygments_lexer": "ipython3",
   "version": "3.6.7"
  }
 },
 "nbformat": 4,
 "nbformat_minor": 5
}
