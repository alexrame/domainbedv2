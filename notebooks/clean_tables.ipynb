{
 "cells": [
  {
   "cell_type": "code",
   "execution_count": 2,
   "id": "4067f5c5",
   "metadata": {},
   "outputs": [],
   "source": [
    "%load_ext autoreload\n",
    "%autoreload 2\n",
    "import sys\n",
    "import collections\n",
    "import numpy as np\n",
    "sys.path.append(\"/private/home/alexandrerame/domainbedv2/\")\n",
    "sys.path.append(\"/private/home/alexandrerame/slurmconfig/notebook/data\")\n",
    "from domainbed.codeplot import plot_tables\n"
   ]
  },
  {
   "cell_type": "code",
   "execution_count": 3,
   "id": "04d5d93f",
   "metadata": {},
   "outputs": [],
   "source": [
    "mcf = plot_tables.mcf"
   ]
  },
  {
   "cell_type": "code",
   "execution_count": 26,
   "id": "7fae93bf",
   "metadata": {},
   "outputs": [],
   "source": [
    "ls = \"\"\"0.919873046875 $\\pm$ 0.0034398712302658296 & 0.8599402730375425 $\\pm$ 0.003388081183663546 & 0.9871856287425151 $\\pm$ 0.0008908548345078415 & 0.8659709849834563 $\\pm$ 0.005573569352442555\"\"\"\n"
   ]
  },
  {
   "cell_type": "code",
   "execution_count": 27,
   "id": "86f10707",
   "metadata": {},
   "outputs": [
    {
     "name": "stdout",
     "output_type": "stream",
     "text": [
      "92.0 $\\pm$ 0.3 & 86.0 $\\pm$ 0.3 & 98.7 $\\pm$ 0.1 & 86.6 $\\pm$ 0.6 & 90.8 $\\pm$ 0.3\n"
     ]
    }
   ],
   "source": [
    "for l in ls.split(\"\\n\"):\n",
    "    print(mcf(l, add_std=True, factor=100))"
   ]
  },
  {
   "cell_type": "code",
   "execution_count": 34,
   "id": "d3851910",
   "metadata": {},
   "outputs": [
    {
     "data": {
      "text/plain": [
       "'55.0 $\\\\pm$ 1.4 & 47.4 $\\\\pm$ 0.6 & 60.2 $\\\\pm$ 0.2 & 40.0 $\\\\pm$ 0.3 & 50.6 $\\\\pm$ 0.6'"
      ]
     },
     "execution_count": 34,
     "metadata": {},
     "output_type": "execute_result"
    }
   ],
   "source": [
    "mcf(\"0.5497574351402658 $\\pm$ 0.014113024635745167 & 0.474239934264585 $\\pm$ 0.006332593679069097 & 0.6019647355163728 $\\pm$ 0.0019385976938817312 & 0.39966003739588646 $\\pm$ 0.002961540669108661\", factor=100)"
   ]
  },
  {
   "cell_type": "code",
   "execution_count": 30,
   "id": "54f48231",
   "metadata": {},
   "outputs": [
    {
     "data": {
      "text/plain": [
       "'99.2 $\\\\pm$ 0.0 & 60.6 $\\\\pm$ 0.2 & 72.9 $\\\\pm$ 0.5 & 79.8 $\\\\pm$ 0.5 & 78.1 $\\\\pm$ 0.3'"
      ]
     },
     "execution_count": 30,
     "metadata": {},
     "output_type": "execute_result"
    }
   ],
   "source": [
    "mcf(\"0.9918021201413427 $\\pm$ 0.0003462176314887691 & 0.605722891566265 $\\pm$ 0.0015866948422970778 & 0.7286410725167581 $\\pm$ 0.004730488408305978 & 0.7982227488151659 $\\pm$ 0.005087203659011488\", factor=100)"
   ]
  },
  {
   "cell_type": "code",
   "execution_count": 54,
   "id": "28625270",
   "metadata": {},
   "outputs": [
    {
     "data": {
      "text/plain": [
       "'58.0 & 47.8 & 60.2 & 37.9 & 51.0'"
      ]
     },
     "execution_count": 54,
     "metadata": {},
     "output_type": "execute_result"
    }
   ],
   "source": [
    "mcf(\n",
    "    \"0.5799620333263025 & 0.47754724732949877 & 0.6019143576826196 & 0.37865034846166923\",\n",
    "    add_std=False,\n",
    "    factor=100\n",
    ")\n"
   ]
  },
  {
   "cell_type": "code",
   "execution_count": 29,
   "id": "6cb58492",
   "metadata": {},
   "outputs": [
    {
     "data": {
      "text/plain": [
       "'69.6 $\\\\pm$ 0.3 & 61.0 $\\\\pm$ 0.2 & 80.1 $\\\\pm$ 0.2 & 82.5 $\\\\pm$ 0.2 & 73.3 $\\\\pm$ 0.2'"
      ]
     },
     "execution_count": 29,
     "metadata": {},
     "output_type": "execute_result"
    }
   ],
   "source": [
    "mcf(\"0.6962505150391429 $\\pm$ 0.0032485213587848593 & 0.6097594501718213 $\\pm$ 0.0022192680024398707 & 0.8009461590448298 $\\pm$ 0.001628232574867565 & 0.8253385356896947 $\\pm$ 0.001914771963701097\", factor=100)"
   ]
  },
  {
   "cell_type": "code",
   "execution_count": 25,
   "id": "1ce5f16e",
   "metadata": {},
   "outputs": [],
   "source": [
    "l=\"\"\"D_TWAW0 &   0.6021936300358575 & 0.47997124075595726 & 0.6047858942065492 & 0.39928607853136155\n",
    "DMA_TWAW0 & 0.5741404766926809 & 0.4867502054231717 & 0.6183879093198993 & 0.4326024137344892\"\"\""
   ]
  },
  {
   "cell_type": "code",
   "execution_count": 11,
   "id": "12d04ca9",
   "metadata": {},
   "outputs": [],
   "source": [
    "l=\"\"\"D & 0.5770934402024889 & 0.49373459326212 & 0.6045340050377834 & 0.3950365459799422\"\"\""
   ]
  },
  {
   "cell_type": "code",
   "execution_count": 13,
   "id": "cb5c84ed",
   "metadata": {},
   "outputs": [],
   "source": [
    "l=\"\"\"D_TWA                & 0.6996291718170581 & 0.6254295532646048 & 0.813922054516783     & 0.8377323846683498\n",
    "DMA_TWA             & 0.7012772970745776 & 0.6270332187857961 & 0.8098670871817977    & 0.8361257746155611\"\"\""
   ]
  },
  {
   "cell_type": "code",
   "execution_count": 17,
   "id": "306da43e",
   "metadata": {},
   "outputs": [],
   "source": [
    "l=\"\"\"D_TWA_din &            0.9865724381625441 & 0.6231174698795181 & 0.7205971968312005 & 0.7956161137440758\n",
    "D_TWAMA_din     &     0.9915194346289753 & 0.6121987951807228 & 0.7361365021328459 & 0.8089454976303317\n",
    "D_TWA & 0.9865724381625441 & 0.6272590361445783 & 0.7318708104814138 & 0.8000592417061612\n",
    "D_TWAMA & 0.9901060070671378 & 0.6121987951807228 & 0.7358318098720292 & 0.8127962085308057\"\"\""
   ]
  },
  {
   "cell_type": "code",
   "execution_count": 19,
   "id": "a1f1bcde",
   "metadata": {},
   "outputs": [],
   "source": [
    "l=\"\"\"D_TWA &                0.92626953125 &        0.889505119453925 &       0.9892215568862276 &    0.8785950623568338\n",
    "DMA_TWAMA &            0.93017578125 &        0.8839590443686007 &      0.9898203592814371 &    0.8785950623568338\"\"\""
   ]
  },
  {
   "cell_type": "code",
   "execution_count": 21,
   "id": "6f4f1817",
   "metadata": {},
   "outputs": [],
   "source": [
    "l=\"\"\"D                     & 0.904296875 &         0.8272184300341296 &  0.9868263473053892 &  0.8246373122932044\"\"\""
   ]
  },
  {
   "cell_type": "code",
   "execution_count": 23,
   "id": "ef5458ab",
   "metadata": {},
   "outputs": [],
   "source": [
    "l=\"\"\"D_onlydn & 0.93505859375 & 0.9023037542662116 & 0.9850299401197605 & 0.8824128276915245\"\"\""
   ]
  },
  {
   "cell_type": "code",
   "execution_count": 27,
   "id": "5f96271a",
   "metadata": {},
   "outputs": [],
   "source": [
    "l=\"\"\"D&0.7058096415327565 & 0.6302405498281787 & 0.8125703987384546 & 0.836584806059215\"\"\""
   ]
  },
  {
   "cell_type": "code",
   "execution_count": 33,
   "id": "130ca92b",
   "metadata": {},
   "outputs": [],
   "source": [
    "l=\"\"\"D & 0.6971569839307787 & 0.6252004581901489 & 0.8127956747015094 & 0.8370438375028689\n",
    "D & 0.6913885455294603 & 0.6146620847651776 & 0.8024329804009912 & 0.828322240073445\n",
    "D & 0.7058096415327565 & 0.6302405498281787 & 0.8125703987384546 & 0.836584806059215\"\"\""
   ]
  },
  {
   "cell_type": "code",
   "execution_count": 34,
   "id": "ae31bb42",
   "metadata": {},
   "outputs": [
    {
     "name": "stdout",
     "output_type": "stream",
     "text": [
      "69.7 & 62.5 & 81.3 & 83.7 & 74.3\n",
      "69.1 & 61.5 & 80.2 & 82.8 & 73.4\n",
      "70.6 & 63.0 & 81.3 & 83.7 & 74.6\n"
     ]
    }
   ],
   "source": [
    "for ll in l.split(\"\\n\"):\n",
    "    print(av(ll, add_m=True, factor=100, add_std=False))"
   ]
  },
  {
   "cell_type": "code",
   "execution_count": null,
   "id": "d4688132",
   "metadata": {},
   "outputs": [],
   "source": []
  }
 ],
 "metadata": {
  "kernelspec": {
   "display_name": "Python 3.7.10 64-bit",
   "language": "python",
   "name": "python3"
  },
  "language_info": {
   "codemirror_mode": {
    "name": "ipython",
    "version": 3
   },
   "file_extension": ".py",
   "mimetype": "text/x-python",
   "name": "python",
   "nbconvert_exporter": "python",
   "pygments_lexer": "ipython3",
   "version": "3.7.10"
  },
  "vscode": {
   "interpreter": {
    "hash": "c2f007bb438f1f0ac6ac2cdf8fe0d10d13748d7e99ce09d161672c77ac01ae60"
   }
  }
 },
 "nbformat": 4,
 "nbformat_minor": 5
}
