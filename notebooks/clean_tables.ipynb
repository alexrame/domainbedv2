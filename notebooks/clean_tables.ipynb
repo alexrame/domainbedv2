{
 "cells": [
  {
   "cell_type": "code",
   "execution_count": 4,
   "id": "4067f5c5",
   "metadata": {},
   "outputs": [],
   "source": [
    "import numpy as np\n",
    "mean = np.mean\n",
    "def clean(l, skip=0, std=0):\n",
    "    dwa = [float(x.split(\"/\")[0].split(\"$\\pm$\")[std].split(\"&\")[0].replace(\"\\\\underline{\", \"\").replace(\"\\\\textbf{\", \"\").replace(\"}\", \"\")) for x in l.split(\"&\")[skip:]]\n",
    "    return dwa\n",
    "  \n",
    "def mc(l):\n",
    "    return mean(clean(l))\n",
    "\n",
    "def mcs(l):\n",
    "    return str(mean(clean(l))) + \" $\\\\pm$ \" + str(mean(clean(l, std=1)))\n",
    "\n",
    "def av(l, skip=1, add_m=False, factor=1, prec=1, add_std=True, str_join=\" & \"):\n",
    "    l = l.replace(\"\\\\\", \"\").strip()\n",
    "    clean_l = [clean(ll.strip(), skip=skip) for ll in l.split(\"\\n\")]\n",
    "    if add_m:\n",
    "        for i in range(len(clean_l)):\n",
    "            clean_l[i].append(mean(clean_l[i]))\n",
    "        #print(clean_l)\n",
    "    clean_l = [[factor * ll for ll in l] for l in clean_l]\n",
    "    row = [mean(ll) for ll in zip(*clean_l)]\n",
    "    def format_val(x, e):\n",
    "        if np.issubdtype(type(x), np.floating):\n",
    "            if prec == 2:\n",
    "                x = \"{:.2f}\".format(x)\n",
    "            else:\n",
    "                x = \"{:.1f}\".format(x)\n",
    "        if np.issubdtype(type(e), np.floating):\n",
    "            e = \"{:.1f}\".format(e)\n",
    "        if add_std:\n",
    "            return str(x) + \" $\\\\pm$ \" + str(e)\n",
    "        else:\n",
    "            return str(x)\n",
    "    err = [np.std(list(ll) / np.sqrt(len(ll))) for ll in zip(*clean_l)]\n",
    "    #print(str_join.join([format_val(r, e) for r, e in zip(row, err)]), \"\\\\\\\\\")\n",
    "    return str_join.join([format_val(r, e) for r, e in zip(row, err)])\n",
    "    "
   ]
  },
  {
   "cell_type": "code",
   "execution_count": 25,
   "id": "1ce5f16e",
   "metadata": {},
   "outputs": [],
   "source": [
    "l=\"\"\"D_TWAW0 &   0.6021936300358575 & 0.47997124075595726 & 0.6047858942065492 & 0.39928607853136155\n",
    "DMA_TWAW0 & 0.5741404766926809 & 0.4867502054231717 & 0.6183879093198993 & 0.4326024137344892\"\"\""
   ]
  },
  {
   "cell_type": "code",
   "execution_count": 11,
   "id": "12d04ca9",
   "metadata": {},
   "outputs": [],
   "source": [
    "l=\"\"\"D & 0.5770934402024889 & 0.49373459326212 & 0.6045340050377834 & 0.3950365459799422\"\"\""
   ]
  },
  {
   "cell_type": "code",
   "execution_count": 13,
   "id": "cb5c84ed",
   "metadata": {},
   "outputs": [],
   "source": [
    "l=\"\"\"D_TWA                & 0.6996291718170581 & 0.6254295532646048 & 0.813922054516783     & 0.8377323846683498\n",
    "DMA_TWA             & 0.7012772970745776 & 0.6270332187857961 & 0.8098670871817977    & 0.8361257746155611\"\"\""
   ]
  },
  {
   "cell_type": "code",
   "execution_count": 17,
   "id": "306da43e",
   "metadata": {},
   "outputs": [],
   "source": [
    "l=\"\"\"D_TWA_din &            0.9865724381625441 & 0.6231174698795181 & 0.7205971968312005 & 0.7956161137440758\n",
    "D_TWAMA_din     &     0.9915194346289753 & 0.6121987951807228 & 0.7361365021328459 & 0.8089454976303317\n",
    "D_TWA & 0.9865724381625441 & 0.6272590361445783 & 0.7318708104814138 & 0.8000592417061612\n",
    "D_TWAMA & 0.9901060070671378 & 0.6121987951807228 & 0.7358318098720292 & 0.8127962085308057\"\"\""
   ]
  },
  {
   "cell_type": "code",
   "execution_count": 19,
   "id": "a1f1bcde",
   "metadata": {},
   "outputs": [],
   "source": [
    "l=\"\"\"D_TWA &                0.92626953125 &        0.889505119453925 &       0.9892215568862276 &    0.8785950623568338\n",
    "DMA_TWAMA &            0.93017578125 &        0.8839590443686007 &      0.9898203592814371 &    0.8785950623568338\"\"\""
   ]
  },
  {
   "cell_type": "code",
   "execution_count": 21,
   "id": "6f4f1817",
   "metadata": {},
   "outputs": [],
   "source": [
    "l=\"\"\"D                     & 0.904296875 &         0.8272184300341296 &  0.9868263473053892 &  0.8246373122932044\"\"\""
   ]
  },
  {
   "cell_type": "code",
   "execution_count": 23,
   "id": "ef5458ab",
   "metadata": {},
   "outputs": [],
   "source": [
    "l=\"\"\"D_onlydn & 0.93505859375 & 0.9023037542662116 & 0.9850299401197605 & 0.8824128276915245\"\"\""
   ]
  },
  {
   "cell_type": "code",
   "execution_count": 27,
   "id": "5f96271a",
   "metadata": {},
   "outputs": [],
   "source": [
    "l=\"\"\"D&0.7058096415327565 & 0.6302405498281787 & 0.8125703987384546 & 0.836584806059215\"\"\""
   ]
  },
  {
   "cell_type": "code",
   "execution_count": 33,
   "id": "130ca92b",
   "metadata": {},
   "outputs": [],
   "source": [
    "l=\"\"\"D & 0.6971569839307787 & 0.6252004581901489 & 0.8127956747015094 & 0.8370438375028689\n",
    "D & 0.6913885455294603 & 0.6146620847651776 & 0.8024329804009912 & 0.828322240073445\n",
    "D & 0.7058096415327565 & 0.6302405498281787 & 0.8125703987384546 & 0.836584806059215\"\"\""
   ]
  },
  {
   "cell_type": "code",
   "execution_count": 34,
   "id": "ae31bb42",
   "metadata": {},
   "outputs": [
    {
     "name": "stdout",
     "output_type": "stream",
     "text": [
      "69.7 & 62.5 & 81.3 & 83.7 & 74.3\n",
      "69.1 & 61.5 & 80.2 & 82.8 & 73.4\n",
      "70.6 & 63.0 & 81.3 & 83.7 & 74.6\n"
     ]
    }
   ],
   "source": [
    "for ll in l.split(\"\\n\"):\n",
    "    print(av(ll, add_m=True, factor=100, add_std=False))"
   ]
  },
  {
   "cell_type": "code",
   "execution_count": null,
   "id": "d4688132",
   "metadata": {},
   "outputs": [],
   "source": []
  }
 ],
 "metadata": {
  "kernelspec": {
   "display_name": "Python base",
   "language": "python",
   "name": "base"
  },
  "language_info": {
   "codemirror_mode": {
    "name": "ipython",
    "version": 3
   },
   "file_extension": ".py",
   "mimetype": "text/x-python",
   "name": "python",
   "nbconvert_exporter": "python",
   "pygments_lexer": "ipython3",
   "version": "3.9.12"
  }
 },
 "nbformat": 4,
 "nbformat_minor": 5
}
