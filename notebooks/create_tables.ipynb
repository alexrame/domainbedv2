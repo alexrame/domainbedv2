{
 "cells": [
  {
   "cell_type": "code",
   "execution_count": 1,
   "id": "4067f5c5",
   "metadata": {},
   "outputs": [],
   "source": [
    "%load_ext autoreload\n",
    "%autoreload 2\n",
    "import sys\n",
    "import collections\n",
    "import numpy as np\n",
    "sys.path.append(\"/private/home/alexandrerame/domainbedv2/\")\n",
    "sys.path.append(\"/private/home/alexandrerame/slurmconfig/notebook/data\")\n",
    "from domainbed.codeplot import plot_tables\n"
   ]
  },
  {
   "cell_type": "code",
   "execution_count": 2,
   "id": "04d5d93f",
   "metadata": {},
   "outputs": [],
   "source": [
    "mcf = plot_tables.mcf"
   ]
  },
  {
   "cell_type": "code",
   "execution_count": 3,
   "id": "eb4b16e9",
   "metadata": {},
   "outputs": [
    {
     "name": "stdout",
     "output_type": "stream",
     "text": [
      "90.5 $\\pm$ 0.1 & 84.4 $\\pm$ 0.2 & 98.6 $\\pm$ 0.1 & 85.0 $\\pm$ 0.2 & 89.6 $\\pm$ 0.1\n",
      "89.9 $\\pm$ 0.1 & 84.2 $\\pm$ 0.1 & 98.6 $\\pm$ 0.0 & 84.7 $\\pm$ 0.2 & 89.4 $\\pm$ 0.1\n"
     ]
    }
   ],
   "source": [
    "ls = \"\"\"0.9051513671875 0.0012088454027473186\n",
    "0.8437286689419796 0.001919163086421909\n",
    "0.9860179640718562 0.0006306406098993785\n",
    "0.8504963094935096 0.0019093916348700624\n",
    "new\n",
    "0.899169921875 0.0014333085582868973\n",
    "0.8420861774744027 0.001296991477266239\n",
    "0.9864970059880239 0.00041594143680988543\n",
    "0.8467930771188599 0.0021235964188514663\n",
    "\"\"\"\n",
    "for l in ls.split(\"new\"):\n",
    "    clean_l = [plot_tables.clean(ll)[0] for ll in l.split()]\n",
    "    acc_std = \" & \".join([str(acc) + \"$\\pm$\" + str(std) for acc,std in zip(clean_l[::2], clean_l[1::2])])\n",
    "    print(mcf(acc_std, add_std=True, factor=100, title=False))"
   ]
  },
  {
   "cell_type": "code",
   "execution_count": 4,
   "id": "7fae93bf",
   "metadata": {},
   "outputs": [],
   "source": [
    "ls = \"\"\"90.5 $\\pm$ 0.2 & 84.5 $\\pm$ 0.2 & 98.9 $\\pm$ 0.0 & 84.6 $\\pm$ 0.3 & 89.6 $\\pm$ 0.2 \n",
    "            90.5 $\\pm$ 0.1 & 84.4 $\\pm$ 0.2 & 98.6 $\\pm$ 0.1 & 85.0 $\\pm$ 0.2 & 89.6 $\\pm$ 0.1\n",
    "            89.9 $\\pm$ 0.1 & 84.2 $\\pm$ 0.1 & 98.6 $\\pm$ 0.0 & 84.7 $\\pm$ 0.2 & 89.4 $\\pm$ 0.1\n",
    "\"\"\"\n"
   ]
  },
  {
   "cell_type": "code",
   "execution_count": null,
   "id": "68663949",
   "metadata": {},
   "outputs": [],
   "source": []
  },
  {
   "cell_type": "code",
   "execution_count": 27,
   "id": "86f10707",
   "metadata": {},
   "outputs": [
    {
     "name": "stdout",
     "output_type": "stream",
     "text": [
      "92.0 $\\pm$ 0.3 & 86.0 $\\pm$ 0.3 & 98.7 $\\pm$ 0.1 & 86.6 $\\pm$ 0.6 & 90.8 $\\pm$ 0.3\n"
     ]
    }
   ],
   "source": [
    "for l in ls.split(\"\\n\"):\n",
    "    print(mcf(l, add_std=True, factor=100))"
   ]
  },
  {
   "cell_type": "code",
   "execution_count": null,
   "id": "b76095bb",
   "metadata": {},
   "outputs": [],
   "source": []
  },
  {
   "cell_type": "code",
   "execution_count": 34,
   "id": "ae31bb42",
   "metadata": {},
   "outputs": [
    {
     "name": "stdout",
     "output_type": "stream",
     "text": [
      "69.7 & 62.5 & 81.3 & 83.7 & 74.3\n",
      "69.1 & 61.5 & 80.2 & 82.8 & 73.4\n",
      "70.6 & 63.0 & 81.3 & 83.7 & 74.6\n"
     ]
    }
   ],
   "source": [
    "for ll in l.split(\"\\n\"):\n",
    "    print(av(ll, add_m=True, factor=100, add_std=False))"
   ]
  },
  {
   "cell_type": "code",
   "execution_count": null,
   "id": "d4688132",
   "metadata": {},
   "outputs": [],
   "source": []
  }
 ],
 "metadata": {
  "kernelspec": {
   "display_name": "Python 3.7.10 64-bit",
   "language": "python",
   "name": "python3"
  },
  "language_info": {
   "codemirror_mode": {
    "name": "ipython",
    "version": 3
   },
   "file_extension": ".py",
   "mimetype": "text/x-python",
   "name": "python",
   "nbconvert_exporter": "python",
   "pygments_lexer": "ipython3",
   "version": "3.7.10"
  },
  "vscode": {
   "interpreter": {
    "hash": "c2f007bb438f1f0ac6ac2cdf8fe0d10d13748d7e99ce09d161672c77ac01ae60"
   }
  }
 },
 "nbformat": 4,
 "nbformat_minor": 5
}
