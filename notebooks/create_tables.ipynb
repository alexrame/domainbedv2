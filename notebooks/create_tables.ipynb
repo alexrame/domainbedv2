{
 "cells": [
  {
   "cell_type": "code",
   "execution_count": 2,
   "id": "4067f5c5",
   "metadata": {},
   "outputs": [],
   "source": [
    "%load_ext autoreload\n",
    "%autoreload 2\n",
    "import sys\n",
    "import collections\n",
    "import numpy as np\n",
    "sys.path.append(\"/private/home/alexandrerame/domainbedv2/\")\n",
    "sys.path.append(\"/private/home/alexandrerame/slurmconfig/notebook/data\")\n",
    "from domainbed.codeplot import plot_tables\n"
   ]
  },
  {
   "cell_type": "code",
   "execution_count": 3,
   "id": "eb4b16e9",
   "metadata": {},
   "outputs": [
    {
     "name": "stdout",
     "output_type": "stream",
     "text": [
      "66.4 $\\pm$ 0.1 & 23.1 $\\pm$ 0.1 & 55.3 $\\pm$ 0.0 & 16.4 $\\pm$ 0.1 & 68.1 $\\pm$ 0.0 & 56.0 $\\pm$ 0.1 & 47.5 $\\pm$ 0.1\n",
      "66.7 $\\pm$ 0.0 & 23.4 $\\pm$ 0.0 & 55.3 $\\pm$ 0.0 & 16.8 $\\pm$ 0.1 & 68.0 $\\pm$ 0.1 & 56.1 $\\pm$ 0.1 & 47.7 $\\pm$ 0.1\n",
      "66.6 $\\pm$ 0.1 & 23.2 $\\pm$ 0.0 & 55.4 $\\pm$ 0.1 & 17.0 $\\pm$ 0.1 & 68.0 $\\pm$ 0.0 & 56.0 $\\pm$ 0.1 & 47.7 $\\pm$ 0.1\n",
      "67.1 $\\pm$ 0.0 & 23.5 $\\pm$ 0.0 & 55.8 $\\pm$ 0.0 & 16.6 $\\pm$ 0.0 & 68.3 $\\pm$ 0.0 & 56.5 $\\pm$ 0.0 & 48.0 $\\pm$ 0.0\n",
      "67.0 $\\pm$ 0.0 & 23.4 $\\pm$ 0.0 & 55.6 $\\pm$ 0.0 & 16.9 $\\pm$ 0.0 & 68.1 $\\pm$ 0.0 & 56.3 $\\pm$ 0.0 & 47.9 $\\pm$ 0.0\n",
      "66.7 $\\pm$ 0.0 & 23.2 $\\pm$ 0.0 & 55.1 $\\pm$ 0.0 & 17.1 $\\pm$ 0.0 & 68.3 $\\pm$ 0.0 & 56.2 $\\pm$ 0.0 & 47.8 $\\pm$ 0.0\n"
     ]
    }
   ],
   "source": [
    "ls = \"\"\"0.6641484344158408 0.0006600749599150964\n",
    "0.23058618350934984 0.0007456397387475615\n",
    "0.5532228157086321 0.00033277453798631385\n",
    "0.16396521739130435 0.0008181323943695145\n",
    "0.6806929290476273 0.0003656042693959021\n",
    "0.5597471357481772 0.0005400626718661464\n",
    "0.6665004467161171 0.00047863457356051595\n",
    "0.2336052708070923 0.00040588400229702153\n",
    "0.5532117454958071 0.0004297170395686779\n",
    "0.1679571014492754 0.0009026953811783534\n",
    "0.6799331587133631 0.0007922039358221742\n",
    "0.5614541141071635 0.0005582520136713661\n",
    "0.6656194809782044 0.0011741177732574792\n",
    "0.23212479410909795 0.0004988537671839265\n",
    "0.5539728226275151 0.0006667754999657363\n",
    "0.16974144927536233 0.001085611225452851\n",
    "0.680268521570192 0.00032683104643294004\n",
    "0.5601637541951163 0.0009651127596092827\n",
    "0.6714454902449667 0.\n",
    "0.23480282918321868 0.\n",
    "0.5578833753078903 0.\n",
    "0.1658608695652174 0.\n",
    "0.6830474075872955 0.\n",
    "0.5651544960074065 0.\n",
    "0.670261173097301 0.\n",
    "0.2343183800019378 0.\n",
    "0.5557385215730772 0.\n",
    "0.16852173913043478 0.\n",
    "0.6808502026632437 0.\n",
    "0.5628978127531535 0.\n",
    "0.6674354339379585 0.\n",
    "0.2316829764557698 0.\n",
    "0.5513519497412338 0.\n",
    "0.1705855072463768 0.\n",
    "0.6832786923161431 0.\n",
    "0.5616392778613586 0.\"\"\"\n",
    "len_ls = len(ls.split(\"\\n\"))\n",
    "num_domains = 6\n",
    "assert len_ls % num_domains == 0\n",
    "do_std = \" \" in ls.split('\\n')[0]\n",
    "lls = []\n",
    "lls5 = []\n",
    "for n in range(len_ls//num_domains):\n",
    "    l = \"\\n\".join(ls.split(\"\\n\")[num_domains*n:num_domains*n+num_domains])\n",
    "    clean_l = [plot_tables.clean(ll)[0] for ll in l.split()]\n",
    "    if do_std:\n",
    "        acc_std = \" & \".join([str(acc) + \"$\\pm$\" + str(std) for acc,std in zip(clean_l[::2], clean_l[1::2])])\n",
    "    else:\n",
    "        acc_std = \" & \".join([str(ll) for ll in clean_l])\n",
    "    lls.append(plot_tables.mcf(acc_std, add_std=do_std, factor=100, title=False, prec=1))\n",
    "    lls5.append(plot_tables.mcf(acc_std, add_std=do_std, factor=100, title=False, prec=5))\n",
    "for n in lls:\n",
    "    print(n)"
   ]
  },
  {
   "cell_type": "code",
   "execution_count": 6,
   "id": "7fae93bf",
   "metadata": {},
   "outputs": [
    {
     "name": "stdout",
     "output_type": "stream",
     "text": [
      "66.5 $\\pm$ 0.1 & 23.2 $\\pm$ 0.1 & 55.3 $\\pm$ 0.0 & 16.7 $\\pm$ 0.1 & 68.0 $\\pm$ 0.0 & 56.0 $\\pm$ 0.0 & 47.6 $\\pm$ 0.0 & 47.6 $\\pm$ 0.0\n",
      "66.54228 $\\pm$ 0.1 & 23.21054 $\\pm$ 0.1 & 55.34691 $\\pm$ 0.0 & 16.72212 $\\pm$ 0.1 & 68.02982 $\\pm$ 0.0 & 56.04550 $\\pm$ 0.0 & 47.64953 $\\pm$ 0.0 & 47.64953 $\\pm$ 0.0\n"
     ]
    }
   ],
   "source": [
    "ls = \"\\n\".join(lls5[:3])\n",
    "avg = plot_tables.av(ls, skip=0, add_m=True, factor=1, prec=1, add_std=True, str_join=\" & \")\n",
    "print(avg)\n",
    "avg5 = plot_tables.av(ls, skip=0, add_m=True, factor=1, prec=5, add_std=True, str_join=\" & \")\n",
    "print(avg5)\n"
   ]
  },
  {
   "cell_type": "code",
   "execution_count": 7,
   "id": "22b518ad",
   "metadata": {},
   "outputs": [
    {
     "name": "stdout",
     "output_type": "stream",
     "text": [
      "67.0 $\\pm$ 0.1 & 23.4 $\\pm$ 0.1 & 55.5 $\\pm$ 0.2 & 16.8 $\\pm$ 0.1 & 68.2 $\\pm$ 0.1 & 56.3 $\\pm$ 0.1 & 47.9 $\\pm$ 0.0 & 47.9 $\\pm$ 0.0\n",
      "66.97140 $\\pm$ 0.1 & 23.36014 $\\pm$ 0.1 & 55.49913 $\\pm$ 0.2 & 16.83227 $\\pm$ 0.1 & 68.23921 $\\pm$ 0.1 & 56.32305 $\\pm$ 0.1 & 47.87087 $\\pm$ 0.0 & 47.87087 $\\pm$ 0.0\n"
     ]
    }
   ],
   "source": [
    "ls = \"\\n\".join(lls5[3:])\n",
    "avg = plot_tables.av(ls, skip=0, add_m=True, factor=1, prec=1, add_std=True, str_join=\" & \")\n",
    "print(avg)\n",
    "avg5 = plot_tables.av(ls, skip=0, add_m=True, factor=1, prec=5, add_std=True, str_join=\" & \")\n",
    "print(avg5)\n"
   ]
  },
  {
   "cell_type": "code",
   "execution_count": 27,
   "id": "86f10707",
   "metadata": {},
   "outputs": [
    {
     "name": "stdout",
     "output_type": "stream",
     "text": [
      "92.0 $\\pm$ 0.3 & 86.0 $\\pm$ 0.3 & 98.7 $\\pm$ 0.1 & 86.6 $\\pm$ 0.6 & 90.8 $\\pm$ 0.3\n"
     ]
    }
   ],
   "source": [
    "for l in ls.split(\"\\n\"):\n",
    "    print(plot_tables.mcf(l, add_std=True, factor=100))"
   ]
  },
  {
   "cell_type": "code",
   "execution_count": 8,
   "id": "b76095bb",
   "metadata": {},
   "outputs": [],
   "source": [
    "ls = \"\"\"90.3 $\\pm$ 0.2             & 78.8 $\\pm$ 0.1             & 73.4 $\\pm$ 0.5          & 50.9 $\\pm$ 0.3             & 47.9 $\\pm$ 0.0\"\"\""
   ]
  },
  {
   "cell_type": "code",
   "execution_count": 10,
   "id": "ae31bb42",
   "metadata": {},
   "outputs": [
    {
     "name": "stdout",
     "output_type": "stream",
     "text": [
      "90.3 & 78.8 & 73.4 & 50.9 & 47.9 & 68.3\n"
     ]
    }
   ],
   "source": [
    "for ll in ls.split(\"\\n\"):\n",
    "    print(plot_tables.av(ll, add_m=True, factor=1, prec=1, add_std=False, skip=0))"
   ]
  },
  {
   "cell_type": "code",
   "execution_count": null,
   "id": "d4688132",
   "metadata": {},
   "outputs": [],
   "source": []
  }
 ],
 "metadata": {
  "kernelspec": {
   "display_name": "Python 3.7.10 64-bit",
   "language": "python",
   "name": "python3"
  },
  "language_info": {
   "codemirror_mode": {
    "name": "ipython",
    "version": 3
   },
   "file_extension": ".py",
   "mimetype": "text/x-python",
   "name": "python",
   "nbconvert_exporter": "python",
   "pygments_lexer": "ipython3",
   "version": "3.7.10"
  },
  "vscode": {
   "interpreter": {
    "hash": "c2f007bb438f1f0ac6ac2cdf8fe0d10d13748d7e99ce09d161672c77ac01ae60"
   }
  }
 },
 "nbformat": 4,
 "nbformat_minor": 5
}
