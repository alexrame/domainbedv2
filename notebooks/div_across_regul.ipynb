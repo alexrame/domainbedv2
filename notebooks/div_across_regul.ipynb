{
 "cells": [
  {
   "cell_type": "code",
   "execution_count": 1,
   "id": "b9e0153e",
   "metadata": {},
   "outputs": [],
   "source": [
    "%load_ext autoreload\n",
    "%autoreload 2"
   ]
  },
  {
   "cell_type": "code",
   "execution_count": 2,
   "id": "1190ce72",
   "metadata": {},
   "outputs": [],
   "source": [
    "def merge(*ll):\n",
    "    return [[y for x in l for y in x] for l in zip(*ll)]"
   ]
  },
  {
   "cell_type": "code",
   "execution_count": 3,
   "id": "5a6142b1",
   "metadata": {},
   "outputs": [],
   "source": []
  },
  {
   "cell_type": "code",
   "execution_count": 4,
   "id": "30dd050b",
   "metadata": {},
   "outputs": [],
   "source": [
    "from data.home import divacrossregul, divacrossrefulv2\n",
    "l = divacrossregul.l + divacrossrefulv2.l"
   ]
  },
  {
   "cell_type": "code",
   "execution_count": 5,
   "id": "0c1db752",
   "metadata": {},
   "outputs": [],
   "source": [
    "import numpy as np"
   ]
  },
  {
   "cell_type": "code",
   "execution_count": 6,
   "id": "f444173b",
   "metadata": {},
   "outputs": [],
   "source": [
    "import numpy as np\n",
    "from matplotlib import cm\n",
    "import matplotlib.pyplot as plt\n"
   ]
  },
  {
   "cell_type": "code",
   "execution_count": 7,
   "id": "526aee52",
   "metadata": {},
   "outputs": [],
   "source": [
    "def plot_diversity_reguls():\n",
    "    plt.rcParams[\"figure.figsize\"] = (10, 10)\n",
    "    kwargs = dict(alpha=0.5, bins=10, density=True, stacked=True)\n",
    "\n",
    "    key = \"dr\"\n",
    "    keyname = \"Feature\" if key == \"df\" else \"Prediction\"\n",
    "    colors_reds = cm.Reds(np.linspace(0, 1, 5*5))\n",
    "\n",
    "    list_methods = ['erm', 'coral', 'fishr', 'gdro', 'mixup']\n",
    "    for i in range(5):\n",
    "        for j in range(i, 5):\n",
    "            mi = list_methods[i]\n",
    "            mj = list_methods[j]\n",
    "            lines = [line[key] for line in l if mi in line[\"dirs\"] and mj in line[\"dirs\"]]\n",
    "            label = mi + \"_\" + mj + \": \" + str(mean(lines))\n",
    "            plt.hist(lines, **kwargs, color=colors_reds[5*i + j], label=label)\n",
    "\n",
    "    plt.gca().set(title=keyname + ' diversity across checkpoints', ylabel='Count')\n",
    "    # plt.xlim(50, 75)\n",
    "    plt.legend()"
   ]
  },
  {
   "cell_type": "code",
   "execution_count": null,
   "id": "925ee83f",
   "metadata": {},
   "outputs": [],
   "source": []
  },
  {
   "cell_type": "code",
   "execution_count": 8,
   "id": "bc8ad188",
   "metadata": {},
   "outputs": [],
   "source": [
    "def plot_diversity_reguls(l, key=\"dr\", plot=False):\n",
    "    if plot:\n",
    "        plt.rcParams[\"figure.figsize\"] = (5, 5)\n",
    "    kwargs = dict(alpha=0.5, bins=10, density=True, stacked=True)\n",
    "\n",
    "    keyname = \"Feature\" if key == \"df\" else \"Prediction\"\n",
    "    colors_reds = cm.Reds(np.linspace(0, 1, 5 * 5))\n",
    "\n",
    "    mat = [[] for _ in range(len(list_methods))]\n",
    "    for i in range(5):\n",
    "        for j in range(i, 5):\n",
    "            mi = list_methods[i]\n",
    "            mj = list_methods[j]\n",
    "            lines = [line[key] for line in l if mi in line[\"dirs\"] and mj in line[\"dirs\"]]\n",
    "            mean_lines = mean(lines)\n",
    "            label = mi + \"_\" + mj + \": \" + str(mean_lines)\n",
    "            if plot:\n",
    "                plt.hist(lines, **kwargs, color=colors_reds[5 * i + j], label=label)\n",
    "            mat[i].append(mean_lines)\n",
    "            if i != j:\n",
    "                mat[j].append(mean_lines)\n",
    "    if plot:\n",
    "        plt.gca().set(title=keyname + ' diversity across checkpoints', ylabel='Count')\n",
    "        # plt.xlim(50, 75)\n",
    "        plt.legend()\n",
    "    return mat\n",
    "\n",
    "\n",
    "def plot_matrix(mat):\n",
    "    fig = plt.figure()\n",
    "    mask = np.ones_like(mat)\n",
    "    mask[np.tril_indices_from(mask)] = False\n",
    "    with sns.axes_style(\"white\"):\n",
    "        ax = sns.heatmap(\n",
    "            mat,\n",
    "            mask=mask,\n",
    "            # vmax=.5,\n",
    "            square=True,\n",
    "            cmap=\"YlGnBu\",\n",
    "            fmt='.3g',\n",
    "            annot=True,\n",
    "            xticklabels=list_methods,\n",
    "            yticklabels=list_methods\n",
    "        )\n",
    "    return fig"
   ]
  },
  {
   "cell_type": "code",
   "execution_count": 22,
   "id": "058d0997",
   "metadata": {},
   "outputs": [],
   "source": []
  },
  {
   "cell_type": "code",
   "execution_count": 50,
   "id": "c16b92e6",
   "metadata": {},
   "outputs": [
    {
     "data": {
      "image/png": "[encoded data removed]",
      "text/plain": [
       "<Figure size 360x360 with 2 Axes>"
      ]
     },
     "metadata": {
      "needs_background": "light"
     },
     "output_type": "display_data"
    }
   ],
   "source": [
    "mat = plot_diversity_reguls(l, key=\"netm\")\n",
    "fig = plot_matrix(mat)"
   ]
  },
  {
   "cell_type": "code",
   "execution_count": 51,
   "id": "7f69640b",
   "metadata": {},
   "outputs": [],
   "source": [
    "\n",
    "def save_fig(fig, name):\n",
    "    fig.savefig(\n",
    "        '/Users/alexandrerame/Documents/deeplearning/writing_publications/soup/figs/' + name,\n",
    "        format='png',\n",
    "        dpi=600,\n",
    "        bbox_inches='tight'\n",
    "    )"
   ]
  },
  {
   "cell_type": "code",
   "execution_count": 52,
   "id": "8258f8cd",
   "metadata": {},
   "outputs": [
    {
     "data": {
      "image/png": "[encoded data removed]",
      "text/plain": [
       "<Figure size 360x360 with 2 Axes>"
      ]
     },
     "metadata": {
      "needs_background": "light"
     },
     "output_type": "display_data"
    }
   ],
   "source": [
    "mat = plot_diversity_reguls(l, key=\"soup\")\n",
    "fig = plot_matrix(mat)"
   ]
  },
  {
   "cell_type": "code",
   "execution_count": 56,
   "id": "93a978af",
   "metadata": {},
   "outputs": [],
   "source": [
    "save_fig(fig, \"reguls/matrix_acc.png\")"
   ]
  },
  {
   "cell_type": "code",
   "execution_count": 57,
   "id": "3a619b45",
   "metadata": {},
   "outputs": [
    {
     "data": {
      "image/png": "[encoded data removed]",
      "text/plain": [
       "<Figure size 360x360 with 2 Axes>"
      ]
     },
     "metadata": {
      "needs_background": "light"
     },
     "output_type": "display_data"
    }
   ],
   "source": [
    "mat = plot_diversity_reguls(l, key=\"df\")\n",
    "fig = plot_matrix(mat)"
   ]
  },
  {
   "cell_type": "code",
   "execution_count": 58,
   "id": "c8d0f848",
   "metadata": {},
   "outputs": [],
   "source": [
    "save_fig(fig, \"reguls/matrix_df.png\")"
   ]
  },
  {
   "cell_type": "code",
   "execution_count": 34,
   "id": "6d14feb6",
   "metadata": {},
   "outputs": [
    {
     "data": {
      "image/png": "[encoded data removed]",
      "text/plain": [
       "<Figure size 360x360 with 2 Axes>"
      ]
     },
     "metadata": {},
     "output_type": "display_data"
    }
   ],
   "source": [
    "plot_matrix(mat)"
   ]
  },
  {
   "cell_type": "code",
   "execution_count": null,
   "id": "ecd54bd2",
   "metadata": {},
   "outputs": [],
   "source": [
    "def save_fig(fig, name):\n",
    "    fig.savefig(\n",
    "        '/Users/alexandrerame/Documents/deeplearning/writing_publications/soup/figs/' + name,\n",
    "        format='png',\n",
    "        dpi=600,\n",
    "        bbox_inches='tight'\n",
    "    )"
   ]
  },
  {
   "cell_type": "code",
   "execution_count": null,
   "id": "2f449dd4",
   "metadata": {},
   "outputs": [],
   "source": [
    "def get_lower_tri_heatmap(df):\n",
    "    mask = np.zeros_like(df, dtype=np.bool)\n",
    "    mask[np.triu_indices_from(mask)] = True\n",
    "\n",
    "    # Want diagonal elements as well\n",
    "    mask[np.diag_indices_from(mask)] = False\n",
    "\n",
    "    # Set up the matplotlib figure\n",
    "    f, ax = plt.subplots(figsize=(11, 9))\n",
    "\n",
    "    # Generate a custom diverging colormap\n",
    "    cmap = sns.diverging_palette(220, 10, as_cmap=True)\n",
    "\n",
    "    # Draw the heatmap with the mask and correct aspect ratio\n",
    "    sns_plot = sns.heatmap(\n",
    "        data,\n",
    "        mask=mask,\n",
    "        cmap=cmap,\n",
    "        # vmax=.4,\n",
    "        # center=0,\n",
    "        square=True,\n",
    "        linewidths=.5,\n",
    "        cbar_kws={\"shrink\": .5}\n",
    "    )\n",
    "    # save to file\n",
    "    fig = sns_plot.get_figure()\n",
    "    return fig"
   ]
  },
  {
   "cell_type": "code",
   "execution_count": null,
   "id": "77cb5957",
   "metadata": {},
   "outputs": [],
   "source": [
    "list_methods = ['erm', 'coral', 'fishr', 'gdro', 'mixup']"
   ]
  },
  {
   "cell_type": "code",
   "execution_count": null,
   "id": "378311d5",
   "metadata": {},
   "outputs": [],
   "source": [
    "ax = sns.heatmap(mat, linewidth=0.5)\n",
    "plt.show()"
   ]
  },
  {
   "cell_type": "code",
   "execution_count": null,
   "id": "8a2a7900",
   "metadata": {},
   "outputs": [],
   "source": [
    "np.triu_indices_from(mask)"
   ]
  },
  {
   "cell_type": "code",
   "execution_count": null,
   "id": "e59d0e86",
   "metadata": {},
   "outputs": [],
   "source": [
    "sns.heatmap??"
   ]
  },
  {
   "cell_type": "code",
   "execution_count": null,
   "id": "2121de6e",
   "metadata": {},
   "outputs": [],
   "source": [
    "mask = np.ones_like(mat)\n",
    "mask[np.tril_indices_from(mask)] = False\n",
    "with sns.axes_style(\"white\"):\n",
    "    ax = sns.heatmap(mat, mask=mask, vmax=.5, square=True, cmap=\"YlGnBu\", annot=True, xticklabels=list_methods, yticklabels=list_methods)\n",
    "    plt.show()"
   ]
  },
  {
   "cell_type": "code",
   "execution_count": null,
   "id": "6325be07",
   "metadata": {},
   "outputs": [],
   "source": [
    "save_fig(fig, \"samediffruns_dp_frequency.png\")"
   ]
  },
  {
   "cell_type": "code",
   "execution_count": null,
   "id": "752e2e0a",
   "metadata": {},
   "outputs": [],
   "source": [
    "plt.hist(x1, **kwargs, color='g', label='Ideal')\n",
    "plt.hist(x2, **kwargs, color='b', label='Fair')\n",
    "plt.hist(x3, **kwargs, color='r', label='Good')\n",
    "plt.gca().set(title='Frequency Histogram of Diamond Depths', ylabel='Frequency')\n",
    "plt.xlim(50,75)\n",
    "plt.legend();"
   ]
  },
  {
   "cell_type": "code",
   "execution_count": null,
   "id": "136de4af",
   "metadata": {},
   "outputs": [],
   "source": [
    "l_nodrop.l[2] + l_nodrop.l[3]"
   ]
  },
  {
   "cell_type": "code",
   "execution_count": null,
   "id": "356bf045",
   "metadata": {},
   "outputs": [],
   "source": [
    "swa_nodrop = np.mean([line[\"df\"] for line in l_nodrop.l[2] + l_nodrop.l[3]])"
   ]
  },
  {
   "cell_type": "code",
   "execution_count": null,
   "id": "ce3ded34",
   "metadata": {},
   "outputs": [],
   "source": [
    "swa_drop = np.mean([line[\"df\"] for line in l_drop.l[2] + l_drop.l[3]])"
   ]
  },
  {
   "cell_type": "code",
   "execution_count": null,
   "id": "eb5e9c01",
   "metadata": {},
   "outputs": [],
   "source": [
    "swa_drop"
   ]
  },
  {
   "cell_type": "code",
   "execution_count": null,
   "id": "d5561950",
   "metadata": {},
   "outputs": [],
   "source": [
    "swa_nodrop"
   ]
  },
  {
   "cell_type": "code",
   "execution_count": null,
   "id": "ff4f8a46",
   "metadata": {},
   "outputs": [],
   "source": [
    "swa_drop = "
   ]
  },
  {
   "cell_type": "code",
   "execution_count": null,
   "id": "c2d0ce6a",
   "metadata": {},
   "outputs": [],
   "source": [
    "from codeplot.plot import *"
   ]
  },
  {
   "cell_type": "code",
   "execution_count": null,
   "id": "5e4c347f",
   "metadata": {},
   "outputs": [],
   "source": [
    "import matplotlib.pyplot as plt\n",
    "from matplotlib import cm"
   ]
  },
  {
   "cell_type": "code",
   "execution_count": null,
   "id": "ba8d7d6e",
   "metadata": {},
   "outputs": [],
   "source": [
    "def fit_and_plot(key1, key2, l, order, label, color):\n",
    "    if order in [1, \"1\"]:\n",
    "        m, b = np.polyfit(get_x(l, key1), get_x(l, key2), 1)\n",
    "        plt.plot(\n",
    "            get_x(l, key1),\n",
    "            m * np.array(get_x(l, key1)) + b,\n",
    "            color=color,\n",
    "            label=label + \" (slope: \" + \"{:.0f}\".format(m * 1000) + \")\"\n",
    "        )\n",
    "    elif order in [2, \"2\"]:\n",
    "        m2, m1, b = np.polyfit(get_x(l, key1), get_x(l, key2), 2)\n",
    "        get_x1_sorted = sorted(get_x(l, key1))\n",
    "        preds = m2 * np.array(get_x1_sorted)**2 + m1 * np.array(get_x1_sorted) + b\n",
    "        plt.plot(get_x1_sorted, preds, color=color)  # label=\"int.\"+label)\n",
    "    elif order in [3, \"3\"]:\n",
    "        m3, m2, m1, b = np.polyfit(get_x(l, key1), get_x(l, key2), 3)\n",
    "        get_x1_sorted = sorted(get_x(l, key1))\n",
    "        preds = m3 * np.array(get_x1_sorted)**3 + m2 * np.array(get_x1_sorted)**2 + m1 * np.array(\n",
    "            get_x1_sorted\n",
    "        ) + b\n",
    "        plt.plot(get_x1_sorted, preds, color=color)  # label=\"int.\"+label)\n",
    "    elif order == \"2log\":\n",
    "        m2, m1, b = np.polyfit(np.log(get_x(l, key1)), get_x(l, key2), 2)\n",
    "        get_x1_sorted = np.log(sorted(get_x(l, key1)))\n",
    "        preds = m2 * np.array(get_x1_sorted)**2 + m1 * np.array(get_x1_sorted) + b\n",
    "        plt.plot(sorted(get_x(l, key1)), preds, color=color)  # label=\"int.\"+label)\n",
    "    elif order == \"3log\":\n",
    "        m3, m2, m1, b = np.polyfit(np.log(get_x(l, key1)), get_x(l, key2), 3)\n",
    "        get_x1_sorted = np.log(sorted(get_x(l, key1)))\n",
    "        preds = m3 * np.array(get_x1_sorted)**3 + m2 * np.array(get_x1_sorted)**2 + m1 * np.array(get_x1_sorted) + b\n",
    "        plt.plot(sorted(get_x(l, key1)), preds, color=color)  # label=\"int.\"+label)\n",
    "    elif order in [0, -1, None, \"\", \"0\"]:\n",
    "        return\n",
    "    else:\n",
    "        raise ValueError(order)"
   ]
  },
  {
   "cell_type": "code",
   "execution_count": null,
   "id": "e15c1956",
   "metadata": {},
   "outputs": [],
   "source": [
    "def plot_key(l, key1, key2, order=1, label=\"\", labels=None, diag=False, markers=None, dict_key_to_limit={}):\n",
    "\n",
    "    plt.xlabel(dict_key_to_label.get(key1, key1))\n",
    "    plt.ylabel(dict_key_to_label.get(key2, key2))\n",
    "\n",
    "    def plot_with_int(l, color, label, marker):\n",
    "        t = get_x(l, key1)\n",
    "        if t == []:\n",
    "            return\n",
    "        if marker is None:\n",
    "            plt.scatter(get_x(l, key1), get_x(l, key2), color=color, label=(label if order != 1 else None), marker=marker)\n",
    "        else:\n",
    "            for xp, yp, m in zip(get_x(l, key1), get_x(l, key2), marker):\n",
    "                plt.scatter(xp, yp, color=color, marker=m)\n",
    "        fit_and_plot(key1, key2, l, order, label, color)\n",
    "\n",
    "    colors = cm.rainbow(np.linspace(0, 1, len(l)))\n",
    "    if labels is None:\n",
    "        labels = [label + str(i) for i in range(len(l))]\n",
    "    for card in range(len(l)):\n",
    "        if l[card] == []:\n",
    "            continue\n",
    "        #print(card, l[card])\n",
    "        if markers is not None:\n",
    "            marker = markers[card]\n",
    "        else:\n",
    "            marker = None\n",
    "        plot_with_int(l[card], color=colors[card], label=labels[card], marker=marker)\n",
    "    if diag:\n",
    "        xpoints = ypoints = plt.xlim()\n",
    "        plt.plot(xpoints, ypoints, linestyle='--', color='k', lw=3, scalex=False, scaley=False, label=\"y=x\")\n",
    "\n",
    "    if key1 in dict_key_to_limit:\n",
    "        plt.xlim(dict_key_to_limit[key1])\n",
    "    if key2 in dict_key_to_limit:\n",
    "        plt.ylim(dict_key_to_limit[key2])\n",
    "    plt.legend()"
   ]
  },
  {
   "cell_type": "code",
   "execution_count": null,
   "id": "5b55121d",
   "metadata": {},
   "outputs": [],
   "source": [
    "\n",
    "def get_x(l, key):\n",
    "    if \"-\" in key:\n",
    "        return [i-j for i, j in zip(get_x(l, key.split(\"-\")[0]), get_x(l, key.split(\"-\")[1]))]\n",
    "    else:\n",
    "        return [i[key] for i in l if check_condition(i)]\n",
    "\n",
    "def check_condition(i):\n",
    "    if (DROP is not None and i.get(\"drop\", DROP) != DROP):\n",
    "        return False\n",
    "    if (STEP is not None and i.get(\"step\", STEP) != STEP):\n",
    "        return False\n",
    "    if (TOPK is not None and i.get(\"topk\", TOPK) != TOPK):\n",
    "        return False\n",
    "    if ENV is not None and i.get(\"env\", ENV) != ENV:\n",
    "        return False\n",
    "    return True\n",
    "\n",
    "\n",
    "TOPK = None\n",
    "DROP = None\n",
    "STEP = None"
   ]
  },
  {
   "cell_type": "code",
   "execution_count": null,
   "id": "fda4c007",
   "metadata": {},
   "outputs": [],
   "source": [
    "dict_key_to_limit = {}"
   ]
  },
  {
   "cell_type": "code",
   "execution_count": null,
   "id": "ab33b65d",
   "metadata": {},
   "outputs": [],
   "source": [
    "dr = [67, 123, 156, 175, 202, 225, 271, 283, 296]\n",
    "df = [64, 114, 153, 154, 155, 155, 175, 183, 189]\n",
    "m = list(range(2, 11))"
   ]
  },
  {
   "cell_type": "code",
   "execution_count": null,
   "id": "574cd7cd",
   "metadata": {},
   "outputs": [],
   "source": [
    "plot_key(l=lsoup, key1=\"dr\", key2=\"soup\", order=1, label=\"M=\")"
   ]
  },
  {
   "cell_type": "code",
   "execution_count": null,
   "id": "37f38338",
   "metadata": {},
   "outputs": [],
   "source": [
    "plot_key(l=l, key1=\"3dr\", key2=\"3soup\", order=1, label=\"M=\")"
   ]
  },
  {
   "cell_type": "code",
   "execution_count": null,
   "id": "005e5201",
   "metadata": {},
   "outputs": [],
   "source": [
    "plot_key(l=l, key1=\"2dr\", key2=\"2soup\", order=1, label=\"M=\")"
   ]
  },
  {
   "cell_type": "code",
   "execution_count": null,
   "id": "c744d6e1",
   "metadata": {},
   "outputs": [],
   "source": [
    "plot_key(l=l, key1=\"1dr\", key2=\"1soup\", order=1, label=\"M=\")"
   ]
  },
  {
   "cell_type": "code",
   "execution_count": null,
   "id": "853bfad4",
   "metadata": {},
   "outputs": [],
   "source": [
    "plot_key(l=lsoup, key1=\"df\", key2=\"soup-netm\", order=1, label=\"M=\")"
   ]
  },
  {
   "cell_type": "code",
   "execution_count": null,
   "id": "bc7e8b98",
   "metadata": {},
   "outputs": [],
   "source": [
    "ENV = 1\n",
    "plot_key(l=lsoup, key1=\"dr\", key2=\"soup-netm\", order=1, label=\"M=\")\n",
    "plot_key(l=lsoup, key1=\"df\", key2=\"soup-netm\", order=1, label=\"M=\")"
   ]
  },
  {
   "cell_type": "code",
   "execution_count": null,
   "id": "77c7e7f2",
   "metadata": {},
   "outputs": [],
   "source": [
    "ENV = 2\n",
    "plot_key(l=lsoup, key1=\"dr\", key2=\"soup-netm\", order=1, label=\"M=\")\n",
    "plot_key(l=lsoup, key1=\"df\", key2=\"soup-netm\", order=1, label=\"M=\")"
   ]
  },
  {
   "cell_type": "code",
   "execution_count": null,
   "id": "08c291dd",
   "metadata": {},
   "outputs": [],
   "source": [
    "ENV = 3\n",
    "plot_key(l=lsoup, key1=\"dr\", key2=\"soup-netm\", order=1, label=\"M=\")\n",
    "plot_key(l=lsoup, key1=\"df\", key2=\"soup-netm\", order=1, label=\"M=\")"
   ]
  },
  {
   "cell_type": "code",
   "execution_count": null,
   "id": "c95d278e",
   "metadata": {},
   "outputs": [],
   "source": [
    "import matplotlib.pyplot as plt\n",
    "plt.rcParams[\"figure.figsize\"] = (10,10)"
   ]
  },
  {
   "cell_type": "code",
   "execution_count": null,
   "id": "f7f42315",
   "metadata": {},
   "outputs": [],
   "source": [
    "DROP=0.\n",
    "STEP=None\n",
    "TOPK =-1\n",
    "plot_key(l=l, key1=\"df\", key2=\"soup-netm\", label=\"M=\", order=1)# diag=1)# dict_key_to_limit={\"dr\": [0.35, 1.2]})"
   ]
  },
  {
   "cell_type": "code",
   "execution_count": null,
   "id": "3d221bde",
   "metadata": {},
   "outputs": [],
   "source": [
    "DROP=None\n",
    "STEP=None\n",
    "TOPK =-1\n",
    "plot_key(l=lsoup, key1=\"df\", key2=\"soup\", label=\"M=\", order=2)# dict_key_to_limit={\"dr\": [0.35, 1.2]})"
   ]
  },
  {
   "cell_type": "code",
   "execution_count": null,
   "id": "a5e5d5c8",
   "metadata": {},
   "outputs": [],
   "source": [
    "DROP=None\n",
    "STEP=None\n",
    "TOPK =-1\n",
    "plot_key(l=lsoup, key1=\"dr\", key2=\"soup\", label=\"M=\", order=2)# dict_key_to_limit={\"dr\": [0.35, 1.2]})"
   ]
  },
  {
   "cell_type": "code",
   "execution_count": null,
   "id": "c409688d",
   "metadata": {},
   "outputs": [],
   "source": [
    "DROP= None\n",
    "STEP= 5000\n",
    "TOPK = None\n",
    "plot_key(l=lsoup, key1=\"df\", key2=\"soup\", order=2, label=\"M=\")"
   ]
  },
  {
   "cell_type": "code",
   "execution_count": null,
   "id": "373d160c",
   "metadata": {},
   "outputs": [],
   "source": [
    "TOPK = -1\n",
    "plot_key(l=lsoup, key1=\"df\", key2=\"soup-netm\", order=1, label=\"M=\")"
   ]
  },
  {
   "cell_type": "code",
   "execution_count": null,
   "id": "b63945e1",
   "metadata": {},
   "outputs": [],
   "source": [
    "dict_key_to_limit = {}"
   ]
  },
  {
   "cell_type": "code",
   "execution_count": null,
   "id": "52aaf6c8",
   "metadata": {},
   "outputs": [],
   "source": [
    "DROP=None\n",
    "STEP=5000\n",
    "plot_key(l=lsoup, key1=\"df\", key2=\"soup\", order=2, label=\"M=\")"
   ]
  },
  {
   "cell_type": "code",
   "execution_count": null,
   "id": "3d8f0099",
   "metadata": {},
   "outputs": [],
   "source": [
    "plot_key(l=lsoup, key1=\"df\", key2=\"netm\", order=2, label=\"M=\")"
   ]
  },
  {
   "cell_type": "code",
   "execution_count": null,
   "id": "df7d3935",
   "metadata": {},
   "outputs": [],
   "source": [
    "DROP=-1\n",
    "STEP=1000\n",
    "plot_key(l=lsoup, key1=\"dr\", key2=\"soup-netm\", order=1, label=\"M=\")"
   ]
  },
  {
   "cell_type": "code",
   "execution_count": null,
   "id": "5fbe125c",
   "metadata": {},
   "outputs": [],
   "source": [
    "DROP=None\n",
    "STEP=None\n",
    "plot_key(l=l, key1=\"dr\", key2=\"soup-netm\", order=1, label=\"M=\")"
   ]
  },
  {
   "cell_type": "code",
   "execution_count": null,
   "id": "d01a920f",
   "metadata": {},
   "outputs": [],
   "source": [
    "DROP=None\n",
    "STEP=None\n",
    "plot_key(l=lsoup, key1=\"df\", key2=\"soup-netm\", order=1, label=\"M=\")"
   ]
  },
  {
   "cell_type": "code",
   "execution_count": null,
   "id": "f824ede6",
   "metadata": {},
   "outputs": [],
   "source": [
    "dr = [67, 123, 156, 175, 202, 225, 271, 283, 296]\n",
    "df = [64, 114, 153, 154, 155, 155, 175, 183, 189]\n",
    "m = list(range(2, 11))\n"
   ]
  },
  {
   "cell_type": "code",
   "execution_count": null,
   "id": "e6869889",
   "metadata": {},
   "outputs": [],
   "source": [
    "plt.scatter(m, dr, label=\"div preds.\")\n",
    "plt.scatter(m, df, label=\"div feats.\")\n",
    "plt.xlabel(\"Num networks M\")\n",
    "plt.ylabel(\"Slope\")\n",
    "plt.legend()"
   ]
  },
  {
   "cell_type": "code",
   "execution_count": null,
   "id": "8c3e1fdb",
   "metadata": {},
   "outputs": [],
   "source": [
    "DROP=None\n",
    "STEP=None\n",
    "plot_key(l=lsoup, key1=\"dr\", key2=\"soup-netm\", order=1, label=\"M=\")"
   ]
  },
  {
   "cell_type": "code",
   "execution_count": null,
   "id": "5eec1a72",
   "metadata": {},
   "outputs": [],
   "source": [
    "DROP=-1\n",
    "STEP=3000\n",
    "plot_key(l=lsoup, key1=\"dr\", key2=\"soup-netm\", order=1, label=\"swa\")"
   ]
  },
  {
   "cell_type": "code",
   "execution_count": null,
   "id": "3b5f498a",
   "metadata": {},
   "outputs": [],
   "source": [
    "DROP=-1\n",
    "STEP=3000\n",
    "plot_key(l=lsoup, key1=\"df\", key2=\"soup-netm\", order=1, label=\"swa\")"
   ]
  },
  {
   "cell_type": "code",
   "execution_count": null,
   "id": "20aa4b9e",
   "metadata": {},
   "outputs": [],
   "source": [
    "DROP=0.\n",
    "STEP=-1\n",
    "plot_key(l=lsoup, key1=\"df\", key2=\"soup-netm\", order=1, label=\"swa\")"
   ]
  },
  {
   "cell_type": "code",
   "execution_count": null,
   "id": "f639ae37",
   "metadata": {},
   "outputs": [],
   "source": [
    "DROP=0.5\n",
    "STEP=-1\n",
    "plot_key(l=lsoup, key1=\"df\", key2=\"soup-netm\", order=1, label=\"swa\")"
   ]
  },
  {
   "cell_type": "code",
   "execution_count": null,
   "id": "2df34d83",
   "metadata": {},
   "outputs": [],
   "source": [
    "DROP=-1\n",
    "STEP=None\n",
    "plot_key(l=lsoup, key1=\"df\", key2=\"soup-netm\", order=1, label=\"swa\")"
   ]
  },
  {
   "cell_type": "code",
   "execution_count": null,
   "id": "43fe9efc",
   "metadata": {},
   "outputs": [],
   "source": [
    "DROP=-1\n",
    "STEP=5000\n",
    "plot_key(l=lsoup, key1=\"df\", key2=\"soup-netm\", order=1, label=\"swa\")"
   ]
  },
  {
   "cell_type": "code",
   "execution_count": null,
   "id": "de6bfb21",
   "metadata": {},
   "outputs": [],
   "source": [
    "DROP=0.5\n",
    "STEP=5000\n",
    "plot_key(l=lsoup, key1=\"df\", key2=\"soup-netm\", order=1, label=\"swa\")"
   ]
  },
  {
   "cell_type": "code",
   "execution_count": null,
   "id": "752c339b",
   "metadata": {},
   "outputs": [],
   "source": [
    "labelssoup = [\"soup\" + str(i) for i in range(len(lsoup))]\n",
    "labelsswa = [\"swa\" + str(i) for i in range(len(l))]"
   ]
  },
  {
   "cell_type": "code",
   "execution_count": null,
   "id": "d6d2ed77",
   "metadata": {},
   "outputs": [],
   "source": []
  },
  {
   "cell_type": "code",
   "execution_count": null,
   "id": "5f114e94",
   "metadata": {},
   "outputs": [],
   "source": []
  },
  {
   "cell_type": "code",
   "execution_count": null,
   "id": "3e8ee2d5",
   "metadata": {},
   "outputs": [],
   "source": [
    "def plot_key_all(l, key1, key2, order=1):\n",
    "\n",
    "    plt.xlabel(dict_key_to_label.get(key1, key1))\n",
    "    plt.ylabel(dict_key_to_label.get(key2, key2))\n",
    "\n",
    "    def plot_with_int(l, color, label):\n",
    "        t = get_x(l, key1)\n",
    "        if t == []:\n",
    "            return\n",
    "        \n",
    "        plt.scatter(get_x(l, key1), get_x(l, key2), color=color, label=(label if order != 1 else None))\n",
    "\n",
    "        if order == 1:\n",
    "            m, b = np.polyfit(get_x(l, key1), get_x(l, key2), 1)\n",
    "            plt.plot(get_x(l, key1), m * np.array(get_x(l, key1)) + b, color=color, label=label +\": \" + \"{:.0f}\".format(m*1000))\n",
    "        elif order == 2:\n",
    "            m2, m1, b = np.polyfit(get_x(l, key1), get_x(l, key2), 2)\n",
    "            get_x1_sorted = sorted(get_x(l, key1))\n",
    "            preds = m2 * np.array(get_x1_sorted)**2 + m1 * np.array(get_x1_sorted) + b\n",
    "            plt.plot(get_x1_sorted, preds, color=color)# label=\"int.\"+label)\n",
    "        elif order == 3:\n",
    "            m3, m2, m1, b = np.polyfit(get_x(l, key1), get_x(l, key2), 3)\n",
    "            get_x1_sorted = sorted(get_x(l, key1))\n",
    "            preds = m3 * np.array(get_x1_sorted)**3 + m2 * np.array(get_x1_sorted)**2 + m1 * np.array(get_x1_sorted) + b\n",
    "            plt.plot(get_x1_sorted, preds, color=color)# label=\"int.\"+label)\n",
    "        elif order == \"2log\":\n",
    "            m2, m1, b = np.polyfit(np.log(get_x(l, key1)), get_x(l, key2), 2)\n",
    "            get_x1_sorted = np.log(sorted(get_x(l, key1)))\n",
    "            preds = m2 * np.array(get_x1_sorted)**2 + m1 * np.array(get_x1_sorted) + b\n",
    "            plt.plot(sorted(get_x(l, key1)), preds, color=color)# label=\"int.\"+label)\n",
    "\n",
    "    all_l = [x for ll in l for x in ll]    \n",
    "    plot_with_int(all_l, color=\"blue\", label=\"all\")\n",
    "\n",
    "\n",
    "    plt.legend()"
   ]
  },
  {
   "cell_type": "code",
   "execution_count": null,
   "id": "38c37dc4",
   "metadata": {},
   "outputs": [],
   "source": [
    "DROP=None\n",
    "plot_key(l=l, key1=\"dr\", key2=\"soup-netm\", order=1, label=\"swa\")"
   ]
  },
  {
   "cell_type": "code",
   "execution_count": null,
   "id": "e4de492d",
   "metadata": {},
   "outputs": [],
   "source": [
    "DROP=None\n",
    "plot_key(l=lsoup, key1=\"dr\", key2=\"soup-netm\", order=1, label=\"#nets: \")\n"
   ]
  },
  {
   "cell_type": "code",
   "execution_count": null,
   "id": "3d05ce87",
   "metadata": {},
   "outputs": [],
   "source": [
    "DROP=None\n",
    "plot_key(l=lsoup, key1=\"df\", key2=\"soup-netm\", order=1, label=\"soup\")"
   ]
  },
  {
   "cell_type": "code",
   "execution_count": null,
   "id": "cc419459",
   "metadata": {},
   "outputs": [],
   "source": [
    "DROP=0.5\n",
    "plot_key(l=lsoup, key1=\"dr\", key2=\"thess\", order=1)"
   ]
  },
  {
   "cell_type": "code",
   "execution_count": null,
   "id": "f8635859",
   "metadata": {},
   "outputs": [],
   "source": [
    "DROP=None\n",
    "plot_key(l=lsoup, key1=\"dr\", key2=\"thess\", order=1)"
   ]
  },
  {
   "cell_type": "code",
   "execution_count": null,
   "id": "8eff951f",
   "metadata": {},
   "outputs": [],
   "source": [
    "plot_key(l=lsoup, key1=\"df\", key2=\"soup-netm\", order=2)"
   ]
  },
  {
   "cell_type": "code",
   "execution_count": null,
   "id": "ff0ad09a",
   "metadata": {},
   "outputs": [],
   "source": [
    "DROP=0.\n",
    "plot_key(l=l, key1=\"dr\", key2=\"soup-netm\", order=1)"
   ]
  },
  {
   "cell_type": "code",
   "execution_count": null,
   "id": "734c1bb4",
   "metadata": {},
   "outputs": [],
   "source": [
    "DROP=0.\n",
    "plot_key(l=l, key1=\"netm\", key2=\"soup\", order=1)"
   ]
  },
  {
   "cell_type": "code",
   "execution_count": null,
   "id": "87c15f20",
   "metadata": {},
   "outputs": [],
   "source": [
    "DROP=0.5\n",
    "plot_key(l=l, key1=\"netm\", key2=\"soup\", order=1)"
   ]
  },
  {
   "cell_type": "code",
   "execution_count": null,
   "id": "8ddc9f3e",
   "metadata": {},
   "outputs": [],
   "source": [
    "DROP=None\n",
    "plot_key(l=lsoup, key1=\"df\", key2=\"soup-netm\", order=1)"
   ]
  },
  {
   "cell_type": "code",
   "execution_count": null,
   "id": "5136bed7",
   "metadata": {},
   "outputs": [],
   "source": [
    "DROP=0.5\n",
    "plot_key_all(l=l, key1=\"dr\", key2=\"netm\", order=1)"
   ]
  },
  {
   "cell_type": "code",
   "execution_count": null,
   "id": "0fb61111",
   "metadata": {},
   "outputs": [],
   "source": [
    "DROP=0.5\n",
    "plot_key(l=l, key1=\"dr\", key2=\"soup-netm\", order=1)"
   ]
  },
  {
   "cell_type": "code",
   "execution_count": null,
   "id": "526586ee",
   "metadata": {},
   "outputs": [],
   "source": [
    "plot_key(l=lsoup, key1=\"dr\", key2=\"soup-netm\", order=1)"
   ]
  },
  {
   "cell_type": "code",
   "execution_count": null,
   "id": "2a8a9c15",
   "metadata": {},
   "outputs": [],
   "source": [
    "\n",
    "plot_key(l=lsoup, key1=\"df\", key2=\"soup-netm\", order=1)"
   ]
  },
  {
   "cell_type": "code",
   "execution_count": null,
   "id": "843a26d9",
   "metadata": {},
   "outputs": [],
   "source": [
    "plot_key_all(key1=\"soup\", key2=\"df\", order=1)"
   ]
  },
  {
   "cell_type": "code",
   "execution_count": null,
   "id": "50d2a45a",
   "metadata": {},
   "outputs": [],
   "source": [
    "plot_key(l=l, key1=\"soup\", key2=\"soupswa\", order=1, labels=labelssoup, diag=True)"
   ]
  },
  {
   "cell_type": "code",
   "execution_count": null,
   "id": "1f1f1723",
   "metadata": {},
   "outputs": [],
   "source": [
    "plot_key(l=lsoup, key1=\"dr\", key2=\"soup-netm\", order=1)"
   ]
  },
  {
   "cell_type": "code",
   "execution_count": null,
   "id": "06134b8e",
   "metadata": {},
   "outputs": [],
   "source": [
    "lsoup[2][0]"
   ]
  },
  {
   "cell_type": "code",
   "execution_count": null,
   "id": "c8bbeaa4",
   "metadata": {},
   "outputs": [],
   "source": [
    "# HP=EoA sometimes dropout\n",
    "plot_key(l=lsoup, key1=\"df\", key2=\"soup-netm\", order=1)"
   ]
  },
  {
   "cell_type": "code",
   "execution_count": null,
   "id": "00d2ea83",
   "metadata": {},
   "outputs": [],
   "source": [
    "# HP=D sans dropout\n",
    "plot_key(l=lsoup, key1=\"df\", key2=\"soup-netm\", order=1)"
   ]
  },
  {
   "cell_type": "code",
   "execution_count": null,
   "id": "7b0d0678",
   "metadata": {},
   "outputs": [],
   "source": [
    "plot_key(l=l, key1=\"dr\", key2=\"thess\", order=1)"
   ]
  },
  {
   "cell_type": "code",
   "execution_count": null,
   "id": "6905506f",
   "metadata": {},
   "outputs": [],
   "source": [
    "DROP=0.5\n",
    "plot_key(key1=\"df\", key2=\"soup\", order=1)"
   ]
  },
  {
   "cell_type": "code",
   "execution_count": null,
   "id": "f7c91989",
   "metadata": {},
   "outputs": [],
   "source": [
    "DROP=None\n",
    "plot_key(l=lsoup, key1=\"dr\", key2=\"soup-netm\", order=1)"
   ]
  },
  {
   "cell_type": "code",
   "execution_count": null,
   "id": "05f51a25",
   "metadata": {},
   "outputs": [],
   "source": [
    "plot_key(l=l, key1=\"dr\", key2=\"soup-netm\", order=1, labels=None)"
   ]
  },
  {
   "cell_type": "code",
   "execution_count": null,
   "id": "8d367982",
   "metadata": {},
   "outputs": [],
   "source": [
    "plot_key(l=lsoup, key1=\"net\", key2=\"soup\", order=1)"
   ]
  },
  {
   "cell_type": "code",
   "execution_count": null,
   "id": "b9398c90",
   "metadata": {},
   "outputs": [],
   "source": [
    "plot_key(l=l+lsoup, key1=\"dr\", key2=\"soup-netm\", order=1, labels=labels_concat)"
   ]
  },
  {
   "cell_type": "code",
   "execution_count": null,
   "id": "29157559",
   "metadata": {},
   "outputs": [],
   "source": []
  },
  {
   "cell_type": "code",
   "execution_count": null,
   "id": "24431d3d",
   "metadata": {},
   "outputs": [],
   "source": [
    "\"x\"*3"
   ]
  },
  {
   "cell_type": "code",
   "execution_count": null,
   "id": "7447ecd8",
   "metadata": {},
   "outputs": [],
   "source": [
    "lconcat = [l[i] + lsoup[i] for i in range(len(l))]\n"
   ]
  },
  {
   "cell_type": "code",
   "execution_count": null,
   "id": "f45fdc94",
   "metadata": {},
   "outputs": [],
   "source": []
  },
  {
   "cell_type": "code",
   "execution_count": null,
   "id": "9e39bf2b",
   "metadata": {},
   "outputs": [],
   "source": [
    "\n",
    "def plot_markers(l1, l2, key1, key2, order=1, diag=False):\n",
    "\n",
    "    plt.xlabel(dict_key_to_label.get(key1, key1))\n",
    "    plt.ylabel(dict_key_to_label.get(key2, key2))\n",
    "\n",
    "    def plot_without_int(l, color, label, marker):\n",
    "        t = get_x(l, key1)\n",
    "        if t == []:\n",
    "            return\n",
    "        plt.scatter(get_x(l, key1), get_x(l, key2), color=color, label=label, marker=marker)\n",
    "\n",
    "    def plot_with_int(l, color):\n",
    "        if order == 1:\n",
    "            m, b = np.polyfit(get_x(l, key1), get_x(l, key2), 1)\n",
    "            plt.plot(get_x(l, key1), m * np.array(get_x(l, key1)) + b, color=color)#, label=label +\": \" + \"{:.0f}\".format(m*1000))\n",
    "        elif order == 2:\n",
    "            m2, m1, b = np.polyfit(get_x(l, key1), get_x(l, key2), 2)\n",
    "            get_x1_sorted = sorted(get_x(l, key1))\n",
    "            preds = m2 * np.array(get_x1_sorted)**2 + m1 * np.array(get_x1_sorted) + b\n",
    "            plt.plot(get_x1_sorted, preds, color=color)# label=\"int.\"+label)\n",
    "        elif order == 3:\n",
    "            m3, m2, m1, b = np.polyfit(get_x(l, key1), get_x(l, key2), 3)\n",
    "            get_x1_sorted = sorted(get_x(l, key1))\n",
    "            preds = m3 * np.array(get_x1_sorted)**3 + m2 * np.array(get_x1_sorted)**2 + m1 * np.array(get_x1_sorted) + b\n",
    "            plt.plot(get_x1_sorted, preds, color=color)# label=\"int.\"+label)\n",
    "        elif order == \"2log\":\n",
    "            m2, m1, b = np.polyfit(np.log(get_x(l, key1)), get_x(l, key2), 2)\n",
    "            get_x1_sorted = np.log(sorted(get_x(l, key1)))\n",
    "            preds = m2 * np.array(get_x1_sorted)**2 + m1 * np.array(get_x1_sorted) + b\n",
    "            plt.plot(sorted(get_x(l, key1)), preds, color=color)# label=\"int.\"+label)\n",
    "\n",
    "    colors1 = cm.Blues(np.linspace(0, 1, len(l1)))\n",
    "    colors2 = cm.Reds(np.linspace(0, 1, len(l2)))\n",
    "    labels1 = [\"swa\" + str(i) for i in range(len(l1))]\n",
    "    labels2 = [\"soup\" + str(i) for i in range(len(l1))]\n",
    "    for card in range(len(l1)):\n",
    "        if l1[card] == []:\n",
    "            continue\n",
    "        plot_without_int(l1[card], color=colors1[card], label=labels1[card], marker=\".\")\n",
    "        plot_with_int(l1[card] + l2[card], color=colors1[card])\n",
    "    for card in range(len(l2)):\n",
    "        if l2[card] == []:\n",
    "            continue\n",
    "        plot_without_int(l2[card], color=colors2[card], label=labels2[card], marker=\"*\")\n",
    "    if diag:\n",
    "        xpoints = ypoints = plt.xlim()\n",
    "        plt.plot(xpoints, ypoints, linestyle='--', color='k', lw=3, scalex=False, scaley=False, label=\"y=x\")\n",
    "\n",
    "    plt.legend()"
   ]
  },
  {
   "cell_type": "code",
   "execution_count": null,
   "id": "753b4ccd",
   "metadata": {},
   "outputs": [],
   "source": [
    "DROP=None\n",
    "plot_key(l, key1=\"dr\", key2=\"soup-netm\", order=1, diag=False)"
   ]
  },
  {
   "cell_type": "code",
   "execution_count": null,
   "id": "1f1257a3",
   "metadata": {},
   "outputs": [],
   "source": [
    "DROP=0.\n",
    "plot_key(l, key1=\"df\", key2=\"soup-netm\", order=1, diag=False)"
   ]
  },
  {
   "cell_type": "code",
   "execution_count": null,
   "id": "766823b5",
   "metadata": {},
   "outputs": [],
   "source": [
    "DROP=0.\n",
    "plot_key(l, key1=\"dr\", key2=\"soup-netm\", order=1, diag=False)"
   ]
  },
  {
   "cell_type": "code",
   "execution_count": null,
   "id": "c29fc1a2",
   "metadata": {},
   "outputs": [],
   "source": [
    "DROP=0.5\n",
    "plot_markers(l, lsoup, key1=\"df\", key2=\"soup-netm\", order=1, diag=False)"
   ]
  },
  {
   "cell_type": "code",
   "execution_count": null,
   "id": "a9eb7d66",
   "metadata": {},
   "outputs": [],
   "source": [
    "DROP=0.5\n",
    "plot_markers(l, lsoup, key1=\"df\", key2=\"soup-netm\", order=1, diag=False)"
   ]
  },
  {
   "cell_type": "code",
   "execution_count": null,
   "id": "d3ac4eed",
   "metadata": {},
   "outputs": [],
   "source": [
    "DROP=None\n",
    "plot_markers(l, lsoup, key1=\"df\", key2=\"soup-netm\", order=1, diag=False)"
   ]
  },
  {
   "cell_type": "code",
   "execution_count": null,
   "id": "44cd3818",
   "metadata": {},
   "outputs": [],
   "source": [
    "DROP=0.\n",
    "plot_markers(l, lsoup, key1=\"df\", key2=\"soup-netm\", order=1, diag=False)"
   ]
  },
  {
   "cell_type": "code",
   "execution_count": null,
   "id": "1959c90d",
   "metadata": {},
   "outputs": [],
   "source": [
    "DROP=0.\n",
    "plot_markers(l, lsoup, key1=\"df\", key2=\"soup\", order=1, diag=False)"
   ]
  },
  {
   "cell_type": "code",
   "execution_count": null,
   "id": "7207fbe8",
   "metadata": {},
   "outputs": [],
   "source": [
    "DROP=0.\n",
    "plot_markers(l, lsoup, key1=\"df\", key2=\"soup-netm\", order=1, diag=False)"
   ]
  },
  {
   "cell_type": "code",
   "execution_count": null,
   "id": "4ece7e75",
   "metadata": {},
   "outputs": [],
   "source": [
    "markers = [\".\"*len(l[i]) + \"*\"*len(lsoup[i]) for i in range(len(l))]\n",
    "plot_color(l=lconcat, key1=\"df\", key2=\"soup-netm\", order=2, markers=markers)"
   ]
  },
  {
   "cell_type": "code",
   "execution_count": null,
   "id": "5d2ca73a",
   "metadata": {},
   "outputs": [],
   "source": [
    "markers = [\"s\"*len(l[i]) + \"*\"*len(lsoup[i]) for i in range(len(l))]\n",
    "plot_key(l=lconcat, key1=\"df\", key2=\"soup-netm\", order=2, markers=markers)"
   ]
  },
  {
   "cell_type": "code",
   "execution_count": null,
   "id": "7d420d4a",
   "metadata": {},
   "outputs": [],
   "source": [
    "plot_key(l=lconcat, key1=\"df\", key2=\"soup-netm\", order=2)"
   ]
  },
  {
   "cell_type": "code",
   "execution_count": null,
   "id": "c4aeef29",
   "metadata": {},
   "outputs": [],
   "source": [
    "DROP=0\n",
    "plot_key(l=lsoup, key1=\"dr\", key2=\"soup-netm\", order=1)"
   ]
  },
  {
   "cell_type": "code",
   "execution_count": null,
   "id": "6217f9fa",
   "metadata": {},
   "outputs": [],
   "source": [
    "DROP=0\n",
    "plot_key(key1=\"dr\", key2=\"soup-netm\", order=1)"
   ]
  },
  {
   "cell_type": "code",
   "execution_count": null,
   "id": "29266754",
   "metadata": {},
   "outputs": [],
   "source": [
    "DROP=0\n",
    "plot_key(key1=\"df\", key2=\"soup-netm\", order=1)"
   ]
  },
  {
   "cell_type": "code",
   "execution_count": null,
   "id": "dcf163c2",
   "metadata": {},
   "outputs": [],
   "source": [
    "DROP=0.\n",
    "plot_key(key1=\"df\", key2=\"soup-netm\", order=1)"
   ]
  },
  {
   "cell_type": "code",
   "execution_count": null,
   "id": "8b15079b",
   "metadata": {},
   "outputs": [],
   "source": [
    "DROP=0.5\n",
    "plot_key(key1=\"df\", key2=\"soup\", order=1)"
   ]
  },
  {
   "cell_type": "code",
   "execution_count": null,
   "id": "7b46c509",
   "metadata": {},
   "outputs": [],
   "source": [
    "DROP=0.5\n",
    "plot_key(key1=\"df\", key2=\"soup-netm\", order=1)"
   ]
  },
  {
   "cell_type": "code",
   "execution_count": null,
   "id": "bf7740c0",
   "metadata": {},
   "outputs": [],
   "source": [
    "plot_key(key1=\"df\", key2=\"soup-netm\", order=1)"
   ]
  },
  {
   "cell_type": "code",
   "execution_count": null,
   "id": "89cc68e0",
   "metadata": {},
   "outputs": [],
   "source": [
    "plot_key(key1=\"df\", key2=\"soup-netm\", order=1)"
   ]
  },
  {
   "cell_type": "code",
   "execution_count": null,
   "id": "14029477",
   "metadata": {},
   "outputs": [],
   "source": [
    "plot_key(key1=\"df\", key2=\"soup-netm\", order=1)"
   ]
  },
  {
   "cell_type": "code",
   "execution_count": null,
   "id": "b4a53136",
   "metadata": {},
   "outputs": [],
   "source": [
    "plot_key(key1=\"dr\", key2=\"soup-netm\", order=1)"
   ]
  },
  {
   "cell_type": "code",
   "execution_count": null,
   "id": "8cb49b2e",
   "metadata": {},
   "outputs": [],
   "source": [
    "plot_key(key1=\"df\", key2=\"netm\", order=1)"
   ]
  },
  {
   "cell_type": "code",
   "execution_count": null,
   "id": "01a23ea4",
   "metadata": {},
   "outputs": [],
   "source": [
    "plot_key(key1=\"df\", key2=\"netm\", order=1)"
   ]
  },
  {
   "cell_type": "code",
   "execution_count": null,
   "id": "eb28bf5f",
   "metadata": {},
   "outputs": [],
   "source": [
    "plot_key(key1=\"df\", key2=\"dr\", order=1)"
   ]
  },
  {
   "cell_type": "code",
   "execution_count": null,
   "id": "568989ae",
   "metadata": {},
   "outputs": [],
   "source": [
    "plot_key(key1=\"df\", key2=\"dr\", order=1)"
   ]
  },
  {
   "cell_type": "code",
   "execution_count": null,
   "id": "ec8948db",
   "metadata": {},
   "outputs": [],
   "source": [
    "plot_key(key1=\"df\", key2=\"netm\", order=1)"
   ]
  },
  {
   "cell_type": "code",
   "execution_count": null,
   "id": "eeb88cb6",
   "metadata": {},
   "outputs": [],
   "source": [
    "plot_key(key1=\"df\", key2=\"soup-netm\", order=1)"
   ]
  },
  {
   "cell_type": "code",
   "execution_count": null,
   "id": "4c1ffd74",
   "metadata": {},
   "outputs": [],
   "source": [
    "plot_key(key1=\"df\", key2=\"soup-netm\", order=1)"
   ]
  },
  {
   "cell_type": "code",
   "execution_count": null,
   "id": "e177a811",
   "metadata": {},
   "outputs": [],
   "source": [
    "plot_key(key1=\"dr\", key2=\"soup-netm\", order=1)"
   ]
  },
  {
   "cell_type": "code",
   "execution_count": null,
   "id": "f71836d3",
   "metadata": {},
   "outputs": [],
   "source": [
    "plot_key(key1=\"dr\", key2=\"soup-netm\", order=1)"
   ]
  },
  {
   "cell_type": "code",
   "execution_count": null,
   "id": "82668047",
   "metadata": {},
   "outputs": [],
   "source": [
    "plot_key(key1=\"dr\", key2=\"soup-netm\", order=1)"
   ]
  },
  {
   "cell_type": "code",
   "execution_count": null,
   "id": "5746c14d",
   "metadata": {},
   "outputs": [],
   "source": [
    "plot_key(key1=\"df\", key2=\"soup-netm\", order=1)"
   ]
  },
  {
   "cell_type": "code",
   "execution_count": null,
   "id": "e4c3ada4",
   "metadata": {},
   "outputs": [],
   "source": [
    "plot_key(key1=\"df\", key2=\"net-netm\", order=1)"
   ]
  },
  {
   "cell_type": "code",
   "execution_count": null,
   "id": "96f1f9f1",
   "metadata": {},
   "outputs": [],
   "source": [
    "plot_key(key1=\"df\", key2=\"soup-netm\", order=1)"
   ]
  },
  {
   "cell_type": "code",
   "execution_count": null,
   "id": "6799e5ed",
   "metadata": {},
   "outputs": [],
   "source": [
    "plot_key(key1=\"df\", key2=\"soup\", order=1)"
   ]
  },
  {
   "cell_type": "code",
   "execution_count": null,
   "id": "69fbd063",
   "metadata": {},
   "outputs": [],
   "source": [
    "plot_key(key1=\"netm\", key2=\"dr\", order=1)"
   ]
  },
  {
   "cell_type": "code",
   "execution_count": null,
   "id": "3b6788ed",
   "metadata": {},
   "outputs": [],
   "source": [
    "plot_key(key1=\"netm\", key2=\"dr\", order=1)"
   ]
  },
  {
   "cell_type": "code",
   "execution_count": null,
   "id": "a8ed8e34",
   "metadata": {},
   "outputs": [],
   "source": [
    "plot_key3(key1=\"netm\", key2=\"soup\", order=2, key3=\"df\")"
   ]
  },
  {
   "cell_type": "code",
   "execution_count": null,
   "id": "cc6ca8ec",
   "metadata": {},
   "outputs": [],
   "source": [
    "\n",
    "import matplotlib as mpl\n",
    "from mpl_toolkits.mplot3d import Axes3D\n",
    "import numpy as np\n",
    "import matplotlib.pyplot as plt"
   ]
  },
  {
   "cell_type": "code",
   "execution_count": null,
   "id": "eed1b5c6",
   "metadata": {},
   "outputs": [],
   "source": [
    "\n",
    "all_l = [x for ll in l[-3:] for x in ll]    \n",
    "Xi = get_x(all_l, \"netm\")\n",
    "Yi = get_x(all_l, \"df\")\n",
    "Zi = get_x(all_l, \"soup\")"
   ]
  },
  {
   "cell_type": "code",
   "execution_count": null,
   "id": "b600066f",
   "metadata": {},
   "outputs": [],
   "source": [
    "set_xy = set([])\n",
    "indexes = []\n",
    "for i, (x, y) in enumerate(zip(Xi, Yi)):\n",
    "    if (x, y) not in set_xy:\n",
    "        set_xy.add((x, y))\n",
    "        indexes.append(i)\n",
    "\n",
    "\n",
    "Pf = np.array([[Xi[i], Yi[i]] for i in indexes])\n",
    "Zf = np.array([Zi[i] for i in indexes])\n",
    "Nf = len(indexes)"
   ]
  },
  {
   "cell_type": "code",
   "execution_count": null,
   "id": "d920596e",
   "metadata": {},
   "outputs": [],
   "source": [
    "x_mesh = np.linspace(0.55, 0.65, 100)\n",
    "y_mesh = np.linspace(0.1, 0.2, 100)\n",
    "X, Y = np.meshgrid(x_mesh, y_mesh)\n",
    "P = np.array([X.flatten(), Y.flatten() ]).transpose()"
   ]
  },
  {
   "cell_type": "code",
   "execution_count": null,
   "id": "8ccee3f3",
   "metadata": {},
   "outputs": [],
   "source": [
    "from scipy.interpolate import griddata\n",
    "Z_cubic = griddata(Pf, Zf, P, method = \"cubic\").reshape([100, 100])"
   ]
  },
  {
   "cell_type": "code",
   "execution_count": null,
   "id": "4a542cf9",
   "metadata": {},
   "outputs": [],
   "source": [
    "Z_nearest = griddata(Pf, Zf, P, method = \"cubic\").reshape([100, 100])\n",
    "plt.contourf(X, Y, Z_nearest, 50)\n",
    "plt.plot(Xi, Yi, \"or\", label = \"Data\")\n",
    "plt.colorbar()\n",
    "plt.legend()\n",
    "plt.grid()\n",
    "plt.show()"
   ]
  },
  {
   "cell_type": "code",
   "execution_count": null,
   "id": "5f567c96",
   "metadata": {},
   "outputs": [],
   "source": [
    "plot_key3(key1=\"netm\", key2=\"df\", key3=\"soup\", order=1)"
   ]
  },
  {
   "cell_type": "code",
   "execution_count": null,
   "id": "0a2afcce",
   "metadata": {},
   "outputs": [],
   "source": [
    "def plot_key3(key1, key2, key3=None, order=1):\n",
    "\n",
    "    plt.xlabel(dict_key_to_label.get(key1, key1))\n",
    "    plt.ylabel(dict_key_to_label.get(key2, key2))\n",
    "\n",
    "    def plot_with_int(l, label, key3=None, order=None):\n",
    "        t = get_x(l, key1)\n",
    "        if t == []:\n",
    "            return\n",
    "        if key3:\n",
    "            c = get_x(l, key3)\n",
    "            cmap = plt.cm.get_cmap(\"Reds\", 6)\n",
    "\n",
    "        if order == 1:\n",
    "            m, b = np.polyfit(get_x(l, key1), get_x(l, key2), 1)\n",
    "            plt.plot(get_x(l, key1), m * np.array(get_x(l, key1)) + b, label=label +\": \" + \"{:.0f}\".format(m*1000))\n",
    "            if key3:\n",
    "                plt.scatter(get_x(l, key1), get_x(l, key2), c=c, cmap=cmap)\n",
    "\n",
    "        elif order == 2:\n",
    "            m2, m1, b = np.polyfit(x(l, key1), x(l, key2), 2)\n",
    "            x1_sorted = sorted(x(l, key1))\n",
    "            preds = m2 * np.array(x1_sorted)**2 + m1 * np.array(x1_sorted) + b\n",
    "            plt.plot(x1_sorted, preds, label=label)# label=\"int.\"+label)\n",
    "            if key3:\n",
    "                plt.scatter(x(l, key1), x(l, key2), c=c, cmap=cmap)\n",
    "\n",
    "    for card in range(9, 11):\n",
    "        plot_with_int(l[card], label=\"swa\" + str(card), order=0)\n",
    "\n",
    "    plot_with_int([x for card in range(1, 10) for x in l[card]], label=\"all\", key3=key3, order=order)\n",
    "    cbar = plt.colorbar()\n",
    "    cbar.set_label(dict_key_to_label.get(key3, key3))\n",
    "    plt.legend()"
   ]
  },
  {
   "cell_type": "code",
   "execution_count": null,
   "id": "fc89b90d",
   "metadata": {},
   "outputs": [],
   "source": [
    "def plot_key_mash(key1, key2, key3=None, order=1):\n",
    "\n",
    "    plt.xlabel(dict_key_to_label.get(key1, key1))\n",
    "    plt.ylabel(dict_key_to_label.get(key2, key2))\n",
    "\n",
    "    def plot_with_int(l, label, order=None):\n",
    "        t = x(l, key1)\n",
    "        if t == []:\n",
    "            return\n",
    "\n",
    "        if order == 1:\n",
    "            m, b = np.polyfit(x(l, key1), x(l, key2), 1)\n",
    "            plt.plot(x(l, key1), m * np.array(x(l, key1)) + b, label=label +\": \" + \"{:.0f}\".format(m*1000))\n",
    "\n",
    "        elif order == 2:\n",
    "            m2, m1, b = np.polyfit(x(l, key1), x(l, key2), 2)\n",
    "            x1_sorted = sorted(x(l, key1))\n",
    "            preds = m2 * np.array(x1_sorted)**2 + m1 * np.array(x1_sorted) + b\n",
    "            plt.plot(x1_sorted, preds, label=label)# label=\"int.\"+label)\n",
    "\n",
    "    for card in range(8, 11):\n",
    "        plot_with_int(l[card], label=\"swa\" + str(card), order=0)\n",
    "\n",
    "    all_l = [x for ll in l for x in ll]    \n",
    "    z = x(all_l, key3)\n",
    "    z_min, z_max = -np.abs(z).max(), np.abs(z).max()\n",
    "    \n",
    "    plt.pcolormesh(x(all_l, key1), x(all_l, key2), z, cmap='RdBu', vmin=z_min, vmax=z_max)\n",
    "    #ax.set_title('pcolormesh')\n",
    "    #cbar.set_label(dict_key_to_label.get(key3, key3))\n",
    "    plt.legend()"
   ]
  },
  {
   "cell_type": "code",
   "execution_count": null,
   "id": "8a1198d9",
   "metadata": {},
   "outputs": [],
   "source": [
    "def plot_key_swa(key1, keys2, order=1):\n",
    "\n",
    "\n",
    "    plt.xlabel(dict_key_to_label.get(key1, key1))\n",
    "\n",
    "    def plot_with_int(l, color, label, key2):\n",
    "        \n",
    "        t = x(l, key1)\n",
    "        if t == []:\n",
    "            return\n",
    "        if order == 1:\n",
    "            m, b = np.polyfit(x(l, key1), x(l, key2), 1)\n",
    "            plt.plot(x(l, key1), m * np.array(x(l, key1)) + b, color=color, label=label +\": \" + \"{:.3f}\".format(m*1000))\n",
    "            plt.scatter(x(l, key1), x(l, key2), color=color)\n",
    "        elif order == 2:\n",
    "            m2, m1, b = np.polyfit(x(l, key1), x(l, key2), 2)\n",
    "            x1_sorted = sorted(x(l, key1))\n",
    "            preds = m2 * np.array(x1_sorted)**2 + m1 * np.array(x1_sorted) + b\n",
    "            plt.plot(x1_sorted, preds, color=color)# label=\"int.\"+label)\n",
    "            plt.scatter(x(l, key1), x(l, key2), color=color, label=label)\n",
    "        elif order == 3:\n",
    "            m3, m2, m1, b = np.polyfit(x(l, key1), x(l, key2), 3)\n",
    "            x1_sorted = sorted(x(l, key1))\n",
    "            preds = m3 * np.array(x1_sorted)**3 + m2 * np.array(x1_sorted)**2 + m1 * np.array(x1_sorted) + b\n",
    "            plt.plot(x1_sorted, preds, color=color)# label=\"int.\"+label)\n",
    "            plt.scatter(x(l, key1), x(l, key2), color=color, label=label)\n",
    "        elif order == \"2log\":\n",
    "            m2, m1, b = np.polyfit(np.log(x(l, key1)), x(l, key2), 2)\n",
    "            x1_sorted = np.log(sorted(x(l, key1)))\n",
    "            preds = m2 * np.array(x1_sorted)**2 + m1 * np.array(x1_sorted) + b\n",
    "            plt.plot(sorted(x(l, key1)), preds, color=color)# label=\"int.\"+label)\n",
    "            plt.scatter(x(l, key1), x(l, key2), color=color, label=label)\n",
    "    colors = [\"blue\", \"yellow\"]\n",
    "    #plot_with_int(l0, color=\"grey\", key2=\"soup\", label=\"swa\")\n",
    "    for  key2, color in zip(keys2, colors[:len(keys2)]):\n",
    "        plot_with_int(l2, key2=key2, color=color, label=key2)\n",
    "\n",
    "    plt.legend()"
   ]
  },
  {
   "cell_type": "code",
   "execution_count": null,
   "id": "6b5c7683",
   "metadata": {},
   "outputs": [],
   "source": []
  }
 ],
 "metadata": {
  "kernelspec": {
   "display_name": "Python pytorch",
   "language": "python",
   "name": "pytorch"
  },
  "language_info": {
   "codemirror_mode": {
    "name": "ipython",
    "version": 3
   },
   "file_extension": ".py",
   "mimetype": "text/x-python",
   "name": "python",
   "nbconvert_exporter": "python",
   "pygments_lexer": "ipython3",
   "version": "3.6.7"
  }
 },
 "nbformat": 4,
 "nbformat_minor": 5
}
