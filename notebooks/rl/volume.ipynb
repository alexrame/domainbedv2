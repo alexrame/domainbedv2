{
 "cells": [
  {
   "cell_type": "code",
   "execution_count": null,
   "metadata": {},
   "outputs": [],
   "source": [
    "#!/usr/bin/env python\n",
    "# ------------------------------------------------------------------------------------------------------%\n",
    "# Created by \"Thieu\" at 18:21, 05/02/2021                                                               %\n",
    "#                                                                                                       %\n",
    "#       Email:      nguyenthieu2102@gmail.com                                                           %\n",
    "#       Homepage:   https://www.researchgate.net/profile/Nguyen_Thieu2                                  %\n",
    "#       Github:     https://github.com/thieu1995                                                        %\n",
    "# ------------------------------------------------------------------------------------------------------%\n",
    "\n",
    "from numpy import zeros, vstack\n",
    "import numpy as np\n",
    "from pandas import DataFrame, read_csv\n",
    "from os import getcwd\n",
    "from pathlib import Path\n",
    "\n",
    "models = [\"rs\", \"morl\"]\n",
    "trial_max = 10\n",
    "\n",
    "## Load all results to find reference front\n",
    "list_fitness = []\n",
    "list_fitness.append(\n",
    "    np.stack(\n",
    "    [\n",
    "        [0.9837322938069701, -0.7875773150241002], [1.0315516120567918, -0.7680426747910678],\n",
    "        [1.108713237568736, -0.7845630619398435], [1.148922981619835, -0.7962063649110496],\n",
    "        [1.1973440561071038, -0.7767478073947132], [1.2212389850243925, -0.8399103953503072],\n",
    "        [1.285310146510601, -0.8619011283293366], [1.314461067393422, -0.9449407045729459],\n",
    "        [1.3942182363569737, -1.0821384081616996], [1.4188400392979383, -1.0717621582373977],\n",
    "        [1.4592856185883283, -1.080311574228108], [1.4921244140714407, -1.1538239234685899],\n",
    "        [1.5127975235134363, -1.1183227828145026], [1.5563241190463304, -1.0935858101025224],\n",
    "        [1.5688072920590639, -1.2120799236372113], [1.630712481252849, -1.2071117024123668],\n",
    "        [1.653215588144958, -1.32498949944973], [1.7009344245120883, -1.3827525313198565],\n",
    "        [1.728214347474277, -1.3151989102875814], [1.746822515539825, -1.430864312481135],\n",
    "        [1.7814147435873746, -1.5263131269579753]\n",
    "    ][::-2], axis=0)\n",
    ")\n",
    "list_fitness.append(\n",
    "    np.stack(\n",
    "    [\n",
    "        [1.7814147435873746, -1.5263131269579753], [1.745319883786142, -1.332726869895123],\n",
    "        [1.5410432493314148, -1.0137096256858786], [1.3693733562901615, -1.049459125432186],\n",
    "        [1.460028937458992, -1.0253539345227183], [1.311857362538576, -1.0048503437265754],\n",
    "        [1.260031634606421, -0.7983371601440012], [1.199726775724627, -0.8445858357939866],\n",
    "        [1.0876882975175977, -0.8047580620087683], [1.026839653477073, -0.7825180962868035],\n",
    "        [0.9837322938069701, -0.7875773150241002]\n",
    "    ], axis=0)\n",
    ")\n",
    "\n",
    "matrix_fitness = np.array(list_fitness)\n",
    "\n"
   ]
  },
  {
   "cell_type": "code",
   "execution_count": 2,
   "metadata": {},
   "outputs": [
    {
     "name": "stdout",
     "output_type": "stream",
     "text": [
      "The autoreload extension is already loaded. To reload it, use:\n",
      "  %reload_ext autoreload\n"
     ]
    }
   ],
   "source": [
    "%load_ext autoreload\n",
    "%autoreload 2"
   ]
  },
  {
   "cell_type": "code",
   "execution_count": 3,
   "metadata": {},
   "outputs": [],
   "source": [
    "import sys"
   ]
  },
  {
   "cell_type": "code",
   "execution_count": 7,
   "metadata": {},
   "outputs": [],
   "source": [
    "sys.path.append(\"/home/rame/Spread-HyperVolume/\")"
   ]
  }
 ],
 "metadata": {
  "kernelspec": {
   "display_name": "pytorch",
   "language": "python",
   "name": "python3"
  },
  "language_info": {
   "codemirror_mode": {
    "name": "ipython",
    "version": 3
   },
   "file_extension": ".py",
   "mimetype": "text/x-python",
   "name": "python",
   "nbconvert_exporter": "python",
   "pygments_lexer": "ipython3",
   "version": "3.7.10"
  },
  "orig_nbformat": 4
 },
 "nbformat": 4,
 "nbformat_minor": 2
}
