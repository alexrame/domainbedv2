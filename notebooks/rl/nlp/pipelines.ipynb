{
 "cells": [
  {
   "cell_type": "code",
   "execution_count": 23,
   "metadata": {},
   "outputs": [
    {
     "name": "stderr",
     "output_type": "stream",
     "text": [
      "You passed along `num_labels=3` with an incompatible id to label map: {'0': 'HALLUCINATED', '1': 'FAITHFUL'}. The number of labels wil be overwritten to 2.\n",
      "You passed along `num_labels=3` with an incompatible id to label map: {'0': 'HALLUCINATED', '1': 'FAITHFUL'}. The number of labels wil be overwritten to 2.\n",
      "You passed along `num_labels=3` with an incompatible id to label map: {'0': 'HALLUCINATED', '1': 'FAITHFUL'}. The number of labels wil be overwritten to 2.\n",
      "You passed along `num_labels=3` with an incompatible id to label map: {'0': 'HALLUCINATED', '1': 'FAITHFUL'}. The number of labels wil be overwritten to 2.\n"
     ]
    },
    {
     "name": "stdout",
     "output_type": "stream",
     "text": [
      "tensor([True])\n"
     ]
    }
   ],
   "source": [
    "from transformers import AutoTokenizer, AutoModelForSequenceClassification\n",
    "  \n",
    "tokenizer = AutoTokenizer.from_pretrained(\"CogComp/bart-faithful-summary-detector\")\n",
    "model = AutoModelForSequenceClassification.from_pretrained(\"CogComp/bart-faithful-summary-detector\")\n",
    "\n",
    "article = \"Ban Ki-Moon was re-elected for a second term by the UN General Assembly, unopposed and unanimously, on 21 June 2011.\"\n",
    "\n",
    "bad_summary = \"Ban Ki-moon was elected for a second term in 2007.\"\n",
    "good_summary = \"Ban Ki-moon was elected for a second term in 2011.\"\n",
    "\n",
    "bad_pair = tokenizer(text=bad_summary, text_pair=article, return_tensors='pt')\n",
    "good_pair = tokenizer(text=good_summary, text_pair=article, return_tensors='pt')\n",
    "\n",
    "bad_score = model(**bad_pair)\n",
    "good_score = model(**good_pair)\n",
    "\n",
    "print(good_score[0][:, 1] > bad_score[0][:, 1]) # True, label mapping: \"0\" -> \"Hallucinated\" \"1\" -> \"Faithful\""
   ]
  },
  {
   "cell_type": "code",
   "execution_count": 25,
   "metadata": {},
   "outputs": [
    {
     "data": {
      "text/plain": [
       "tensor([[ 0.6020, -0.4472]], grad_fn=<AddmmBackward0>)"
      ]
     },
     "execution_count": 25,
     "metadata": {},
     "output_type": "execute_result"
    }
   ],
   "source": [
    "bad_score[0]"
   ]
  },
  {
   "cell_type": "code",
   "execution_count": 26,
   "metadata": {},
   "outputs": [
    {
     "data": {
      "text/plain": [
       "tensor([[-2.6085, -0.2462]], grad_fn=<AddmmBackward0>)"
      ]
     },
     "execution_count": 26,
     "metadata": {},
     "output_type": "execute_result"
    }
   ],
   "source": [
    "good_score[0]"
   ]
  },
  {
   "cell_type": "code",
   "execution_count": 61,
   "metadata": {},
   "outputs": [
    {
     "data": {
      "text/plain": [
       "[[[[{'label': 'HALLUCINATED', 'score': 0.6020027995109558},\n",
       "    {'label': 'FAITHFUL', 'score': -0.4471779763698578}]]],\n",
       " [[[{'label': 'HALLUCINATED', 'score': -2.6085076332092285},\n",
       "    {'label': 'FAITHFUL', 'score': -0.2461569607257843}]]]]"
      ]
     },
     "execution_count": 61,
     "metadata": {},
     "output_type": "execute_result"
    }
   ],
   "source": [
    "rewards"
   ]
  },
  {
   "cell_type": "code",
   "execution_count": 27,
   "metadata": {},
   "outputs": [
    {
     "data": {
      "text/plain": [
       "[[[[{'label': 'HALLUCINATED', 'score': 0.9396332502365112},\n",
       "    {'label': 'FAITHFUL', 'score': -0.46942010521888733}]]],\n",
       " [[[{'label': 'HALLUCINATED', 'score': -1.5056735277175903},\n",
       "    {'label': 'FAITHFUL', 'score': -0.32813945412635803}]]]]"
      ]
     },
     "execution_count": 27,
     "metadata": {},
     "output_type": "execute_result"
    }
   ],
   "source": [
    "rewards"
   ]
  },
  {
   "cell_type": "code",
   "execution_count": 29,
   "metadata": {},
   "outputs": [
    {
     "data": {
      "text/plain": [
       "tensor([[    0, 33809, 11488,    12, 16956,    21,  2736,    13,    10,   200,\n",
       "          1385,    11,  3010,     4,     2,     2, 33809, 11488,    12, 32452,\n",
       "            21,   769,    12, 15672,    13,    10,   200,  1385,    30,     5,\n",
       "          2604,  1292,  3389,     6,   542, 10223,  7878,     8, 12008,     6,\n",
       "            15,   733,   502,  1466,     4,     2]])"
      ]
     },
     "execution_count": 29,
     "metadata": {},
     "output_type": "execute_result"
    }
   ],
   "source": [
    "bad_pair[\"input_ids\"]"
   ]
  },
  {
   "cell_type": "code",
   "execution_count": 3,
   "metadata": {},
   "outputs": [
    {
     "data": {
      "text/plain": [
       "tensor([-0.2462], grad_fn=<SelectBackward0>)"
      ]
     },
     "execution_count": 3,
     "metadata": {},
     "output_type": "execute_result"
    }
   ],
   "source": [
    "good_score[0][:, 1]"
   ]
  },
  {
   "cell_type": "code",
   "execution_count": 2,
   "metadata": {},
   "outputs": [
    {
     "data": {
      "text/plain": [
       "tensor([-0.4472], grad_fn=<SelectBackward0>)"
      ]
     },
     "execution_count": 2,
     "metadata": {},
     "output_type": "execute_result"
    }
   ],
   "source": [
    "bad_score[0][:, 1]"
   ]
  },
  {
   "cell_type": "code",
   "execution_count": 1,
   "metadata": {},
   "outputs": [
    {
     "name": "stderr",
     "output_type": "stream",
     "text": [
      "/home/rame/anaconda3/envs/nlp/lib/python3.8/site-packages/tqdm/auto.py:21: TqdmWarning: IProgress not found. Please update jupyter and ipywidgets. See https://ipywidgets.readthedocs.io/en/stable/user_install.html\n",
      "  from .autonotebook import tqdm as notebook_tqdm\n"
     ]
    }
   ],
   "source": [
    "from transformers import pipeline"
   ]
  },
  {
   "cell_type": "code",
   "execution_count": 2,
   "metadata": {},
   "outputs": [],
   "source": [
    "%load_ext autoreload\n",
    "%autoreload 2\n",
    "import sys\n",
    "import collections\n",
    "import numpy as np\n",
    "import re\n",
    "import os\n",
    "\n",
    "sys.path.append(\"/home/rame/trl/examples/llama/\")"
   ]
  },
  {
   "cell_type": "code",
   "execution_count": 3,
   "metadata": {},
   "outputs": [],
   "source": [
    "import llama_utils"
   ]
  },
  {
   "cell_type": "code",
   "execution_count": 4,
   "metadata": {},
   "outputs": [],
   "source": [
    "tokenizer_name=llama_utils.Tokenizer.load_tokenizer_name(\"unitary/toxic-bert\")"
   ]
  },
  {
   "cell_type": "code",
   "execution_count": 5,
   "metadata": {},
   "outputs": [],
   "source": [
    "import llama_utils"
   ]
  },
  {
   "cell_type": "code",
   "execution_count": 6,
   "metadata": {},
   "outputs": [],
   "source": [
    "import torch"
   ]
  },
  {
   "cell_type": "code",
   "execution_count": 7,
   "metadata": {},
   "outputs": [],
   "source": [
    "device = 0 if torch.cuda.is_available() else \"cpu\""
   ]
  },
  {
   "cell_type": "code",
   "execution_count": 8,
   "metadata": {},
   "outputs": [],
   "source": [
    "pipe = pipeline(\n",
    "    \"text-classification\",\n",
    "    model=\"unitary/toxic-bert\",\n",
    "    device=device,\n",
    "    tokenizer=tokenizer_name,\n",
    ")"
   ]
  },
  {
   "cell_type": "code",
   "execution_count": 13,
   "metadata": {},
   "outputs": [],
   "source": [
    "article = \"Ban Ki-Moon was re-elected for a second term by the UN General Assembly, unopposed and unanimously, on 21 June 2011.\"\n",
    "\n",
    "bad_summary = \"Ban Ki-moon was elected for a second term in 2007.\"\n",
    "good_summary = \"Ban Ki-moon was elected for a second term in 2011.\""
   ]
  },
  {
   "cell_type": "code",
   "execution_count": 12,
   "metadata": {},
   "outputs": [],
   "source": [
    "text = \"Wow... what would you do in a situation like that!? The story of Breaking Point, though short, packed a lot of emotion. The acting was\""
   ]
  },
  {
   "cell_type": "code",
   "execution_count": 13,
   "metadata": {},
   "outputs": [
    {
     "name": "stderr",
     "output_type": "stream",
     "text": [
      "/home/rame/anaconda3/envs/nlp/lib/python3.8/site-packages/transformers/pipelines/text_classification.py:104: UserWarning: `return_all_scores` is now deprecated,  if want a similar funcionality use `top_k=None` instead of `return_all_scores=True` or `top_k=1` instead of `return_all_scores=False`.\n",
      "  warnings.warn(\n"
     ]
    },
    {
     "data": {
      "text/plain": [
       "[[{'label': 'toxic', 'score': -7.053863525390625},\n",
       "  {'label': 'severe_toxic', 'score': -9.13469409942627},\n",
       "  {'label': 'obscene', 'score': -8.60804557800293},\n",
       "  {'label': 'threat', 'score': -9.114510536193848},\n",
       "  {'label': 'insult', 'score': -8.57530689239502},\n",
       "  {'label': 'identity_hate', 'score': -8.898863792419434}]]"
      ]
     },
     "execution_count": 13,
     "metadata": {},
     "output_type": "execute_result"
    }
   ],
   "source": [
    "pipe(\n",
    "    text,\n",
    "    **{\n",
    "        \"return_all_scores\": True,\n",
    "        \"function_to_apply\": \"none\",\n",
    "        \"batch_size\": 1\n",
    "    }\n",
    ")\n"
   ]
  },
  {
   "cell_type": "code",
   "execution_count": 14,
   "metadata": {},
   "outputs": [],
   "source": [
    "sentiment_pipes = [pipe]"
   ]
  },
  {
   "cell_type": "code",
   "execution_count": 16,
   "metadata": {},
   "outputs": [],
   "source": [
    "queries_responses = [\n",
    "    (\"### Input:\" + article, bad_summary),\n",
    "    (\"### Input:\" + article, good_summary)    \n",
    "]"
   ]
  },
  {
   "cell_type": "code",
   "execution_count": 22,
   "metadata": {},
   "outputs": [
    {
     "data": {
      "text/plain": [
       "'Ban Ki-Moon was re-elected for a second term by the UN General Assembly, unopposed and unanimously, on 21 June 2011.'"
      ]
     },
     "execution_count": 22,
     "metadata": {},
     "output_type": "execute_result"
    }
   ],
   "source": [
    "llama_utils.Instructions.get_input(\"### Input:\" + article)"
   ]
  },
  {
   "cell_type": "code",
   "execution_count": 46,
   "metadata": {},
   "outputs": [
    {
     "data": {
      "text/plain": [
       "tensor([[    0, 33809, 11488,    12, 16956,    21,  2736,    13,    10,   200,\n",
       "          1385,    11,  3010,     4,     2,     2, 33809, 11488,    12, 32452,\n",
       "            21,   769,    12, 15672,    13,    10,   200,  1385,    30,     5,\n",
       "          2604,  1292,  3389,     6,   542, 10223,  7878,     8, 12008,     6,\n",
       "            15,   733,   502,  1466,     4,     2]])"
      ]
     },
     "execution_count": 46,
     "metadata": {},
     "output_type": "execute_result"
    }
   ],
   "source": [
    "bad_pair[\"input_ids\"]"
   ]
  },
  {
   "cell_type": "code",
   "execution_count": 49,
   "metadata": {},
   "outputs": [
    {
     "data": {
      "text/plain": [
       "'<s>Ban Ki-moon was elected for a second term in 2007.</s></s>Ban Ki-Moon was re-elected for a second term by the UN General Assembly, unopposed and unanimously, on 21 June 2011.</s>'"
      ]
     },
     "execution_count": 49,
     "metadata": {},
     "output_type": "execute_result"
    }
   ],
   "source": [
    "pipe.tokenizer.decode(bad_pair[\"input_ids\"][0])"
   ]
  },
  {
   "cell_type": "code",
   "execution_count": 51,
   "metadata": {},
   "outputs": [
    {
     "data": {
      "text/plain": [
       "'<s>Ban Ki-moon was elected for a second term in 2007.</s></s>Ban Ki-Moon was re-elected for a second term by the UN General Assembly, unopposed and unanimously, on 21 June 2011.</s>'"
      ]
     },
     "execution_count": 51,
     "metadata": {},
     "output_type": "execute_result"
    }
   ],
   "source": [
    "pipe.tokenizer.decode(pipe.tokenizer.encode(pairs[0][0]))"
   ]
  },
  {
   "cell_type": "code",
   "execution_count": 41,
   "metadata": {},
   "outputs": [
    {
     "data": {
      "text/plain": [
       "[(0, 0),\n",
       " (33809, 33809),\n",
       " (11488, 11488),\n",
       " (12, 12),\n",
       " (16956, 16956),\n",
       " (21, 21),\n",
       " (2736, 2736),\n",
       " (13, 13),\n",
       " (10, 10),\n",
       " (200, 200),\n",
       " (1385, 1385),\n",
       " (11, 11),\n",
       " (3010, 3010),\n",
       " (4, 2),\n",
       " (2, 2),\n",
       " (2, 33809),\n",
       " (33809, 11488),\n",
       " (11488, 12),\n",
       " (12, 32452),\n",
       " (32452, 21),\n",
       " (21, 769),\n",
       " (769, 12),\n",
       " (12, 15672),\n",
       " (15672, 13),\n",
       " (13, 10),\n",
       " (10, 200),\n",
       " (200, 1385),\n",
       " (1385, 30),\n",
       " (30, 5),\n",
       " (5, 2604),\n",
       " (2604, 1292),\n",
       " (1292, 3389),\n",
       " (3389, 6),\n",
       " (6, 542),\n",
       " (542, 10223),\n",
       " (10223, 7878),\n",
       " (7878, 8),\n",
       " (8, 12008),\n",
       " (12008, 6),\n",
       " (6, 15),\n",
       " (15, 733),\n",
       " (733, 502),\n",
       " (502, 1466),\n",
       " (1466, 4),\n",
       " (4, 2)]"
      ]
     },
     "execution_count": 41,
     "metadata": {},
     "output_type": "execute_result"
    }
   ],
   "source": [
    "[(x, y) for x, y in zip(bad_pair[\"input_ids\"][0].tolist(), pipe.tokenizer.encode(pairs[0][0]))]"
   ]
  },
  {
   "cell_type": "code",
   "execution_count": 50,
   "metadata": {},
   "outputs": [],
   "source": [
    "pairs = [\n",
    "    [\n",
    "        \n",
    "            llama_utils.transform_text_summary(\n",
    "                sentiment_pipe=sentiment_pipe,\n",
    "                post=llama_utils.Instructions.get_input(query),\n",
    "                response=response\n",
    "            )\n",
    "         for sentiment_pipe in sentiment_pipes\n",
    "    ] for query, response in queries_responses\n",
    "]"
   ]
  },
  {
   "cell_type": "code",
   "execution_count": 59,
   "metadata": {},
   "outputs": [],
   "source": [
    "rewards = [\n",
    "    [\n",
    "        \n",
    "            sentiment_pipe(llama_utils.transform_text_summary(\n",
    "                sentiment_pipe=sentiment_pipe,\n",
    "                post=llama_utils.Instructions.get_input(query),\n",
    "                response=response,\n",
    "                \n",
    "            ),**{\"return_all_scores\": True, \"function_to_apply\": \"none\", \"batch_size\": 1})\n",
    "         for sentiment_pipe in sentiment_pipes\n",
    "    ] for query, response in queries_responses\n",
    "]"
   ]
  },
  {
   "cell_type": "code",
   "execution_count": 60,
   "metadata": {},
   "outputs": [
    {
     "data": {
      "text/plain": [
       "[[[[{'label': 'HALLUCINATED', 'score': 0.6020027995109558},\n",
       "    {'label': 'FAITHFUL', 'score': -0.4471779763698578}]]],\n",
       " [[[{'label': 'HALLUCINATED', 'score': -2.6085076332092285},\n",
       "    {'label': 'FAITHFUL', 'score': -0.2461569607257843}]]]]"
      ]
     },
     "execution_count": 60,
     "metadata": {},
     "output_type": "execute_result"
    }
   ],
   "source": []
  },
  {
   "cell_type": "code",
   "execution_count": 37,
   "metadata": {},
   "outputs": [
    {
     "data": {
      "text/plain": [
       "[0,\n",
       " 33809,\n",
       " 11488,\n",
       " 12,\n",
       " 16956,\n",
       " 21,\n",
       " 2736,\n",
       " 13,\n",
       " 10,\n",
       " 200,\n",
       " 1385,\n",
       " 11,\n",
       " 3010,\n",
       " 2,\n",
       " 2,\n",
       " 33809,\n",
       " 11488,\n",
       " 12,\n",
       " 32452,\n",
       " 21,\n",
       " 769,\n",
       " 12,\n",
       " 15672,\n",
       " 13,\n",
       " 10,\n",
       " 200,\n",
       " 1385,\n",
       " 30,\n",
       " 5,\n",
       " 2604,\n",
       " 1292,\n",
       " 3389,\n",
       " 6,\n",
       " 542,\n",
       " 10223,\n",
       " 7878,\n",
       " 8,\n",
       " 12008,\n",
       " 6,\n",
       " 15,\n",
       " 733,\n",
       " 502,\n",
       " 1466,\n",
       " 4,\n",
       " 2]"
      ]
     },
     "execution_count": 37,
     "metadata": {},
     "output_type": "execute_result"
    }
   ],
   "source": [
    "pipe.tokenizer.encode(pairs[0][0])"
   ]
  },
  {
   "cell_type": "code",
   "execution_count": 20,
   "metadata": {},
   "outputs": [
    {
     "data": {
      "text/plain": [
       "[[[[{'label': 'HALLUCINATED', 'score': 0.9396332502365112},\n",
       "    {'label': 'FAITHFUL', 'score': -0.46942010521888733}]]],\n",
       " [[[{'label': 'HALLUCINATED', 'score': -1.5056735277175903},\n",
       "    {'label': 'FAITHFUL', 'score': -0.32813945412635803}]]]]"
      ]
     },
     "execution_count": 20,
     "metadata": {},
     "output_type": "execute_result"
    }
   ],
   "source": [
    "rewards"
   ]
  },
  {
   "cell_type": "code",
   "execution_count": null,
   "metadata": {},
   "outputs": [],
   "source": [
    "[\n",
    "                sentiment_pipe(\n",
    "                    llama_utils.transform_text_summary(\n",
    "                        sentiment_pipe=sentiment_pipe,\n",
    "                        post=llama_utils.Instructions.get_input(query),\n",
    "                        response=response\n",
    "                    ), **self.sent_kwargs\n",
    "                ) for sentiment_pipe in sentiment_pipes\n",
    "            ]"
   ]
  }
 ],
 "metadata": {
  "kernelspec": {
   "display_name": "nlp",
   "language": "python",
   "name": "python3"
  },
  "language_info": {
   "codemirror_mode": {
    "name": "ipython",
    "version": 3
   },
   "file_extension": ".py",
   "mimetype": "text/x-python",
   "name": "python",
   "nbconvert_exporter": "python",
   "pygments_lexer": "ipython3",
   "version": "3.8.16"
  }
 },
 "nbformat": 4,
 "nbformat_minor": 4
}
