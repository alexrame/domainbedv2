{
 "cells": [
  {
   "cell_type": "code",
   "execution_count": 1,
   "metadata": {},
   "outputs": [],
   "source": [
    "%load_ext autoreload\n",
    "%autoreload 2\n",
    "import sys\n",
    "import collections\n",
    "import numpy as np\n",
    "import re\n",
    "import os\n",
    "# sys.path.append(\"/private/home/alexandrerame/domainbedv2/\")\n",
    "# sys.path.append(\"/private/home/alexandrerame/slurmconfig/notebook/data\")\n",
    "\n",
    "sys.path.append(\"/home/rame/domainbedv2/\")\n",
    "from domainbed.codeplot import plot\n",
    "plot.plt.style.use('default')\n",
    "sys.path.append(\"/data/rame/logs_experiments_notebook/nlp\")"
   ]
  },
  {
   "cell_type": "code",
   "execution_count": 2,
   "metadata": {},
   "outputs": [],
   "source": [
    "plot.dict_key_to_label.update(\n",
    "    {\n",
    "        \"pos1\": \"Review positivity\",\n",
    "        \"posimdb\": \"lvwerra/distilbert-imdb\",\n",
    "        \"pos\": \"distilbert-base-uncased-finetuned-sst-2-english\",\n",
    "        \"toxic\": \"martin-ha/toxic-comment-model\",\n",
    "        \"quality2\": \"valurank/distilbert-quality\",\n",
    "        # \"hfl\": \"OpenAssistant/reward-model-deberta-v3-large-v2\",\n",
    "        \"hfb\": r\"$R_1$\",\n",
    "        \"hfd\": r\"$R_2$\",\n",
    "        # \"hfg\": \"sugam11/gpt2-rlhf-reward\",\n",
    "        \"cogd\": r\"$R_2$\",\n",
    "        \"tristan\": r\"$R_1$\",\n",
    "    }\n",
    ")\n",
    "# plot.plt.rcParams[\"figure.figsize\"] = (7, 7)\n",
    "# plot.SIZE_AXIS = \"small\"\n",
    "# plot.SIZE = \"small\"\n",
    "plot.plt.rcParams[\"figure.figsize\"] = (6, 6)\n",
    "SIZE=\"large\"\n",
    "SIZE_AXIS=\"xx-large\"\n",
    "\n",
    "\n",
    "colormaps = [\n",
    "    \"Reds\", \"Blues\", \"Greens\", \"Oranges\", \"Greys\", \"Purples\", \"Reds\", \"Blues\", \"Greens\", \"Oranges\",\n",
    "    \"Greys\", \"Purples\",\n",
    "\"Yellows\",\n",
    "\"Light_Yellows\",\n",
    "\"Dark_Blues\",\n",
    "\"Blues_Greys\",\n",
    "\"Dark_Greys\",\n",
    "] * 2\n",
    "do_save = True\n",
    "\n",
    "label_x = \"R_1\"\n",
    "label_y = \"R_2\"\n",
    "label_xy = \"R_1+R_2\"\n",
    "clean_kwargs = {\n",
    "    \"labels\":\n",
    "        [\n",
    "            r\"RL reward: ${label_x}$\".format(label_x=label_x\n",
    "                                     ),\n",
    "            r\"WA: $init$ $\\to$ ${label_x}$\".format(label_x=label_x),\n",
    "            r\"RL reward: ${label_y}$\".format(label_y=label_y),\n",
    "            r\"WA: $init$ $\\to$ ${label_y}$\".format(label_y=label_y),\n",
    "            r\"RL multi-rewards: $\\frac{{{label_xy}}}{{2}}$\".format(label_xy=label_xy),\n",
    "            r\"WA: ${label_x}$ $\\to$ ${label_y}$, $0\\leq\\lambda\\leq1$\".format(label_x=label_x, label_y=label_y)\n",
    "        ],\n",
    "    \"loc\": \"no\",\n",
    "    \"colormaps\": [\"Blues\", \"Blues\", \"Reds\", \"Reds\", \"Purples\", \"Greens\"],\n",
    "    \"linestyles\": [\"dotted\", \"dashed\", \"dotted\", \"dashed\", \"dotted\", \"solid\"],\n",
    "    \"order\": \"savgol_3_1_quadratic\",\n",
    "    \"list_indexes\": [0, 2, 4, 5]\n",
    "}\n",
    "arrowprops = dict(arrowstyle='->', connectionstyle='arc3,rad=0.2', linewidth=1, shrinkA=0)\n",
    "arrowpropsinv = dict(arrowstyle='->', connectionstyle='arc3,rad=-0.2', linewidth=1, shrinkA=0)\n",
    "\n",
    "keys_y = [\"norm|tristan\", \"norm|cogd\", \"norm|cogfaithful\"]\n",
    "\n",
    "clean_kwargs_scatter = {\n",
    "    \"key_x\": \"lambda\",\n",
    "    \"loc\": \"lower left\",\n",
    "    \"colormaps\": [\"Blues\", \"Reds\", \"Greens\", \"Purples\", \"Yellows\", \"Greys\"],\n",
    "    \"linestyles\": ['dotted', 'dotted', \"solid\", \"solid\", \"solid\", \"solid\"],\n",
    "    \"order\": \"savgol_3_1_quadratic\",\n",
    "    # keycolor=\"abs|lambda-0.5\",\n",
    "    \"order\": \"2\",\n",
    "    \"legendtitle\": f\"Rewards for {clean_kwargs['labels'][5]}:\",\n",
    "    \"title\": None,\n",
    "}\n",
    "\n",
    "def plot_scatter_nlp(l, keys_y, **kwargs):\n",
    "    for key in clean_kwargs_scatter.keys():\n",
    "        if key not in kwargs:\n",
    "            kwargs[key] = clean_kwargs_scatter[key]\n",
    "    fig_dr = plot.plot_basic_scatter(\n",
    "        l,\n",
    "        keys_y=keys_y,\n",
    "        **clean_kwargs_scatter,\n",
    "    )\n",
    "    return fig_dr\n",
    "\n",
    "\n",
    "def get_at_coeff(l_wa, coeff=0.5):\n",
    "    for l in l_wa:\n",
    "        if isinstance(l[\"lambda\"], list):\n",
    "            found_coeff = l[\"lambda\"][0]\n",
    "        else:\n",
    "            found_coeff = l[\"lambda\"]\n",
    "        if found_coeff == coeff:\n",
    "            return l\n",
    "    raise ValueError()\n",
    "\n",
    "\n",
    "def plot_key_nlp(list_l, key_x, key_y, *args, do_annotate=True, dict_annotation_to_loc={}, **kwargs):\n",
    "    for key in clean_kwargs.keys():\n",
    "        if key not in kwargs:\n",
    "            kwargs[key] = clean_kwargs[key]\n",
    "    fig_dr = plot.plot_key(list_l, key_x=key_x, key_y=key_y, *args, **kwargs)\n",
    "    if do_annotate:\n",
    "        arrowprops.update({\"relpos\": (0.5, 1)})\n",
    "        plot.plt.annotate(\n",
    "            \"pre-trained init\",\n",
    "            xy=(list_l[0][0][key_x], list_l[0][0][key_y]),\n",
    "            xytext=dict_annotation_to_loc.get(\"pt\"),\n",
    "            ha='left',\n",
    "            va=\"top\",\n",
    "            size=plot.SIZE,\n",
    "            arrowprops=arrowprops\n",
    "        )\n",
    "        arrowprops.update({\"relpos\": (0.5, 0)})\n",
    "        plot.plt.annotate(\n",
    "            r\"${label_x}$\".format(label_x=label_x) + \" rewarded\",\n",
    "            xy=(list_l[0][-1][key_x], list_l[0][-1][key_y]),\n",
    "            xytext=dict_annotation_to_loc.get(\"0\"),\n",
    "            ha='right',\n",
    "            va=\"bottom\",\n",
    "            size=plot.SIZE,\n",
    "            arrowprops=arrowprops\n",
    "        )\n",
    "        arrowprops.update({\"relpos\": (0.5, 1)})\n",
    "        plot.plt.annotate(\n",
    "            r\"${label_y}$\".format(label_y=label_y) + \" rewarded\",\n",
    "            xy=(list_l[2][-1][key_x], list_l[2][-1][key_y]),\n",
    "            xytext=dict_annotation_to_loc.get(\"1\"),\n",
    "            ha='left',\n",
    "            va=\"top\",\n",
    "            size=plot.SIZE,\n",
    "            arrowprops=arrowprops\n",
    "        )\n",
    "\n",
    "        arrowpropsinv.update({\"relpos\": (0.5, 0)})\n",
    "        plot.plt.annotate(\n",
    "            r\"$\\frac{{{label_xy}}}{{2}}$\".format(label_xy=label_xy) + \" rewarded\",\n",
    "            xy=(list_l[4][-1][key_x], list_l[4][-1][key_y]),\n",
    "            xytext=dict_annotation_to_loc.get(\"01\"),\n",
    "            ha='left',\n",
    "            va=\"bottom\",\n",
    "            size=plot.SIZE,\n",
    "            arrowprops=arrowpropsinv\n",
    "        )\n",
    "        if dict_annotation_to_loc.get(\"lambda\") == \"right\":\n",
    "            arrowprops.update({\"relpos\": (0.5, 0)})\n",
    "            plot.plt.annotate(\n",
    "                r\"$\\lambda=0.5$\",\n",
    "                xy=(get_at_coeff(list_l[5])[key_x], get_at_coeff(list_l[5])[key_y]),\n",
    "                ha='right',\n",
    "                va=\"bottom\",\n",
    "                size=plot.SIZE,\n",
    "                arrowprops=arrowprops\n",
    "            )\n",
    "        else:\n",
    "            arrowprops.update({\"relpos\": (0.5, 1)})\n",
    "            plot.plt.annotate(\n",
    "                r\"$\\lambda=0.5$\",\n",
    "                xy=(\n",
    "                    get_at_coeff(list_l[5])[key_x],\n",
    "                    get_at_coeff(list_l[5])[key_y]\n",
    "                ),\n",
    "                xytext=dict_annotation_to_loc.get(\"lambda\"),\n",
    "                ha='left',\n",
    "                va=\"top\",\n",
    "                size=plot.SIZE,\n",
    "                arrowprops=arrowprops\n",
    "            )\n",
    "        del arrowprops[\"relpos\"]\n",
    "    return fig_dr"
   ]
  },
  {
   "cell_type": "code",
   "execution_count": 3,
   "metadata": {},
   "outputs": [],
   "source": [
    "class EmptyModule:\n",
    "    l = None\n",
    "    label = \"\""
   ]
  },
  {
   "cell_type": "code",
   "execution_count": 4,
   "metadata": {},
   "outputs": [],
   "source": [
    "# llama stack"
   ]
  },
  {
   "cell_type": "code",
   "execution_count": 5,
   "metadata": {},
   "outputs": [
    {
     "data": {
      "text/plain": [
       "['infstacku_warmdvb311rmeld391_0415.py',\n",
       " 'infstacku_wainitrmeld391_0415.py',\n",
       " 'infstacku_rmdvbrmeld_0418_1000.py',\n",
       " 'infstacku_warmdvb351rmeld361_0415.py',\n",
       " 'infstacku_rmdvbrmeld_0414.py',\n",
       " 'infstacku_rmdvb_0414.py',\n",
       " '__pycache__',\n",
       " 'infstacku_warmdvb311rmeld391_0418_1000.py',\n",
       " 'llama_experiments_stacku.md',\n",
       " 'infstacku_wainitrmdvb311_0415.py',\n",
       " 'infstacku_warmdvbrmeld_0414.py',\n",
       " 'infstacku_rmeld_0414.py']"
      ]
     },
     "execution_count": 5,
     "metadata": {},
     "output_type": "execute_result"
    }
   ],
   "source": [
    "os.listdir(\"/data/rame/logs_experiments_notebook/nlp/llamastacku/\")"
   ]
  },
  {
   "cell_type": "code",
   "execution_count": 8,
   "metadata": {},
   "outputs": [],
   "source": [
    "from llamastacku import infstacku_rmeld_0414, infstacku_rmdvb_0414, infstacku_rmdvbrmeld_0414, infstacku_rmdvbrmeld_0418_1000, infstacku_warmdvbrmeld_0414, infstacku_warmdvb311rmeld391_0415, infstacku_warmdvb351rmeld361_0415, infstacku_wainitrmeld391_0415, infstacku_wainitrmdvb311_0415, infstacku_warmdvb311rmeld391_0418_1000\n",
    "\n",
    "modules_stacku = [\n",
    "    infstacku_rmdvb_0414, infstacku_wainitrmdvb311_0415, infstacku_rmeld_0414,\n",
    "    infstacku_wainitrmeld391_0415, infstacku_rmdvbrmeld_0414,\n",
    "    infstacku_warmdvb311rmeld391_0415\n",
    "]\n",
    "\n",
    "modules_stacku_1000 = [\n",
    "    infstacku_rmdvb_0414, infstacku_wainitrmdvb311_0415, infstacku_rmeld_0414,\n",
    "    infstacku_wainitrmeld391_0415, infstacku_rmdvbrmeld_0418_1000,\n",
    "    infstacku_warmdvb311rmeld391_0418_1000\n",
    "]\n"
   ]
  },
  {
   "cell_type": "code",
   "execution_count": 9,
   "metadata": {},
   "outputs": [],
   "source": [
    "for modules in [modules_stacku, modules_stacku_1000]:\n",
    "    for module in modules:\n",
    "        if isinstance(module, EmptyModule):\n",
    "            continue\n",
    "        module.l = []\n",
    "        if not hasattr(module, \"label\"):\n",
    "            module.label = \" \".join(re.split('_|\\.', os.path.split(module.__file__)[-1])[0:-1])\n",
    "        for key in module.d.keys():\n",
    "            if True:\n",
    "                new_d = {\"lambda\": key}\n",
    "                new_d[\"gpt2\"] = module.d[key][0][\"LABEL_0\"]\n",
    "                new_d[\"hfb\"] = module.d[key][1][\"REWARD\"]\n",
    "                new_d[\"hfd\"] = module.d[key][2][\"REWARD\"]\n",
    "                new_d[\"hfl\"] = module.d[key][3][\"LABEL_0\"]\n",
    "                module.l.append(new_d)"
   ]
  },
  {
   "cell_type": "code",
   "execution_count": 10,
   "metadata": {},
   "outputs": [
    {
     "data": {
      "image/png": "[encoded data removed]",
      "text/plain": [
       "<Figure size 600x600 with 1 Axes>"
      ]
     },
     "metadata": {},
     "output_type": "display_data"
    }
   ],
   "source": [
    "fig_dr = plot_key_nlp(\n",
    "    [module.l if module is not None else None for module in modules_stacku_1000],\n",
    "    key_x=\"hfb\",\n",
    "    key_y=\"hfd\",\n",
    "    order=\"savgol_7_1_quadratic\",\n",
    "    # order=\"3\",\n",
    "    dict_annotation_to_loc={\n",
    "        # \"pt\": None,\n",
    "        # \"0\": (-0.05, -1.3),\n",
    "        # \"1\": (-1.56, -0.5),\n",
    "        # \"lambda\": (-0.35, -0.6)\n",
    "    },\n",
    ")\n",
    "# plot.save_fig(fig=fig_dr, name=\"nlp/pareto_stacku1000_hfbtohfd.pdf\", do_save=do_save)"
   ]
  },
  {
   "cell_type": "code",
   "execution_count": null,
   "metadata": {},
   "outputs": [],
   "source": [
    "fig_dr = plot_key_nlp(\n",
    "    [module.l if module is not None else None for module in modules_stacku],\n",
    "    key_x=\"hfb\",\n",
    "    key_y=\"hfd\",\n",
    "    order=\"savgol_7_1_quadratic\",\n",
    "    # order=\"3\",\n",
    "    dict_annotation_to_loc={\n",
    "        \"pt\": None,\n",
    "        \"0\": (-0.05, -1.3),\n",
    "        \"1\": (-1.56, -0.5),\n",
    "        \"01\": (-1.8, -1.2),        \n",
    "        \"lambda\": (-0.35, -0.6)\n",
    "    },\n",
    ")\n",
    "plot.save_fig(fig=fig_dr, name=\"nlp/pareto_stacku_hfbtohfd.pdf\", do_save=do_save)"
   ]
  },
  {
   "cell_type": "code",
   "execution_count": 6,
   "metadata": {},
   "outputs": [],
   "source": [
    "# LLama assistant"
   ]
  },
  {
   "cell_type": "code",
   "execution_count": 7,
   "metadata": {},
   "outputs": [
    {
     "data": {
      "text/plain": [
       "['infassistant_warmeldrmdvbv_step191_0418.py',\n",
       " 'logs_assistant_d_steps_0412.py',\n",
       " 'logs_assistant_b_steps_0412.py',\n",
       " 'infassistant_rmdvbv_steps_0418.py',\n",
       " 'logs_assistant_bd_wa_0412.py',\n",
       " 'infassistant_rmdvlv_steps_0418.py',\n",
       " '__pycache__',\n",
       " 'infassistant_warmeldrmdvbv_step141_0418.py',\n",
       " 'infassistant_rmeld_steps_0418.py',\n",
       " 'experiments_assistant_kl2.md']"
      ]
     },
     "execution_count": 7,
     "metadata": {},
     "output_type": "execute_result"
    }
   ],
   "source": [
    "os.listdir(\"/data/rame/logs_experiments_notebook/nlp/llamaassistantkl2/\")"
   ]
  },
  {
   "cell_type": "code",
   "execution_count": 10,
   "metadata": {},
   "outputs": [],
   "source": [
    "from llamaassistantkl2 import logs_assistant_d_steps_0412, logs_assistant_b_steps_0412, logs_assistant_bd_wa_0412, infassistant_rmdvlv_steps_0418, infassistant_rmdvbv_steps_0418, infassistant_rmeld_steps_0418, infassistant_warmeldrmdvbv_step141_0418, infassistant_warmeldrmdvbv_step191_0418\n",
    "from llamaassistantkl2s1000 import infassistant_warmeldrmdvbv_step141_0418_1000"
   ]
  },
  {
   "cell_type": "code",
   "execution_count": 11,
   "metadata": {},
   "outputs": [],
   "source": [
    "modules_assistant_kl2 = [\n",
    "    infassistant_rmdvbv_steps_0418,\n",
    "    infassistant_rmdvlv_steps_0418, infassistant_rmeld_steps_0418,\n",
    "    EmptyModule(), infassistant_warmeldrmdvbv_step141_0418,\n",
    "    infassistant_warmeldrmdvbv_step191_0418\n",
    "    \n",
    "]\n",
    "modules_assistant_kl2_1000 = [\n",
    "    infassistant_warmeldrmdvbv_step141_0418_1000\n",
    "]\n",
    "for modules in [modules_assistant_kl2]:\n",
    "    for module in modules:\n",
    "        if isinstance(module, EmptyModule):\n",
    "            continue\n",
    "        module.l = []\n",
    "        if not hasattr(module, \"label\"):\n",
    "            module.label = \" \".join(re.split('_|\\.', os.path.split(module.__file__)[-1])[1:-1])\n",
    "        for key in module.d.keys():\n",
    "            new_d = {\"lambda\": key}\n",
    "            new_d[\"hfl\"] = module.d[key][0][\"LABEL_0\"]\n",
    "            new_d[\"hfb\"] = module.d[key][1][\"REWARD\"]\n",
    "            new_d[\"hfd\"] = module.d[key][2][\"REWARD\"]\n",
    "            if \"LABEL_0\" in module.d[key][3]:\n",
    "                new_d[\"hfbv\"] = module.d[key][3][\"LABEL_0\"]\n",
    "            else:\n",
    "                new_d[\"hfbv\"] = 0\n",
    "            module.l.append(new_d)\n",
    "infassistant_rmdvbv_steps_0418.l = [line for line in infassistant_rmdvbv_steps_0418.l if line[\"lambda\"] < 1 + 0.7416974169741697]\n",
    "infassistant_rmeld_steps_0418.l = [\n",
    "    line for line in infassistant_rmeld_steps_0418.l if line[\"lambda\"] < 1 + 0.7047970479704797\n",
    "]\n"
   ]
  },
  {
   "cell_type": "code",
   "execution_count": 21,
   "metadata": {},
   "outputs": [
    {
     "data": {
      "image/png": "[encoded data removed]",
      "text/plain": [
       "<Figure size 600x600 with 1 Axes>"
      ]
     },
     "metadata": {},
     "output_type": "display_data"
    }
   ],
   "source": [
    "fig_dr = plot_key_nlp(\n",
    "    [module.l for module in modules_assistant_kl2],\n",
    "    labels=[module.label for module in modules_assistant_kl2],\n",
    "    # colors=[\"red\", \"pink\", \"blue\", \"yellow\", \"purple\", \"green\"],\n",
    "    key_x=\"hfbv\",\n",
    "    key_y=\"hfd\",\n",
    "    list_indexes=[0, 2, 4, 5],\n",
    "    loc=\"lower right\",\n",
    "    order=\"connect\",\n",
    "    # keysize=\"lambda\",\n",
    "    fontsize=\"x-small\",\n",
    "    do_annotate=False,\n",
    "    # connect_endpoints=True\n",
    ")\n",
    "# plot.save_fig(fig=fig_dr, name=\"nlp/pareto_assistant_kl2.pdf\", do_save=do_save)"
   ]
  },
  {
   "cell_type": "code",
   "execution_count": null,
   "metadata": {},
   "outputs": [],
   "source": [
    "fig_dr = plot_key_nlp(\n",
    "    [module.l for module in modules_bd],\n",
    "    labels=[module.label for module in modules_bd],\n",
    "    key_x=\"hfb\",\n",
    "    key_y=\"hfd\",\n",
    "    loc=\"upper left\",\n",
    "    order=\"connect\",\n",
    "    do_annotate=False\n",
    ")\n",
    "# plot.save_fig(fig=fig_dr, name=\"nlp/pareto_assistant_kl2.pdf\", do_save=do_save)"
   ]
  },
  {
   "cell_type": "code",
   "execution_count": null,
   "metadata": {},
   "outputs": [],
   "source": [
    "# Llama assistant with kL"
   ]
  },
  {
   "cell_type": "code",
   "execution_count": null,
   "metadata": {},
   "outputs": [],
   "source": [
    "os.listdir(\"/data/rame/logs_experiments_notebook/nlp/llamaassistant/\")"
   ]
  },
  {
   "cell_type": "code",
   "execution_count": null,
   "metadata": {},
   "outputs": [],
   "source": [
    "from llamaassistant import logs_assistant_d_kl_steps, logs_assistant_d_kl_steps, logs_assistant_d_steps, logs_assistant_bd_wa, logs_assistant_wainittodkl, logs_assistant_bkl_steps_0406, logs_assistant_multikl_steps_0406, logs_assistant_wainittobkl_0406, logs_assistant_wabkltodkl_0410, logs_assistantsteps_hfb_kl005_fmulti_normallr, logs_assistantsteps_hfb_kl005_fmulti, logs_assistantsteps_hfd_kl005_fmulti_normallr, logs_assistantsteps_hfd_kl005_fmulti, logs_assistant_bkl_steps_jz, infassistant_rmdvbv_steps_0416, infassistant_bkl_frommultiklv3_steps_0406, infassistant_warmeld181rmdvlv231_0416, infassistant_warmeld221rmdvlv141_0416, infassistant_warmeld221rmdvbv161_0416, infassistant_warmeld81rmdvlv91_0416, infassistant_warmeld81rmdvbv161_0416,\n",
    "from llamaassistant import logs_assistant_bkl_steps_0406, logs_assistant_d_kl_steps, logs_assistant_wainittodkl, logs_assistant_multikl_steps_0406, logs_assistant_bkl_steps_jz, logs_assistant_rmdvlv_steps_0416, logs_assistant_dkl_steps_0416"
   ]
  },
  {
   "cell_type": "code",
   "execution_count": null,
   "metadata": {},
   "outputs": [],
   "source": [
    "for key in logs_assistant_d_kl_steps.d.keys():\n",
    "    assert key in logs_assistant_dkl_steps_0416.d\n",
    "    logs_assistant_d_kl_steps.d[key] = [\n",
    "        logs_assistant_d_kl_steps.d[key][0], logs_assistant_d_kl_steps.d[key][1],\n",
    "        logs_assistant_d_kl_steps.d[key][2], logs_assistant_dkl_steps_0416.d[key][1],\n",
    "        logs_assistant_dkl_steps_0416.d[key][0]\n",
    "    ]\n",
    "modules_xx = [logs_assistant_d_kl_steps]\n",
    "modules_multi = [logs_assistant_multikl_steps_0406, infassistant_bkl_frommultiklv3_steps_0406]\n",
    "\n",
    "\n",
    "\n",
    "\n",
    "\n",
    "modules_lvd = [\n",
    "    logs_assistant_rmdvlv_steps_0416,\n",
    "    EmptyModule(),\n",
    "    logs_assistant_d_kl_steps,\n",
    "    EmptyModule(),\n",
    "    infassistant_warmeld81rmdvlv91_0416, infassistant_warmeld221rmdvlv141_0416]\n",
    "# infassistant_warmeld181rmdvlv231_0416\n",
    "\n",
    "modules_bvd = [\n",
    "    infassistant_rmdvbv_steps_0416,\n",
    "    EmptyModule(),\n",
    "    logs_assistant_d_kl_steps,\n",
    "    EmptyModule(),\n",
    "    infassistant_warmeld221rmdvbv161_0416,\n",
    "    infassistant_warmeld81rmdvbv161_0416\n",
    "]\n",
    "\n",
    "modules_bd = [\n",
    "    # logs_assistant_bkl_steps_0406,\n",
    "    logs_assistant_b_steps,\n",
    "        EmptyModule(),\n",
    "    # logs_assistant_d_kl_steps,\n",
    "    logs_assistant_d_steps,\n",
    "        EmptyModule(),\n",
    "    logs_assistant_multikl_steps_0406,\n",
    "    EmptyModule()\n",
    "]\n",
    "for modules in [modules_multi, modules_xx, modules_bd, modules_bvd, modules_lvd]:\n",
    "    for module in modules:\n",
    "        if isinstance(module, EmptyModule):\n",
    "            continue\n",
    "        module.l = []\n",
    "        if not hasattr(module, \"label\"):\n",
    "            module.label = \" \".join(re.split('_|\\.', os.path.split(module.__file__)[-1])[1:-1])\n",
    "        for key in module.d.keys():\n",
    "            if True:\n",
    "                new_d = {\"lambda\": key}\n",
    "                new_d[\"hfl\"] = module.d[key][0][\"LABEL_0\"]\n",
    "                new_d[\"hfb\"] = module.d[key][1][\"REWARD\"]\n",
    "                new_d[\"hfd\"] = module.d[key][2][\"REWARD\"]\n",
    "                if \"LABEL_0\" in module.d[key][3]:\n",
    "                    new_d[\"hfbv\"] = module.d[key][3][\"LABEL_0\"]\n",
    "                else:\n",
    "                    new_d[\"hfbv\"] = 0\n",
    "                if len(module.d[key]) > 4 and \"LABEL_0\" in module.d[key][4]:\n",
    "                    new_d[\"dvxr\"] = module.d[key][4][\"LABEL_0\"]\n",
    "                module.l.append(new_d)\n",
    "\n",
    "# logs_assistant_d_kl_steps.l = [line for line in logs_assistant_d_kl_steps.l if line[\"lambda\"] < 0.2834890965732087]\n",
    "# logs_assistant_rmdvlv_steps_0416.l = [line for line in logs_assistant_rmdvlv_steps_0416.l if line[\"lambda\"] < 1 + 0.578544061302682]\n",
    "# infassistant_rmdvbv_steps_0416.l = [line for line in infassistant_rmdvbv_steps_0416.l if line[\"lambda\"] < 0.5166163141993958]\n"
   ]
  },
  {
   "cell_type": "code",
   "execution_count": null,
   "metadata": {},
   "outputs": [],
   "source": [
    "fig_dr = plot_key_nlp(\n",
    "    [module.l for module in modules_bvd],\n",
    "    key_x=\"hfbv\",\n",
    "    key_y=\"hfd\",\n",
    "    loc=\"upper left\",\n",
    "    # order=\"connect\",\n",
    "    do_annotate=False\n",
    ")\n",
    "plot.save_fig(fig=fig_dr, name=\"nlp/pareto_assistant_bvtod.pdf\", do_save=do_save)"
   ]
  },
  {
   "cell_type": "code",
   "execution_count": null,
   "metadata": {},
   "outputs": [],
   "source": [
    "fig_dr = plot_key_nlp(\n",
    "    [module.l for module in modules_lvd],\n",
    "    key_x=\"hfl\",\n",
    "    key_y=\"hfb\",\n",
    "    loc=\"upper left\",\n",
    "    # order=\"connect\",\n",
    "    do_annotate=False\n",
    ")\n",
    "plot.save_fig(fig=fig_dr, name=\"nlp/pareto_assistant_lvtod.pdf\", do_save=do_save)"
   ]
  },
  {
   "cell_type": "code",
   "execution_count": null,
   "metadata": {},
   "outputs": [],
   "source": [
    "fig_dr = plot_key_nlp(\n",
    "    [module.l for module in modules_bd],\n",
    "    labels=[module.label for module in modules_bd],\n",
    "    key_x=\"hfb\",\n",
    "    key_y=\"hfd\",\n",
    "    loc=\"upper left\",\n",
    "    order=\"connect\",\n",
    "    do_annotate=False\n",
    ")\n",
    "plot.save_fig(fig=fig_dr, name=\"nlp/pareto_assistant_btod.pdf\", do_save=do_save)"
   ]
  },
  {
   "cell_type": "code",
   "execution_count": null,
   "metadata": {},
   "outputs": [],
   "source": [
    "fig_dr = plot_key_nlp(\n",
    "    [module.l for module in modules_xx],\n",
    "    labels=[module.label for module in modules_xx],\n",
    "    key_x=\"dvxr\",\n",
    "    key_y=\"hfbv\",\n",
    "    loc=\"upper left\",\n",
    "    do_annotate=False\n",
    ")"
   ]
  },
  {
   "cell_type": "code",
   "execution_count": null,
   "metadata": {},
   "outputs": [],
   "source": [
    "fig_dr = plot_key_nlp(\n",
    "    [module.l for module in modules_multi],\n",
    "    labels=[module.label for module in modules_multi],\n",
    "    colors=[\"purple\", \"blue\"],\n",
    "    key_x=\"hfb\",\n",
    "    key_y=\"hfd\",\n",
    "    # loc=\"upper left\",\n",
    "    do_annotate=False\n",
    ")"
   ]
  },
  {
   "cell_type": "markdown",
   "metadata": {},
   "source": [
    "# Llama Summary news"
   ]
  },
  {
   "cell_type": "code",
   "execution_count": null,
   "metadata": {},
   "outputs": [],
   "source": [
    "from llamasummarynews import  logs_summarynew_alpaca_tristan, logs_summarynew_alpaca_cog, logs_summarynew_tristan_steps, logs_summarynew_cog_steps, logs_summarynew_tristan_cog, logs_summarynew_multi, logs_snew_multi_cog, logs_snew_multi_tristan"
   ]
  },
  {
   "cell_type": "code",
   "execution_count": null,
   "metadata": {},
   "outputs": [],
   "source": [
    "modules_summary_news = [\n",
    "    logs_summarynew_tristan_steps, logs_summarynew_alpaca_tristan, logs_summarynew_cog_steps,\n",
    "    logs_summarynew_alpaca_cog, logs_summarynew_multi, logs_summarynew_tristan_cog,\n",
    "]\n",
    "\n",
    "modules_summary_new_all = [logs_snew_multi_cog, logs_snew_multi_tristan]\n"
   ]
  },
  {
   "cell_type": "code",
   "execution_count": null,
   "metadata": {},
   "outputs": [],
   "source": [
    "for modules in [modules_summary_news]:\n",
    "    for module in modules:\n",
    "        module.l = []\n",
    "        if not hasattr(module, \"label\")or True:\n",
    "            module.label = \" \".join(re.split('_|\\.', os.path.split(module.__file__)[-1])[2:-1])\n",
    "        for key in module.d.keys():\n",
    "            if True:\n",
    "                new_d = {\"lambda\": key}\n",
    "                new_d[\"tristan\"] = module.d[key][0][\"LABEL_0\"]\n",
    "                new_d[\"cogd\"] = module.d[key][1][\"FAITHFUL\"] - module.d[key][1][\"HALLUCINATED\"]\n",
    "                new_d[\"cogfaithful\"] = module.d[key][1][\"FAITHFUL\"]\n",
    "                module.l.append(new_d)\n",
    "logs_summarynew_tristan_steps.l = [line for line in logs_summarynew_tristan_steps.l if line[\"lambda\"] <= 0.6273291925465838]"
   ]
  },
  {
   "cell_type": "code",
   "execution_count": null,
   "metadata": {},
   "outputs": [],
   "source": [
    "fig_dr = plot_scatter_nlp(\n",
    "    modules_summary_news[5].l,\n",
    "    keys_y=[\"norm|tristan\", \"norm|cogd\", \"norm|cogfaithful\"],\n",
    ")"
   ]
  },
  {
   "cell_type": "code",
   "execution_count": null,
   "metadata": {},
   "outputs": [],
   "source": [
    "fig_dr = plot_key_nlp(\n",
    "    [module.l for module in modules_summary_news],\n",
    "    key_x=\"tristan\",\n",
    "    key_y=\"cogd\",\n",
    "    loc=\"upper right\",\n",
    "    # legendtitle=\"Strategies:\",\n",
    "    dict_annotation_to_loc={\n",
    "        \"pt\": (1.15, -1.8),\n",
    "        \"0\": (1.96, -1.6),\n",
    "        \"1\": (1.05, -0.7),\n",
    "        \"lambda\": (1.35, -1.25),\n",
    "        \"01\": (1.0, -1.2),\n",
    "    },\n",
    "    _dict_key_to_limit={\n",
    "        \"cogd\": [-1.85, -0.65],\n",
    "        \"tristan\": [0.85, 2.]\n",
    "    }\n",
    ")\n",
    "plot.save_fig(fig=fig_dr, name=\"nlp/pareto_summarynews_tristantocogd_main.pdf\", do_save=do_save)"
   ]
  },
  {
   "cell_type": "code",
   "execution_count": null,
   "metadata": {},
   "outputs": [],
   "source": []
  },
  {
   "cell_type": "code",
   "execution_count": null,
   "metadata": {},
   "outputs": [],
   "source": [
    "fig_dr = plot_key_nlp(\n",
    "    [module.l for module in modules_summary_news],\n",
    "    key_x=\"tristan\",\n",
    "    key_y=\"cogd\",\n",
    "    # loc=\"upper right\",\n",
    "    # fontsize=\"medium\",\n",
    "    dict_annotation_to_loc={\n",
    "        \"pt\": (1.15, -1.8),\n",
    "        \"0\": (1.7, -1.83),\n",
    "        \"1\": (1., -0.78),\n",
    "        \"01\": (1.35, -0.95),\n",
    "    },\n",
    ")\n",
    "plot.save_fig(fig=fig_dr, name=\"nlp/pareto_summarynews_tristantocogd.pdf\", do_save=do_save)"
   ]
  },
  {
   "attachments": {},
   "cell_type": "markdown",
   "metadata": {},
   "source": [
    "# Llama Summary"
   ]
  },
  {
   "cell_type": "code",
   "execution_count": null,
   "metadata": {},
   "outputs": [],
   "source": [
    "from llamasummary import logs_tristan_cog_step20_v0, logs_tristan_cog_step40_kl005, logs_tristan_cog_step40, logs_tristan_cog_step30, logs_tristan_cog_step40_v0, logs_cogsoups_step40, logs_alpaca_cogsoups_step40, logs_alpaca_cog, logs_alpaca_cog_kl005, logs_tristan_cog_stepend, logs_alpaca_tristan_kl005, logs_multi_step40_200_kl005, logs_multitask_tristan_190_200, logs_multitask_cog_190_200, logs_cog_steps_200, logs_tristan_steps_200"
   ]
  },
  {
   "cell_type": "code",
   "execution_count": null,
   "metadata": {},
   "outputs": [],
   "source": [
    "modules_summary = [\n",
    "    logs_tristan_steps_200,\n",
    "    logs_alpaca_tristan_kl005,\n",
    "    logs_cog_steps_200,\n",
    "    logs_alpaca_cog_kl005,\n",
    "    logs_multi_step40_200_kl005,\n",
    "    logs_tristan_cog_step40_kl005]\n",
    "modules_summary_all = [\n",
    "    logs_multitask_tristan_190_200,\n",
    "    logs_multitask_cog_190_200\n",
    "]\n"
   ]
  },
  {
   "cell_type": "code",
   "execution_count": null,
   "metadata": {},
   "outputs": [],
   "source": [
    "for modules in [modules_summary]:\n",
    "    for module in modules:\n",
    "        module.l = []\n",
    "        if not hasattr(module, \"label\"):\n",
    "            module.label = \" \".join(re.split('_|\\.', os.path.split(module.__file__)[-1])[1:-1])\n",
    "        for key in module.d.keys():\n",
    "            if True:\n",
    "                new_d = {\"lambda\": key}\n",
    "                new_d[\"tristan\"] = module.d[key][0][\"LABEL_0\"]\n",
    "                new_d[\"cogd\"] = module.d[key][1][\"FAITHFUL\"] - module.d[key][1][\"HALLUCINATED\"]\n",
    "                new_d[\"cogfaithful\"] = module.d[key][1][\"FAITHFUL\"]\n",
    "                module.l.append(new_d)"
   ]
  },
  {
   "cell_type": "code",
   "execution_count": null,
   "metadata": {},
   "outputs": [],
   "source": [
    "fig_dr = plot_key_nlp(\n",
    "    [module.l for module in modules_summary],\n",
    "    key_x=\"tristan\",\n",
    "    key_y=\"cogd\",\n",
    "    dict_annotation_to_loc={\n",
    "        \"pt\": (0.5, -0.18),\n",
    "        \"0\": (1.1, -0.32),\n",
    "        \"1\": (0., 0.2),\n",
    "        \"lambda\": (0.8, 0.24),\n",
    "        \"01\": (0.4, 0.37),\n",
    "    },\n",
    ")\n",
    "plot.save_fig(fig=fig_dr, name=\"nlp/pareto_summary_tristantocogd.pdf\", do_save=do_save)"
   ]
  },
  {
   "cell_type": "code",
   "execution_count": null,
   "metadata": {},
   "outputs": [],
   "source": [
    "fig_dr = plot_scatter_nlp(\n",
    "    modules_summary[5].l,\n",
    "    keys_y=[\"norm|tristan\", \"norm|cogd\", \"norm|cogfaithful\"],\n",
    ")"
   ]
  },
  {
   "attachments": {},
   "cell_type": "markdown",
   "metadata": {},
   "source": [
    "# LLAMA Review"
   ]
  },
  {
   "cell_type": "code",
   "execution_count": null,
   "metadata": {},
   "outputs": [],
   "source": [
    "from llamareview import logs_alpaca_hfb_steps, logs_alpaca_hfb_step190, logs_hfd_steps, logs_alpaca_hfd_step190, logs_multihf, logs_hfb_hfd_step180, logs_hfb_hfd_step190_200, logs_multitask_hfb, logs_multitask_hfd\n"
   ]
  },
  {
   "cell_type": "code",
   "execution_count": null,
   "metadata": {},
   "outputs": [],
   "source": [
    "modules_hfb_hfd_200 = [\n",
    "    logs_alpaca_hfb_steps,\n",
    "    logs_alpaca_hfb_step190,\n",
    "    logs_hfd_steps,\n",
    "    logs_alpaca_hfd_step190,\n",
    "    logs_multihf,\n",
    "    # logs_hfb_hfd_step190_200,\n",
    "    logs_hfb_hfd_step180, \n",
    "]\n",
    "\n",
    "modules_review_all = [\n",
    "    logs_multitask_hfb,\n",
    "    logs_multitask_hfd,   \n",
    "]\n"
   ]
  },
  {
   "cell_type": "code",
   "execution_count": null,
   "metadata": {},
   "outputs": [],
   "source": [
    "for modules in [\n",
    "    modules_hfb_hfd_200\n",
    "]:\n",
    "    for module in modules:\n",
    "        module.l = []\n",
    "        if not hasattr(module, \"label\"):\n",
    "            module.label = \" \".join(re.split('_|\\.', os.path.split(module.__file__)[-1])[1:-1])\n",
    "        for key in module.d.keys():\n",
    "            if True:\n",
    "                new_d = {\"lambda\": key}\n",
    "                new_d[\"pos0\"] = module.d[key][0][\"POSITIVE\"]\n",
    "                new_d[\"posd0\"] = module.d[key][0][\"POSITIVE\"] - module.d[key][0][\"NEGATIVE\"]\n",
    "                new_d[\"pos1\"] = module.d[key][1][\"POSITIVE\"]\n",
    "                new_d[\"posd1\"] = module.d[key][1][\"POSITIVE\"] - module.d[key][1][\"NEGATIVE\"]\n",
    "                new_d[\"toxic\"] = module.d[key][2][\"toxic\"]\n",
    "                new_d[\"nontoxic\"] = module.d[key][2][\"non-toxic\"] - module.d[key][2][\"toxic\"]\n",
    "                new_d[\"quality\"] = module.d[key][3][\"good\"]\n",
    "                new_d[\"quality1\"] = module.d[key][3][\"medium\"]\n",
    "                new_d[\"qualityd\"] = module.d[key][3][\"good\"] - module.d[key][3][\"bad\"]\n",
    "                new_d[\"hfl\"] = module.d[key][4][\"LABEL_0\"]\n",
    "                new_d[\"hfb\"] = module.d[key][5][\"REWARD\"]\n",
    "                new_d[\"hfd\"] = module.d[key][6][\"REWARD\"]\n",
    "                new_d[\"hfg\"] = module.d[key][7][\"LABEL_0\"]\n",
    "                if len(module.d[key]) >= 9:\n",
    "                    new_d[\"toxicnew\"] = module.d[key][8][\"toxic\"]\n",
    "                module.l.append(new_d)"
   ]
  },
  {
   "cell_type": "code",
   "execution_count": null,
   "metadata": {},
   "outputs": [],
   "source": [
    "fig_dr = plot_key_nlp(\n",
    "    [module.l for module in modules_hfb_hfd_200], key_x=\"hfb\", key_y=\"hfd\", dict_annotation_to_loc={\n",
    "        \"pt\": (0.5, -0.8), \"0\": (2.5, -0.2), \"1\": (0.8, 1.7),\n",
    "        \"lambda\": (2.5, 1.0),\n",
    "        \"01\": (2.1, 1.5)\n",
    "        },\n",
    ")\n",
    "plot.save_fig(fig=fig_dr, name=\"nlp/pareto_review_hfbtohfd.pdf\", do_save=do_save)"
   ]
  },
  {
   "cell_type": "code",
   "execution_count": null,
   "metadata": {},
   "outputs": [],
   "source": [
    "fig_dr = plot_scatter_nlp(\n",
    "    modules_hfb_hfd_200[5].l,\n",
    "    keys_y=[\"norm|hfb\", \"norm|hfd\", \"norm|hfl\", \"norm|hfg\"],\n",
    ")"
   ]
  },
  {
   "cell_type": "code",
   "execution_count": null,
   "metadata": {},
   "outputs": [],
   "source": []
  },
  {
   "cell_type": "markdown",
   "metadata": {},
   "source": [
    "# Backup"
   ]
  },
  {
   "cell_type": "code",
   "execution_count": null,
   "metadata": {},
   "outputs": [],
   "source": [
    "from llamahf32 import logs_hfb_hfd_step190, logs_hfb_hfd_step10, logs_hfb_hfd_step70, logs_quality2_pos_step140, logs_hfb_hfd_step120, logs_hfb_hfd_step20, logs_hfb_hfd_step170, logs_alpaca_hfb_noref_step90, logs_quality2_hfb_step10, logs_alpaca_hfd_noref_step90, logs_hfb_hfd_noref_step90, logs_quality2_pos_step60, logs_rl_merged_lora8, logs_hfb_hfd_step170_200, logs_hfb_hfd_step170_200_fixed, logs_hfb_hfd_step190_200_fixed, logs_toxic_quality_step40, logs_toxic_quality_step90_200, logs_alpaca_toxic_quality_step90_200, logs_toxic_step90, logs_pos_step90, logs_toxic_step190, logs_toxic_hfb_step190\n",
    "\n",
    "modules = [\n",
    "    logs_hfb_hfd_noref_step90, logs_alpaca_hfb_noref_step90, logs_alpaca_hfd_noref_step90,\n",
    "    logs_quality2_hfb_step10\n",
    "]\n",
    "\n",
    "modules_toxic = [logs_toxic_hfb_step190, logs_toxic_step90, logs_toxic_step190]\n",
    "modules_pos = [logs_pos_step90]\n",
    "modules_quality2_pos = [\n",
    "    logs_alpaca_toxic_quality_step90_200, logs_toxic_quality_step90_200, logs_toxic_quality_step40,\n",
    "    logs_quality2_pos_step60, logs_quality2_pos_step140\n",
    "]\n",
    "modules_hfb_hfd = [\n",
    "    logs_hfb_hfd_step10,\n",
    "    logs_rl_merged_lora8,\n",
    "    logs_hfb_hfd_step20,\n",
    "    logs_hfb_hfd_step70,\n",
    "    logs_hfb_hfd_step120,\n",
    "    logs_hfb_hfd_step170,\n",
    "    logs_hfb_hfd_step190,\n",
    "    logs_hfb_hfd_step170_200_fixed,\n",
    "    logs_hfb_hfd_step190_200_fixed,\n",
    "    logs_hfb_hfd_step170_200,\n",
    "]"
   ]
  },
  {
   "cell_type": "code",
   "execution_count": null,
   "metadata": {},
   "outputs": [],
   "source": [
    "for modules in [\n",
    "    modules_quality2_pos, modules_toxic, modules_pos, modules_hfb_hfd\n",
    "]:\n",
    "    for module in modules:\n",
    "        module.l = []\n",
    "        if not hasattr(module, \"label\"):\n",
    "            module.label = \" \".join(re.split('_|\\.', os.path.split(module.__file__)[-1])[1:-1])\n",
    "        for key in module.d.keys():\n",
    "            if True:\n",
    "                new_d = {\"lambda\": key}\n",
    "                new_d[\"pos0\"] = module.d[key][0][\"POSITIVE\"]\n",
    "                new_d[\"posd0\"] = module.d[key][0][\"POSITIVE\"] - module.d[key][0][\"NEGATIVE\"]\n",
    "                new_d[\"pos1\"] = module.d[key][1][\"POSITIVE\"]\n",
    "                new_d[\"posd1\"] = module.d[key][1][\"POSITIVE\"] - module.d[key][1][\"NEGATIVE\"]\n",
    "                new_d[\"toxic\"] = module.d[key][2][\"toxic\"]\n",
    "                new_d[\"nontoxic\"] = module.d[key][2][\"non-toxic\"] - module.d[key][2][\"toxic\"]\n",
    "                new_d[\"quality\"] = module.d[key][3][\"good\"]\n",
    "                new_d[\"quality1\"] = module.d[key][3][\"medium\"]\n",
    "                new_d[\"qualityd\"] = module.d[key][3][\"good\"] - module.d[key][3][\"bad\"]\n",
    "                new_d[\"hfl\"] = module.d[key][4][\"LABEL_0\"]\n",
    "                new_d[\"hfb\"] = module.d[key][5][\"REWARD\"]\n",
    "                new_d[\"hfd\"] = module.d[key][6][\"REWARD\"]\n",
    "                new_d[\"hfg\"] = module.d[key][7][\"LABEL_0\"]\n",
    "                if len(module.d[key]) >= 9:\n",
    "                    new_d[\"toxicnew\"] = module.d[key][8][\"toxic\"]\n",
    "                module.l.append(new_d)"
   ]
  },
  {
   "cell_type": "code",
   "execution_count": null,
   "metadata": {},
   "outputs": [],
   "source": [
    "fig_dr = plot.plot_key(\n",
    "    [module.l for module in modules_hfb_hfd],\n",
    "    #list_indexes = [-1],\n",
    "    key_x=\"hfb\",\n",
    "    key_y=\"hfd\",\n",
    "    labels=[module.label for module in modules_hfb_hfd],\n",
    "    loc=\"lower left\",\n",
    "    # keycolor=\"abs|lambda-0.5\",\n",
    "    #keysize=\"hfl\",\n",
    "    colormaps=colormaps,\n",
    "    linestyles=[\"solid\" for i, _ in enumerate(modules_hfb_hfd)],\n",
    "    connect_points=True,\n",
    "    connect_endpoints=False,\n",
    "    order=2,\n",
    ")"
   ]
  },
  {
   "cell_type": "code",
   "execution_count": null,
   "metadata": {},
   "outputs": [],
   "source": [
    "fig_dr = plot.plot_key(\n",
    "    [module.l for module in modules_pos],\n",
    "    key_x=\"pos0\",\n",
    "    key_y=\"pos1\",\n",
    "    labels=[module.label for module in modules_pos],\n",
    "    loc=\"lower left\",\n",
    "    colormaps=colormaps,\n",
    "    linestyles=[\"solid\" if i % 2 else \"dashed\" for i, _ in enumerate(modules_pos)],\n",
    "    connect_points=True,\n",
    "    order=2,\n",
    ")"
   ]
  },
  {
   "cell_type": "code",
   "execution_count": null,
   "metadata": {},
   "outputs": [],
   "source": [
    "fig_dr = plot.plot_key(\n",
    "    [module.l for module in modules_toxic],\n",
    "    key_x=\"-toxic\",\n",
    "    key_y=\"hfb\",\n",
    "    labels=[module.label for module in modules_toxic],\n",
    "    loc=\"lower left\",\n",
    "    # keycolor=\"abs|lambda-0.5\",\n",
    "    #keysize=\"hfl\",\n",
    "    colormaps=colormaps,\n",
    "    linestyles=[\"solid\" if i % 2 else \"dashed\" for i, _ in enumerate(modules_toxic)],\n",
    "    connect_points=True,\n",
    "    order=2,\n",
    ")"
   ]
  },
  {
   "cell_type": "code",
   "execution_count": null,
   "metadata": {},
   "outputs": [],
   "source": [
    "fig_dr = plot.plot_key(\n",
    "    [module.l for module in modules_quality2_pos],\n",
    "    key_x=\"nontoxic\",\n",
    "    key_y=\"qualityd\",\n",
    "    labels=[module.label for module in modules_quality2_pos],\n",
    "    loc=\"lower left\",\n",
    "    # keycolor=\"abs|lambda-0.5\",\n",
    "    #keysize=\"hfl\",\n",
    "    colormaps=colormaps,\n",
    "    linestyles=[\"solid\" if i % 2 else \"dashed\" for i, _ in enumerate(modules_quality2_pos)],\n",
    "    connect_points=True,\n",
    "    order=2,\n",
    ")"
   ]
  },
  {
   "cell_type": "code",
   "execution_count": null,
   "metadata": {},
   "outputs": [],
   "source": [
    "modules_summary_debug = [\n",
    "    logs_tristan_cog_step40_kl005,\n",
    "    logs_tristan_cog_step40,\n",
    "    logs_tristan_cog_stepend,\n",
    "    logs_tristan_cog_step30,\n",
    "    logs_alpaca_cog,\n",
    "    logs_alpaca_cog_kl005,\n",
    "]\n",
    "modules_summary_soups = [logs_alpaca_cogsoups_step40, logs_cogsoups_step40]\n",
    "\n",
    "fig_dr = plot.plot_key(\n",
    "    [module.l for module in modules_summary_soups],\n",
    "    key_x=\"tristan\",\n",
    "    key_y=\"cogd\",\n",
    "    labels=[module.label for module in modules_summary_soups],\n",
    "    loc=\"lower left\",\n",
    "    # keycolor=\"abs|lambda-0.5\",\n",
    "    #keysize=\"hfl\",\n",
    "    colormaps=colormaps,\n",
    "    linestyles=[\"solid\" for i, _ in enumerate(modules_summary_soups)],\n",
    "    connect_points=True,\n",
    "    connect_endpoints=True,\n",
    "    order=2,\n",
    ")"
   ]
  },
  {
   "cell_type": "code",
   "execution_count": null,
   "metadata": {},
   "outputs": [],
   "source": [
    "keys_y = [\"hfb\", \"hfd\", \"hfl\", \"hfg\"]\n",
    "\n",
    "fig_dr = plot.plot_basic_scatter(\n",
    "    modules_hfb_hfd_200[5].l,\n",
    "    key_x=\"lambda\",\n",
    "    keys_y=[y for i, y in enumerate(keys_y) if i in [2] or True],\n",
    "    loc=\"lower right\",\n",
    "    # keycolor=\"abs|lambda-0.5\",\n",
    "    # keysize=\"hfl\",\n",
    "    colormaps=['Blues', \"Reds\", 'Greens', 'Purples', 'Greys'],\n",
    "    linestyles=['solid', 'solid', \"dotted\", 'dotted', 'dotted', \"dotted\", \"dotted\", \"dotted\"],\n",
    "    order=\"2\",\n",
    "    legendtitle=f\"Rewards for {modules_hfb_hfd_200[5].label}:\",\n",
    "    title=None\n",
    ")"
   ]
  },
  {
   "cell_type": "code",
   "execution_count": null,
   "metadata": {},
   "outputs": [],
   "source": [
    "do_save = True"
   ]
  },
  {
   "cell_type": "code",
   "execution_count": null,
   "metadata": {},
   "outputs": [],
   "source": []
  },
  {
   "cell_type": "markdown",
   "metadata": {},
   "source": [
    "# LLAMA HF"
   ]
  },
  {
   "cell_type": "code",
   "execution_count": null,
   "metadata": {},
   "outputs": [],
   "source": [
    "from llamahf import logs_rl_alpaca_hfd_hfb, logs_rl_alpaca_hfd_hfb5, logs_rl_alpaca_hfb_hfd, logs_rl_alpaca_hfb_hfd5, logs_rl_hfb_hfd, logs_rl_alpaca_hfb, logs_rl_alpaca_hfd"
   ]
  },
  {
   "cell_type": "code",
   "execution_count": null,
   "metadata": {},
   "outputs": [],
   "source": [
    "modules = [\n",
    "    logs_rl_alpaca_hfb_hfd, logs_rl_alpaca_hfb_hfd5, logs_rl_alpaca_hfd_hfb,\n",
    "    logs_rl_alpaca_hfd_hfb5, logs_rl_hfb_hfd, logs_rl_alpaca_hfb, logs_rl_alpaca_hfd\n",
    "]\n",
    "for module in modules:\n",
    "    module.l = []\n",
    "    for key in module.d.keys():\n",
    "        if True:\n",
    "            new_d = {\"lambda\": key}\n",
    "            new_d[\"pos0\"] = module.d[key][0][\"POSITIVE\"]\n",
    "            new_d[\"posd0\"] = module.d[key][0][\"POSITIVE\"] - module.d[key][0][\"NEGATIVE\"]\n",
    "            new_d[\"pos1\"] = module.d[key][1][\"POSITIVE\"]\n",
    "            new_d[\"posd1\"] = module.d[key][1][\"POSITIVE\"] - module.d[key][1][\"NEGATIVE\"]\n",
    "            new_d[\"toxic\"] = module.d[key][2][\"toxic\"]\n",
    "            new_d[\"toxicd\"] = module.d[key][2][\"toxic\"] - module.d[key][2][\"non-toxic\"]\n",
    "            new_d[\"quality\"] = module.d[key][3][\"good\"]\n",
    "            new_d[\"quality1\"] = module.d[key][3][\"medium\"]\n",
    "            new_d[\"qualityd\"] = module.d[key][3][\"good\"] - module.d[key][3][\"bad\"]\n",
    "            new_d[\"hfl\"] = module.d[key][4][\"LABEL_0\"]\n",
    "            new_d[\"hfb\"] = module.d[key][5][\"REWARD\"]\n",
    "            new_d[\"hfd\"] = module.d[key][6][\"REWARD\"]\n",
    "            module.l.append(new_d)"
   ]
  },
  {
   "cell_type": "code",
   "execution_count": null,
   "metadata": {},
   "outputs": [],
   "source": [
    "\n",
    "fig_dr = plot.plot_key(\n",
    "    [module.l for module in modules],\n",
    "    key_x=\"hfb\",\n",
    "    key_y=\"hfd\",\n",
    "    labels=[module.label for module in modules],\n",
    "    loc=\"lower left\",\n",
    "    # keycolor=\"abs|lambda-0.5\",\n",
    "    # keysize=\"hfl\",\n",
    "    colormaps=colormaps,\n",
    "    linestyles=[\"solid\" if i % 2 else \"dashed\" for i, _ in enumerate(modules)],\n",
    "    connect_points=True,\n",
    "    order=2,\n",
    ")"
   ]
  },
  {
   "cell_type": "markdown",
   "metadata": {},
   "source": [
    "# LLAMA"
   ]
  },
  {
   "cell_type": "code",
   "execution_count": null,
   "metadata": {},
   "outputs": [],
   "source": [
    "os.listdir(\"/data/rame/logs_experiments_notebook/llama\")"
   ]
  },
  {
   "cell_type": "code",
   "execution_count": null,
   "metadata": {},
   "outputs": [],
   "source": [
    "from llama import logs_rl_quality2_hf, logs_rl_posimdb_pos, logs_rl_hfl_quality2, logs_rl_hfl_hf, logs_rl_alpaca_posimdb, logs_rl_pos_hf, logs_rl_posimdb_quality2, logs_rl_alpaca_quality2, logs_rl_alpaca_hf, logs_rl_posimdb_hf, logs_rl_pos_quality2 "
   ]
  },
  {
   "cell_type": "code",
   "execution_count": null,
   "metadata": {},
   "outputs": [],
   "source": [
    "modules = [\n",
    "    logs_rl_alpaca_hf,\n",
    "    logs_rl_alpaca_posimdb,\n",
    "    logs_rl_posimdb_hf,\n",
    "    # logs_rl_posimdb_pos,\n",
    "    logs_rl_pos_hf,\n",
    "    logs_rl_pos_quality2,\n",
    "    logs_rl_quality2_hf,\n",
    "    logs_rl_posimdb_quality2,\n",
    "    # logs_rl_hfl_hf,\n",
    "    # logs_rl_hfl_quality2\n",
    "    logs_rl_alpaca_quality2,\n",
    "]\n",
    "for module in modules:\n",
    "    module.l = []\n",
    "    for key in sorted(module.d.keys()):\n",
    "        if 0 <= key <= 1:\n",
    "            new_d = {\"lambda\": key}\n",
    "            new_d[\"pos0\"] = module.d[key][0][\"POSITIVE\"]\n",
    "            new_d[\"posd0\"] = module.d[key][0][\"POSITIVE\"] - module.d[key][0][\"NEGATIVE\"]\n",
    "            new_d[\"pos1\"] = module.d[key][1][\"POSITIVE\"]\n",
    "            new_d[\"posd1\"] = module.d[key][1][\"POSITIVE\"] - module.d[key][1][\"NEGATIVE\"]\n",
    "            new_d[\"toxic\"] = module.d[key][2][\"toxic\"]\n",
    "            new_d[\"toxicd\"] = module.d[key][2][\"toxic\"] - module.d[key][2][\"non-toxic\"]\n",
    "            new_d[\"quality\"] = module.d[key][3][\"good\"]\n",
    "            new_d[\"quality1\"] = module.d[key][3][\"medium\"]\n",
    "            new_d[\"qualityd\"] = module.d[key][3][\"good\"] - module.d[key][3][\"bad\"]\n",
    "            new_d[\"hfl\"] = module.d[key][4][\"LABEL_0\"]\n",
    "            new_d[\"hfb\"] = module.d[key][5][\"REWARD\"]\n",
    "            module.l.append(new_d)"
   ]
  },
  {
   "cell_type": "code",
   "execution_count": null,
   "metadata": {},
   "outputs": [],
   "source": []
  },
  {
   "cell_type": "code",
   "execution_count": null,
   "metadata": {},
   "outputs": [],
   "source": [
    "plot.plt.rcParams[\"figure.figsize\"] = (7, 7)\n",
    "plot.SIZE_AXIS = \"small\"\n",
    "plot.SIZE = \"small\"\n",
    "fig_dr = plot.plot_key(\n",
    "    [module.l for module in modules],\n",
    "    list_indexes=range(4),\n",
    "    key_x=\"hfb\",\n",
    "    key_y=\"pos1\",\n",
    "    labels=[module.label for module in modules],\n",
    "    loc=\"lower left\",\n",
    "    # keycolor=\"abs|lambda-0.5\",\n",
    "    # keysize=\"lambda\",\n",
    "    colormaps=[\n",
    "        \"Reds\",\n",
    "        \"Purples\",\n",
    "        \"Greys\",\n",
    "        \"Oranges\",\n",
    "        \"Blues\",\n",
    "        \"Yellows\",\n",
    "        \"Greens\",\n",
    "        \"Reds\"\n",
    "    ],\n",
    "    linestyles=[\"solid\" if i % 2 else \"dashed\" for i, _ in enumerate(modules)],\n",
    "    connect_points=True,\n",
    "    order=2,\n",
    ")"
   ]
  },
  {
   "cell_type": "markdown",
   "metadata": {},
   "source": [
    "# NEOX"
   ]
  },
  {
   "cell_type": "code",
   "execution_count": null,
   "metadata": {},
   "outputs": [],
   "source": [
    "sys.path.append(\"/data/rame/logs_experiments_notebook/\")\n",
    "from gptneox import logs_posimdb_negimdb, logs_quality_negimdb, logs_toxic_neg, logs_rl_pos_vs_toxic, logs_rl_posimdb_vs_toxic0, logs_rl_pos_vs_quality2, logs_rl_toxic_vs_quality1, logs_rl_toxic_vs_quality2, logs_rl_posimdb_vs_toxic, logs_rl_pos_posimdb"
   ]
  },
  {
   "cell_type": "code",
   "execution_count": null,
   "metadata": {},
   "outputs": [],
   "source": [
    "modules = [\n",
    "    logs_posimdb_negimdb, logs_quality_negimdb, logs_rl_pos_vs_quality2, logs_rl_pos_posimdb,\n",
    "    # logs_toxic_neg,\n",
    "    # logs_rl_pos_vs_toxic,\n",
    "    # logs_rl_posimdb_vs_toxic0,\n",
    "    # logs_rl_toxic_vs_quality1,\n",
    "    # logs_rl_toxic_vs_quality2,\n",
    "    # logs_rl_posimdb_vs_toxic,\n",
    "]\n",
    "for module in modules:\n",
    "    module.l = []\n",
    "    for key in sorted(module.d.keys()):\n",
    "        if 0 <= key <= 1:\n",
    "            new_d = {\"lambda\": key}\n",
    "            new_d[\"pos0\"] = module.d[key][0][\"POSITIVE\"]\n",
    "            new_d[\"posd0\"] = module.d[key][0][\"POSITIVE\"] - module.d[key][0][\"NEGATIVE\"]\n",
    "            new_d[\"pos1\"] = module.d[key][1][\"POSITIVE\"]\n",
    "            new_d[\"posd1\"] = module.d[key][1][\"POSITIVE\"] - module.d[key][1][\"NEGATIVE\"]\n",
    "            new_d[\"toxic\"] = module.d[key][2][\"toxic\"]\n",
    "            new_d[\"toxicd\"] = module.d[key][2][\"toxic\"] - module.d[key][2][\"non-toxic\"]\n",
    "            new_d[\"quality\"] = module.d[key][3][\"good\"]\n",
    "            new_d[\"quality1\"] = module.d[key][3][\"medium\"]\n",
    "            new_d[\"qualityd\"] = module.d[key][3][\"good\"] - module.d[key][3][\"bad\"]\n",
    "            module.l.append(new_d)"
   ]
  },
  {
   "cell_type": "code",
   "execution_count": null,
   "metadata": {},
   "outputs": [],
   "source": [
    "plot.plt.rcParams[\"figure.figsize\"] = (7, 7)\n",
    "plot.SIZE_AXIS = \"small\"\n",
    "plot.SIZE = \"small\"\n",
    "fig_dr = plot.plot_key(\n",
    "    [module.l for module in modules],\n",
    "    key_x=\"posd0\",\n",
    "    key_y=\"quality\",\n",
    "    labels=[module.label for module in modules],\n",
    "    loc=\"lower left\",\n",
    "    # keycolor=\"lambda\",\n",
    "    # colormaps=[\n",
    "    #     \"Reds\",\n",
    "    #     \"Purples\",\n",
    "    #     \"Oranges\",\n",
    "    #     \"Greys\",\n",
    "    #     \"Blues\",\n",
    "    #     \"Yellows\",\n",
    "    #     \"Greens\",\n",
    "    # ],\n",
    "    linestyles=[\"solid\" for module in modules],\n",
    "    # linestyles=[ls if ls not in [] else None for ls in [\n",
    "    #     \"solid\",\n",
    "    #     \"dashed\",\n",
    "    #     \"solid\",\n",
    "    #     \"solid\",\n",
    "    # ]],\n",
    "    connect_points=True,\n",
    "    order=2,\n",
    ")"
   ]
  },
  {
   "cell_type": "markdown",
   "metadata": {},
   "source": [
    "# Backup"
   ]
  },
  {
   "cell_type": "code",
   "execution_count": null,
   "metadata": {},
   "outputs": [],
   "source": [
    "from llamastack import steps1_0406, wainitto1_0406, wa0to1_0406_step241, wa0to1_0406, wainitto0_0406, steps0_0406, multi01steps_0406, steps0_bs126_0411, steps0v2_0406\n",
    "\n",
    "modules_stack = [\n",
    "    steps0_bs126_0411, steps0_0406, steps0v2_0406, wainitto0_0406, steps1_0406, wainitto1_0406,\n",
    "    wa0to1_0406_step241, wa0to1_0406, multi01steps_0406\n",
    "]\n",
    "\n",
    "fig_dr = plot.plot_key(\n",
    "    [module.l for module in modules_stack],\n",
    "    key_x=\"gpt2\",\n",
    "    key_y=\"hfb\",\n",
    "    # list_indexes=[2],\n",
    "    labels=[module.label for module in modules_stack],\n",
    "    # loc=(1.05, 0),\n",
    "    loc=\"upper right\",\n",
    "    colormaps=[\"Purples\", \"Blues\", \"Blues\", \"Reds\", \"Reds\", \"Greens\", \"Greens\", \"Purples\", \"Greys\"],\n",
    "    linestyles=[\n",
    "        \"solid\", \"solid\", \"dashed\", \"solid\", \"dashed\", \"solid\", \"dotted\", \"dashdot\", \"dashdot\"\n",
    "    ],\n",
    "    connect_endpoints=False,\n",
    "    # order=\"connect\",\n",
    "    order=\"savgol_3_1_quadratic\",\n",
    ")\n",
    "plot.save_fig(fig=fig_dr, name=\"nlp/pareto_stack_gpt2tohfb.pdf\", do_save=do_save)"
   ]
  },
  {
   "cell_type": "code",
   "execution_count": null,
   "metadata": {},
   "outputs": [],
   "source": [
    "modules_assistant_nokl = [logs_assistant_d_steps, logs_assistant_b_steps, logs_assistant_bd_wa]\n",
    "modules_assistant_multi = [\n",
    "    logs_assistant_multikl_steps_0406, logs_assistantsteps_hfb_kl005_fmulti_normallr,\n",
    "    logs_assistantsteps_hfb_kl005_fmulti, logs_assistantsteps_hfd_kl005_fmulti_normallr,\n",
    "    logs_assistantsteps_hfd_kl005_fmulti\n",
    "]\n",
    "fig_dr = plot.plot_key(\n",
    "    [module.l for module in modules_assistant_nokl],\n",
    "    # list_indexes=[0,2,4,5],\n",
    "    key_x=\"hfb\",\n",
    "    key_y=\"hfd\",\n",
    "    labels=[module.label for module in modules_assistant_nokl],\n",
    "    loc=(1.05, 0),\n",
    "    colormaps=[\"Blues\", \"Reds\", \"Greens\"],\n",
    "    linestyles=[\"solid\", \"solid\", \"dotted\"],\n",
    "    connect_endpoints=False,\n",
    "    order=\"connect\",\n",
    "    # order=\"savgol_3_1_quadratic\",\n",
    ")\n",
    "fig_dr = plot.plot_key(\n",
    "    [module.l for module in modules_assistant_multi],\n",
    "    # list_indexes=[0,2,4,5],\n",
    "    key_x=\"hfb\",\n",
    "    key_y=\"hfd\",\n",
    "    labels=[module.label for module in modules_assistant_multi],\n",
    "    loc=(1.05, 0),\n",
    "    colormaps=[\"Greens\", \"Blues\", \"Blues\", \"Reds\", \"Reds\"],\n",
    "    linestyles=[\"dotted\", \"solid\", \"dashed\", \"solid\", \"dashed\"],\n",
    "    connect_endpoints=False,\n",
    "    order=\"connect\",\n",
    "    # order=\"savgol_3_1_quadratic\",\n",
    ")"
   ]
  }
 ],
 "metadata": {
  "kernelspec": {
   "display_name": "nlp",
   "language": "python",
   "name": "python3"
  },
  "language_info": {
   "codemirror_mode": {
    "name": "ipython",
    "version": 3
   },
   "file_extension": ".py",
   "mimetype": "text/x-python",
   "name": "python",
   "nbconvert_exporter": "python",
   "pygments_lexer": "ipython3",
   "version": "3.8.16"
  }
 },
 "nbformat": 4,
 "nbformat_minor": 2
}
