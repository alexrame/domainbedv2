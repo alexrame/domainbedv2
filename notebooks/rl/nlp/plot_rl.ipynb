{
 "cells": [
  {
   "cell_type": "code",
   "execution_count": 1,
   "metadata": {},
   "outputs": [],
   "source": [
    "%load_ext autoreload\n",
    "%autoreload 2\n",
    "import sys\n",
    "import collections\n",
    "import numpy as np\n",
    "import re\n",
    "import os\n",
    "# sys.path.append(\"/private/home/alexandrerame/domainbedv2/\")\n",
    "# sys.path.append(\"/private/home/alexandrerame/slurmconfig/notebook/data\")\n",
    "\n",
    "sys.path.append(\"/home/rame/domainbedv2/\")\n",
    "from domainbed.codeplot import plot\n",
    "plot.plt.style.use('default')\n",
    "sys.path.append(\"/data/rame/logs_experiments_notebook/nlp\")"
   ]
  },
  {
   "cell_type": "code",
   "execution_count": 2,
   "metadata": {},
   "outputs": [],
   "source": [
    "plot.dict_key_to_label.update(\n",
    "    {\n",
    "        \"pos1\": \"Review positivity\",\n",
    "        \"posimdb\": \"lvwerra/distilbert-imdb\",\n",
    "        \"pos\": \"distilbert-base-uncased-finetuned-sst-2-english\",\n",
    "        \"toxic\": \"martin-ha/toxic-comment-model\",\n",
    "        \"quality2\": \"valurank/distilbert-quality\",\n",
    "        # \"hfl\": \"OpenAssistant/reward-model-deberta-v3-large-v2\",\n",
    "        # \"hfb\":  r\"$HF_1$ (deberta)\",\n",
    "        # \"hfd\": r\"$HF_2$ (electra)\",\n",
    "        # \"hfg\": \"sugam11/gpt2-rlhf-reward\",\n",
    "        # \"cogd\": r\"$HF_2$ (bart)\",\n",
    "        # \"tristan\": r\"$HF_1$ (gpt2)\",\n",
    "    }\n",
    ")\n",
    "# plot.plt.rcParams[\"figure.figsize\"] = (7, 7)\n",
    "# plot.SIZE_AXIS = \"small\"\n",
    "# plot.SIZE = \"small\"\n",
    "plot.plt.rcParams[\"figure.figsize\"] = (6, 6)\n",
    "SIZE=\"large\"\n",
    "SIZE_AXIS=\"xx-large\"\n",
    "\n",
    "\n",
    "colormaps = [\n",
    "    \"Reds\", \"Blues\", \"Greens\", \"Oranges\", \"Greys\", \"Purples\", \"Reds\", \"Blues\", \"Greens\", \"Oranges\",\n",
    "    \"Greys\", \"Purples\",\n",
    "\"Yellows\",\n",
    "\"Light_Yellows\",\n",
    "\"Dark_Blues\",\n",
    "\"Blues_Greys\",\n",
    "\"Dark_Greys\",\n",
    "] * 2\n",
    "do_save = True\n"
   ]
  },
  {
   "cell_type": "code",
   "execution_count": 3,
   "metadata": {},
   "outputs": [],
   "source": [
    "# llama stack"
   ]
  },
  {
   "cell_type": "code",
   "execution_count": null,
   "metadata": {},
   "outputs": [],
   "source": [
    "os.listdir(\"/data/rame/logs_experiments_notebook/nlp/llamastacku/\")"
   ]
  },
  {
   "cell_type": "code",
   "execution_count": null,
   "metadata": {},
   "outputs": [],
   "source": [
    "from llamastacku import infstacku_rmeld_0414, infstacku_rmdvb_0414\n",
    "\n",
    "modules_stacku = [infstacku_rmeld_0414, infstacku_rmdvb_0414]"
   ]
  },
  {
   "cell_type": "code",
   "execution_count": null,
   "metadata": {},
   "outputs": [],
   "source": [
    "for modules in [modules_stacku]:\n",
    "    for module in modules:\n",
    "        module.l = []\n",
    "        if not hasattr(module, \"label\"):\n",
    "            module.label = \" \".join(re.split('_|\\.', os.path.split(module.__file__)[-1])[0:-1])\n",
    "        for key in module.d.keys():\n",
    "            if True:\n",
    "                new_d = {\"lambda\": key}\n",
    "                new_d[\"gpt2\"] = module.d[key][0][\"LABEL_0\"]\n",
    "                new_d[\"hfb\"] = module.d[key][1][\"REWARD\"]\n",
    "                new_d[\"hfd\"] = module.d[key][2][\"REWARD\"]\n",
    "                new_d[\"hfl\"] = module.d[key][3][\"LABEL_0\"]\n",
    "                module.l.append(new_d)"
   ]
  },
  {
   "cell_type": "code",
   "execution_count": null,
   "metadata": {},
   "outputs": [],
   "source": [
    "fig_dr = plot.plot_key(\n",
    "    [module.l for module in modules_stacku],\n",
    "    key_x=\"hfb\",\n",
    "    key_y=\"hfd\",\n",
    "    # list_indexes=[2],\n",
    "    labels=[module.label for module in modules_stacku],\n",
    "    # loc=(1.05, 0),\n",
    "    loc=\"upper left\",\n",
    "    colormaps=[\"Blues\", \"Reds\"],\n",
    "    linestyles=[\n",
    "        \"dotted\", \"dotted\"\n",
    "    ],\n",
    "    connect_endpoints=False,\n",
    "    order=\"connect\",\n",
    "    # order=\"savgol_3_1_quadratic\",\n",
    ")\n",
    "plot.save_fig(fig=fig_dr, name=\"nlp/pareto_stacku_hfbtohfd.pdf\", do_save=do_save)"
   ]
  },
  {
   "cell_type": "code",
   "execution_count": null,
   "metadata": {},
   "outputs": [],
   "source": [
    "# LLama assistant"
   ]
  },
  {
   "cell_type": "code",
   "execution_count": null,
   "metadata": {},
   "outputs": [],
   "source": [
    "os.listdir(\"/data/rame/logs_experiments_notebook/nlp/llamaassistant/\")"
   ]
  },
  {
   "cell_type": "code",
   "execution_count": 14,
   "metadata": {},
   "outputs": [],
   "source": [
    "from llamaassistant import logs_assistant_d_kl_steps, logs_assistant_d_steps, logs_assistant_b_steps, logs_assistant_bd_wa, logs_assistant_wainittodkl, logs_assistant_bkl_steps_0406, logs_assistant_multikl_steps_0406, logs_assistant_wainittobkl_0406, logs_assistant_wabkltodkl_0410, logs_assistantsteps_hfb_kl005_fmulti_normallr, logs_assistantsteps_hfb_kl005_fmulti, logs_assistantsteps_hfd_kl005_fmulti_normallr, logs_assistantsteps_hfd_kl005_fmulti, logs_assistant_bkl_steps_jz"
   ]
  },
  {
   "cell_type": "code",
   "execution_count": 19,
   "metadata": {},
   "outputs": [],
   "source": [
    "modules_assistant = [\n",
    "    logs_assistant_bkl_steps_0406, logs_assistant_bkl_steps_jz, logs_assistant_d_kl_steps,\n",
    "    logs_assistant_wainittodkl, logs_assistant_multikl_steps_0406, logs_assistant_wabkltodkl_0410\n",
    "]\n"
   ]
  },
  {
   "cell_type": "code",
   "execution_count": 20,
   "metadata": {},
   "outputs": [],
   "source": [
    "for modules in [modules_assistant]:\n",
    "    for module in modules:\n",
    "        module.l = []\n",
    "        if not hasattr(module, \"label\"):\n",
    "            module.label = \" \".join(re.split('_|\\.', os.path.split(module.__file__)[-1])[1:-1])\n",
    "        for key in module.d.keys():\n",
    "            if True:\n",
    "                new_d = {\"lambda\": key}\n",
    "                new_d[\"hfl\"] = module.d[key][0][\"LABEL_0\"]\n",
    "                new_d[\"hfb\"] = module.d[key][1][\"REWARD\"]\n",
    "                new_d[\"hfd\"] = module.d[key][2][\"REWARD\"]\n",
    "                module.l.append(new_d)"
   ]
  },
  {
   "cell_type": "code",
   "execution_count": 22,
   "metadata": {},
   "outputs": [
    {
     "data": {
      "image/png": "[encoded data removed]",
      "text/plain": [
       "<Figure size 600x600 with 1 Axes>"
      ]
     },
     "metadata": {},
     "output_type": "display_data"
    }
   ],
   "source": [
    "fig_dr = plot.plot_key(\n",
    "    [module.l for module in modules_assistant],\n",
    "    # list_indexes=[0,2,4,5],\n",
    "    key_x=\"hfb\",\n",
    "    key_y=\"hfd\",\n",
    "    labels=[module.label for module in modules_assistant],\n",
    "    # loc=(1.05, 0),\n",
    "    loc=\"upper left\",\n",
    "    colormaps=[\"Blues\", \"Yellows\", \"Reds\", \"Reds\", \"Purples\", \"Greens\"],\n",
    "    linestyles=[\"dotted\", \"dashed\", \"dotted\", \"dashed\", \"dotted\", \"solid\"],\n",
    "    # order=\"connect\",\n",
    "    order=\"savgol_3_1_quadratic\",\n",
    ")\n",
    "plot.save_fig(fig=fig_dr, name=\"nlp/pareto_assistant_hfbtohfd.pdf\", do_save=do_save)"
   ]
  },
  {
   "cell_type": "code",
   "execution_count": null,
   "metadata": {},
   "outputs": [],
   "source": [
    "modules_assistant_nokl = [logs_assistant_d_steps, logs_assistant_b_steps, logs_assistant_bd_wa]\n",
    "modules_assistant_multi = [\n",
    "    logs_assistant_multikl_steps_0406, logs_assistantsteps_hfb_kl005_fmulti_normallr,\n",
    "    logs_assistantsteps_hfb_kl005_fmulti, logs_assistantsteps_hfd_kl005_fmulti_normallr,\n",
    "    logs_assistantsteps_hfd_kl005_fmulti\n",
    "]"
   ]
  },
  {
   "cell_type": "code",
   "execution_count": null,
   "metadata": {},
   "outputs": [],
   "source": [
    "fig_dr = plot.plot_key(\n",
    "    [module.l for module in modules_assistant_nokl],\n",
    "    # list_indexes=[0,2,4,5],\n",
    "    key_x=\"hfb\",\n",
    "    key_y=\"hfd\",\n",
    "    labels=[module.label for module in modules_assistant_nokl],\n",
    "    loc=(1.05, 0),\n",
    "    colormaps=[\"Blues\", \"Reds\", \"Greens\"],\n",
    "    linestyles=[\"solid\", \"solid\", \"dotted\"],\n",
    "    connect_endpoints=False,\n",
    "    order=\"connect\",\n",
    "    # order=\"savgol_3_1_quadratic\",\n",
    ")"
   ]
  },
  {
   "cell_type": "code",
   "execution_count": null,
   "metadata": {},
   "outputs": [],
   "source": [
    "fig_dr = plot.plot_key(\n",
    "    [module.l for module in modules_assistant_multi],\n",
    "    # list_indexes=[0,2,4,5],\n",
    "    key_x=\"hfb\",\n",
    "    key_y=\"hfd\",\n",
    "    labels=[module.label for module in modules_assistant_multi],\n",
    "    loc=(1.05, 0),\n",
    "    colormaps=[\"Greens\", \"Blues\", \"Blues\", \"Reds\", \"Reds\"],\n",
    "    linestyles=[\"dotted\", \"solid\", \"dashed\", \"solid\", \"dashed\"],\n",
    "    connect_endpoints=False,\n",
    "    order=\"connect\",\n",
    "    # order=\"savgol_3_1_quadratic\",\n",
    ")"
   ]
  },
  {
   "cell_type": "code",
   "execution_count": null,
   "metadata": {},
   "outputs": [],
   "source": []
  },
  {
   "cell_type": "markdown",
   "metadata": {},
   "source": [
    "# Llama Summary news"
   ]
  },
  {
   "cell_type": "code",
   "execution_count": null,
   "metadata": {},
   "outputs": [],
   "source": [
    "from llamasummarynews import  logs_summarynew_alpaca_tristan, logs_summarynew_alpaca_cog, logs_summarynew_tristan_steps, logs_summarynew_cog_steps, logs_summarynew_tristan_cog, logs_summarynew_multi, logs_snew_multi_cog, logs_snew_multi_tristan"
   ]
  },
  {
   "cell_type": "code",
   "execution_count": null,
   "metadata": {},
   "outputs": [],
   "source": [
    "modules_summary_news = [\n",
    "    logs_summarynew_tristan_steps, logs_summarynew_alpaca_tristan, logs_summarynew_cog_steps,\n",
    "    logs_summarynew_alpaca_cog, logs_summarynew_multi, logs_summarynew_tristan_cog,\n",
    "]\n",
    "\n",
    "modules_summary_new_all = [logs_snew_multi_cog, logs_snew_multi_tristan]\n"
   ]
  },
  {
   "cell_type": "code",
   "execution_count": null,
   "metadata": {},
   "outputs": [],
   "source": [
    "for modules in [modules_summary_news]:\n",
    "    for module in modules:\n",
    "        module.l = []\n",
    "        if not hasattr(module, \"label\")or True:\n",
    "            module.label = \" \".join(re.split('_|\\.', os.path.split(module.__file__)[-1])[2:-1])\n",
    "        for key in module.d.keys():\n",
    "            if True:\n",
    "                new_d = {\"lambda\": key}\n",
    "                new_d[\"tristan\"] = module.d[key][0][\"LABEL_0\"]\n",
    "                new_d[\"cogd\"] = module.d[key][1][\"FAITHFUL\"] - module.d[key][1][\"HALLUCINATED\"]\n",
    "                new_d[\"cogfaithful\"] = module.d[key][1][\"FAITHFUL\"]\n",
    "                module.l.append(new_d)"
   ]
  },
  {
   "cell_type": "code",
   "execution_count": null,
   "metadata": {},
   "outputs": [],
   "source": [
    "fig_dr = plot.plot_key(\n",
    "    [module.l for module in modules_summary_news],\n",
    "    key_y=\"cogd\",\n",
    "    key_x=\"tristan\",\n",
    "    labels=[module.label for module in modules_summary_news],\n",
    "    loc=\"upper right\",\n",
    "    colormaps=[\"Blues\", \"Blues\", \"Reds\", \"Reds\", \"Purples\", \"Greens\"],\n",
    "    linestyles=[\n",
    "        \"dotted\", \"dashed\", \"dotted\", \"dashed\", \"dotted\", \"solid\"\n",
    "    ],\n",
    "        \n",
    "    # order=\"connect\",\n",
    "    order=\"savgol_3_1_quadratic\",\n",
    "    # order=2\n",
    ")\n",
    "plot.save_fig(fig=fig_dr, name=\"nlp/pareto_summarynews_tristantocogd.pdf\", do_save=do_save)"
   ]
  },
  {
   "attachments": {},
   "cell_type": "markdown",
   "metadata": {},
   "source": [
    "# Llama Summary"
   ]
  },
  {
   "cell_type": "code",
   "execution_count": null,
   "metadata": {},
   "outputs": [],
   "source": [
    "from llamasummary import logs_tristan_cog_step20_v0, logs_tristan_cog_step40_kl005, logs_tristan_cog_step40, logs_tristan_cog_step30, logs_tristan_cog_step40_v0, logs_cogsoups_step40, logs_alpaca_cogsoups_step40, logs_alpaca_cog, logs_alpaca_cog_kl005, logs_tristan_cog_stepend, logs_alpaca_tristan_kl005, logs_multi_step40_200_kl005, logs_multitask_tristan_190_200, logs_multitask_cog_190_200, logs_cog_steps_200, logs_tristan_steps_200"
   ]
  },
  {
   "cell_type": "code",
   "execution_count": null,
   "metadata": {},
   "outputs": [],
   "source": [
    "modules_summary_debug = [\n",
    "    logs_tristan_cog_step40_kl005, logs_tristan_cog_step40, logs_tristan_cog_stepend,\n",
    "    logs_tristan_cog_step30, logs_alpaca_cog, logs_alpaca_cog_kl005, \n",
    "]\n",
    "modules_summary = [\n",
    "    logs_tristan_steps_200,\n",
    "    logs_alpaca_tristan_kl005,\n",
    "    logs_cog_steps_200,\n",
    "    logs_alpaca_cog_kl005,\n",
    "    logs_multi_step40_200_kl005,\n",
    "    logs_tristan_cog_step40_kl005]\n",
    "modules_summary_all = [\n",
    "    logs_multitask_tristan_190_200,\n",
    "    logs_multitask_cog_190_200\n",
    "]\n",
    "modules_summary_soups = [logs_alpaca_cogsoups_step40, logs_cogsoups_step40]"
   ]
  },
  {
   "cell_type": "code",
   "execution_count": null,
   "metadata": {},
   "outputs": [],
   "source": [
    "for modules in [modules_summary, modules_summary_soups]:\n",
    "    for module in modules:\n",
    "        module.l = []\n",
    "        if not hasattr(module, \"label\"):\n",
    "            module.label = \" \".join(re.split('_|\\.', os.path.split(module.__file__)[-1])[1:-1])\n",
    "        for key in module.d.keys():\n",
    "            if True:\n",
    "                new_d = {\"lambda\": key}\n",
    "                new_d[\"tristan\"] = module.d[key][0][\"LABEL_0\"]\n",
    "                new_d[\"cogd\"] = module.d[key][1][\"FAITHFUL\"] - module.d[key][1][\"HALLUCINATED\"]\n",
    "                new_d[\"cogfaithful\"] = module.d[key][1][\"FAITHFUL\"]\n",
    "                module.l.append(new_d)"
   ]
  },
  {
   "cell_type": "code",
   "execution_count": null,
   "metadata": {},
   "outputs": [],
   "source": [
    "fig_dr = plot.plot_key(\n",
    "    [module.l for module in modules_summary],\n",
    "    key_x=\"tristan\",\n",
    "    key_y=\"cogd\",\n",
    "    labels=[module.label for module in modules_summary],\n",
    "    loc=\"lower left\",\n",
    "    colormaps=[\"Blues\", \"Blues\", \"Reds\", \"Reds\", \"Purples\", \"Greens\"],\n",
    "    linestyles=[\"dotted\", \"dashed\", \"dotted\", \"dashed\", \"dotted\", \"solid\"],\n",
    "    order=\"savgol_3_1_quadratic\",\n",
    ")\n",
    "plot.save_fig(fig=fig_dr, name=\"nlp/pareto_summary_tristantocogd.pdf\", do_save=do_save)"
   ]
  },
  {
   "cell_type": "code",
   "execution_count": null,
   "metadata": {},
   "outputs": [],
   "source": [
    "keys_y = [\"tristan\", \"cogd\", \"cogfaithful\"]\n",
    "\n",
    "fig_dr = plot.plot_basic_scatter(\n",
    "    modules_summary[5].l,\n",
    "    key_x=\"lambda\",\n",
    "    keys_y=[y for i, y in enumerate(keys_y) if i in [2] or True],\n",
    "    loc=\"lower right\",\n",
    "    # keycolor=\"abs|lambda-0.5\",\n",
    "    # keysize=\"hfl\",\n",
    "    colormaps=['Blues', \"Reds\", 'Greens', 'Purples', 'Greys'],\n",
    "    linestyles=['solid', 'solid', \"dotted\", 'dotted', 'dotted', \"dotted\", \"dotted\", \"dotted\"],\n",
    "    order=\"2\",\n",
    "    legendtitle=f\"Rewards for {modules_summary[5].label}:\",\n",
    "    title=None\n",
    ")"
   ]
  },
  {
   "cell_type": "code",
   "execution_count": null,
   "metadata": {},
   "outputs": [],
   "source": [
    "fig_dr = plot.plot_key(\n",
    "    [module.l for module in modules_summary_soups],\n",
    "    key_x=\"tristan\",\n",
    "    key_y=\"cogd\",\n",
    "    labels=[module.label for module in modules_summary_soups],\n",
    "    loc=\"lower left\",\n",
    "    # keycolor=\"abs|lambda-0.5\",\n",
    "    #keysize=\"hfl\",\n",
    "    colormaps=colormaps,\n",
    "    linestyles=[\"solid\" for i, _ in enumerate(modules_summary_soups)],\n",
    "    connect_points=True,\n",
    "    connect_endpoints=True,\n",
    "    order=2,\n",
    ")"
   ]
  },
  {
   "attachments": {},
   "cell_type": "markdown",
   "metadata": {},
   "source": [
    "# LLAMA Review"
   ]
  },
  {
   "cell_type": "code",
   "execution_count": null,
   "metadata": {},
   "outputs": [],
   "source": [
    "from llamareview import logs_alpaca_hfb_steps, logs_alpaca_hfb_step190, logs_hfd_steps, logs_alpaca_hfd_step190, logs_multihf, logs_hfb_hfd_step180, logs_hfb_hfd_step190_200, logs_multitask_hfb, logs_multitask_hfd\n"
   ]
  },
  {
   "cell_type": "code",
   "execution_count": null,
   "metadata": {},
   "outputs": [],
   "source": [
    "modules_hfb_hfd_200 = [\n",
    "    logs_alpaca_hfb_steps,\n",
    "    logs_alpaca_hfb_step190,\n",
    "    logs_hfd_steps,\n",
    "    logs_alpaca_hfd_step190,\n",
    "    logs_multihf,\n",
    "    # logs_hfb_hfd_step190_200,\n",
    "    logs_hfb_hfd_step180, \n",
    "]\n",
    "\n",
    "modules_review_all = [\n",
    "    logs_multitask_hfb,\n",
    "    logs_multitask_hfd,   \n",
    "]\n"
   ]
  },
  {
   "cell_type": "code",
   "execution_count": null,
   "metadata": {},
   "outputs": [],
   "source": [
    "for modules in [\n",
    "    modules_hfb_hfd_200\n",
    "]:\n",
    "    for module in modules:\n",
    "        module.l = []\n",
    "        if not hasattr(module, \"label\"):\n",
    "            module.label = \" \".join(re.split('_|\\.', os.path.split(module.__file__)[-1])[1:-1])\n",
    "        for key in module.d.keys():\n",
    "            if True:\n",
    "                new_d = {\"lambda\": key}\n",
    "                new_d[\"pos0\"] = module.d[key][0][\"POSITIVE\"]\n",
    "                new_d[\"posd0\"] = module.d[key][0][\"POSITIVE\"] - module.d[key][0][\"NEGATIVE\"]\n",
    "                new_d[\"pos1\"] = module.d[key][1][\"POSITIVE\"]\n",
    "                new_d[\"posd1\"] = module.d[key][1][\"POSITIVE\"] - module.d[key][1][\"NEGATIVE\"]\n",
    "                new_d[\"toxic\"] = module.d[key][2][\"toxic\"]\n",
    "                new_d[\"nontoxic\"] = module.d[key][2][\"non-toxic\"] - module.d[key][2][\"toxic\"]\n",
    "                new_d[\"quality\"] = module.d[key][3][\"good\"]\n",
    "                new_d[\"quality1\"] = module.d[key][3][\"medium\"]\n",
    "                new_d[\"qualityd\"] = module.d[key][3][\"good\"] - module.d[key][3][\"bad\"]\n",
    "                new_d[\"hfl\"] = module.d[key][4][\"LABEL_0\"]\n",
    "                new_d[\"hfb\"] = module.d[key][5][\"REWARD\"]\n",
    "                new_d[\"hfd\"] = module.d[key][6][\"REWARD\"]\n",
    "                new_d[\"hfg\"] = module.d[key][7][\"LABEL_0\"]\n",
    "                if len(module.d[key]) >= 9:\n",
    "                    new_d[\"toxicnew\"] = module.d[key][8][\"toxic\"]\n",
    "                module.l.append(new_d)"
   ]
  },
  {
   "cell_type": "code",
   "execution_count": null,
   "metadata": {},
   "outputs": [],
   "source": [
    "fig_dr = plot.plot_key(\n",
    "    [module.l for module in modules_hfb_hfd_200],\n",
    "    key_x=\"hfb\",\n",
    "    key_y=\"hfd\",\n",
    "    labels=[module.label for module in modules_hfb_hfd_200],\n",
    "    loc=\"upper left\",\n",
    "    colormaps=[\"Blues\", \"Blues\", \"Reds\", \"Reds\", \"Purples\", \"Greens\"],\n",
    "    linestyles=[\"dotted\", \"dashed\", \"dotted\", \"dashed\", \"dotted\", \"solid\"],\n",
    "    order=\"savgol_3_1_quadratic\",\n",
    ")\n",
    "plot.save_fig(fig=fig_dr, name=\"nlp/pareto_review_hfbtohfd.pdf\", do_save=do_save)"
   ]
  },
  {
   "cell_type": "code",
   "execution_count": null,
   "metadata": {},
   "outputs": [],
   "source": [
    "keys_y = [\"hfb\", \"hfd\", \"hfl\", \"hfg\"]\n",
    "\n",
    "fig_dr = plot.plot_basic_scatter(\n",
    "    modules_hfb_hfd_200[5].l,\n",
    "    key_x=\"lambda\",\n",
    "    keys_y=[y for i, y in enumerate(keys_y) if i in [2] or True],\n",
    "    loc=\"lower right\",\n",
    "    # keycolor=\"abs|lambda-0.5\",\n",
    "    # keysize=\"hfl\",\n",
    "    colormaps=['Blues', \"Reds\", 'Greens', 'Purples', 'Greys'],\n",
    "    linestyles=['solid', 'solid', \"dotted\", 'dotted', 'dotted', \"dotted\", \"dotted\", \"dotted\"],\n",
    "    order=\"2\",\n",
    "    legendtitle=f\"Rewards for {modules_hfb_hfd_200[5].label}:\",\n",
    "    title=None\n",
    ")"
   ]
  },
  {
   "cell_type": "markdown",
   "metadata": {},
   "source": [
    "# Backup"
   ]
  },
  {
   "cell_type": "code",
   "execution_count": null,
   "metadata": {},
   "outputs": [],
   "source": [
    "from llamahf32 import logs_hfb_hfd_step190, logs_hfb_hfd_step10, logs_hfb_hfd_step70, logs_quality2_pos_step140, logs_hfb_hfd_step120, logs_hfb_hfd_step20, logs_hfb_hfd_step170, logs_alpaca_hfb_noref_step90, logs_quality2_hfb_step10, logs_alpaca_hfd_noref_step90, logs_hfb_hfd_noref_step90, logs_quality2_pos_step60, logs_rl_merged_lora8, logs_hfb_hfd_step170_200, logs_hfb_hfd_step170_200_fixed, logs_hfb_hfd_step190_200_fixed, logs_toxic_quality_step40, logs_toxic_quality_step90_200, logs_alpaca_toxic_quality_step90_200, logs_toxic_step90, logs_pos_step90, logs_toxic_step190, logs_toxic_hfb_step190\n",
    "\n",
    "modules = [\n",
    "    logs_hfb_hfd_noref_step90, logs_alpaca_hfb_noref_step90, logs_alpaca_hfd_noref_step90,\n",
    "    logs_quality2_hfb_step10\n",
    "]\n",
    "\n",
    "modules_toxic = [logs_toxic_hfb_step190, logs_toxic_step90, logs_toxic_step190]\n",
    "modules_pos = [logs_pos_step90]\n",
    "modules_quality2_pos = [\n",
    "    logs_alpaca_toxic_quality_step90_200, logs_toxic_quality_step90_200, logs_toxic_quality_step40,\n",
    "    logs_quality2_pos_step60, logs_quality2_pos_step140\n",
    "]\n",
    "modules_hfb_hfd = [\n",
    "    logs_hfb_hfd_step10,\n",
    "    logs_rl_merged_lora8,\n",
    "    logs_hfb_hfd_step20,\n",
    "    logs_hfb_hfd_step70,\n",
    "    logs_hfb_hfd_step120,\n",
    "    logs_hfb_hfd_step170,\n",
    "    logs_hfb_hfd_step190,\n",
    "    logs_hfb_hfd_step170_200_fixed,\n",
    "    logs_hfb_hfd_step190_200_fixed,\n",
    "    logs_hfb_hfd_step170_200,\n",
    "]"
   ]
  },
  {
   "cell_type": "code",
   "execution_count": null,
   "metadata": {},
   "outputs": [],
   "source": [
    "for modules in [\n",
    "    modules_quality2_pos, modules_toxic, modules_pos, modules_hfb_hfd\n",
    "]:\n",
    "    for module in modules:\n",
    "        module.l = []\n",
    "        if not hasattr(module, \"label\"):\n",
    "            module.label = \" \".join(re.split('_|\\.', os.path.split(module.__file__)[-1])[1:-1])\n",
    "        for key in module.d.keys():\n",
    "            if True:\n",
    "                new_d = {\"lambda\": key}\n",
    "                new_d[\"pos0\"] = module.d[key][0][\"POSITIVE\"]\n",
    "                new_d[\"posd0\"] = module.d[key][0][\"POSITIVE\"] - module.d[key][0][\"NEGATIVE\"]\n",
    "                new_d[\"pos1\"] = module.d[key][1][\"POSITIVE\"]\n",
    "                new_d[\"posd1\"] = module.d[key][1][\"POSITIVE\"] - module.d[key][1][\"NEGATIVE\"]\n",
    "                new_d[\"toxic\"] = module.d[key][2][\"toxic\"]\n",
    "                new_d[\"nontoxic\"] = module.d[key][2][\"non-toxic\"] - module.d[key][2][\"toxic\"]\n",
    "                new_d[\"quality\"] = module.d[key][3][\"good\"]\n",
    "                new_d[\"quality1\"] = module.d[key][3][\"medium\"]\n",
    "                new_d[\"qualityd\"] = module.d[key][3][\"good\"] - module.d[key][3][\"bad\"]\n",
    "                new_d[\"hfl\"] = module.d[key][4][\"LABEL_0\"]\n",
    "                new_d[\"hfb\"] = module.d[key][5][\"REWARD\"]\n",
    "                new_d[\"hfd\"] = module.d[key][6][\"REWARD\"]\n",
    "                new_d[\"hfg\"] = module.d[key][7][\"LABEL_0\"]\n",
    "                if len(module.d[key]) >= 9:\n",
    "                    new_d[\"toxicnew\"] = module.d[key][8][\"toxic\"]\n",
    "                module.l.append(new_d)"
   ]
  },
  {
   "cell_type": "code",
   "execution_count": null,
   "metadata": {},
   "outputs": [],
   "source": [
    "fig_dr = plot.plot_key(\n",
    "    [module.l for module in modules_hfb_hfd],\n",
    "    #list_indexes = [-1],\n",
    "    key_x=\"hfb\",\n",
    "    key_y=\"hfd\",\n",
    "    labels=[module.label for module in modules_hfb_hfd],\n",
    "    loc=\"lower left\",\n",
    "    # keycolor=\"abs|lambda-0.5\",\n",
    "    #keysize=\"hfl\",\n",
    "    colormaps=colormaps,\n",
    "    linestyles=[\"solid\" for i, _ in enumerate(modules_hfb_hfd)],\n",
    "    connect_points=True,\n",
    "    connect_endpoints=False,\n",
    "    order=2,\n",
    ")"
   ]
  },
  {
   "cell_type": "code",
   "execution_count": null,
   "metadata": {},
   "outputs": [],
   "source": [
    "fig_dr = plot.plot_key(\n",
    "    [module.l for module in modules_pos],\n",
    "    key_x=\"pos0\",\n",
    "    key_y=\"pos1\",\n",
    "    labels=[module.label for module in modules_pos],\n",
    "    loc=\"lower left\",\n",
    "    colormaps=colormaps,\n",
    "    linestyles=[\"solid\" if i % 2 else \"dashed\" for i, _ in enumerate(modules_pos)],\n",
    "    connect_points=True,\n",
    "    order=2,\n",
    ")"
   ]
  },
  {
   "cell_type": "code",
   "execution_count": null,
   "metadata": {},
   "outputs": [],
   "source": [
    "fig_dr = plot.plot_key(\n",
    "    [module.l for module in modules_toxic],\n",
    "    key_x=\"-toxic\",\n",
    "    key_y=\"hfb\",\n",
    "    labels=[module.label for module in modules_toxic],\n",
    "    loc=\"lower left\",\n",
    "    # keycolor=\"abs|lambda-0.5\",\n",
    "    #keysize=\"hfl\",\n",
    "    colormaps=colormaps,\n",
    "    linestyles=[\"solid\" if i % 2 else \"dashed\" for i, _ in enumerate(modules_toxic)],\n",
    "    connect_points=True,\n",
    "    order=2,\n",
    ")"
   ]
  },
  {
   "cell_type": "code",
   "execution_count": null,
   "metadata": {},
   "outputs": [],
   "source": [
    "fig_dr = plot.plot_key(\n",
    "    [module.l for module in modules_quality2_pos],\n",
    "    key_x=\"nontoxic\",\n",
    "    key_y=\"qualityd\",\n",
    "    labels=[module.label for module in modules_quality2_pos],\n",
    "    loc=\"lower left\",\n",
    "    # keycolor=\"abs|lambda-0.5\",\n",
    "    #keysize=\"hfl\",\n",
    "    colormaps=colormaps,\n",
    "    linestyles=[\"solid\" if i % 2 else \"dashed\" for i, _ in enumerate(modules_quality2_pos)],\n",
    "    connect_points=True,\n",
    "    order=2,\n",
    ")"
   ]
  },
  {
   "cell_type": "code",
   "execution_count": null,
   "metadata": {},
   "outputs": [],
   "source": []
  },
  {
   "cell_type": "code",
   "execution_count": null,
   "metadata": {},
   "outputs": [],
   "source": [
    "do_save = True"
   ]
  },
  {
   "cell_type": "code",
   "execution_count": null,
   "metadata": {},
   "outputs": [],
   "source": []
  },
  {
   "cell_type": "markdown",
   "metadata": {},
   "source": [
    "# LLAMA HF"
   ]
  },
  {
   "cell_type": "code",
   "execution_count": null,
   "metadata": {},
   "outputs": [],
   "source": [
    "from llamahf import logs_rl_alpaca_hfd_hfb, logs_rl_alpaca_hfd_hfb5, logs_rl_alpaca_hfb_hfd, logs_rl_alpaca_hfb_hfd5, logs_rl_hfb_hfd, logs_rl_alpaca_hfb, logs_rl_alpaca_hfd"
   ]
  },
  {
   "cell_type": "code",
   "execution_count": null,
   "metadata": {},
   "outputs": [],
   "source": [
    "modules = [\n",
    "    logs_rl_alpaca_hfb_hfd, logs_rl_alpaca_hfb_hfd5, logs_rl_alpaca_hfd_hfb,\n",
    "    logs_rl_alpaca_hfd_hfb5, logs_rl_hfb_hfd, logs_rl_alpaca_hfb, logs_rl_alpaca_hfd\n",
    "]\n",
    "for module in modules:\n",
    "    module.l = []\n",
    "    for key in module.d.keys():\n",
    "        if True:\n",
    "            new_d = {\"lambda\": key}\n",
    "            new_d[\"pos0\"] = module.d[key][0][\"POSITIVE\"]\n",
    "            new_d[\"posd0\"] = module.d[key][0][\"POSITIVE\"] - module.d[key][0][\"NEGATIVE\"]\n",
    "            new_d[\"pos1\"] = module.d[key][1][\"POSITIVE\"]\n",
    "            new_d[\"posd1\"] = module.d[key][1][\"POSITIVE\"] - module.d[key][1][\"NEGATIVE\"]\n",
    "            new_d[\"toxic\"] = module.d[key][2][\"toxic\"]\n",
    "            new_d[\"toxicd\"] = module.d[key][2][\"toxic\"] - module.d[key][2][\"non-toxic\"]\n",
    "            new_d[\"quality\"] = module.d[key][3][\"good\"]\n",
    "            new_d[\"quality1\"] = module.d[key][3][\"medium\"]\n",
    "            new_d[\"qualityd\"] = module.d[key][3][\"good\"] - module.d[key][3][\"bad\"]\n",
    "            new_d[\"hfl\"] = module.d[key][4][\"LABEL_0\"]\n",
    "            new_d[\"hfb\"] = module.d[key][5][\"REWARD\"]\n",
    "            new_d[\"hfd\"] = module.d[key][6][\"REWARD\"]\n",
    "            module.l.append(new_d)"
   ]
  },
  {
   "cell_type": "code",
   "execution_count": null,
   "metadata": {},
   "outputs": [],
   "source": [
    "\n",
    "fig_dr = plot.plot_key(\n",
    "    [module.l for module in modules],\n",
    "    key_x=\"hfb\",\n",
    "    key_y=\"hfd\",\n",
    "    labels=[module.label for module in modules],\n",
    "    loc=\"lower left\",\n",
    "    # keycolor=\"abs|lambda-0.5\",\n",
    "    # keysize=\"hfl\",\n",
    "    colormaps=colormaps,\n",
    "    linestyles=[\"solid\" if i % 2 else \"dashed\" for i, _ in enumerate(modules)],\n",
    "    connect_points=True,\n",
    "    order=2,\n",
    ")"
   ]
  },
  {
   "cell_type": "markdown",
   "metadata": {},
   "source": [
    "# LLAMA"
   ]
  },
  {
   "cell_type": "code",
   "execution_count": null,
   "metadata": {},
   "outputs": [],
   "source": [
    "os.listdir(\"/data/rame/logs_experiments_notebook/llama\")"
   ]
  },
  {
   "cell_type": "code",
   "execution_count": null,
   "metadata": {},
   "outputs": [],
   "source": [
    "from llama import logs_rl_quality2_hf, logs_rl_posimdb_pos, logs_rl_hfl_quality2, logs_rl_hfl_hf, logs_rl_alpaca_posimdb, logs_rl_pos_hf, logs_rl_posimdb_quality2, logs_rl_alpaca_quality2, logs_rl_alpaca_hf, logs_rl_posimdb_hf, logs_rl_pos_quality2 "
   ]
  },
  {
   "cell_type": "code",
   "execution_count": null,
   "metadata": {},
   "outputs": [],
   "source": [
    "modules = [\n",
    "    logs_rl_alpaca_hf,\n",
    "    logs_rl_alpaca_posimdb,\n",
    "    logs_rl_posimdb_hf,\n",
    "    # logs_rl_posimdb_pos,\n",
    "    logs_rl_pos_hf,\n",
    "    logs_rl_pos_quality2,\n",
    "    logs_rl_quality2_hf,\n",
    "    logs_rl_posimdb_quality2,\n",
    "    # logs_rl_hfl_hf,\n",
    "    # logs_rl_hfl_quality2\n",
    "    logs_rl_alpaca_quality2,\n",
    "]\n",
    "for module in modules:\n",
    "    module.l = []\n",
    "    for key in sorted(module.d.keys()):\n",
    "        if 0 <= key <= 1:\n",
    "            new_d = {\"lambda\": key}\n",
    "            new_d[\"pos0\"] = module.d[key][0][\"POSITIVE\"]\n",
    "            new_d[\"posd0\"] = module.d[key][0][\"POSITIVE\"] - module.d[key][0][\"NEGATIVE\"]\n",
    "            new_d[\"pos1\"] = module.d[key][1][\"POSITIVE\"]\n",
    "            new_d[\"posd1\"] = module.d[key][1][\"POSITIVE\"] - module.d[key][1][\"NEGATIVE\"]\n",
    "            new_d[\"toxic\"] = module.d[key][2][\"toxic\"]\n",
    "            new_d[\"toxicd\"] = module.d[key][2][\"toxic\"] - module.d[key][2][\"non-toxic\"]\n",
    "            new_d[\"quality\"] = module.d[key][3][\"good\"]\n",
    "            new_d[\"quality1\"] = module.d[key][3][\"medium\"]\n",
    "            new_d[\"qualityd\"] = module.d[key][3][\"good\"] - module.d[key][3][\"bad\"]\n",
    "            new_d[\"hfl\"] = module.d[key][4][\"LABEL_0\"]\n",
    "            new_d[\"hfb\"] = module.d[key][5][\"REWARD\"]\n",
    "            module.l.append(new_d)"
   ]
  },
  {
   "cell_type": "code",
   "execution_count": null,
   "metadata": {},
   "outputs": [],
   "source": []
  },
  {
   "cell_type": "code",
   "execution_count": null,
   "metadata": {},
   "outputs": [],
   "source": [
    "plot.plt.rcParams[\"figure.figsize\"] = (7, 7)\n",
    "plot.SIZE_AXIS = \"small\"\n",
    "plot.SIZE = \"small\"\n",
    "fig_dr = plot.plot_key(\n",
    "    [module.l for module in modules],\n",
    "    list_indexes=range(4),\n",
    "    key_x=\"hfb\",\n",
    "    key_y=\"pos1\",\n",
    "    labels=[module.label for module in modules],\n",
    "    loc=\"lower left\",\n",
    "    # keycolor=\"abs|lambda-0.5\",\n",
    "    # keysize=\"lambda\",\n",
    "    colormaps=[\n",
    "        \"Reds\",\n",
    "        \"Purples\",\n",
    "        \"Greys\",\n",
    "        \"Oranges\",\n",
    "        \"Blues\",\n",
    "        \"Yellows\",\n",
    "        \"Greens\",\n",
    "        \"Reds\"\n",
    "    ],\n",
    "    linestyles=[\"solid\" if i % 2 else \"dashed\" for i, _ in enumerate(modules)],\n",
    "    connect_points=True,\n",
    "    order=2,\n",
    ")"
   ]
  },
  {
   "cell_type": "markdown",
   "metadata": {},
   "source": [
    "# NEOX"
   ]
  },
  {
   "cell_type": "code",
   "execution_count": null,
   "metadata": {},
   "outputs": [],
   "source": [
    "sys.path.append(\"/data/rame/logs_experiments_notebook/\")\n",
    "from gptneox import logs_posimdb_negimdb, logs_quality_negimdb, logs_toxic_neg, logs_rl_pos_vs_toxic, logs_rl_posimdb_vs_toxic0, logs_rl_pos_vs_quality2, logs_rl_toxic_vs_quality1, logs_rl_toxic_vs_quality2, logs_rl_posimdb_vs_toxic, logs_rl_pos_posimdb"
   ]
  },
  {
   "cell_type": "code",
   "execution_count": null,
   "metadata": {},
   "outputs": [],
   "source": [
    "modules = [\n",
    "    logs_posimdb_negimdb, logs_quality_negimdb, logs_rl_pos_vs_quality2, logs_rl_pos_posimdb,\n",
    "    # logs_toxic_neg,\n",
    "    # logs_rl_pos_vs_toxic,\n",
    "    # logs_rl_posimdb_vs_toxic0,\n",
    "    # logs_rl_toxic_vs_quality1,\n",
    "    # logs_rl_toxic_vs_quality2,\n",
    "    # logs_rl_posimdb_vs_toxic,\n",
    "]\n",
    "for module in modules:\n",
    "    module.l = []\n",
    "    for key in sorted(module.d.keys()):\n",
    "        if 0 <= key <= 1:\n",
    "            new_d = {\"lambda\": key}\n",
    "            new_d[\"pos0\"] = module.d[key][0][\"POSITIVE\"]\n",
    "            new_d[\"posd0\"] = module.d[key][0][\"POSITIVE\"] - module.d[key][0][\"NEGATIVE\"]\n",
    "            new_d[\"pos1\"] = module.d[key][1][\"POSITIVE\"]\n",
    "            new_d[\"posd1\"] = module.d[key][1][\"POSITIVE\"] - module.d[key][1][\"NEGATIVE\"]\n",
    "            new_d[\"toxic\"] = module.d[key][2][\"toxic\"]\n",
    "            new_d[\"toxicd\"] = module.d[key][2][\"toxic\"] - module.d[key][2][\"non-toxic\"]\n",
    "            new_d[\"quality\"] = module.d[key][3][\"good\"]\n",
    "            new_d[\"quality1\"] = module.d[key][3][\"medium\"]\n",
    "            new_d[\"qualityd\"] = module.d[key][3][\"good\"] - module.d[key][3][\"bad\"]\n",
    "            module.l.append(new_d)"
   ]
  },
  {
   "cell_type": "code",
   "execution_count": null,
   "metadata": {},
   "outputs": [],
   "source": [
    "plot.plt.rcParams[\"figure.figsize\"] = (7, 7)\n",
    "plot.SIZE_AXIS = \"small\"\n",
    "plot.SIZE = \"small\"\n",
    "fig_dr = plot.plot_key(\n",
    "    [module.l for module in modules],\n",
    "    key_x=\"posd0\",\n",
    "    key_y=\"quality\",\n",
    "    labels=[module.label for module in modules],\n",
    "    loc=\"lower left\",\n",
    "    # keycolor=\"lambda\",\n",
    "    # colormaps=[\n",
    "    #     \"Reds\",\n",
    "    #     \"Purples\",\n",
    "    #     \"Oranges\",\n",
    "    #     \"Greys\",\n",
    "    #     \"Blues\",\n",
    "    #     \"Yellows\",\n",
    "    #     \"Greens\",\n",
    "    # ],\n",
    "    linestyles=[\"solid\" for module in modules],\n",
    "    # linestyles=[ls if ls not in [] else None for ls in [\n",
    "    #     \"solid\",\n",
    "    #     \"dashed\",\n",
    "    #     \"solid\",\n",
    "    #     \"solid\",\n",
    "    # ]],\n",
    "    connect_points=True,\n",
    "    order=2,\n",
    ")"
   ]
  },
  {
   "cell_type": "markdown",
   "metadata": {},
   "source": [
    "# Backup"
   ]
  },
  {
   "cell_type": "code",
   "execution_count": null,
   "metadata": {},
   "outputs": [],
   "source": [
    "from llamastack import steps1_0406, wainitto1_0406, wa0to1_0406_step241, wa0to1_0406, wainitto0_0406, steps0_0406, multi01steps_0406, steps0_bs126_0411, steps0v2_0406\n",
    "\n",
    "modules_stack = [\n",
    "    steps0_bs126_0411, steps0_0406, steps0v2_0406, wainitto0_0406, steps1_0406, wainitto1_0406,\n",
    "    wa0to1_0406_step241, wa0to1_0406, multi01steps_0406\n",
    "]\n",
    "\n",
    "fig_dr = plot.plot_key(\n",
    "    [module.l for module in modules_stack],\n",
    "    key_x=\"gpt2\",\n",
    "    key_y=\"hfb\",\n",
    "    # list_indexes=[2],\n",
    "    labels=[module.label for module in modules_stack],\n",
    "    # loc=(1.05, 0),\n",
    "    loc=\"upper right\",\n",
    "    colormaps=[\"Purples\", \"Blues\", \"Blues\", \"Reds\", \"Reds\", \"Greens\", \"Greens\", \"Purples\", \"Greys\"],\n",
    "    linestyles=[\n",
    "        \"solid\", \"solid\", \"dashed\", \"solid\", \"dashed\", \"solid\", \"dotted\", \"dashdot\", \"dashdot\"\n",
    "    ],\n",
    "    connect_endpoints=False,\n",
    "    # order=\"connect\",\n",
    "    order=\"savgol_3_1_quadratic\",\n",
    ")\n",
    "plot.save_fig(fig=fig_dr, name=\"nlp/pareto_stack_gpt2tohfb.pdf\", do_save=do_save)"
   ]
  }
 ],
 "metadata": {
  "kernelspec": {
   "display_name": "nlp",
   "language": "python",
   "name": "python3"
  },
  "language_info": {
   "codemirror_mode": {
    "name": "ipython",
    "version": 3
   },
   "file_extension": ".py",
   "mimetype": "text/x-python",
   "name": "python",
   "nbconvert_exporter": "python",
   "pygments_lexer": "ipython3",
   "version": "3.8.16"
  }
 },
 "nbformat": 4,
 "nbformat_minor": 2
}
