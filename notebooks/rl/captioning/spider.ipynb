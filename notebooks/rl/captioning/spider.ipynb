{
 "cells": [
  {
   "cell_type": "code",
   "execution_count": 1,
   "metadata": {},
   "outputs": [],
   "source": [
    "%load_ext autoreload\n",
    "%autoreload 2\n",
    "import sys\n",
    "import collections\n",
    "import numpy as np\n",
    "# sys.path.append(\"/private/home/alexandrerame/domainbedv2/\")\n",
    "# sys.path.append(\"/private/home/alexandrerame/slurmconfig/notebook/data\")\n",
    "\n",
    "sys.path.append(\"/home/rame/domainbedv2/\")\n",
    "\n",
    "from domainbed.codeplot import plot\n",
    "plot.plt.style.use('default')\n",
    "sys.path.append(\"/data/rame/logs_experiments_notebook/\")"
   ]
  },
  {
   "cell_type": "code",
   "execution_count": 2,
   "metadata": {},
   "outputs": [],
   "source": [
    "plot.plt.rcParams[\"figure.figsize\"] = (6, 6)\n",
    "# plot.plt.rcParams['text.usetex'] = True\n",
    "# plot.plt.rcParams['font.family'] = 'serif'\n",
    "plot.plt.rcParams['font.serif'] = 'Times Roman'\n",
    "# plot.FORMAT_X = 1\n",
    "# plot.FORMAT_Y = 3\n",
    "plot.dict_key_to_label.update(\n",
    "    {\n",
    "        \"ROUGE_L\": r\"$R_2$: $rouge$\",\n",
    "        \"Bleu_1\": r\"$R_1$: $bleu1$\",\n",
    "        \"Bleu_4\": r\"$R_2$: $bleu4$\",\n",
    "        \"METEOR\": r\"$R_2$: $meteor$\",\n",
    "        \"CIDEr\": r\"$R_2$: $cider$\"\n",
    "    }\n",
    ")\n",
    "dict_colormaps = plot.create_colormaps()\n",
    "cmap_redpurpleblue = plot.matplotlib.colors.LinearSegmentedColormap.from_list(\n",
    "    \"\", [\n",
    "        plot.get_color_from_cmap(\"Reds\", dict_colormaps),\n",
    "        plot.get_color_from_cmap(\"Purples\", dict_colormaps),\n",
    "        plot.get_color_from_cmap(\"Blues\", dict_colormaps)\n",
    "    ]\n",
    ")\n",
    "cmap_redgreenblue = plot.matplotlib.colors.LinearSegmentedColormap.from_list(\n",
    "    \"\", [\n",
    "        plot.get_color_from_cmap(\"Reds\", dict_colormaps), (125 / 255, 150 / 255, 250 / 255),\n",
    "        plot.get_color_from_cmap(\"Blues\", dict_colormaps)\n",
    "    ]\n",
    ")\n",
    "\n",
    "do_save = True\n"
   ]
  },
  {
   "cell_type": "code",
   "execution_count": 3,
   "metadata": {},
   "outputs": [],
   "source": [
    "from captioning import fts_bleu4, fts_bleu, fts_rouge, fts_meteor, fts_bleurouge, fts_bleumeteor, fts_bleubleu4, fts_rougebleu4, fts_cider, fts_ciderbleu, fts_rougecider\n",
    "from captioning import e2e_bleu, e2e_bleu4, e2e_rouge, e2e_bleurouge, e2e_bleu4rouge, e2e_meteor, e2e_bleubleu4, e2e_bleumeteor, e2e_cider"
   ]
  },
  {
   "cell_type": "code",
   "execution_count": null,
   "metadata": {},
   "outputs": [],
   "source": []
  }
 ],
 "metadata": {
  "kernelspec": {
   "display_name": "nlp",
   "language": "python",
   "name": "python3"
  },
  "language_info": {
   "codemirror_mode": {
    "name": "ipython",
    "version": 3
   },
   "file_extension": ".py",
   "mimetype": "text/x-python",
   "name": "python",
   "nbconvert_exporter": "python",
   "pygments_lexer": "ipython3",
   "version": "3.8.16"
  },
  "orig_nbformat": 4
 },
 "nbformat": 4,
 "nbformat_minor": 2
}
