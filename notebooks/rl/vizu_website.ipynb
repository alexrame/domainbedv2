{
 "cells": [
  {
   "cell_type": "code",
   "execution_count": 1,
   "metadata": {},
   "outputs": [],
   "source": [
    "%load_ext autoreload\n",
    "%autoreload 2\n",
    "import sys\n",
    "import collections\n",
    "import numpy as np\n",
    "import re\n",
    "import os\n",
    "# sys.path.append(\"/private/home/alexandrerame/domainbedv2/\")\n",
    "# sys.path.append(\"/private/home/alexandrerame/slurmconfig/notebook/data\")\n",
    "\n",
    "sys.path.append(\"/home/rame/domainbedv2/\")\n",
    "from domainbed.codeplot import plot\n",
    "plot.plt.style.use('default')\n",
    "sys.path.append(\"/data/rame/logs_experiments_notebook/vizu\")"
   ]
  },
  {
   "cell_type": "code",
   "execution_count": 32,
   "metadata": {},
   "outputs": [],
   "source": [
    "import infnews_cog_tristan_0406_step91\n",
    "d = infnews_cog_tristan_0406_step91.d"
   ]
  },
  {
   "cell_type": "code",
   "execution_count": 13,
   "metadata": {},
   "outputs": [],
   "source": [
    "num_texts = len(d[0])\n",
    "num_lambdas = len(d)"
   ]
  },
  {
   "cell_type": "code",
   "execution_count": 31,
   "metadata": {},
   "outputs": [],
   "source": [
    "range_lambdas = sorted(d.keys())"
   ]
  },
  {
   "cell_type": "code",
   "execution_count": 17,
   "metadata": {},
   "outputs": [],
   "source": [
    "def get_score(scores):\n",
    "    return scores[-1] - scores[0]"
   ]
  },
  {
   "cell_type": "code",
   "execution_count": 18,
   "metadata": {},
   "outputs": [
    {
     "ename": "IndexError",
     "evalue": "list index out of range",
     "output_type": "error",
     "traceback": [
      "\u001b[0;31m---------------------------------------------------------------------------\u001b[0m",
      "\u001b[0;31mIndexError\u001b[0m                                Traceback (most recent call last)",
      "Cell \u001b[0;32mIn[18], line 3\u001b[0m\n\u001b[1;32m      1\u001b[0m dict_text_to_variance \u001b[39m=\u001b[39m {}\n\u001b[1;32m      2\u001b[0m \u001b[39mfor\u001b[39;00m n \u001b[39min\u001b[39;00m \u001b[39mrange\u001b[39m(num_texts):\n\u001b[0;32m----> 3\u001b[0m     scores \u001b[39m=\u001b[39m [infnews\u001b[39m.\u001b[39md[l][n][\u001b[39m1\u001b[39m][\u001b[39m0\u001b[39m][\u001b[39m\"\u001b[39m\u001b[39mLABEL_0\u001b[39m\u001b[39m\"\u001b[39m] \u001b[39mfor\u001b[39;00m l \u001b[39min\u001b[39;00m range_lambdas]   \n\u001b[1;32m      4\u001b[0m     dict_text_to_variance[n] \u001b[39m=\u001b[39m get_score(scores)\n",
      "Cell \u001b[0;32mIn[18], line 3\u001b[0m, in \u001b[0;36m<listcomp>\u001b[0;34m(.0)\u001b[0m\n\u001b[1;32m      1\u001b[0m dict_text_to_variance \u001b[39m=\u001b[39m {}\n\u001b[1;32m      2\u001b[0m \u001b[39mfor\u001b[39;00m n \u001b[39min\u001b[39;00m \u001b[39mrange\u001b[39m(num_texts):\n\u001b[0;32m----> 3\u001b[0m     scores \u001b[39m=\u001b[39m [infnews\u001b[39m.\u001b[39;49md[l][n][\u001b[39m1\u001b[39m][\u001b[39m0\u001b[39m][\u001b[39m\"\u001b[39m\u001b[39mLABEL_0\u001b[39m\u001b[39m\"\u001b[39m] \u001b[39mfor\u001b[39;00m l \u001b[39min\u001b[39;00m range_lambdas]   \n\u001b[1;32m      4\u001b[0m     dict_text_to_variance[n] \u001b[39m=\u001b[39m get_score(scores)\n",
      "\u001b[0;31mIndexError\u001b[0m: list index out of range"
     ]
    }
   ],
   "source": [
    "dict_text_to_variance = {}\n",
    "for n in range(num_texts):\n",
    "    scores = [infnews.d[l][n][1][0][\"LABEL_0\"] for l in range_lambdas]   \n",
    "    dict_text_to_variance[n] = get_score(scores)"
   ]
  },
  {
   "cell_type": "code",
   "execution_count": 23,
   "metadata": {},
   "outputs": [
    {
     "data": {
      "text/plain": [
       "('  ### Instruction: Generate a one-sentence summary of this post. ### Input: Turkish security forces killed 17 Kurdish militants near the border between Iraq and southeast Turkey, the armed forces said on Thursday, after eight members of Turkey s security forces were killed in clashes. Early on Thursday, Turkish forces killed five Kurdistan Workers Party (PKK) militants in clashes after the militants sought to cross the border into Hakkari province s mountainous Semdinli district, the armed forces said in a statement. It said six Turkish soldiers and two members of the country s state-backed village guard militia were killed in the fighting. A helicopter-backed operation was started in search of further PKK militants, and Turkish warplanes later killed another 12 militants who were trying to escape across the border to northern Iraq, the military said. Separately, President Tayyip Erdogan said another five PKK militants were killed in clashes in the southeastern province of Tunceli. He said the clashes in Turkey s southeast were continuing. The PKK launched a separatist insurgency in 1984 and more than 40,000 people have been killed in the conflict. It is designated a terrorist group by Turkey, the United States and European Union. ### Response: Turkish troops, Kurdish militants and security forces clashed near the border, resulting in casualties on both sides.',\n",
       " [{'LABEL_0': 1.714829921722412},\n",
       "  {'HALLUCINATED': -1.9894694089889526, 'FAITHFUL': -0.3128616213798523}])"
      ]
     },
     "execution_count": 23,
     "metadata": {},
     "output_type": "execute_result"
    }
   ],
   "source": [
    "infnews.d[0][n]"
   ]
  },
  {
   "cell_type": "code",
   "execution_count": 33,
   "metadata": {},
   "outputs": [
    {
     "name": "stdout",
     "output_type": "stream",
     "text": [
      "0 [{'LABEL_0': 1.714829921722412}, {'HALLUCINATED': -1.9894694089889526, 'FAITHFUL': -0.3128616213798523}]\n",
      "0.05 [{'LABEL_0': 1.681304931640625}, {'HALLUCINATED': -1.2617485523223877, 'FAITHFUL': -0.3723723292350769}]\n",
      "0.1 [{'LABEL_0': 1.714829921722412}, {'HALLUCINATED': -1.9894694089889526, 'FAITHFUL': -0.3128616213798523}]\n",
      "0.15 [{'LABEL_0': 1.5300265550613403}, {'HALLUCINATED': -0.9683858752250671, 'FAITHFUL': -0.3975396156311035}]\n"
     ]
    },
    {
     "ename": "IndexError",
     "evalue": "list index out of range",
     "output_type": "error",
     "traceback": [
      "\u001b[0;31m---------------------------------------------------------------------------\u001b[0m",
      "\u001b[0;31mIndexError\u001b[0m                                Traceback (most recent call last)",
      "Cell \u001b[0;32mIn[33], line 2\u001b[0m\n\u001b[1;32m      1\u001b[0m \u001b[39mfor\u001b[39;00m l \u001b[39min\u001b[39;00m range_lambdas:\n\u001b[0;32m----> 2\u001b[0m     \u001b[39mprint\u001b[39m(l, infnews\u001b[39m.\u001b[39;49md[l][n][\u001b[39m1\u001b[39m])\n",
      "\u001b[0;31mIndexError\u001b[0m: list index out of range"
     ]
    }
   ],
   "source": [
    "for l in range_lambdas:\n",
    "    print(l, infnews.d[l][n][1])"
   ]
  },
  {
   "cell_type": "code",
   "execution_count": 34,
   "metadata": {},
   "outputs": [
    {
     "data": {
      "text/plain": [
       "0.15000000000000002"
      ]
     },
     "execution_count": 34,
     "metadata": {},
     "output_type": "execute_result"
    }
   ],
   "source": [
    "l"
   ]
  },
  {
   "cell_type": "code",
   "execution_count": 28,
   "metadata": {},
   "outputs": [
    {
     "data": {
      "text/plain": [
       "{'LABEL_0': 1.5300265550613403}"
      ]
     },
     "execution_count": 28,
     "metadata": {},
     "output_type": "execute_result"
    }
   ],
   "source": [
    "infnews.d[0.15][n][1][0]"
   ]
  },
  {
   "cell_type": "code",
   "execution_count": null,
   "metadata": {},
   "outputs": [],
   "source": []
  }
 ],
 "metadata": {
  "kernelspec": {
   "display_name": "nlp",
   "language": "python",
   "name": "python3"
  },
  "language_info": {
   "codemirror_mode": {
    "name": "ipython",
    "version": 3
   },
   "file_extension": ".py",
   "mimetype": "text/x-python",
   "name": "python",
   "nbconvert_exporter": "python",
   "pygments_lexer": "ipython3",
   "version": "3.8.16"
  },
  "orig_nbformat": 4
 },
 "nbformat": 4,
 "nbformat_minor": 2
}
