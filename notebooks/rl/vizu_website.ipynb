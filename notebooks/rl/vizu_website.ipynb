{
 "cells": [
  {
   "cell_type": "code",
   "execution_count": 1,
   "metadata": {},
   "outputs": [],
   "source": [
    "%load_ext autoreload\n",
    "%autoreload 2\n",
    "import sys\n",
    "import collections\n",
    "import numpy as np\n",
    "import re\n",
    "import os\n",
    "# sys.path.append(\"/private/home/alexandrerame/domainbedv2/\")\n",
    "# sys.path.append(\"/private/home/alexandrerame/slurmconfig/notebook/data\")\n",
    "\n",
    "# sys.path.append(\"/home/rame/domainbedv2/\")\n",
    "# from domainbed.codeplot import plot\n",
    "\n",
    "# plt.style.use('default')\n",
    "# sys.path.append(\"/data/rame/logs_experiments_notebook/vizu\")"
   ]
  },
  {
   "cell_type": "code",
   "execution_count": 2,
   "metadata": {},
   "outputs": [],
   "source": [
    "import infnews_cog_tristan_0406_step91\n",
    "d = infnews_cog_tristan_0406_step91.d"
   ]
  },
  {
   "cell_type": "code",
   "execution_count": 3,
   "metadata": {},
   "outputs": [],
   "source": [
    "num_texts = len(d[0])\n",
    "num_lambdas = len(d)"
   ]
  },
  {
   "cell_type": "code",
   "execution_count": 4,
   "metadata": {},
   "outputs": [],
   "source": [
    "range_lambdas = sorted(d.keys())"
   ]
  },
  {
   "cell_type": "code",
   "execution_count": 28,
   "metadata": {},
   "outputs": [],
   "source": [
    "def get_score(scores):\n",
    "    return len(set(scores)) * (scores[1] > scores[0])"
   ]
  },
  {
   "cell_type": "code",
   "execution_count": 29,
   "metadata": {},
   "outputs": [],
   "source": [
    "dict_text_to_variance = {}\n",
    "for n in range(num_texts):\n",
    "    scores = [d[l][n][1][0][\"LABEL_0\"] for l in range_lambdas]   \n",
    "    dict_text_to_variance[n] = get_score(scores)"
   ]
  },
  {
   "cell_type": "code",
   "execution_count": 30,
   "metadata": {},
   "outputs": [],
   "source": [
    "sortedtexts = sorted(dict_text_to_variance.items(), key=lambda item: item[1], reverse=True)"
   ]
  },
  {
   "cell_type": "code",
   "execution_count": 34,
   "metadata": {},
   "outputs": [
    {
     "name": "stdout",
     "output_type": "stream",
     "text": [
      "===text 39   ### Instruction: Generate a one-sentence summary of this post. ### Input: President Vladimir Putin signed a decree on Thursday which said Russia s armed forces numbered just over 1.9 million people, including over 1 million military servicemen. The TASS news agency said the new decree replaced an older one from 2016 which had put the total number of personnel in the armed forces at around 1.8 million. ### Response: Putin, in a decree, increased Russia’s armed forces number.\n",
      "lambda [0.8717777729034424, 1.1103273630142212, 1.383264422416687, 1.0751465559005737, 1.1685130596160889, 1.3288044929504395, 1.4561816453933716, 1.528932809829712, 1.621852993965149, 1.621852993965149, 1.4998242855072021]\n",
      "===text 63   ### Instruction: Generate a one-sentence summary of this post. ### Input: Turkish President Tayyip Erdogan said on Thursday the United States  decision to recognize Jerusalem as Israel s capital completely disregarded a 1980 United Nations resolution regarding the status of the city. Erdogan also said the decision would throw the region into a  ring of fire. He was speaking to supporters at the airport in Ankara before departing to Greece for an official visit. ### Response: Turkey's Erdogan slams US Jerusalem move.\n",
      "lambda [0.8131498694419861, 1.292316198348999, 1.3412683010101318, 1.5314115285873413, 1.9742543697357178, 1.4650505781173706, 1.7220642566680908, 1.5279228687286377, 1.7564830780029297, 1.7613847255706787, 1.9774513244628906]\n",
      "===text 17   ### Instruction: Generate a one-sentence summary of this post. ### Input: Former Egyptian premier Ahmed Shafik said on Sunday he was still considering his presidential bid and exploring the idea further now that he is in Egypt, according to a televised interview on Sunday in which he denied authorities had kidnapped him.  Today I am here in the country, so I think I am free to deliberate further on the issue, to explore and go down and talk to people in the street... so there s a chance now to investigate more and see exactly what is needed... to feel out if this is the logical choice,  Shafik said. The interview on private Dream TV channel was Shafik s first public appearance since leaving the United Arab Emirates on Saturday for Cairo. His family said he was  kidnapped  and sources said he had been picked up by Egyptian officials at Cairo airport. ### Response: Former Egyptian politician Ahmed Shafik has announced that he is considering his presidential bid and is exploring the idea further.\n",
      "lambda [1.5514804124832153, 1.6103672981262207, 1.5744664669036865, 1.5744664669036865, 1.563323736190796, 1.4935038089752197, 1.43775475025177, 1.43775475025177, 1.911514401435852, 2.0335445404052734, 1.7717205286026]\n",
      "===text 7   ### Instruction: Generate a one-sentence summary of this post. ### Input: Police in Malawi have arrested 200 suspected members of vigilante mobs that have been killing people they believe are vampires, a spokesman said on Tuesday. Nine people have been killed since mid-September in southern Malawi where there is a widespread belief in witchcraft. The violence has prompted the United Nations and the U.S. embassy to declare some parts of the country no-go zones. The attacks spread last week to Blantyre, Malawi s second largest city where a 22-year-old man was stoned then burned to death and another was stoned to death.  Both were accused of bloodsucking, although medical experts deny the existence of vampirism in Malawi. Amos Daka, head of the Medical Society of Malawi, said his group was not aware  that any one has adequate clinical evidence to support any of the many claims to date.  President Peter Mutharika has visited parts of the country affected by the violence. This month, the United Nations pulled staff out of two areas in southern Malawi. ### Response: Malawi vigilante violence has caused widespread panic and death.\n",
      "lambda [0.9146442413330078, 1.8872565031051636, 1.337646245956421, 1.9294682741165161, 1.758426308631897, 1.9666343927383423, 1.6138945817947388, 1.8463395833969116, 1.8653476238250732, 1.9071100950241089, 1.9071100950241089]\n",
      "===text 21   ### Instruction: Generate a one-sentence summary of this post. ### Input: A Saudi-led military coalition said on Saturday an air strike that hit a market in Yemen s northern Saadah province was a legitimate military target, the Saudi news agency reported. On Wednesday, medics and a Reuters witness said an air strike carried out by the coalition killed 26 people at a hotel and an adjoining market. The attack, which struck the Sahar district of the vast territory that borders Saudi Arabia, demolished the budget hotel and reduced market stalls outside to a heap of twisted sheet metal. The coalition statement reviewed the incident and quoted its spokesman as saying the target was the gathering point for some armed Houthi militants. The military alliance led by Saudi Arabia has launched thousands of air strikes against Yemen s armed Houthi movement, which hails from Saadah and now controls much of the country. ### Response: Saudi-led forces have attacked a market in Yemen, causing destruction and casualties.\n",
      "lambda [1.6095588207244873, 1.653707504272461, 1.663938045501709, 1.6911795139312744, 1.619265079498291, 2.349703311920166, 2.1017212867736816, 2.3192477226257324, 2.3192477226257324, 2.3192477226257324, 2.3192477226257324]\n",
      "===text 69   ### Instruction: Generate a one-sentence summary of this post. ### Input: British police said a bomb was used during an explosion at a London metro station which injured 18 people in what officers described as a  terrorist incident.   We now assess that this was a detonation of an improvised explosive device,  Britain s top counter-terrorism officer Mark Rowley said on Friday.  London s police is being supported by Britain s MI5 intelligence service, he said. ### Response: London metro station incident caused by a bomb and injuries due to terrorism.\n",
      "lambda [1.165165901184082, 1.165165901184082, 1.632093906402588, 1.7176636457443237, 1.8118574619293213, 1.9250459671020508, 1.9003050327301025, 2.0164263248443604, 2.0164263248443604, 2.0164263248443604, 2.227365255355835]\n",
      "===text 110   ### Instruction: Generate a one-sentence summary of this post. ### Input: Senate Republican leader Mitch McConnell told President Barack Obama’s Supreme Court nominee Merrick Garland by phone on Wednesday that Republicans will not act on his nomination or meet with him, a McConnell spokesman said.”Rather than put Judge Garland through more unnecessary political routines orchestrated by the White House, the leader decided it would be more considerate of the nominee’s time to speak with him today by phone,” McConnell spokesman Don Stewart said in a statement.  McConnell told the appellate court judge that “since the Senate will not be acting on this nomination, he would not be holding a perfunctory meeting, but he wished Judge Garland well,” Stewart added. ### Response: Top Senate Republican Mitch McConnell has announced that his party will not be meeting with Supreme Court nominee Merrick Garland.\n",
      "lambda [1.1960729360580444, 1.3992743492126465, 1.6265630722045898, 1.6712349653244019, 1.6712349653244019, 1.599066138267517, 1.3352771997451782, 1.2260974645614624, 1.302726149559021, 1.1746121644973755, 1.4471428394317627]\n",
      "===text 184   ### Instruction: Generate a one-sentence summary of this post. ### Input: FBI Director James Comey told Congress on Sunday a recent review of newly discovered emails did not change the agency’s conclusion reached in July that no charges were warranted in the case of Hillary Clinton’s use of a private email server. U.S. Republican Representative Jason Chaffetz said in a tweet that Comey had informed him of the conclusion. Comey’s letter to Congress informing it of the newly discovered emails had thrown Clinton’s presidential race against Republican Donald Trump into turmoil. ### Response: FBI tells Congress it has not changed its decision not to pursue charges against Hillary Clinton.\n",
      "lambda [1.360236644744873, 1.3536088466644287, 1.626406192779541, 1.705965280532837, 1.656076192855835, 1.8811712265014648, 1.8811712265014648, 2.11171555519104, 2.11171555519104, 2.1699037551879883, 2.1699037551879883]\n",
      "===text 15   ### Instruction: Generate a one-sentence summary of this post. ### Input: A meeting in New York on Thursday between U.S. President-elect Donald Trump and Japanese Prime Minister Shinzo Abe has ended, a Trump transition team official said. The hastily arranged meeting was an attempt to smooth relations following Trump’s campaign rhetoric that cast doubt on long-standing U.S. alliances. ### Response: Meeting between Trump and Japan PM to smooth relations.\n",
      "lambda [0.7833921909332275, 1.082383155822754, 1.1143985986709595, 1.178232192993164, 1.3710459470748901, 1.193389654159546, 1.7270194292068481, 1.594241976737976, 1.686155080795288, 1.686155080795288, 2.0791573524475098]\n",
      "===text 41   ### Instruction: Generate a one-sentence summary of this post. ### Input: U.S. representatives Jason Chaffetz and Elijah Cummings of the House Committee on Oversight and Government Reform sent a letter to Mylan NV Chief Executive Heather Bresch on Monday asking for documents and communications related to the fast-increasing price of allergy auto-injector EpiPens. Mylan said earlier it would launch the first generic version of EpiPen for $300, half the price of the branded product, in the drugmaker’s second step in less than a week to counter a backlash over the product’s steep price. Chaffetz and Cummings, the committee’s chairman and ranking member respectively, requested documents related to Mylan’s revenue from sales of EpiPens since 2007, manufacturing costs and the amount the company receives from federal health care programs. ### Response: House Committee requests documents and communications related to EpiPen price hike.\n",
      "lambda [1.1404277086257935, 1.1404277086257935, 1.644415020942688, 1.387091875076294, 1.387091875076294, 1.2125152349472046, 1.4057519435882568, 1.4057519435882568, 1.7167744636535645, 1.7747902870178223, 1.6511203050613403]\n",
      "===text 92   ### Instruction: Generate a one-sentence summary of this post. ### Input: Elon Musk, the chairman and chief executive of SpaceX and Tesla as well as Uber Technologies CEO and co-founder Travis Kalanick and PepsiCo Chairman and CEO Indra Nooyi have joined U.S. President-elect Donald Trump’s advisory council, Trump’s transition team said on Wednesday. The group, which includes numerous other top business leaders, aims to give industry input on the private sector to Trump, who takes office on Jan. 20. ### Response: Uber, SpaceX, and Tesla CEOs are advising the new President.\n",
      "lambda [0.37278735637664795, 1.2890520095825195, 1.6144930124282837, 1.71090567111969, 1.834275722503662, 1.887855052947998, 1.834275722503662, 1.7904784679412842, 1.6161084175109863, 1.6161084175109863, 1.8942155838012695]\n",
      "===text 141   ### Instruction: Generate a one-sentence summary of this post. ### Input: A U.S. appeals court on Thursday suspended proceedings over President Donald Trump’s travel ban for individuals from seven Muslim-majority countries, after Trump announced a new executive order would come soon. The 9th U.S. Circuit Court of Appeals had been mulling whether to reconsider its ruling temporarily suspending Trump’s directive. In a court order, the 9th Circuit said it would put that process on hold pending further developments. ### Response: Appeals have been suspended while new executive orders are being considered.\n",
      "lambda [0.940379798412323, 1.887147068977356, 1.363673210144043, 1.7800018787384033, 1.7800018787384033, 1.7615444660186768, 1.8118752241134644, 1.8118752241134644, 1.6559150218963623, 1.730834722518921, 1.716881513595581]\n",
      "===text 74   ### Instruction: Generate a one-sentence summary of this post. ### Input: Egypt s government has declared three days of mourning after attack on north Sinai mosque killed at least 85 people on Friday, state television said. ### Response: Egypt declares three days of mourning following attack on mosque in North Sinai.\n",
      "lambda [1.5915731191635132, 1.7183045148849487, 1.7183045148849487, 1.7432761192321777, 1.7183045148849487, 2.0650808811187744, 2.0379388332366943, 2.203509569168091, 2.015303611755371, 2.1500372886657715, 2.121164560317993]\n",
      "===text 113   ### Instruction: Generate a one-sentence summary of this post. ### Input: Saudi Arabia s King Salman received Palestinian President Mahmoud Abbas in Riyadh on Wednesday and reiterated the kingdom s support for the Palestinian people, state news agency SPA reported.  The king reassured the Palestinian leader that Saudi Arabia continues to support the right of Palestinians to an independent state with East Jerusalem as its capital, SPA said.   The two leaders also discussed the latest developments in the Palestinian territories, it said. A dozen Saudi princes and officials also attended the meeting.  Saudi Arabia condemned U.S. President Donald Trump s decision to recognize Jerusalem as the capital of Israel and said any decision to move the U.S. Embassy to Jerusalem before a permanent peace settlement is reached would inflame the feelings of Muslims, official media reported. ### Response: Saudi king supports Palestinian rights and urges peace.\n",
      "lambda [0.6392292976379395, 0.9241880774497986, 0.9417849183082581, 1.2519745826721191, 1.0112112760543823, 1.2519745826721191, 0.9837842583656311, 1.932539701461792, 1.007839322090149, 1.007839322090149, 1.007839322090149]\n",
      "===text 128   ### Instruction: Generate a one-sentence summary of this post. ### Input: The United States is closely watching the situation in Saudi Arabia amid reported asset agreements between Saudi authorities and some detainees in an anti-corruption crackdown, U.S. Treasury Secretary Steven Mnuchin said on Friday. Asked about the agreements to hand over wealth for detainees  freedom, Mnuchin told CNBC  I think that the Crown Prince (Mohammed bin Salman) is doing a great job at transforming the country,  adding that the United States was  obviously monitoring the situation. ### Response: U,S, authorities are monitoring the situation in Saudi Arabia and assessing the impact of asset agreements.\n",
      "lambda [1.2409440279006958, 1.564247727394104, 1.6400179862976074, 1.8574929237365723, 1.9128819704055786, 1.9128819704055786, 1.9325577020645142, 2.0435068607330322, 1.9876716136932373, 2.1004691123962402, 2.0147969722747803]\n",
      "===text 140   ### Instruction: Generate a one-sentence summary of this post. ### Input: Turkish President Tayyip Erdogan wants the foundations to be laid for the Akkuyu nuclear plant in southern Turkey by the end of this month, Yeni Safak and other newspapers cited him as telling reporters during a visit to Qatar. Russian President Vladimir Putin said on Monday Russia and Turkey plan to launch the first reactor at Akkuyu in 2023, with Russian state nuclear agency Rosatom set to begin work at the site in the near future. ### Response: Turkey's Erdogan and Russia's Putin agree on a deadline for the construction of a nuclear plant.\n",
      "lambda [0.9065883159637451, 1.0992498397827148, 1.0908880233764648, 1.5327953100204468, 1.974182367324829, 1.974182367324829, 1.974182367324829, 1.974182367324829, 1.8603688478469849, 1.8603688478469849, 1.8875401020050049]\n",
      "===text 18   ### Instruction: Generate a one-sentence summary of this post. ### Input: Turkish President Tayyip Erdogan will visit Russia s Sochi on November 13, followed by a visit to Kuwait the following day, his office said on Monday. The visit to Sochi comes amid reports of potential sticking points in Turkey s planned purchase of a Russian S-400 surface-to-air missile system, and Turkish objections to the attendance of Syrian Kurdish groups to a Russian-sponsored Syrian peace congress scheduled for Nov. 18. Last week, the two countries took a step toward the solution of an import crisis as Russia lifted restrictions on import of Turkish tomatoes. ### Response: Turkey's Erdogan to visit Russia and Kuwait amid tensions.\n",
      "lambda [0.6278574466705322, 1.1415973901748657, 1.1415973901748657, 1.439042091369629, 1.0542144775390625, 1.5869009494781494, 1.0542144775390625, 1.1486304998397827, 1.3710625171661377, 1.3710625171661377, 1.6221213340759277]\n",
      "===text 32   ### Instruction: Generate a one-sentence summary of this post. ### Input: The center-right government of Peru s embattled President Pedro Pablo Kuczynski canceled its scheduled auction of a $2 billion copper project, Michiquillay, on Wednesday amid a growing political crisis, two government sources said. The regional bloc Organization of American States said earlier on Wednesday that it was preparing to send a delegation to Peru, the world s second biggest copper producer, to observe the  political situation  at the request of Kuczynski ahead of a vote in Congress to oust him on Thursday. ### Response: Peru cancels a copper project amid a political crisis.\n",
      "lambda [0.8603130578994751, 1.0937469005584717, 1.0937469005584717, 1.5050262212753296, 1.9272129535675049, 1.9272129535675049, 1.9272129535675049, 1.9272129535675049, 1.913735270500183, 2.270601272583008, 2.3306734561920166]\n",
      "===text 46   ### Instruction: Generate a one-sentence summary of this post. ### Input: The U.S. Congress on Wednesday overwhelmingly approved and sent to President Barack Obama legislation preventing government shutdowns at the end of this week by temporarily funding federal agencies through Dec. 9. The bill, which Obama is expected to promptly sign into law, also appropriates $1.1 billion in new money to battle an outbreak of the Zika virus. Final action in Congress came when the House of Representatives overwhelmingly approved the bill. ### Response: U,S, Congress approved a bill to prevent govt shutdowns.\n",
      "lambda [1.1786929368972778, 1.8006880283355713, 1.8312361240386963, 1.905304193496704, 1.923396348953247, 1.856953740119934, 1.8907737731933594, 1.8907737731933594, 1.766061782836914, 1.766061782836914, 1.766061782836914]\n",
      "===text 54   ### Instruction: Generate a one-sentence summary of this post. ### Input: U.S. Ambassador to the United Nations Nikki Haley said on Friday she did not want to take the job of Secretary of State Rex Tillerson, whose tenure has been dogged by rumors of rifts with President Donald Trump. Asked by reporters whether she wanted to be the top U.S. diplomat, Haley said: “I just don’t want to keep having this conversation. The focus is, I really want to do a good job now in what I’m doing.” “We have a secretary of state. Tillerson’s not going anywhere, so it’s really not been a topic of conversation,” she told reporters in Kinshasa at the end of a week-long trip to Africa. If she was offered the job, she said: “I would say no.” Tillerson, a former chief executive officer of Exxon Mobil Corp, said on Oct. 4 he had never considered resigning, but failed to address whether he had referred to Trump as a “moron,” as NBC reported. That was a few days after Trump said on Twitter that Tillerson was “wasting his time” trying to negotiate with North Korea after the secretary of state said Washington was directly communicating with Pyongyang on its nuclear and missile programs. More recently Trump has said he has a good relationship with his secretary of state but that Tillerson could be tougher. Haley, a Republican former governor of South Carolina, traveled to Ethiopia, South Sudan and Democratic Republic of Congo. ### Response: Haley's decision to stay in her post.\n",
      "lambda [-0.7855261564254761, -0.11661829799413681, 0.11910062283277512, -0.4471285939216614, 0.9463496804237366, 0.7486186623573303, 0.813177764415741, 1.0373437404632568, 1.0373437404632568, 1.0373437404632568, 1.0373437404632568]\n"
     ]
    }
   ],
   "source": [
    "list_texts = [i[0] for i in sortedtexts[:20]]\n",
    "for text, _ in sortedtexts[:20]:\n",
    "    print(\"===text\", text, d[0][text][0])\n",
    "    print(\"lambda\", [d[l][text][1][0][\"LABEL_0\"] for l in [0, 0.1, 0.2, 0.3, 0.4, 0.5, 0.6, 0.7, 0.8, 0.9, 1]])"
   ]
  },
  {
   "cell_type": "code",
   "execution_count": 36,
   "metadata": {},
   "outputs": [
    {
     "data": {
      "text/plain": [
       "[39,\n",
       " 63,\n",
       " 17,\n",
       " 7,\n",
       " 21,\n",
       " 69,\n",
       " 110,\n",
       " 184,\n",
       " 15,\n",
       " 41,\n",
       " 92,\n",
       " 141,\n",
       " 74,\n",
       " 113,\n",
       " 128,\n",
       " 140,\n",
       " 18,\n",
       " 32,\n",
       " 46,\n",
       " 54]"
      ]
     },
     "execution_count": 36,
     "metadata": {},
     "output_type": "execute_result"
    }
   ],
   "source": [
    "list_texts"
   ]
  },
  {
   "cell_type": "code",
   "execution_count": 38,
   "metadata": {},
   "outputs": [],
   "source": [
    "data = []\n",
    "\n",
    "for text in list_texts:\n",
    "    dict_text = {\"index\": text}\n",
    "    dict_text[\"query\"] = d[0][text][0].split(\"### Input: \")[1].split(\"### Response:\")[0]\n",
    "    dict_text[\"outs\"] = []\n",
    "    for l in [0, 0.1, 0.2, 0.3, 0.4, 0.5, 0.6, 0.7, 0.8, 0.9, 1]:\n",
    "        dict_lambda = {}\n",
    "        dict_lambda[\"lambda\"] = 1 - l\n",
    "        dict_lambda[\"out\"] = d[l][text][0].split(\"### Response: \")[1]\n",
    "        dict_text[\"outs\"].append(dict_lambda)\n",
    "    data.append(dict_text)\n"
   ]
  },
  {
   "cell_type": "code",
   "execution_count": 43,
   "metadata": {},
   "outputs": [
    {
     "data": {
      "text/plain": [
       "20"
      ]
     },
     "execution_count": 43,
     "metadata": {},
     "output_type": "execute_result"
    }
   ],
   "source": [
    "len(data)"
   ]
  },
  {
   "cell_type": "code",
   "execution_count": 41,
   "metadata": {},
   "outputs": [],
   "source": [
    "import pickle\n",
    "with open('summarynews_vizu.pkl', 'wb') as handle:\n",
    "    pickle.dump(data, handle, protocol=pickle.HIGHEST_PROTOCOL)"
   ]
  },
  {
   "cell_type": "code",
   "execution_count": 33,
   "metadata": {},
   "outputs": [
    {
     "name": "stdout",
     "output_type": "stream",
     "text": [
      "0 [{'LABEL_0': 1.714829921722412}, {'HALLUCINATED': -1.9894694089889526, 'FAITHFUL': -0.3128616213798523}]\n",
      "0.05 [{'LABEL_0': 1.681304931640625}, {'HALLUCINATED': -1.2617485523223877, 'FAITHFUL': -0.3723723292350769}]\n",
      "0.1 [{'LABEL_0': 1.714829921722412}, {'HALLUCINATED': -1.9894694089889526, 'FAITHFUL': -0.3128616213798523}]\n",
      "0.15 [{'LABEL_0': 1.5300265550613403}, {'HALLUCINATED': -0.9683858752250671, 'FAITHFUL': -0.3975396156311035}]\n"
     ]
    },
    {
     "ename": "IndexError",
     "evalue": "list index out of range",
     "output_type": "error",
     "traceback": [
      "\u001b[0;31m---------------------------------------------------------------------------\u001b[0m",
      "\u001b[0;31mIndexError\u001b[0m                                Traceback (most recent call last)",
      "Cell \u001b[0;32mIn[33], line 2\u001b[0m\n\u001b[1;32m      1\u001b[0m \u001b[39mfor\u001b[39;00m l \u001b[39min\u001b[39;00m range_lambdas:\n\u001b[0;32m----> 2\u001b[0m     \u001b[39mprint\u001b[39m(l, infnews\u001b[39m.\u001b[39;49md[l][n][\u001b[39m1\u001b[39m])\n",
      "\u001b[0;31mIndexError\u001b[0m: list index out of range"
     ]
    }
   ],
   "source": [
    "for l in range_lambdas:\n",
    "    print(l, infnews.d[l][n][1])\n",
    "    "
   ]
  },
  {
   "cell_type": "code",
   "execution_count": 34,
   "metadata": {},
   "outputs": [
    {
     "data": {
      "text/plain": [
       "0.15000000000000002"
      ]
     },
     "execution_count": 34,
     "metadata": {},
     "output_type": "execute_result"
    }
   ],
   "source": [
    "l"
   ]
  },
  {
   "cell_type": "code",
   "execution_count": 28,
   "metadata": {},
   "outputs": [
    {
     "data": {
      "text/plain": [
       "{'LABEL_0': 1.5300265550613403}"
      ]
     },
     "execution_count": 28,
     "metadata": {},
     "output_type": "execute_result"
    }
   ],
   "source": [
    "infnews.d[0.15][n][1][0]"
   ]
  },
  {
   "cell_type": "code",
   "execution_count": null,
   "metadata": {},
   "outputs": [],
   "source": []
  }
 ],
 "metadata": {
  "kernelspec": {
   "display_name": "nlp",
   "language": "python",
   "name": "python3"
  },
  "language_info": {
   "codemirror_mode": {
    "name": "ipython",
    "version": 3
   },
   "file_extension": ".py",
   "mimetype": "text/x-python",
   "name": "python",
   "nbconvert_exporter": "python",
   "pygments_lexer": "ipython3",
   "version": "3.6.7"
  },
  "orig_nbformat": 4
 },
 "nbformat": 4,
 "nbformat_minor": 2
}
